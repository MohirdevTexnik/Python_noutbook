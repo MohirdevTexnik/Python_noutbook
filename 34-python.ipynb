{
 "cells": [
  {
   "cell_type": "markdown",
   "metadata": {},
   "source": [
    "# 34-DARS. JSON\n",
    "\n",
    "Internetdagi eng mashxur format bilan tanishamiz\n",
    "\n",
    "![](https://gblobscdn.gitbook.com/assets%2F-MGbkqs1tROquIT6oqUs%2F-Mc-5yGQPZTBaGoehQdL%2F-Mc-7xpq4Puu3KEjmT0R%2FSD_YT_TG_logo_mini.png?alt=media&token=929fe67b-ec12-4f63-b33e-e9c5e3d8ad09)\n",
    "\n",
    "# JSON NIMA?\n",
    "\n",
    "JSON (JavaScript Object Notation) bugungi kunda ma'lumotlarni saqlash va internet orqali uzatish uchun qo'llaniladigan eng mashxur format hisoblanadi. Dastavval JavaScript tili uchun yaratilgan bu format, bugungi kunda deyarli barcha dasturlash tillari tomonidan ishlatiladi. Qolaversa, JSON formatidagi fayllarining tarkibini oddiy matn muharriri yordamida koʻrish va tahrirlash mumkin.\n",
    "\n",
    "Aksar holatlarda dastur va server orasidagi maʻlumotlar aynan JSON koʻrinishida uzatiladi. Quyidagi rasmda Wikipedia sahifasidan olingan maʻlumot ham JSON formatida berilgan:\n",
    "\n",
    "![](https://gblobscdn.gitbook.com/assets%2F-MGbkqs1tROquIT6oqUs%2F-MTGK5piVNDB4rE0t4fd%2F-MTUQjqW0iyFOjcrXIe4%2Fimage.png?alt=media&token=c63edbe6-f836-4d82-99bb-777cb4d10aea)"
   ]
  },
  {
   "cell_type": "markdown",
   "metadata": {},
   "source": [
    "Yuqoridagi misolda maʻlumotlar Pythondagi lug'atlar kabi kalit soʻz va qiymat koʻrinishida saqlangan. Lekin, JSON yordamida biz nafaqat lug'at, balki boshqa turdagi ma'lumotlarni ham saqlashimiz mumkin. Bunda Pythondagi ma'lumot turlari, quyidagi jadval asosida, JavaScript ma'lumot turlariga konvertasiya qilinadi:\n",
    "\n",
    "![Imgur](https://i.imgur.com/IV54SJ9.png)"
   ]
  },
  {
   "cell_type": "markdown",
   "metadata": {},
   "source": [
    "Demak, dasturimiz davomida maʻlumotlarni JSON ko'rinishida saqlashimiz, internet orqali boshqa foydalanuvchilarga, dasturlarga yoki serverga yuborishimiz, JSON fayllarni Pythonda ochib, unga ishlov berishimiz va turli amallar bajarishimiz mumkin.\n",
    "\n",
    "> JSON o'zgaruvchilar, tarkibidan qat'iy nazar matn ko'rinishida saqlanadi.\n",
    "\n",
    "# PYTHONDAN JSONGA\n",
    "\n",
    "JSON maʻlumotlar va fayllar bilan ishlash uchun Pythonda maxsus json moduli bor. Demak, dasturimiz boshida biz bu modulni yuklab olishimiz kerak boʻladi (`import json`). \n",
    "\n",
    "Ma'lumotlarni JSON matniga o'tkazish uchun ikki funksiyadan foydalanamiz: \n",
    "- `json.dumps(x)` — berilgan x o'zgaruvchini JSON matniga o'zgartiradi\n",
    "- `json.dump(x,fayl)` — berilgan x o'zgaruvchini JSON ga o'zgartirib, ko'rsatilgan faylga saqlaydi.\n",
    "\n",
    "## `json.dumps()`\n",
    "\n",
    "Ma'lumotlarni JSON formatiga o'tkazish uchun `json.dumps()` funksiyasidan foydalanamiz:"
   ]
  },
  {
   "cell_type": "code",
   "execution_count": 4,
   "metadata": {},
   "outputs": [],
   "source": [
    "import json\n",
    "\n",
    "x = 10\n",
    "x_json = json.dumps(x)\n",
    "\n",
    "ism = \"anvar\"\n",
    "ism_json = json.dumps(ism)\n",
    "\n",
    "sonlar = [12, 45, 23, 67]\n",
    "sonlar_json = json.dumps(sonlar)"
   ]
  },
  {
   "cell_type": "markdown",
   "metadata": {},
   "source": [
    "JSON ma'lumotlar matn ko'rinishida saqlanadi.\n"
   ]
  },
  {
   "cell_type": "code",
   "execution_count": 5,
   "metadata": {},
   "outputs": [
    {
     "name": "stdout",
     "output_type": "stream",
     "text": [
      "<class 'str'>\n"
     ]
    }
   ],
   "source": [
    "print(type(sonlar_json))"
   ]
  },
  {
   "cell_type": "markdown",
   "metadata": {},
   "source": [
    "Yuqoridagi aytganimizdek, ko'p holatlarda JSON ma'lumotlar lug'at ko'rinishda uzatiladi. \n"
   ]
  },
  {
   "cell_type": "code",
   "execution_count": 6,
   "metadata": {},
   "outputs": [],
   "source": [
    "bemor = {\n",
    "  \"ism\": \"Alijon Valiyev\",\n",
    "  \"yosh\": 30,\n",
    "  \"oila\": True,\n",
    "  \"farzandlar\": (\"Ahmad\",\"Bonu\"),\n",
    "  \"allergiya\": None,\n",
    "  \"dorilar\": [\n",
    "    {\"nomi\": \"Analgin\", \"miqdori\": 0.5},\n",
    "    {\"nomi\": \"Panadol\", \"miqdori\": 1.2}\n",
    "  ]\n",
    "}\n",
    "\n",
    "bemor_json = json.dumps(bemor)"
   ]
  },
  {
   "cell_type": "markdown",
   "metadata": {},
   "source": [
    "`print()` funksiyasi yordamida JSON tarkibini ko'rishimiz mumkin:\n"
   ]
  },
  {
   "cell_type": "code",
   "execution_count": 7,
   "metadata": {},
   "outputs": [
    {
     "name": "stdout",
     "output_type": "stream",
     "text": [
      "{\"ism\": \"Alijon Valiyev\", \"yosh\": 30, \"oila\": true, \"farzandlar\": [\"Ahmad\", \"Bonu\"], \"allergiya\": null, \"dorilar\": [{\"nomi\": \"Analgin\", \"miqdori\": 0.5}, {\"nomi\": \"Panadol\", \"miqdori\": 1.2}]}\n"
     ]
    }
   ],
   "source": [
    "print(bemor_json)"
   ]
  },
  {
   "cell_type": "markdown",
   "metadata": {},
   "source": [
    "Yuqoridagi natija o'qish uchun noqulay ko'rinishda chiqdi. Buni to'g'rilash uchun `dumps()` funksiyasiga qo'shimcha `indent=4` parametrini beramiz. Bu parametr ma'umotlarni saqlashda chapdan qancha joy tashlashni ko'rsatadi:\n"
   ]
  },
  {
   "cell_type": "code",
   "execution_count": 8,
   "metadata": {},
   "outputs": [
    {
     "name": "stdout",
     "output_type": "stream",
     "text": [
      "{\n",
      "    \"ism\": \"Alijon Valiyev\",\n",
      "    \"yosh\": 30,\n",
      "    \"oila\": true,\n",
      "    \"farzandlar\": [\n",
      "        \"Ahmad\",\n",
      "        \"Bonu\"\n",
      "    ],\n",
      "    \"allergiya\": null,\n",
      "    \"dorilar\": [\n",
      "        {\n",
      "            \"nomi\": \"Analgin\",\n",
      "            \"miqdori\": 0.5\n",
      "        },\n",
      "        {\n",
      "            \"nomi\": \"Panadol\",\n",
      "            \"miqdori\": 1.2\n",
      "        }\n",
      "    ]\n",
      "}\n"
     ]
    }
   ],
   "source": [
    "bemor_json = json.dumps(bemor, indent=4)\n",
    "print(bemor_json)"
   ]
  },
  {
   "cell_type": "markdown",
   "metadata": {},
   "source": [
    "Ko'rib turganingizdek, natija o'qishga qulay ko'rinishda chiqdi.\n",
    "Mavzu boshida, JSON ichidagi ma'lumotlar JavaScript ma'lumot turlariga konvertasiya qilinadi dedik. Buni yuqoridagi misolda ham ko'rishimiz mumkin (`farzandlar`, `oila`, `allergiya` kalitlari qiymatini asl lug'at bilan solishtiring). \n",
    "\n",
    "## `json.dump()`\n",
    "\n",
    "Ma'lumotlarni JSON formatiga o'tkazish va faylga yozish uchun `json.dump()` funksiyasini chaqriamiz. Funksiya parametri sifatida o'zgaruvchi va fayl nomlarini ko'rsatamiz. Albatta buning uchun avval faylni yozish uchun ochgan bo'lishimiz kerak:"
   ]
  },
  {
   "cell_type": "code",
   "execution_count": 9,
   "metadata": {},
   "outputs": [],
   "source": [
    "bemor = {\n",
    "  \"ism\": \"Alijon Valiyev\",\n",
    "  \"yosh\": 30,\n",
    "  \"oila\": True,\n",
    "  \"farzandlar\": (\"Ahmad\",\"Bonu\"),\n",
    "  \"allergiya\": None,\n",
    "  \"dorilar\": [\n",
    "    {\"nomi\": \"Analgin\", \"miqdori\": 0.5},\n",
    "    {\"nomi\": \"Panadol\", \"miqdori\": 1.2}\n",
    "  ]\n",
    "}\n",
    "\n",
    "with open('bemor.json','w') as f:\n",
    "    json.dump(bemor,f)"
   ]
  },
  {
   "cell_type": "markdown",
   "metadata": {},
   "source": [
    "JSON fayl tarkibini istalgan matn muharrirda ochib ko'rishimiz mumkin:\n",
    "\n",
    "![](https://gblobscdn.gitbook.com/assets%2F-MGbkqs1tROquIT6oqUs%2F-MTGK5piVNDB4rE0t4fd%2F-MTVC0ye33r6EJWPPle8%2Fimage.png?alt=media&token=77858200-babc-472d-8edc-7277e6caae58)\n",
    "\n",
    "# JSONDAN PYTHONGA\n",
    "\n",
    "JSON formatidagi ma'lumotlarni Pythondagi ma'lumot turiga keltirish uchun `json.loads()` yoki `json.load()` funksiyalaridan foydalanamiz. Yuqoridagi ka'bi, `json.loads()` funksiyasi to'g'ridan-to'g'ri JSON matn bilan ishlasa, `json.load()` funksiyasi JSON fayllarni o'qish uchun ishlatiladi.\n",
    "\n",
    "## `json.loads()`\n",
    "\n",
    "Bu funksiya parametr sifatida JSON matn qabul qiladi va Python o'zgaruvchiga o'tkazadi."
   ]
  },
  {
   "cell_type": "code",
   "execution_count": 10,
   "metadata": {},
   "outputs": [
    {
     "name": "stdout",
     "output_type": "stream",
     "text": [
      "{'ism': 'Alijon Valiyev', 'yosh': 30, 'oila': True, 'farzandlar': ['Ahmad', 'Bonu'], 'allergiya': None, 'dorilar': [{'nomi': 'Analgin', 'miqdori': 0.5}, {'nomi': 'Panadol', 'miqdori': 1.2}]}\n"
     ]
    }
   ],
   "source": [
    "sonlar = json.loads(sonlar_json)\n",
    "bemor = json.loads(bemor_json)\n",
    "print(bemor)"
   ]
  },
  {
   "cell_type": "markdown",
   "metadata": {},
   "source": [
    "E'tibor qiling, `oila` va `allergiya` kalitlarining qiymati qaytadan Python ma'lumot turlariga qaytdi.\n"
   ]
  },
  {
   "cell_type": "markdown",
   "metadata": {},
   "source": [
    "## `json.load()`\n",
    "\n",
    "Bu funksiya JSON fayllarning tarkibini Pythonga yuklab olish uchun ishlatiladi. "
   ]
  },
  {
   "cell_type": "code",
   "execution_count": 11,
   "metadata": {},
   "outputs": [
    {
     "name": "stdout",
     "output_type": "stream",
     "text": [
      "<class 'dict'>\n"
     ]
    }
   ],
   "source": [
    "filename = 'bemor.json'\n",
    "with open(filename) as f:\n",
    "    bemor = json.load(f)\n",
    "    \n",
    "print(type(bemor))"
   ]
  },
  {
   "cell_type": "markdown",
   "metadata": {},
   "source": [
    "# JSON BILAN ISHLASH\n",
    "\n",
    "Ko'pincha internet orqali JSON fayllarni qabul qilganimizda ma'lumotlar bir necha qavatli lug'at ko'rinishida bo'ladi. JSON matnidan aynan o'zimizga kerakli ma'lumotni ajratib olish uchun lug'atni biroz tahlil qilish, uning kalitlari va qiymatlarini topish talab qilinishi mumkin. Bu ayniqsa juda uzun JSON fayllarga tegishli. Shuning uchun JSON bilan samarali ishlash uchun lug'atlar bilan ishlashni yana bir bor takrorlab oling.\n",
    "\n",
    "Quyidagi misolda Google Maps hizmati qaytargan JSON matni lug'at ko'rinishida berilgan. Bu Toshkent shahridagi Olmazor tumanining Geografik manzili. "
   ]
  },
  {
   "cell_type": "code",
   "execution_count": 13,
   "metadata": {},
   "outputs": [],
   "source": [
    "%%capture\n",
    "\n",
    "data = {\n",
    "    \"address_components\": [\n",
    "        {\n",
    "            \"long_name\": \"Almazar District\",\n",
    "            \"short_name\": \"Almazar District\",\n",
    "            \"types\": [\n",
    "                \"political\",\n",
    "                \"sublocality\",\n",
    "                \"sublocality_level_1\"\n",
    "            ]\n",
    "        },\n",
    "        {\n",
    "            \"long_name\": \"Tashkent\",\n",
    "            \"short_name\": \"Tashkent\",\n",
    "            \"types\": [\n",
    "                \"locality\",\n",
    "                \"political\"\n",
    "            ]\n",
    "        },\n",
    "        {\n",
    "            \"long_name\": \"Tashkent Region\",\n",
    "            \"short_name\": \"Tashkent Region\",\n",
    "            \"types\": [\n",
    "                \"administrative_area_level_1\",\n",
    "                \"political\"\n",
    "            ]\n",
    "        },\n",
    "        {\n",
    "            \"long_name\": \"Uzbekistan\",\n",
    "            \"short_name\": \"UZ\",\n",
    "            \"types\": [\n",
    "                \"country\",\n",
    "                \"political\"\n",
    "            ]\n",
    "        }\n",
    "    ],\n",
    "    \"formatted_address\": \"Almazar District, Tashkent, Uzbekistan\",\n",
    "    \"geometry\": {\n",
    "        \"bounds\": {\n",
    "            \"northeast\": {\n",
    "                \"lat\": 41.3954567,\n",
    "                \"lng\": 69.269883\n",
    "            },\n",
    "            \"southwest\": {\n",
    "                \"lat\": 41.3249733,\n",
    "                \"lng\": 69.16497629999999\n",
    "            }\n",
    "        },\n",
    "        \"location\": {\n",
    "            \"lat\": 41.3645355,\n",
    "            \"lng\": 69.2281531\n",
    "        },\n",
    "        \"location_type\": \"APPROXIMATE\",\n",
    "        \"viewport\": {\n",
    "            \"northeast\": {\n",
    "                \"lat\": 41.3954567,\n",
    "                \"lng\": 69.269883\n",
    "            },\n",
    "            \"southwest\": {\n",
    "                \"lat\": 41.3249733,\n",
    "                \"lng\": 69.16497629999999\n",
    "            }\n",
    "        }\n",
    "    },\n",
    "    \"place_id\": \"ChIJ195FnkeMrjgR3nkapKKdk7A\",\n",
    "    \"types\": [\n",
    "        \"political\",\n",
    "        \"sublocality\",\n",
    "        \"sublocality_level_1\"\n",
    "    ]\n",
    "}"
   ]
  },
  {
   "cell_type": "markdown",
   "metadata": {},
   "source": [
    "Keling shu ma'lumotlar orasidan tumanning geografik koordinatalrini topamiz. Avvalo, lug'atga ko'z yugurtirib chiqib, bizga kerak ma'lumotlar quyidagi ko'rinishda berilganini ko'rishimiz mumkin:"
   ]
  },
  {
   "cell_type": "code",
   "execution_count": null,
   "metadata": {},
   "outputs": [],
   "source": [
    "\"location\": {\n",
    "            \"lat\": 41.3645355,\n",
    "            \"lng\": 69.2281531"
   ]
  },
  {
   "cell_type": "markdown",
   "metadata": {},
   "source": [
    "Bizga aynan `latitude` (kenglik) va `longitude` (uzunlik) qiymatlari kerak. Ular esa \"location\" kaliti ichidagi lug'atda lat va lng kalitlariga tegishli qiymatlarda joylashgan. location kalitining o'zi ham geometry kaliti ichida joylashganini ko'rishimiz mumkin.\n",
    "\n",
    "Demak, lu'gat ichidan `lat` va `lng` qiymatlarini olish uchun quyidagi kodni yozamiz:"
   ]
  },
  {
   "cell_type": "code",
   "execution_count": 14,
   "metadata": {},
   "outputs": [
    {
     "name": "stdout",
     "output_type": "stream",
     "text": [
      "41.3645355,69.2281531\n"
     ]
    }
   ],
   "source": [
    "kenglik = data['geometry']['location']['lat']\n",
    "uzunlik = data['geometry']['location']['lng']\n",
    "print(f\"{kenglik},{uzunlik}\")"
   ]
  },
  {
   "cell_type": "markdown",
   "metadata": {},
   "source": [
    "Koordinatalarni Google Mapsga kiritib ko'ramiz va quyidagi natijani olamiz.\n",
    "\n",
    "![](https://gblobscdn.gitbook.com/assets%2F-MGbkqs1tROquIT6oqUs%2F-MTVIIFylrAPKvIQemxb%2F-MTVfoMHazBweHlY7Nfm%2Fimage.png?alt=media&token=add820af-41ab-46eb-b030-ef6ca353c871)"
   ]
  },
  {
   "cell_type": "markdown",
   "metadata": {},
   "source": [
    "# AMALIYOT\n",
    "\n",
    "- Ushbu o'zgaruvchini JSON ko'rinishida saqlang va JSON matnini konsolga chiqaring: `data = {\"Model\" : \"Malibu\", \"Rang\" : \"Qora\", \"Yil\":2020, \"Narh\":40000}`\n",
    "- Ushbu JSON matnni ko'chirib oling, va talabaning ismi va familiyasini  konsolga chiqaring: `talaba_json = \"\"\"{\"ism\":\"Hasan\",\"familiya\":\"Husanov\",\"tyil\":2000}\"\"\"`\n",
    "- Yuqoridagi ikki o'zgaruvchini alohida JSON fayllarga saqlang.\n",
    "- [Ushbu JSON faylni](https://firebasestorage.googleapis.com/v0/b/gitbook-28427.appspot.com/o/assets%2F-MGbkqs1tROquIT6oqUs%2F-MTVgdRJ9ZPHuoEl9qq7%2F-MTW0XsEsSxHFQphbPiH%2Fstudents.json?alt=media&token=dc85518c-4e8b-40f9-aab3-2191c3d1cf8e) yuklab oling. Faylda 3 ta talabaning ism va familiyasi saqlangan. Ularning har birini alohida qatordan `\"Ism Familiya, n-kurs, Fakultet talabasi\"` ko'rinishida konsolga chiqaring.\n",
    "- Quyidagi bog'lamaga kirsangiz, Wikipediadagi Python dasturlash tili haqidagi maqolani JSON ko'rinishida ko'rishingiz mumkin. Brauzerda chiqqan ma'lumotni JSON ko'rinishida saqlang (brauzerda Ctrl+S tugmasini bosib). Faylni Pythonda oching va konsolga maqolaning sarlavhasi (title) va qisqa matnini (extract) chiqaring: https://uz.wikipedia.org/w/api.php?format=json&action=query&prop=extracts&exintro&explaintext&redirects=1&titles=Python"
   ]
  },
  {
   "cell_type": "markdown",
   "metadata": {},
   "source": [
    "# JAVOBLAR\n",
    "\n",
    "Javoblar uchun GirHub sahifamizga tashrif buyuring: https://github.com/anvarnarz/python-darslar"
   ]
  }
 ],
 "metadata": {
  "language_info": {
   "codemirror_mode": {
    "name": "ipython",
    "version": 3
   },
   "file_extension": ".py",
   "mimetype": "text/x-python",
   "name": "python",
   "nbconvert_exporter": "python",
   "pygments_lexer": "ipython3",
   "version": "3.8.6"
  }
 },
 "nbformat": 4,
 "nbformat_minor": 2
}