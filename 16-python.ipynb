{
 "cells": [
  {
   "cell_type": "markdown",
   "metadata": {},
   "source": [
    "# 16-DARS. NESTING\n",
    "\n",
    "Lug'at ichida ro'yxat, ro'yxat ichida lug'at?"
   ]
  },
  {
   "cell_type": "markdown",
   "metadata": {},
   "source": [
    "![](https://gblobscdn.gitbook.com/assets%2F-MGbkqs1tROquIT6oqUs%2F-Mc-5yGQPZTBaGoehQdL%2F-Mc-7xpq4Puu3KEjmT0R%2FSD_YT_TG_logo_mini.png?alt=media&token=929fe67b-ec12-4f63-b33e-e9c5e3d8ad09)\n",
    "\n",
    "# NESTING\n",
    "\n",
    "Ba'zida dasturlash jarayonida lug'atning ichida ro'yxatlar yoki boshqa lug'atni, yoki aksincha ro'yxat ichida lug'atni saqlash ham qo'l kelishi mumkin. Bu ingliz tilida **Nesting** deyiladi. Nesting Pythondagi foydali xususiyatlardan biri.\n",
    "\n",
    "Keling, bunga bir nechta misollar ko'ramiz.\n",
    "\n",
    "# LUG'ATLAR RO'YXATI\n",
    "\n",
    "Biz avvalgi darsimizda talabalarning ma'lumotlarini lug'at shaklida saqlashni ko'rgan edik. Shunday talabalardan yuzlab bo'lganda, ularning har biriga alohida lug'at qilishimiz tabiiy, lekin bu lug'atlar bilan ishlash qiyinchilik tug'dirishi mumkin. Shunday xolatda barcha lug'atlarni (talabalarni) bitta ro'yxatga joylab, ular ustida turli amallar bajarish mumkin.\n",
    "Kelin quyidagi misolni ko'ramiz, bazamizda bir nechta mashinalar bor. Har bir mashina alohida lug'at shaklida. "
   ]
  },
  {
   "cell_type": "code",
   "execution_count": 4,
   "metadata": {},
   "outputs": [],
   "source": [
    "car0 = {\n",
    "        'model':'lacetti',\n",
    "        'rang':'oq',\n",
    "        'yil':2018,\n",
    "        'narh':13000,\n",
    "        'km':50000,\n",
    "        'korobka':'avtomat'\n",
    "        }\n",
    "\n",
    "car1 = {\n",
    "        'model':'nexia 3',\n",
    "        'rang':'qora',\n",
    "        'yil':2015,\n",
    "        'narh':9000,\n",
    "        'km':89000,\n",
    "        'korobka':'mexanika'\n",
    "        }\n",
    "\n",
    "car2 = {\n",
    "        'model':'gentra',\n",
    "        'rang':'qizil',\n",
    "        'yil':2019,\n",
    "        'narh':15000,\n",
    "        'km':20000,\n",
    "        'korobka':'mexanika'\n",
    "        }"
   ]
  },
  {
   "cell_type": "markdown",
   "metadata": {},
   "source": [
    "Agar biz har bir lug'atga alohida murojat qiladigan bo'lsak, lug'atlarning nomlarini yodlab qolishimiz talab qilinar edi:"
   ]
  },
  {
   "cell_type": "code",
   "execution_count": 5,
   "metadata": {},
   "outputs": [
    {
     "name": "stdout",
     "output_type": "stream",
     "text": [
      "Lacetti,  oq rang,  2018-yil, 13000$\n",
      "Nexia 3,  qora rang,  2015-yil, 9000$\n",
      "Gentra,  qizil rang,  2019-yil, 15000$\n"
     ]
    }
   ],
   "source": [
    "car = car0\n",
    "print(f\"{car['model'].title()},\\\n",
    "  {car['rang']} rang,\\\n",
    "  {car['yil']}-yil, {car['narh']}$\")\n",
    "\n",
    "car = car1\n",
    "print(f\"{car['model'].title()},\\\n",
    "  {car['rang']} rang,\\\n",
    "  {car['yil']}-yil, {car['narh']}$\")\n",
    "\n",
    "car = car2\n",
    "print(f\"{car['model'].title()},\\\n",
    "  {car['rang']} rang,\\\n",
    "  {car['yil']}-yil, {car['narh']}$\")  "
   ]
  },
  {
   "cell_type": "markdown",
   "metadata": {},
   "source": [
    "Keling, barcha avtolarni bitta ro'yxatga joylaymiz, va for tsikli yordamida birma-bir konsolga chiqaramiz:\n"
   ]
  },
  {
   "cell_type": "code",
   "execution_count": 6,
   "metadata": {},
   "outputs": [
    {
     "name": "stdout",
     "output_type": "stream",
     "text": [
      "Lacetti, oq rang, 2018-yil, 13000$\n",
      "Nexia 3, qora rang, 2015-yil, 9000$\n",
      "Gentra, qizil rang, 2019-yil, 15000$\n"
     ]
    }
   ],
   "source": [
    "cars = [car0, car1, car2]\n",
    "for car in cars:\n",
    "    print(f\"{car['model'].title()}, \"\n",
    "          f\"{car['rang']} rang, \"\n",
    "          f\"{car['yil']}-yil, {car['narh']}$\")"
   ]
  },
  {
   "cell_type": "markdown",
   "metadata": {},
   "source": [
    "E'tibor bering, ishimiz bir muncha yengillashdi, kodimiz ham qisqardi. Natija esa bir hil.\n",
    "\n",
    "Endi biz ro'yxat ichidagi istalgan lug'atga indeks bo'yicha murojat qilaveramiz (lug'at nomini yodlab qolish shart emas)"
   ]
  },
  {
   "cell_type": "code",
   "execution_count": 7,
   "metadata": {},
   "outputs": [
    {
     "name": "stdout",
     "output_type": "stream",
     "text": [
      "{'model': 'lacetti', 'rang': 'oq', 'yil': 2018, 'narh': 13000, 'km': 50000, 'korobka': 'avtomat'}\n"
     ]
    }
   ],
   "source": [
    "print(cars[0])"
   ]
  },
  {
   "cell_type": "markdown",
   "metadata": {},
   "source": [
    "Biror lug'atdagi elementga murojat qilish uchun esa quyidagi usuldan foydalanishimiz mumkin:\n"
   ]
  },
  {
   "cell_type": "code",
   "execution_count": 8,
   "metadata": {},
   "outputs": [
    {
     "name": "stdout",
     "output_type": "stream",
     "text": [
      "lacetti\n"
     ]
    }
   ],
   "source": [
    "print(cars[0]['model'])"
   ]
  },
  {
   "cell_type": "code",
   "execution_count": 9,
   "metadata": {},
   "outputs": [
    {
     "name": "stdout",
     "output_type": "stream",
     "text": [
      "Qizil gentra\n"
     ]
    }
   ],
   "source": [
    "print(f\"{cars[2]['rang'].title()} \"\n",
    "      f\"{cars[2]['model']}\")"
   ]
  },
  {
   "cell_type": "markdown",
   "metadata": {},
   "source": [
    "`for` tsikli yordamida biz bo'sh lug'atlar ro'yxatini ham yaratib olishimiz mumkin:\n"
   ]
  },
  {
   "cell_type": "code",
   "execution_count": 10,
   "metadata": {},
   "outputs": [],
   "source": [
    "malibus=[] # Malibu mashinalari uchun bo'sh ro'yxat yaratdik\n",
    "for n in range(10):\n",
    "    new_car = { # har bir yangi mashina uchun lug'at yaratamiz\n",
    "        'model':'malibu',\n",
    "        'rang':None, # rangi noaniq\n",
    "        'yil':2020,\n",
    "        'narh':None, # narhi belgilanmagan\n",
    "        'km':0,\n",
    "        'korobka':'avto'\n",
    "        }\n",
    "    malibus.append(new_car) # yangi lug'atni ro'yxatga qo'shamiz"
   ]
  },
  {
   "cell_type": "markdown",
   "metadata": {},
   "source": [
    "Yuqoridagi misloda biz 10 ta Malibu mashinasidan iborat ro'yxat tuzdik. E'tibor qiling, `'rang'` kalitiga qiymat bermadik va `None` deb qoldirdik. Endi ishlab chiqarish jarayonida mashinalarga turli ranglarni berishimiz mumkin.  Misol uchun birinchi 3 ta mashinaga qizil rang beramiz:\n"
   ]
  },
  {
   "cell_type": "code",
   "execution_count": 11,
   "metadata": {},
   "outputs": [],
   "source": [
    "for malibu in malibus[:3]:\n",
    "    malibu['rang']='qizil'"
   ]
  },
  {
   "cell_type": "markdown",
   "metadata": {},
   "source": [
    "Keyingi 3 tasiga esa qora:\n"
   ]
  },
  {
   "cell_type": "code",
   "execution_count": 12,
   "metadata": {},
   "outputs": [],
   "source": [
    "for malibu in malibus[3:6]:\n",
    "    malibu['rang']='qora'"
   ]
  },
  {
   "cell_type": "markdown",
   "metadata": {},
   "source": [
    "Oxirgi 4 ta avtoni qora, lekin korobkasini mexanika qilamiz:\n"
   ]
  },
  {
   "cell_type": "code",
   "execution_count": 13,
   "metadata": {},
   "outputs": [],
   "source": [
    "for malibu in malibus:\n",
    "    if malibu['korobka']=='avto':\n",
    "        malibu['narh']=40000\n",
    "    else:\n",
    "        malibu['narh']=35000"
   ]
  },
  {
   "cell_type": "markdown",
   "metadata": {},
   "source": [
    "Keling endi, mashinalarning korobkasidan chiqqan holda narh belgilaymiz:\n"
   ]
  },
  {
   "cell_type": "code",
   "execution_count": 15,
   "metadata": {},
   "outputs": [],
   "source": [
    "for malibu in malibus:\n",
    "    if malibu['korobka']=='avto':\n",
    "        malibu['narh']=40000\n",
    "    else:\n",
    "        malibu['narh']=35000"
   ]
  },
  {
   "cell_type": "code",
   "execution_count": 17,
   "metadata": {},
   "outputs": [
    {
     "name": "stdout",
     "output_type": "stream",
     "text": [
      "{'model': 'malibu', 'rang': 'qizil', 'yil': 2020, 'narh': 40000, 'km': 0, 'korobka': 'avto'}\n",
      "{'model': 'malibu', 'rang': 'qizil', 'yil': 2020, 'narh': 40000, 'km': 0, 'korobka': 'avto'}\n",
      "{'model': 'malibu', 'rang': 'qizil', 'yil': 2020, 'narh': 40000, 'km': 0, 'korobka': 'avto'}\n",
      "{'model': 'malibu', 'rang': 'qora', 'yil': 2020, 'narh': 40000, 'km': 0, 'korobka': 'avto'}\n",
      "{'model': 'malibu', 'rang': 'qora', 'yil': 2020, 'narh': 40000, 'km': 0, 'korobka': 'avto'}\n",
      "{'model': 'malibu', 'rang': 'qora', 'yil': 2020, 'narh': 40000, 'km': 0, 'korobka': 'avto'}\n",
      "{'model': 'malibu', 'rang': None, 'yil': 2020, 'narh': 40000, 'km': 0, 'korobka': 'avto'}\n",
      "{'model': 'malibu', 'rang': None, 'yil': 2020, 'narh': 40000, 'km': 0, 'korobka': 'avto'}\n",
      "{'model': 'malibu', 'rang': None, 'yil': 2020, 'narh': 40000, 'km': 0, 'korobka': 'avto'}\n",
      "{'model': 'malibu', 'rang': None, 'yil': 2020, 'narh': 40000, 'km': 0, 'korobka': 'avto'}\n"
     ]
    }
   ],
   "source": [
    "for malibu in malibus:\n",
    "    print(malibu)"
   ]
  },
  {
   "cell_type": "markdown",
   "metadata": {},
   "source": [
    "# LUG'AT ICHIDA RO'YXAT\n",
    "\n",
    "Bir kalitga bir nechta qiymatlar berish talab qilinganda, qiymatlarni ro'yxat ko'rinishida yozish o'rinlidir. Misol uchun, bir tashkilotda bir nechta dasturchilar ishlaydi va har bir dasturchi turli dasturlash tillarini biladi. Keling dasturchilar lug'atini tuzamiz va har bir dasturchi haqidagi ma'umotni konsolga chiqaramiz:\n"
   ]
  },
  {
   "cell_type": "code",
   "execution_count": 18,
   "metadata": {},
   "outputs": [
    {
     "name": "stdout",
     "output_type": "stream",
     "text": [
      "\n",
      "Ali quyidagi dasturlash tillarini biladi:\n",
      "PYTHON\n",
      "C++\n",
      "\n",
      "Vali quyidagi dasturlash tillarini biladi:\n",
      "HTML\n",
      "CSS\n",
      "JS\n",
      "\n",
      "Hasan quyidagi dasturlash tillarini biladi:\n",
      "PHP\n",
      "SQL\n",
      "\n",
      "Husan quyidagi dasturlash tillarini biladi:\n",
      "PYTHON\n",
      "PHP\n",
      "\n",
      "Maryam quyidagi dasturlash tillarini biladi:\n",
      "C++\n",
      "C#\n"
     ]
    }
   ],
   "source": [
    "dasturchilar = {\n",
    "    'ali':['python','c++'],\n",
    "    'vali':['html','css','js'],\n",
    "    'hasan':['php','sql'],\n",
    "    'husan':['python','php'],\n",
    "    'maryam':['c++','c#']\n",
    "    }\n",
    "\n",
    "for ism, tillar in dasturchilar.items():\n",
    "    print(f\"\\n{ism.title()} quyidagi dasturlash tillarini biladi:\")\n",
    "    for til in tillar:\n",
    "        print(til.upper())"
   ]
  },
  {
   "cell_type": "markdown",
   "metadata": {},
   "source": [
    "> Pythondagi `print()` funktsiyasi har bir matndan so'ng yangi qator tashlaydi. Buning oldini olish uchun quyidagi usuldan foydalanish mumkin: `print(string, end = '')`\n"
   ]
  },
  {
   "cell_type": "code",
   "execution_count": 19,
   "metadata": {},
   "outputs": [
    {
     "name": "stdout",
     "output_type": "stream",
     "text": [
      "\n",
      "Ali quyidagi dasturlash tillarini biladi:PYTHON C++ \n",
      "Vali quyidagi dasturlash tillarini biladi:HTML CSS JS \n",
      "Hasan quyidagi dasturlash tillarini biladi:PHP SQL \n",
      "Husan quyidagi dasturlash tillarini biladi:PYTHON PHP \n",
      "Maryam quyidagi dasturlash tillarini biladi:C++ C# "
     ]
    }
   ],
   "source": [
    "for ism, tillar in dasturchilar.items():\n",
    "    print(f\"\\n{ism.title()} quyidagi dasturlash tillarini biladi:\", end='')\n",
    "    for til in tillar:\n",
    "        print(f'{til.upper()} ', end='')"
   ]
  },
  {
   "cell_type": "markdown",
   "metadata": {},
   "source": [
    "# LUG'AT ICHIDA LUG'AT"
   ]
  },
  {
   "cell_type": "markdown",
   "metadata": {},
   "source": [
    "Bunday qilish tavsiya etilmasada, istisno holatlarda lug'at ichidagi qiymatlarni lug'at ko'rinishida ham saqlash mumkin. Misol uchun, ish joyingizdagi hamkasblaringiz haqidagi ma'lumotlarni saqlashda, hamkasbingizning ismi kalit, u haqidagi ma'lumotlarni esa lug'at ko'rinishida berilishi mumkin."
   ]
  },
  {
   "cell_type": "code",
   "execution_count": 20,
   "metadata": {},
   "outputs": [],
   "source": [
    "hamkasblar = {\n",
    "    'ali':{'familiya':'valiyev',\n",
    "           'tyil':1995,\n",
    "           'malumot':'oliy',\n",
    "           'tillar':['python','c++']\n",
    "           },\n",
    "    'vali':{'familiya':'aliyev',\n",
    "            'tyil':2001,\n",
    "            'malumot':\"o'rta-maxsus\",\n",
    "            'tillar':['html', 'css', 'js']},\n",
    "    'hasan':{'familiya':'husanov',\n",
    "             'tyil':1999,\n",
    "             'malumot':'maxsus',\n",
    "             'tillar':['python','php']}\n",
    "    }"
   ]
  },
  {
   "cell_type": "markdown",
   "metadata": {},
   "source": [
    "Hamkasblar to'g'risidagi ma'lumotlarni esa quyidagicha ko'rish mumkin:\n"
   ]
  },
  {
   "cell_type": "code",
   "execution_count": 21,
   "metadata": {},
   "outputs": [
    {
     "name": "stdout",
     "output_type": "stream",
     "text": [
      "\n",
      "Ali Valiyev, 1995-yilda tug'ilgan. Ma'lumoti: oliy. \n",
      "Quyidagi dasturlash tillarini biladi:\n",
      "PYTHON\n",
      "C++\n",
      "\n",
      "Vali Aliyev, 2001-yilda tug'ilgan. Ma'lumoti: o'rta-maxsus. \n",
      "Quyidagi dasturlash tillarini biladi:\n",
      "HTML\n",
      "CSS\n",
      "JS\n",
      "\n",
      "Hasan Husanov, 1999-yilda tug'ilgan. Ma'lumoti: maxsus. \n",
      "Quyidagi dasturlash tillarini biladi:\n",
      "PYTHON\n",
      "PHP\n"
     ]
    }
   ],
   "source": [
    "for ism, info in hamkasblar.items():\n",
    "    print(f\"\\n{ism.title()} {info['familiya'].title()}, \"\n",
    "          f\"{info['tyil']}-yilda tug'ilgan. \"\n",
    "          f\"Ma'lumoti: {info['malumot']}. \\n\"\n",
    "          \"Quyidagi dasturlash tillarini biladi:\")\n",
    "    for til in info['tillar']:\n",
    "        print(til.upper())"
   ]
  },
  {
   "cell_type": "markdown",
   "metadata": {},
   "source": [
    "**Lug'at ichidagi lug'atlar bir hil tuzilishga ega bo'lgani ishingizni ancha yengillashtiradi, aks holda kodingiz murakkablashib ketishi mumkin.**"
   ]
  },
  {
   "cell_type": "markdown",
   "metadata": {},
   "source": [
    "# AMALIYOT\n",
    "\n",
    "- Adabiyot (ilm-fan, san'at, internet) olamidagi 4 ta mashxur shaxlar haqidagi ma'lumotlarni lug'at ko'rinishida saqlang. Lug'atlarni bitta ro'yxatga joylang, va har bir shaxs haqidagi ma'lumotni konsolga chiqaring.\n",
    "\n",
    "- Yuqoridagi lug'atlarga har bir shaxsning mashxur asarlari ro'yxatini ham qo'shing. For tsikli yordamida muallifning ismi va uning asarlarini konsolga chiqaring.\n",
    "\n",
    "- Oila a'zolaringiz (do'stlaringiz) dan 3 ta sevimli kino-seriali haqida so'rang. Do'stingiz ismi kalit, uning sevimli kinolarini esa ro'yxat ko'rinishida lug'artga saqlang.  Natijani konsolga chiqaring.\n",
    "\n",
    "- Davlatlar degan lug'at yarating, lug'at ichida bir nechta davlatlar haqida ma'lumotlarni lug'at ko'rinishida saqlang. Har bir davlat haqida ma'lumotni konsolga chiqaring.\n",
    "\n",
    "- Yuqoridagi dasturga o'zgartirish kiriting: konsolga barcha davlatlarni emas, foydalanuvchi so'ragan davlat haqida ma'lumot bering. Agar davlat sizning lug'atingizda mavjud bo'lmasa, \"Bizda bu davlat haqida ma'lumot yo'q\" degan xabarni chiqaring."
   ]
  },
  {
   "cell_type": "code",
   "execution_count": 23,
   "metadata": {},
   "outputs": [
    {
     "name": "stdout",
     "output_type": "stream",
     "text": [
      "Abu Abdulloh Muhammad ibn Ismoil 810-yilda Buxoroda tavallud topgan. 60 yil umr ko'rgan.\n",
      "Abdulla Qodiriy 1894-yilda Toshkentda tavallud topgan. 44 yil umr ko'rgan.\n",
      "Erkin Vohidov 1936-yilda Farg'onada tavallud topgan. 80 yil umr ko'rgan.\n",
      "Alisher Navoiy 1441-yilda Xirotda tavallud topgan. 60 yil umr ko'rgan.\n"
     ]
    }
   ],
   "source": [
    "buxoriy = {'ism':'Abu Abdulloh Muhammad ibn Ismoil',\n",
    "           'tyil':810,\n",
    "           'vyil':870,\n",
    "           'tjoy':'Buxoro'\n",
    "           }\n",
    "\n",
    "qodiriy = {'ism':'Abdulla Qodiriy',\n",
    "           'tyil':1894,\n",
    "           'vyil':1938,\n",
    "           'tjoy':'Toshkent'\n",
    "           }\n",
    "\n",
    "vohidov = {'ism':'Erkin Vohidov',\n",
    "           'tyil':1936,\n",
    "           'vyil':2016,\n",
    "           'tjoy':\"Farg'ona\"\n",
    "           }\n",
    "\n",
    "navoiy = {'ism':'Alisher Navoiy',\n",
    "           'tyil':1441,\n",
    "           'vyil':1501,\n",
    "           'tjoy':\"Xirot\"\n",
    "           }\n",
    "\n",
    "shaxslar = [buxoriy, qodiriy, vohidov, navoiy]\n",
    "\n",
    "for shaxs in shaxslar:\n",
    "    ism = shaxs['ism']\n",
    "    tyil = shaxs['tyil']\n",
    "    vyil = shaxs['vyil']\n",
    "    tjoy = shaxs['tjoy']\n",
    "    print(f\"{ism} {tyil}-yilda {tjoy}da tavallud topgan. \"\n",
    "          f\"{vyil-tyil} yil umr ko'rgan.\")"
   ]
  },
  {
   "cell_type": "code",
   "execution_count": 24,
   "metadata": {},
   "outputs": [
    {
     "name": "stdout",
     "output_type": "stream",
     "text": [
      "\n",
      "Abu Abdulloh Muhammad ibn Ismoil ning mashxur asarlari: \n",
      "Al-jome’ as-sahih\n",
      "Al-adab al-mufrad\n",
      "At-tarix al-kabir\n",
      "At-tarix as-sag‘ir\n",
      "\n",
      "Abdulla Qodiriy ning mashxur asarlari: \n",
      "O'tkan kunlar\n",
      "Mehrobdan Chayon\n",
      "Obid ketmon\n",
      "\n",
      "Erkin Vohidov ning mashxur asarlari: \n",
      "Tong nafasi\n",
      "Qo'shiqlarim sizga\n",
      "O'zbegim\n",
      "Qiziquvchan Matmusa\n",
      "\n",
      "Alisher Navoiy ning mashxur asarlari: \n",
      "Xamsa\n",
      "Lison ut-Tayr\n",
      "Mahbub Al-Qulub\n",
      "Munojot\n"
     ]
    }
   ],
   "source": [
    "buxoriy = {'ism':'Abu Abdulloh Muhammad ibn Ismoil',\n",
    "           'tyil':810,\n",
    "           'vyil':870,\n",
    "           'tjoy':'Buxoro',\n",
    "           'asarlar':[\"Al-jome’ as-sahih\", \"Al-adab al-mufrad\", \"At-tarix al-kabir\", \"At-tarix as-sag‘ir\"]\n",
    "           }\n",
    "\n",
    "qodiriy = {'ism':'Abdulla Qodiriy',\n",
    "           'tyil':1894,\n",
    "           'vyil':1938,\n",
    "           'tjoy':'Toshkent',\n",
    "           'asarlar':[\"O'tkan kunlar\",\"Mehrobdan Chayon\",'Obid ketmon']\n",
    "           }\n",
    "\n",
    "vohidov = {'ism':'Erkin Vohidov',\n",
    "           'tyil':1936,\n",
    "           'vyil':2016,\n",
    "           'tjoy':\"Farg'ona\",\n",
    "           'asarlar':[\"Tong nafasi\",\"Qo'shiqlarim sizga\",\"O'zbegim\",\"Qiziquvchan Matmusa\"]\n",
    "           }\n",
    "\n",
    "navoiy = {'ism':'Alisher Navoiy',\n",
    "           'tyil':1441,\n",
    "           'vyil':1501,\n",
    "           'tjoy':\"Xirot\",\n",
    "           'asarlar':[\"Xamsa\",\"Lison ut-Tayr\",\"Mahbub Al-Qulub\",'Munojot']\n",
    "           }\n",
    "\n",
    "shaxslar = [buxoriy, qodiriy, vohidov, navoiy]\n",
    "\n",
    "for shaxs in shaxslar:\n",
    "    ism = shaxs['ism']\n",
    "    asarlar = shaxs['asarlar']\n",
    "    print(f\"\\n{ism} ning mashxur asarlari: \")\n",
    "    for asar in asarlar:\n",
    "        print(asar)"
   ]
  },
  {
   "cell_type": "code",
   "execution_count": 25,
   "metadata": {},
   "outputs": [
    {
     "name": "stdout",
     "output_type": "stream",
     "text": [
      "\n",
      "Alining sevimli kinolari:\n",
      "Terminator\n",
      "Rambo\n",
      "Titanic\n",
      "\n",
      "Valining sevimli kinolari:\n",
      "Tenet\n",
      "Inception\n",
      "Interstellar\n",
      "\n",
      "Hasanning sevimli kinolari:\n",
      "Abdullajon\n",
      "Bomba\n",
      "Shaytanat\n",
      "\n",
      "Husanning sevimli kinolari:\n",
      "Mahallada duv-duv gap\n",
      "John Wick\n"
     ]
    }
   ],
   "source": [
    "kinolar = {\n",
    "    'ali':['Terminator','Rambo','Titanic'],\n",
    "    'vali':['Tenet','Inception','Interstellar'],\n",
    "    'hasan':['Abdullajon','Bomba','Shaytanat'],\n",
    "    'husan':['Mahallada duv-duv gap','John Wick']\n",
    "    }\n",
    "\n",
    "for ism, kinolar in kinolar.items():\n",
    "    print(f\"\\n{ism.title()}ning sevimli kinolari:\")\n",
    "    for kino in kinolar:\n",
    "        print(kino)"
   ]
  },
  {
   "cell_type": "code",
   "execution_count": 26,
   "metadata": {},
   "outputs": [
    {
     "name": "stdout",
     "output_type": "stream",
     "text": [
      "\n",
      "O'zbekistonning poytaxti Toshkent\n",
      "Hududi: 448978 kv.km\n",
      "Aholisi: 33000000\n",
      "Pul birligi: so'm\n",
      "\n",
      "Rossiyaning poytaxti Moskva\n",
      "Hududi: 17098246 kv.km\n",
      "Aholisi: 144000000\n",
      "Pul birligi: rubl\n",
      "\n",
      "AQSHning poytaxti Vashington\n",
      "Hududi: 9631418 kv.km\n",
      "Aholisi: 327000000\n",
      "Pul birligi: dollar\n",
      "\n",
      "Malayziyaning poytaxti Kuala-Lumpur\n",
      "Hududi: 329750 kv.km\n",
      "Aholisi: 25000000\n",
      "Pul birligi: rinngit\n"
     ]
    }
   ],
   "source": [
    "davlatlar = {\n",
    "    \"o'zbekiston\":{'poytaxt':\"toshkent\",\n",
    "                   'maydon':448978,\n",
    "                   'aholi':33_000_000,\n",
    "                   'pul birligi':\"so'm\"\n",
    "                   },\n",
    "    \"rossiya\":{'poytaxt':\"moskva\",\n",
    "                   'maydon':17_098_246,\n",
    "                   'aholi':144_000_000,\n",
    "                   'pul birligi':\"rubl\"\n",
    "                   },\n",
    "    \"aqsh\":{'poytaxt':\"vashington\",\n",
    "                   'maydon':9_631_418,\n",
    "                   'aholi':327_000_000,\n",
    "                   'pul birligi':\"dollar\"},\n",
    "    \"malayziya\":{'poytaxt':\"kuala-lumpur\",\n",
    "                   'maydon':329750,\n",
    "                   'aholi':25_000_000,\n",
    "                   'pul birligi':\"rinngit\"}\n",
    "    }\n",
    "\n",
    "for davlat, info in davlatlar.items():\n",
    "    if davlat.lower()=='aqsh':\n",
    "        davlat = davlat.upper()\n",
    "    else:\n",
    "        davlat = davlat.capitalize()\n",
    "    print(f\"\\n{davlat}ning poytaxti {info['poytaxt'].title()}\"\n",
    "          f\"\\nHududi: {info['maydon']} kv.km\"\n",
    "          f\"\\nAholisi: {info['aholi']}\"\n",
    "          f\"\\nPul birligi: {info['pul birligi']}\")"
   ]
  },
  {
   "cell_type": "code",
   "execution_count": 22,
   "metadata": {},
   "outputs": [
    {
     "name": "stdout",
     "output_type": "stream",
     "text": [
      "Davlat nomini kiriting: malayziya\n",
      "\n",
      "Malayziyaning poytaxti Kuala-Lumpur\n",
      "Hududi: 329750 kv.km\n",
      "Aholisi: 25000000\n",
      "Pul birligi: rinngit\n"
     ]
    }
   ],
   "source": [
    "davlatlar = {\n",
    "    \"o'zbekiston\":{'poytaxt':\"toshkent\",\n",
    "                   'maydon':448978,\n",
    "                   'aholi':33_000_000,\n",
    "                   'pul birligi':\"so'm\"\n",
    "                   },\n",
    "    \"rossiya\":{'poytaxt':\"moskva\",\n",
    "                   'maydon':17_098_246,\n",
    "                   'aholi':144_000_000,\n",
    "                   'pul birligi':\"rubl\"\n",
    "                   },\n",
    "    \"aqsh\":{'poytaxt':\"vashington\",\n",
    "                   'maydon':9_631_418,\n",
    "                   'aholi':327_000_000,\n",
    "                   'pul birligi':\"dollar\"},\n",
    "    \"malayziya\":{'poytaxt':\"kuala-lumpur\",\n",
    "                   'maydon':329750,\n",
    "                   'aholi':25_000_000,\n",
    "                   'pul birligi':\"rinngit\"}\n",
    "    }\n",
    "\n",
    "davlat = input('Davlat nomini kiriting: ').lower()\n",
    "if davlat in davlatlar:\n",
    "    info = davlatlar[davlat]\n",
    "    print(f\"\\n{davlat.capitalize()}ning poytaxti {info['poytaxt'].title()}\"\n",
    "          f\"\\nHududi: {info['maydon']} kv.km\"\n",
    "          f\"\\nAholisi: {info['aholi']}\"\n",
    "          f\"\\nPul birligi: {info['pul birligi']}\")\n",
    "else:\n",
    "    print(\"Bizda bu davlat haqida ma'lumot mavjud emas\")"
   ]
  }
 ],
 "metadata": {
  "language_info": {
   "codemirror_mode": {
    "name": "ipython",
    "version": 3
   },
   "file_extension": ".py",
   "mimetype": "text/x-python",
   "name": "python",
   "nbconvert_exporter": "python",
   "pygments_lexer": "ipython3",
   "version": "3.8.6"
  }
 },
 "nbformat": 4,
 "nbformat_minor": 2
}