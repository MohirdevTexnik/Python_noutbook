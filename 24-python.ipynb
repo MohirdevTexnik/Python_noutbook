{
 "cells": [
  {
   "cell_type": "markdown",
   "metadata": {},
   "source": [
    "# 24-DARS. FUNKSIYALAR. SON'GSO'Z.\n",
    "\n",
    "Funksiyalar mavzusiga yakun yasaymiz.\n",
    "\n",
    "![](https://gblobscdn.gitbook.com/assets%2F-MGbkqs1tROquIT6oqUs%2F-Mc-5yGQPZTBaGoehQdL%2F-Mc-7xpq4Puu3KEjmT0R%2FSD_YT_TG_logo_mini.png?alt=media&token=929fe67b-ec12-4f63-b33e-e9c5e3d8ad09)\n",
    "\n",
    "\n",
    "# `lambda` YOHUD NOMSIZ FUNKSIYA\n",
    "Pythonning o'ziga xos xususiyatlaridan biri, nomsiz vaqtinchalik funksiyalar yaratish imkoniyati. Bunday funksiyalarni yaratishda `def` operatori o'rniga `lambda` operatori ishlatilgani uchun ham `lambda` funskiyalar deb ataladi.\n",
    "\n",
    "Nomsiz funksiyalar quyidagicha yaratiladi:"
   ]
  },
  {
   "cell_type": "code",
   "execution_count": null,
   "metadata": {},
   "outputs": [],
   "source": [
    "lambda argument:ifoda"
   ]
  },
  {
   "cell_type": "markdown",
   "metadata": {},
   "source": [
    "Lambda funksiyalari istalgan miqdordagi argumentlarga ega bo'lishi mumkin, ammo funksiya badanida faqat bitta ifoda mavjud bo'ladi. Ifoda bajariladi va qaytariladi (`return` operatori shart emas).\n",
    "\n",
    "Nomsiz funksiyalar biror ifodani tezda hisoblab olishda qulay. Misol uchun quyidgai lambda funksiya ikkita argument qabul qiladi (  ), va aylana uzunligini qaytaradi: "
   ]
  },
  {
   "cell_type": "code",
   "execution_count": 5,
   "metadata": {},
   "outputs": [
    {
     "name": "stdout",
     "output_type": "stream",
     "text": [
      "62.83185307179586\n"
     ]
    }
   ],
   "source": [
    "import math\n",
    "uzunlik = lambda pi, r : 2*pi*r\n",
    "print(uzunlik(math.pi,10))"
   ]
  },
  {
   "cell_type": "markdown",
   "metadata": {},
   "source": [
    "Kodni tahlil qilamiz, 1-qatorda math modulini chaqirib oldik. 2-qatorda lambda funksiyani yaratdik, funksiyamiz `pi` va `r` argumentlarini qabul qilib, `2*pi*r` qiymatni qaytaradi. Funksiyaga nom bermadik, lekin unga uzunlik identifikatori orqali murojat qilishimiz mumkin. 3-qatorda funksiyamizga murojat qildik va natijani konsolga chiqardik.\n",
    "\n",
    "Yana bir misol, topingchi quyidagi funksiyaning vazfiasi nima?"
   ]
  },
  {
   "cell_type": "code",
   "execution_count": null,
   "metadata": {},
   "outputs": [],
   "source": [
    "product = lambda x, y : x ** y\n",
    "print(product(3, 2))"
   ]
  },
  {
   "cell_type": "markdown",
   "metadata": {},
   "source": [
    "Shu yerda so'rashingiz mumkin, nima uchun lambda nomsiz deb ataladi, ahir unga hozirgina nomi bilan murojat qildikku?\n",
    "\n",
    "Gap shundaki, lambda finksiyalarning asl mohiyati boshqa funskiyalar bilan birga ishlaganda ko'rinadi. Keling, tushunarli bo'lishi uchun oddiyroq misol ko'ramiz.\n",
    "\n",
    "Quyidagi dasturda biz avval daraja degan funksiya yasadik, bu funskiyamiz n degan o'zgaruvchi qabul qilib oladi va funksiya ichidagi noma'lum x ning n-darajasini qaytaradi. Aslida `daraja`bu funksiya yasaydigan funksya bo'ldi. Xo'sh, undan qanday foydalanamiz? 4-5-qatorlarda esa daraja funksiyasidan yana 2 ta funksiya yasadik: kvadrat - kiritilgan sonning kvadratini hisoblaydi, kub - kiritilgan sonning kubini hisoblaydi."
   ]
  },
  {
   "cell_type": "code",
   "execution_count": 7,
   "metadata": {},
   "outputs": [
    {
     "name": "stdout",
     "output_type": "stream",
     "text": [
      "3-ning kvadrati 9 ga, kubi 27 ga teng\n"
     ]
    }
   ],
   "source": [
    "def daraja(n):\n",
    "    return lambda x : x**n\n",
    "\n",
    "kvadrat = daraja(2)\n",
    "kub = daraja(3)\n",
    "print(f\"3-ning kvadrati {kvadrat(3)} ga, kubi {kub(3)} ga teng\")"
   ]
  },
  {
   "cell_type": "markdown",
   "metadata": {},
   "source": [
    "Lambda funksiyalaridan argument sifatida boshqa funksyani qabul qiluvchi funksiyalar bilan ishlashda ham keng foydalaniladi. Misol uchun `map()` va `filter()` funksiyalari.\n",
    "\n",
    "# `map()` FUNKSIYASI\n",
    "Bu funksiya argument sifatida ro'yxat (yoki lug'at) va boshqa bir funksiyani qabul qilib, ro'yxat elementlariga qabul qilingan funksya yordamida ishlov beradi. Tushunarli bo'lish uchun quyidagi misolni ko'ramiz."
   ]
  },
  {
   "cell_type": "code",
   "execution_count": null,
   "metadata": {},
   "outputs": [],
   "source": [
    "from math import sqrt\n",
    "\n",
    "sonlar = list(range(11)) # 0 dan 10 gacha sonlar ro'yxati\n",
    "ildizlar = list(map(sqrt,sonlar))"
   ]
  },
  {
   "cell_type": "markdown",
   "metadata": {},
   "source": [
    "Yuqoridagi misolda avval 0 dan 10 gacha `sonlar` ro'yxatini tuzib oldik, keyin esa `map` funksiyasiga ro'yxat va `sqrt` funksiyasini uzatib, ro'yxatdagi barcha sonlarning ildizini hisoblab oldik.\n",
    "\n",
    "> **`map()`** funksiyasi map obyekt qaytargani sababli, qaytgan obyektni ro'yxatga o'tkazib olish uchun `list()` funksiyasidan foyydalandik.\n",
    "\n",
    "Yana bir misol ko'ramiz:"
   ]
  },
  {
   "cell_type": "code",
   "execution_count": 8,
   "metadata": {},
   "outputs": [
    {
     "name": "stdout",
     "output_type": "stream",
     "text": [
      "[0, 1, 4, 9, 16, 25, 36, 49, 64, 81, 100]\n"
     ]
    }
   ],
   "source": [
    "sonlar = list(range(11)) # 0 dan 10 gacha sonlar ro'yxati\n",
    "\n",
    "def daraja2(x):\n",
    "    \"\"\"Berilgan sonning kvadratini qaytaruvchi funksiya\"\"\"\n",
    "    return x*x\n",
    "\n",
    "print(list(map(daraja2,sonlar))) # sonlar ning kvadratini hisoblaymiz"
   ]
  },
  {
   "cell_type": "markdown",
   "metadata": {},
   "source": [
    "Yuqoridagi misolda biz avval berilgan sonning kvadratini hisoblovchi funksiya yaratib oldik, undan keyin esa map yordamida sonlar ro'yxatidagi elementlarning kvadratini ham hisoblab oldik.\n",
    "\n",
    "Endi keling huddi shu misolni lambda yordamida yozamiz:"
   ]
  },
  {
   "cell_type": "code",
   "execution_count": 9,
   "metadata": {},
   "outputs": [
    {
     "name": "stdout",
     "output_type": "stream",
     "text": [
      "[0, 1, 4, 9, 16, 25, 36, 49, 64, 81, 100]\n"
     ]
    }
   ],
   "source": [
    "kvadratlar = list(map(lambda x:x*x,sonlar))\n",
    "print(kvadratlar)"
   ]
  },
  {
   "cell_type": "markdown",
   "metadata": {},
   "source": [
    "Yuqoridagi misolda, endi daraja degan funksiyani yaratib o'tirmasdan, to'g'ridan-to'g'ri map() ni ichiga darajani hisoblovchi lambda funksiya uzatdik.\n",
    "\n",
    "`map()` funksiyasi bo'lmaganida biz bunday dasturlarni `for` yordamida yozishimiz kerak bo'lar edi:"
   ]
  },
  {
   "cell_type": "code",
   "execution_count": null,
   "metadata": {},
   "outputs": [],
   "source": [
    "kvadratlar = []\n",
    "for son in sonlar:\n",
    "    kvadratlar.append(son*son)"
   ]
  },
  {
   "cell_type": "markdown",
   "metadata": {},
   "source": [
    "`map()` funksiyasiga bir nechta ro'yxatlar ham uzatish mumkin:"
   ]
  },
  {
   "cell_type": "code",
   "execution_count": 10,
   "metadata": {},
   "outputs": [
    {
     "name": "stdout",
     "output_type": "stream",
     "text": [
      "[11, 13, 15]\n"
     ]
    }
   ],
   "source": [
    "a = [4, 5, 6]\n",
    "b = [7, 8, 9]\n",
    "a_plus_b = list(map(lambda x,y:x+y,a,b))\n",
    "print(a_plus_b)"
   ]
  },
  {
   "cell_type": "markdown",
   "metadata": {},
   "source": [
    "`map()` istalgan ko'rinishdagi ma'lumot turlari bilan ishlaydi:"
   ]
  },
  {
   "cell_type": "code",
   "execution_count": 11,
   "metadata": {},
   "outputs": [
    {
     "name": "stdout",
     "output_type": "stream",
     "text": [
      "['HASAN', 'HUSAN', 'OLIM', 'UMID']\n"
     ]
    }
   ],
   "source": [
    "ismlar = ['hasan','husan','olim','umid']\n",
    "print(list(map(lambda matn:matn.upper(),ismlar)))"
   ]
  },
  {
   "cell_type": "markdown",
   "metadata": {},
   "source": [
    "# `filter()` FUNKSIYASI\n",
    "Bu funksiya ham argument sifatida ro'yxat va boshqa funskiyani qabul qilib oladi va berilgan ro'yxat elementlarini berilgan funksiya yordamida saralaydi. Bunda argument sifatida uzatilgan funksiya mantiqiy qiymat qaytarishi kerak (`True` yoki `False`).\n",
    "\n",
    "Keling bunga ham bir misol ko'ramiz: tasodifiy sonlar ro'yxatidan juft sonalrni ajratib oluvchi dastur yozamiz. Dasturimiz 3 qismdan iborat:\n",
    "\n",
    "1. Avvalo, random modulidagi `sample()` funksiyasi yordamida `0-99` oralig'idagi 10 ta tasodifiy sonlar ro'yxatini tuzib oldik\n",
    "2. Berilgan son juft (`True`) yoki juft emas (`False`) ekanligini qaytaruvchi funksiya yozdik\n",
    "3. `filter()` fuksiyasiga yangi yaratgan juftmi funksiyasi va tasodifiy sonlar ro'yxatini uzatib, yangi juft_sonlar ro'yxatini shakllantridik"
   ]
  },
  {
   "cell_type": "code",
   "execution_count": 12,
   "metadata": {},
   "outputs": [
    {
     "name": "stdout",
     "output_type": "stream",
     "text": [
      "[86, 63, 18, 10, 8, 71, 14, 59, 42, 40]\n",
      "[86, 18, 10, 8, 14, 42, 40]\n"
     ]
    }
   ],
   "source": [
    "import random as r\n",
    "\n",
    "sonlar = r.sample(range(100),10) # 0-99 oralig'ida 10 ta tasodifiy sonlar\n",
    "\n",
    "def juftmi(x):\n",
    "    \"\"\"x juft bo'lsa True, aks holda False qaytaruvchu funksiya\"\"\"\n",
    "    return x%2==0\n",
    "\n",
    "juft_sonlar = list(filter(juftmi,sonlar))\n",
    "print(sonlar)\n",
    "print(juft_sonlar)"
   ]
  },
  {
   "cell_type": "markdown",
   "metadata": {},
   "source": [
    "Keling endi shu dasturni `lambda` yordamida yozamiz:"
   ]
  },
  {
   "cell_type": "code",
   "execution_count": 13,
   "metadata": {},
   "outputs": [
    {
     "name": "stdout",
     "output_type": "stream",
     "text": [
      "[57, 94, 43, 62, 0, 46, 67, 74, 65, 71]\n",
      "[94, 62, 0, 46, 74]\n"
     ]
    }
   ],
   "source": [
    "import random as r\n",
    "\n",
    "sonlar = r.sample(range(100),10) # 0-99 oralig'ida 10 ta tasodifiy sonlar\n",
    "juft_sonlar = list(filter(lambda son: son%2==0,sonlar))\n",
    "\n",
    "print(sonlar)\n",
    "print(juft_sonlar)"
   ]
  },
  {
   "cell_type": "markdown",
   "metadata": {},
   "source": [
    "Kurib turganingizdek, `lambda` funksiya yordamida dastur bir muncha qisqaroq chiqadi. Agar `juftmi` funksiyasi kelajakda shart bo'lmasa, alohida funksiya yaratib o'tirmasdan, bir marttalik lambda funksiyasidan foydalangan afzal.\n",
    "\n",
    "Keling endi `filter()` funksiyasi yordamida matnlarni saralashga ham misollar ko'raylik.\n",
    "\n",
    "Quyidagi dastur `mevalar` ro'yxatidan **`b`** harfiga boshlanuvchi mevalarni ajratib oladi. Bu yerda biz matnlarga tegishli bo'lgan `.startswith()` metodidan foydalandik. Bu metod, berilgan matn shu harfdan boshlanadimi yoki yo'q tekshiradi va `True` yoki `False` qiymat qaytaradi."
   ]
  },
  {
   "cell_type": "code",
   "execution_count": 1,
   "metadata": {},
   "outputs": [
    {
     "name": "stdout",
     "output_type": "stream",
     "text": [
      "['banan']\n"
     ]
    }
   ],
   "source": [
    "mevalar = ['olma','anor','anjir','shaftoli',\"o'rik\",\"tarvuz\",\"qovun\",\"banan\"]\n",
    "\n",
    "mevalar_b = list(filter(lambda meva:meva.startswith('b'),mevalar))\n",
    "print(mevalar_b)"
   ]
  },
  {
   "cell_type": "markdown",
   "metadata": {},
   "source": [
    "Quyidagi dastur esa `mevalar` ro'yxatidan nomi 5 yoki undan kam harfdan iborat mevalarni saralab oladi."
   ]
  },
  {
   "cell_type": "code",
   "execution_count": 2,
   "metadata": {},
   "outputs": [
    {
     "name": "stdout",
     "output_type": "stream",
     "text": [
      "['olma', 'anor', 'anjir', \"o'rik\", 'qovun', 'banan']\n"
     ]
    }
   ],
   "source": [
    "mevalar2 = list(filter(lambda meva:len(meva)<=5, mevalar))\n",
    "print(mevalar2)"
   ]
  },
  {
   "cell_type": "markdown",
   "metadata": {},
   "source": [
    "Topingchi, quyidagi kod qanday vazifani bajaradi?"
   ]
  },
  {
   "cell_type": "code",
   "execution_count": null,
   "metadata": {},
   "outputs": [],
   "source": [
    "list(filter(lambda meva:(meva.startswith('a') and meva.endswith('r')), mevalar))"
   ]
  },
  {
   "cell_type": "markdown",
   "metadata": {},
   "source": [
    "# SO'NGSO'Z\n",
    "Ushbu darsimiz bilan biz dasturlash asoslarining katta bir qismiga yakun yasadik, navbat **Object Oriented Programming** va boshqa katta mavzularga. Lekin, bu mavzularga o'tishdan avval, keyingi darslarimizni bir nechta sodda loyihalar qilishga bag'ishlaymiz.\n",
    "\n",
    "E'tiboringiz uchun rahmat!"
   ]
  }
 ],
 "metadata": {
  "language_info": {
   "codemirror_mode": {
    "name": "ipython",
    "version": 3
   },
   "file_extension": ".py",
   "mimetype": "text/x-python",
   "name": "python",
   "nbconvert_exporter": "python",
   "pygments_lexer": "ipython3",
   "version": "3.8.6"
  }
 },
 "nbformat": 4,
 "nbformat_minor": 2
}