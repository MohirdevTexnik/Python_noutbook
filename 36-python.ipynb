{
 "cells": [
  {
   "cell_type": "markdown",
   "metadata": {},
   "source": [
    "# 36-DARS.  FUNKSIYANI TEKSHIRISH\n",
    "Dasturni tekshiruvchi dastur yozamiz\n",
    "\n",
    "![](https://gblobscdn.gitbook.com/assets%2F-MGbkqs1tROquIT6oqUs%2F-Mc-5yGQPZTBaGoehQdL%2F-Mc-7xpq4Puu3KEjmT0R%2FSD_YT_TG_logo_mini.png?alt=media&token=929fe67b-ec12-4f63-b33e-e9c5e3d8ad09)\n",
    "\n",
    "# KIRISH\n",
    "Dastur davomida yangi funksiya yoki klass yozar ekanmiz, ularni to'g'ri ishlashini ham tekshirishimiz tabiiy. Kodni tekshirish, kelajakda dasturimiz xato ishlashining oldini oladi. Odatda, funksiya va klasslarni tekshirish uchun alohida test dasturlar yozishimiz mumkin. Bunday dasturlar funksiyaga turli parametrlar orqali murojat qilib, undan qaytgan qiymatlar to'g'ri yoki xato ekanini tekshiradi.\n",
    "\n",
    "Pythonda bu jarayonni osonlashtirish uchun maxsus unittest moduli mavjud. unittest yordamida alohida funksiya, obyekt yoki butun boshli modulni ham tekshirshimiz mumkin. Lekin, tavsiya qilingan usuli bu testni dastavval kichik qismlardan boshlab, kengaytirib borish.\n",
    "\n",
    "# FUNKSIYANI TEKSHIRISH\n",
    "Boshlanishiga biror sodda funksiya yozamiz. Quyidagi funksiya foydalanuvchi ismi va familiyasini qabul qiladi, va ism familiyani jamlab qaytaradi:\n"
   ]
  },
  {
   "cell_type": "code",
   "execution_count": null,
   "metadata": {},
   "outputs": [],
   "source": [
    "def get_full_name(ism, familiya):\n",
    "    return f\"{ism} {familiya}\".title()"
   ]
  },
  {
   "cell_type": "markdown",
   "metadata": {},
   "source": [
    "Funksiyani tekshiramiz:"
   ]
  },
  {
   "cell_type": "code",
   "execution_count": null,
   "metadata": {},
   "outputs": [],
   "source": [
    "print(get_full_name('alijon','valiyev'))"
   ]
  },
  {
   "cell_type": "markdown",
   "metadata": {},
   "source": [
    "Keling endi shu funksiyamizni tekshirish uchun dastur yozamiz. Bu yerda ikki narsaga ahamiyat beramiz: avvalo funksiyamizni alohida modulda saqlaymiz (`name.py`), ikkinchidan test dasturimizni ham alohida modulda yozamiz va unga ham tushunarli nom beramiz (masalan, `name_test.py`).\n",
    "\n",
    "Test faylimizning (`name_test.py`) tarkibi quyidagicha bo'ladi:\n"
   ]
  },
  {
   "cell_type": "code",
   "execution_count": null,
   "metadata": {},
   "outputs": [],
   "source": [
    "import unittest\n",
    "from name import get_full_name\n",
    "\n",
    "class NameTest(unittest.TestCase):\n",
    "    def test_toliq_ism(self):\n",
    "        formatted_name = get_full_name('alijon','valiyev')        \n",
    "        self.assertEqual(formatted_name, 'Alijon Valiyev')\n",
    "\n",
    "unittest.main()"
   ]
  },
  {
   "cell_type": "markdown",
   "metadata": {},
   "source": [
    "Dasturni tahlil qilamiz:\n",
    "\n",
    "- Dastavval unittest modulini chaqiramiz (`import unittest`)\n",
    "- Keyingi qatorda `name.py` modulimizdan tekshirmoqchi bo'lgan funksiyamizni ham yuklab olamiz (`get_full_name`).\n",
    "- 4-qatorda test klassini yaratamiz, bu klass `unittest.TestCase` klassidan meros oladi. Bu klass berilgan parametrlar uchun funksiyadan qaytgan qiymatlarni tekshirishga mo'ljallangan. Klassimizga o'zimiz istagan, tushunarli nom beramiz (`NameTest`). \n",
    "- Klassimiz ichida `test_toliq_ism` metodini yaratdik. Bu metod `get_full_name` funksiyasidan qaytgan qiymatni biz avvaldan bergan qiymatga teng yoki yo'q ekanini tekshiradi. Buning uchun esa maxsus `.assertEqual()` metodidan foydalandik. E'tibor bering, test medotlarning nomi har doim `test` so'zi bilan boshlanishi kerak.\n",
    "- `assertEqual()` metodi ikki qiymat qabul qiladi va ularning teng ekanligini tekshiradi (assert ingliz tilidan tasdiqlash deb tarjima qilinadi). Agar `get_full_name('alijon','valiyev')` funksiyamiz to'g'ri ishlasa, funksiyadan `'Alijon Valiyev'` qiymati qaytishi kerak. `assertEqual()` metodi aynan shuni tekshirishga mo'ljallangan.\n",
    "- So'nggi qatorda unittest klassinini chaqiramiz, bu esa o'z navbatida biz yuqorida yozgan testni chaqiradi. \n",
    "\n",
    "`name_test.py` dasturimizni bajaramiz va quyidagi natijani olamiz:"
   ]
  },
  {
   "cell_type": "code",
   "execution_count": null,
   "metadata": {},
   "outputs": [],
   "source": [
    "Ran 1 test in 0.001s\n",
    "\n",
    "OK"
   ]
  },
  {
   "cell_type": "markdown",
   "metadata": {},
   "source": [
    "Natijadan bitta test bajarilganini va va bu test muvaffaqiyatli o'tganini (`OK`) ko'rishimiz mumkin.\n",
    "\n",
    "Keling endi dars boshida yaratilgan `get_full_name` funksiyamizga o'zgartirish kiritamiz:"
   ]
  },
  {
   "cell_type": "code",
   "execution_count": null,
   "metadata": {},
   "outputs": [],
   "source": [
    "def get_full_name(ism, familiya, otasi=''):\n",
    "    if otasi:\n",
    "        return f\"{ism} {otasi} {familiya}\"   \n",
    "    else:\n",
    "        return f\"{ism} {familiya}\".title()"
   ]
  },
  {
   "cell_type": "markdown",
   "metadata": {},
   "source": [
    "Bu safar funksiyamiz otasining ismini ham qabul qiladi, lekin bu argument ixtiyoriy.\n",
    "\n",
    "Testimizga ham o'zgartirish kiritamiz. Bu safar ikki hil ism uchun ikkita alohida test bajaramiz:"
   ]
  },
  {
   "cell_type": "code",
   "execution_count": null,
   "metadata": {},
   "outputs": [],
   "source": [
    "import unittest\n",
    "from name import get_full_name\n",
    "\n",
    "class NameTest(unittest.TestCase):\n",
    "    def test_toliq_ism(self):\n",
    "        formatted_name = get_full_name('alijon','valiyev')        \n",
    "        self.assertEqual(formatted_name, 'Alijon Valiyev')\n",
    "    def test_toliq_ism_otasi(self):\n",
    "        name = get_full_name('hasan','husanov','olimovich')\n",
    "        self.assertEqual(name,'Hasan Olimovich Husanov')\n",
    "\n",
    "unittest.main()"
   ]
  },
  {
   "cell_type": "markdown",
   "metadata": {},
   "source": [
    "Testni bajaramiz, va quyidagi natijani olamiz:\n"
   ]
  },
  {
   "cell_type": "code",
   "execution_count": null,
   "metadata": {},
   "outputs": [],
   "source": [
    "AssertionError: 'hasan olimovich husanov' != 'Hasan Olimovich Husanov'\n",
    "- hasan olimovich husanov\n",
    "? ^     ^         ^\n",
    "+ Hasan Olimovich Husanov\n",
    "? ^     ^         ^\n",
    "\n",
    "\n",
    "----------------------------------------------------------------------\n",
    "Ran 2 tests in 0.001s\n",
    "\n",
    "FAILED (failures=1)"
   ]
  },
  {
   "cell_type": "markdown",
   "metadata": {},
   "source": [
    "Bu safar funksiyamiz 1 ta testdan yiqildi (`failures=1`). Biz kutgan natija (`Hasan Olimovich Husanov`) va funksiya qaytargan natija (`hasan olimovich husanov`) bir hil emas. Ya'ni, ism familiya va otasining ismi katta harflar bilan yozlishi kerak edi, lekin natija unday emas. Demak funksiyamizda xato bor. Xatoni to'g'rilaymiz:"
   ]
  },
  {
   "cell_type": "code",
   "execution_count": null,
   "metadata": {},
   "outputs": [],
   "source": [
    "def get_full_name(ism, familiya, otasi=''):\n",
    "    if otasi:\n",
    "        return f\"{ism} {otasi} {familiya}\".title()   \n",
    "    else:\n",
    "        return f\"{ism} {familiya}\".title()"
   ]
  },
  {
   "cell_type": "markdown",
   "metadata": {},
   "source": [
    "Testni qaytadan chaqiramiz:"
   ]
  },
  {
   "cell_type": "code",
   "execution_count": null,
   "metadata": {},
   "outputs": [],
   "source": [
    "Ran 2 tests in 0.001s\n",
    "\n",
    "OK"
   ]
  },
  {
   "cell_type": "markdown",
   "metadata": {},
   "source": [
    "Bu safar funksiyamiz  ikki testdan ham muvaffaqiyatli o'tdi.\n",
    "\n",
    "# SONLARNI TEKSHIRISH\n",
    "Yuqorida matn qaytaruvchi funksiyani tekshirishni ko'rdik. Keling endi sonlar bilan ishlashni ko'ramiz. Misol tariqasida yangi `circle.py` modulini yaratamiz va uning ichida doiraning yuzini ($\\pi r^2$) va perimetrini ($2\\pi r$)  hisoblaydigan funksiyalar yozamiz:"
   ]
  },
  {
   "cell_type": "code",
   "execution_count": null,
   "metadata": {},
   "outputs": [],
   "source": [
    "def getArea(r,pi=3.14159):\n",
    "    \"\"\"Doiraning yuzini qaytaruvchi funksiya\"\"\"\n",
    "    return pi*(r**2)\n",
    "\n",
    "def getPerimeter(r,pi=3.14159):\n",
    "    \"\"\"Doiraning perimetrini qaytaruvchi funksiya\"\"\"\n",
    "    return 2*pi*r"
   ]
  },
  {
   "cell_type": "markdown",
   "metadata": {},
   "source": [
    "E'tibor bering, ikki funksiya ham, agar foydalanuvchi aniq qiymat bermasa,  ning qiymatini standart argument sifatida `3.14159` ga teng deb qabul qilayapti. Ushbu funksiyalarni tekshirish uchun alohida `circle_test.py` test dasturini yozamiz. Matnlardan farqli ravishda, sonlarni taqqoslash uchun `assertAlmostEqual()` metodidan foydalanamiz. Bu metod, ikki sonni nuqtadan keyin 7 xonagacha aniqlikda tekshiradi:"
   ]
  },
  {
   "cell_type": "code",
   "execution_count": null,
   "metadata": {},
   "outputs": [],
   "source": [
    "import unittest\n",
    "from circle import getArea, getPerimeter\n",
    "\n",
    "class CircleTest(unittest.TestCase):\n",
    "    def test_area(self):\n",
    "        self.assertAlmostEqual(getArea(10), 314.159)\n",
    "        self.assertAlmostEqual(getArea(3),28.27431)\n",
    "    def test_perimeter(self):\n",
    "        self.assertAlmostEqual(getPerimeter(10), 62.8318)\n",
    "        self.assertAlmostEqual(getPerimeter(4), 25.13272)\n",
    "        \n",
    "unittest.main())"
   ]
  },
  {
   "cell_type": "markdown",
   "metadata": {},
   "source": [
    "Bu yerda biz har bir funksiya uchun 2 tadan test yozdik. Testni bajaramiz va quyidagi natijani olamiz:\n"
   ]
  },
  {
   "cell_type": "code",
   "execution_count": null,
   "metadata": {},
   "outputs": [],
   "source": [
    "Ran 2 tests in 0.001s\n",
    "\n",
    "OK"
   ]
  },
  {
   "cell_type": "markdown",
   "metadata": {},
   "source": [
    "# MANTIQIY QIYMATLARNI TEKSHIRISH\n",
    "Agar funksiya mantiqiy qiymat qaytarsa, bunday funksiyalarni `assertTrue()` va `assertFalse()` metodlari yordamida tekshirishimiz mumkin. \n",
    "\n",
    "Quyidagi funksiyamiz kiritilgan son tub yoki yo'q ekanini tekshiradi:"
   ]
  },
  {
   "cell_type": "code",
   "execution_count": null,
   "metadata": {},
   "outputs": [],
   "source": [
    "def tubSonmi(n):\n",
    "    if n==2 or n==3: return True\n",
    "    if n%2==0 or n<2: return False\n",
    "    for i in range(3, int(n**0.5)+1, 2):   # faqat toq sonlarni tekshiramiz\n",
    "        if n%i==0:\n",
    "            return False   \n",
    "    return True"
   ]
  },
  {
   "cell_type": "markdown",
   "metadata": {},
   "source": [
    "Funksiyani alohida `tubSonmi.py` fayliga saqlaymiz. Funksiyani tekshirish uchun t`ubSon_test.py` dasturini yozamiz:"
   ]
  },
  {
   "cell_type": "code",
   "execution_count": null,
   "metadata": {},
   "outputs": [],
   "source": [
    "import unittest\n",
    "from tubSonmi import tubSonmi\n",
    "\n",
    "class tubSonTest(unittest.TestCase):\n",
    "    def test_true(self):\n",
    "        self.assertTrue(tubSonmi(7))\n",
    "        self.assertTrue(tubSonmi(193))\n",
    "        self.assertTrue(tubSonmi(547))\n",
    "    def test_false(self):\n",
    "        self.assertFalse(tubSonmi(6))\n",
    "        self.assertFalse(tubSonmi(265))\n",
    "        self.assertFalse(tubSonmi(489))\n",
    "        \n",
    "unittest.main()"
   ]
  },
  {
   "cell_type": "markdown",
   "metadata": {},
   "source": [
    "Test davomida `tubSonmi()` funksiyasini bir nechta tub (`7, 193, 547`) va tub bo'lmagan (`6, 265, 489`) sonlar bilan chaqirdik. Bunda `assertTrue()` metodi funksiyamiz haqiqatdan ham `True` qiymatini qaytarishini, `assertFalse()` metodi esa funksiyamiz `False` qiymat qaytarishini tekshiradi.\n",
    "\n",
    "# TAQQOSLASH METODLARI\n",
    "TestCase klassi tarkibidagi boshqa taqqoslash metodlari ham mavjud:"
   ]
  },
  {
   "cell_type": "markdown",
   "metadata": {},
   "source": [
    "![Imgur](https://i.imgur.com/1tBIS7J.png)"
   ]
  },
  {
   "cell_type": "markdown",
   "metadata": {},
   "source": [
    "# AMALIYOT\n",
    "\n",
    "Quyidagi funksiyalarni yarating, va ularning **har biri uchun test dasturlarini yozing**:\n",
    "- Uchta son qabul qilib, ulardan eng kattasini qaytaruvchi funksiya\n",
    "- Matnlardan iborat ro'yxat qabul qilib, ro'yxatdagi har bir matnning birinchi harfini katta harfga o'zgatiruvchi funksiya\n",
    "- Berilgan sonlar ro'yxatidan juft sonlarni ajratib oluvchi funksiya\n",
    "- Berilgan son Fibonachchi ketma-ketligida uchraydimi (True) yoki yo'q (False) qaytaruvchi funksiya yozing.\n",
    "\n",
    "# JAVOBLAR VA KODLAR\n",
    "\n",
    "GitHub sahifamizda: https://github.com/anvarnarz/python-darslar"
   ]
  }
 ],
 "metadata": {
  "language_info": {
   "codemirror_mode": {
    "name": "ipython",
    "version": 3
   },
   "file_extension": ".py",
   "mimetype": "text/x-python",
   "name": "python",
   "nbconvert_exporter": "python",
   "pygments_lexer": "ipython3",
   "version": "3.8.6"
  }
 },
 "nbformat": 4,
 "nbformat_minor": 2
}