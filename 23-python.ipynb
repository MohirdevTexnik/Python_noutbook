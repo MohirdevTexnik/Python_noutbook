{
 "cells": [
  {
   "cell_type": "markdown",
   "metadata": {},
   "source": [
    "# 23-MODUL NIMA?\n",
    "\n",
    "Dasturni modullarga bo'lishni o'rganamiz\n",
    "\n",
    "![](https://gblobscdn.gitbook.com/assets%2F-MGbkqs1tROquIT6oqUs%2F-Mc-5yGQPZTBaGoehQdL%2F-Mc-7xpq4Puu3KEjmT0R%2FSD_YT_TG_logo_mini.png?alt=media&token=929fe67b-ec12-4f63-b33e-e9c5e3d8ad09)\n",
    "\n",
    "Funksiyaning qulayliklaridan biri, ko'p takrorlanadigan kodlarni funksiya ichida yashirishimiz va kerak bo'lgan murojat qilishimiz mumkinligida. Maqsadimiz dasturimizni ixcham va tushunarli qilib, kelajakda o'zimiz yoki boshqalar uchun ham \"toza\" kod qoldrisih. Bu yo'nalishda yana bir qadam qo'yib, dasturimizni modullarga ajratimshimiz mumkin.\n",
    "\n",
    "Modul bu loyihamiz ichidagi alohida fayl bo'lib, dasturimiz davomida ishlatiladigan funskyalarni (va o'zgaruvchilarni) mana shu faylga joylab, ko'zdan yashirib qo'yishimiz mumkin. Bu bizga asosiy dasturimizdan chalg'imasdan kod yozish imkoniyatini beradi.\n",
    "\n",
    "Modul va uning ichidagi funksiyalarni istalgan payt asosiy dasturimizga yuklab olishimiz, modullarni boshqa dasturchilar bilan ulashishimiz yoki kelajakda o'zimizning boshqa loyihalarimizda foydalanishimiz mumkin.\n",
    "\n",
    "Umuman olganda katta dasturlar bir nech o'nlab modullardan iborat bo'lishi tabiiy hol.\n",
    "\n",
    "# MODUL YARATAMIZ\n",
    "Modul yaratish uchun asosiy dasturimizdagi funksiyalarni yangi faylga ko'chiramiz xolos. Modulga oson murojat qilishimiz uchun, faylimiz asosiy dasturimiz bilan bitta papkada bo'lgani afzal. Bunda adashib ketmaslik uchun, loyihangizning (dasturning) asosiy faylini `main.py` deb nomlash o'rinli.\n",
    "\n",
    "Keling, biz ham `avto_info_mod.py` degan fayl yaratamiz va ichiga quyidagi 3 ta funksiyalarni joylaymiz:"
   ]
  },
  {
   "cell_type": "code",
   "execution_count": 5,
   "metadata": {},
   "outputs": [],
   "source": [
    "def avto_info(kompaniya, model, rangi, korobka, yili, narhi=None):\n",
    "    \"\"\"Avtomobil haqidagi ma'lumotlarni lug'at ko'rinishida qaytaruvchi funksiya\"\"\"\n",
    "    avto = {'kompaniya':kompaniya,\n",
    "            'model':model,\n",
    "            'rang':rangi,\n",
    "            'korobka':korobka,\n",
    "            'yil':yili,\n",
    "            'narh':narhi}\n",
    "    return avto\n",
    "\n",
    "def avto_kirit():\n",
    "    \"\"\"Foydalanuvchiga avto_info funksiyasi yordamida bir nechta avtolar haqida ma'lumotlarni bitta ro'yxatga joylash imkonini beruvchi funksiya\"\"\"\n",
    "    avtolar=[] # salondagi avtolar uchun bo'sh ro'yxat\n",
    "    while True:\n",
    "        print(\"\\nQuyidagi ma'lumotlarni kiriting\",end='')\n",
    "        kompaniya=input(\"Ishlab chiqaruvchi: \")\n",
    "        model=input(\"Modeli: \")\n",
    "        rangi=input(\"Rangi: \")\n",
    "        korobka=input(\"Korobka: \")\n",
    "        yili=input(\"Ishlab chiqarilgan yili: \")\n",
    "        narhi=input(\"Narhi: \")    \n",
    "        #Foydalanuvchi kiritdan ma'lumotlardan avto_info yordamida \n",
    "        #lug'at shakllantirib, har bir lug'atni ro'yxatga qo'shamiz:\n",
    "        avtolar.append(avto_info(kompaniya, model, rangi, korobka, yili, narhi))    \n",
    "        # Yana avto qo'shish-qo'shmaslikni so'raymiz\n",
    "        javob = input(\"Yana avto qo'shasizmi? (yes/no): \")\n",
    "        if javob=='no':\n",
    "            break\n",
    "    return avtolar\n",
    "\n",
    "def info_print(avto_info):\n",
    "    \"\"\"Avtomobillar haqida ma'lumotlar saqlangan lug'atni konsolga chiqaruvchi funksiya\"\"\"\n",
    "    print(f\"{avto_info['rang'].title()} {avto_info['kompaniya'].upper()} \"\n",
    "          f\"{avto_info['model'].upper()}, {avto_info['korobka']} korobka, \"\n",
    "          f\"{avto_info['yil']}-yil, {avto_info['narh']}$\")"
   ]
  },
  {
   "cell_type": "markdown",
   "metadata": {},
   "source": [
    "Yuqoridagi funksiyalarga asosiy dasturdan murojat qlishning bir necha usuli bor.\n",
    "\n",
    "# MODULNI CHAQIRIB OLISH\n",
    "Modul ichidagi istalgan funksiyaga murojat qilish uchun `import modul_nomi` komandasidan foydalanamiz. Bunda modul ichidagi istalgan funksiyaga `modul_nomi.funksiya_nomi()` ko'rinishida murojat qilishimiz mumkin. Ya'ni avval modul nomi undan keyin esa nuqta qo'yilib, modul ichidagi funksiya nomi yoziladi.\n",
    "Keling, yuqoridagi modulimizdagi `avto_info()` va `info_print()` funksiyalariga murojat qilamiz:"
   ]
  },
  {
   "cell_type": "code",
   "execution_count": null,
   "metadata": {},
   "outputs": [],
   "source": [
    "import avto_info_mod # avto_info_mod faylini (modulini) chaqiramiz\n",
    "\n",
    "avto1 = avto_info_mod.avto_info(\"GM\", \"Malibu\", \"Qora\", \"avtomat\", 2020,40000)\n",
    "avto_info_mod.info_print(avto1)"
   ]
  },
  {
   "cell_type": "markdown",
   "metadata": {},
   "source": [
    "Ko'rib turganingizdek, dasturimiz qisqa, tushunarli va muhimi toza bo'ldi. 3 qator kod ortida 20 qatordan ortiq kodni yashirdik.\n",
    "\n",
    "> **`import`** `modul_nomi` komandasi bir martta, dastur boshida yoziladi.\n",
    "\n",
    "## MODULGA QISQA NOM BERISH\n",
    "Yuqoridagi usul bilan modulni chaqirib olishda fayl nomi uzun bo'lsa bu o'ziga yarasha noqulayliklar tug'dirishi mumkin. Buning oldini olish uchun esa, modulni chaqirganda unga `as` operatori yordamida qisqa nom berishimiz, va modulga qisqa nom orqali murojat qilish mumkin. Quyidagi misolda `avto_info_mod` ni qisqa qilib `aim` deb nomlab oldik, va 3-4-qatorlarda modulga murojat qilishda qisqa nomidan foydalandik. "
   ]
  },
  {
   "cell_type": "code",
   "execution_count": null,
   "metadata": {},
   "outputs": [],
   "source": [
    "import avto_info_mod as aim # avto_info_mod ni qisqa nom aim bilan chaqiramiz\n",
    "\n",
    "avto1 = aim.avto_info(\"GM\", \"Malibu\", \"Qora\", \"avtomat\", 2020,40000)\n",
    "aim.info_print(avto1)"
   ]
  },
  {
   "cell_type": "markdown",
   "metadata": {},
   "source": [
    ">Modulga qisqa nom berganingizda bunday nomli boshqa o'zgaruvchi yoki funksiya yo'qligiga amin boling. Shunigdek, dastur davomida bu nomni boshqa o'zgaruvchilarga yoki funksiylarga berib yubormang. \n",
    "\n",
    "# MODUL ICIHDAN MA'LUM FUNKSIYALARNI KO'CHIRIB OLISH\n",
    "Agar katta modullardan faqatgina ba'zi funksiyalarga murojat qilish talab qilinisa, kerakli funksiyalarni **`from`** `modul_nomi` **`import`** `funksiya1, funksiya2` komandasi yordamida o'zimizning dasturimizga ko'chirib olishimiz mumkin. Bu usulning qulayligi, endi funksiyalarga to'g'ridan-to'g'ri murojat qilish mumkin (modul ismini yozmagan holda).\n",
    "\n",
    "Misol uchun avvalgi kodimizda biz faqatgina `avto_info` va `info_print` funksiyalaridan foydalandik. Shu funksiyalarni asosiy kodimizga ko'chirib olaylik:"
   ]
  },
  {
   "cell_type": "code",
   "execution_count": null,
   "metadata": {},
   "outputs": [],
   "source": [
    "from avto_info_mod import avto_info, info_print\n",
    "\n",
    "avto1 = avto_info(\"GM\", \"Malibu\", \"Qora\", \"avtomat\", 2020,40000)\n",
    "info_print(avto1)"
   ]
  },
  {
   "cell_type": "markdown",
   "metadata": {},
   "source": [
    "## FUNKSIYALARGA QISQA NOM BERISH\n",
    "Huddi avvalgidek, ko'chrib olgan funksiyamizga ham qisqa nom berishimiz mumkin. "
   ]
  },
  {
   "cell_type": "code",
   "execution_count": null,
   "metadata": {},
   "outputs": [],
   "source": [
    "from avto_info_mod import avto_info as ainfo, info_print as iprint\n",
    "\n",
    "avto1 = ainfo(\"GM\", \"Malibu\", \"Qora\", \"avtomat\", 2020,40000)\n",
    "iprint(avto1)"
   ]
  },
  {
   "cell_type": "markdown",
   "metadata": {},
   "source": [
    "# MODUL ICHIDAGI BARCHA FUNKSIYALARNI KO'CHIRIB OLISH\n",
    "Modul ichidagi barcha funksiyalarni asosiy dasturga ko'chirib olish uchun `from modul_nomi import *` komandasidan foydalanamiz.  "
   ]
  },
  {
   "cell_type": "code",
   "execution_count": null,
   "metadata": {},
   "outputs": [],
   "source": [
    "from avto_info_mod import *\n",
    "\n",
    "avto1 = avto_info(\"GM\", \"Malibu\", \"Qora\", \"avtomat\", 2020,40000)\n",
    "info_print(avto1)"
   ]
  },
  {
   "cell_type": "markdown",
   "metadata": {},
   "source": [
    "> **Diqqat!** Bir necha sabablarga ko'ra bu usuldan foydalanish tavsiya qilinmaydi. Katta modullarda yuzlab funksiyalar bo'lishi mumkin, va funksiya nomi sizning dasturingizdagi boshqa funksiya yoki o'zgaruvchi bilan bir hil nomga ega bo'lsa, dastur xato ishlashiga olib keladi.\n",
    "\n",
    "# MODULDA O'ZGARUVCHI SAQLASH\n",
    "Modullarning ichida nafaqat funksiyalar, balki turli o'zgaruvchilarni ham saqlash mumkin. Modul ichidagi o'zgaruvchilarga ham huddi yuqoridagi usullar bilan murojat qilish mumkin.\n",
    "\n",
    "# PYTHON MODULLARI\n",
    "Python dasturlash tili tayyor modullar bilan keladi, modullarning to'liq ro'yxatini quyidagi bo'glama orqali kirib ko'rishingiz mumkin: https://docs.python.org/3/py-modindex.html"
   ]
  },
  {
   "cell_type": "markdown",
   "metadata": {},
   "source": [
    "Keling ulardan ba'zilari bilan tanishamiz.\n",
    "\n",
    "## `math` MODULI\n",
    "Bu modulda matematik hisob kitoblarni bajaruvchi funksiyalar va o'zgaruvchilar joylashgan. Keling ularga ba'zi misollarni ko'ramiz.\n",
    "\n",
    "**`sqrt()` - qavs ichida berilgan qiymatning kvadrat ildizini qaytaradi**"
   ]
  },
  {
   "cell_type": "code",
   "execution_count": 12,
   "metadata": {},
   "outputs": [
    {
     "name": "stdout",
     "output_type": "stream",
     "text": [
      "20.0\n"
     ]
    }
   ],
   "source": [
    "import math\n",
    "\n",
    "x=400\n",
    "print(math.sqrt(x))"
   ]
  },
  {
   "cell_type": "markdown",
   "metadata": {},
   "source": [
    "**`pow(x,y)` - x ning y-darajasini qaytaradi**"
   ]
  },
  {
   "cell_type": "code",
   "execution_count": 13,
   "metadata": {},
   "outputs": [
    {
     "name": "stdout",
     "output_type": "stream",
     "text": [
      "3125\n"
     ]
    }
   ],
   "source": [
    "print(pow(5,5))"
   ]
  },
  {
   "cell_type": "markdown",
   "metadata": {},
   "source": [
    "**pi -  ning qiymatini saqlovchi o'zgaruvchi**"
   ]
  },
  {
   "cell_type": "code",
   "execution_count": 14,
   "metadata": {},
   "outputs": [
    {
     "name": "stdout",
     "output_type": "stream",
     "text": [
      "3.141592653589793\n"
     ]
    }
   ],
   "source": [
    "from math import pi\n",
    "print(pi)"
   ]
  },
  {
   "cell_type": "markdown",
   "metadata": {},
   "source": [
    "**`log2(x)` va `log10(x) - `x` ning 2 va 10-lik logorifmini qaytaruvchi funksiyalar**"
   ]
  },
  {
   "cell_type": "code",
   "execution_count": 15,
   "metadata": {},
   "outputs": [
    {
     "name": "stdout",
     "output_type": "stream",
     "text": [
      "3.0\n",
      "2.0\n"
     ]
    }
   ],
   "source": [
    "print(math.log2(8))\n",
    "print(math.log10(100))"
   ]
  },
  {
   "cell_type": "markdown",
   "metadata": {},
   "source": [
    "![Imgur](https://i.imgur.com/VjlUtZm.png)"
   ]
  },
  {
   "cell_type": "markdown",
   "metadata": {},
   "source": [
    "[`math` moduli](https://docs.python.org/3/library/math.html#module-math) ichidagi barcha funksiyalar bilan [Pythonning rasmiy sahifasida](https://docs.python.org/3/library/math.html#module-math) tanishishingiz mumkin."
   ]
  },
  {
   "cell_type": "markdown",
   "metadata": {},
   "source": [
    "## `random` MODULI\n",
    "Random moduli tasodifiy sonlar bilan ishlash uchun qulay funksiyalarga boy. Keing ulardan ayrimlari bilan tanishamiz.\n",
    "\n",
    "**`randint(a,b)`**\n",
    "\n",
    "Bu funksiya a va b oraligi'da tasodifiy butun son qaytaradi. "
   ]
  },
  {
   "cell_type": "code",
   "execution_count": 16,
   "metadata": {},
   "outputs": [
    {
     "name": "stdout",
     "output_type": "stream",
     "text": [
      "62\n"
     ]
    }
   ],
   "source": [
    "import random as r # random modulini r deb chaqirayapmiz\n",
    "\n",
    "son = r.randint(0,100) # 0 va 100 oralig'ida tasodifiy son\n",
    "print(son)"
   ]
  },
  {
   "cell_type": "markdown",
   "metadata": {},
   "source": [
    "**`choice(x)`**\n",
    "\n",
    "`x` ning ichidan tasodifiy qiymatni qaytaruvchi funksiya. Bunda `x` bir necha elementdan iborat o'zgaruvchi (matn, ro'yxat) bo'lishi kerak."
   ]
  },
  {
   "cell_type": "code",
   "execution_count": 17,
   "metadata": {},
   "outputs": [
    {
     "name": "stdout",
     "output_type": "stream",
     "text": [
      "hasan\n",
      "n\n"
     ]
    }
   ],
   "source": [
    "ismlar = ['olim','anvar','hasan','husan']\n",
    "ism = r.choice(ismlar) # ismlar dan tasodifiy ism tanlaymiz\n",
    "print(ism)\n",
    "print(r.choice(ism)) # ismdan tasodifiy harf tanlaymiz"
   ]
  },
  {
   "cell_type": "code",
   "execution_count": 18,
   "metadata": {},
   "outputs": [
    {
     "name": "stdout",
     "output_type": "stream",
     "text": [
      "[0, 5, 10, 15, 20, 25, 30, 35, 40, 45, 50]\n",
      "0\n"
     ]
    }
   ],
   "source": [
    "x = list(range(0,51,5))\n",
    "print(x)\n",
    "print(r.choice(x))"
   ]
  },
  {
   "cell_type": "markdown",
   "metadata": {},
   "source": [
    "**`shuffle(x)`**\n",
    "\n",
    "`x` ichidagi elementlarni tasodifiy tartibda qaytaruvchi funksiya. Bunda `x` bir necha elementdan iborat o'zgaruvchi (matn, ro'yxat) bo'lishi kerak."
   ]
  },
  {
   "cell_type": "code",
   "execution_count": 19,
   "metadata": {},
   "outputs": [
    {
     "name": "stdout",
     "output_type": "stream",
     "text": [
      "[0, 1, 2, 3, 4, 5, 6, 7, 8, 9, 10]\n",
      "[1, 2, 10, 8, 7, 3, 5, 0, 6, 9, 4]\n"
     ]
    }
   ],
   "source": [
    "x = list(range(11))\n",
    "print(x)\n",
    "r.shuffle(x)\n",
    "print(x)"
   ]
  },
  {
   "cell_type": "markdown",
   "metadata": {},
   "source": [
    "`random` moduli ichidagi boshqa funksiyalar haqida Python rasmiy sahifasidan ma'lumot olishingiz mumkin."
   ]
  }
 ],
 "metadata": {
  "language_info": {
   "codemirror_mode": {
    "name": "ipython",
    "version": 3
   },
   "file_extension": ".py",
   "mimetype": "text/x-python",
   "name": "python",
   "nbconvert_exporter": "python",
   "pygments_lexer": "ipython3",
   "version": "3.9.5"
  }
 },
 "nbformat": 4,
 "nbformat_minor": 2
}