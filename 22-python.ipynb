{
 "cells": [
  {
   "cell_type": "markdown",
   "metadata": {},
   "source": [
    "# 22-DARS. MOSLASHUVCHAN FUNKSIYA (`*args`, `**kwargs`) \n",
    "\n",
    "`*args` va `**kwargs` bilan tanishamiz\n",
    "\n",
    "![](https://gblobscdn.gitbook.com/assets%2F-MGbkqs1tROquIT6oqUs%2F-Mc-5yGQPZTBaGoehQdL%2F-Mc-7xpq4Puu3KEjmT0R%2FSD_YT_TG_logo_mini.png?alt=media&token=929fe67b-ec12-4f63-b33e-e9c5e3d8ad09)\n",
    "\n",
    "# MOSLASHUVCHAN FUNKSIYA\n",
    "\n",
    "Agar funksiyangiz bir nechta argument qabul qilishi kerak bo'lsa-yu, lekin siz argumentlar sonini aniq bilmasangiz, Pythonda istalgancha qiymat qabul qiluvchi funksiya yaratish imkoniyati bor.\n",
    "\n",
    "## `*args` USULI\n",
    "\n",
    "Agar funksiya qabul qiladigan parametrlar soni noaniq bo'lsa, va parametrlar yagona qiymatlar ko'rinishida uzatilsa, funksiya yaratishda argumentdan avval yulduzcha qo'yiladi (`*arguments`). \n",
    "Quyidagi misolni ko'raylik. `summa()`nomli funksiyamiz istalgancha sonlarni qabul qilib oladi, va ularning yi'gindisi hisoblaydi:\n"
   ]
  },
  {
   "cell_type": "code",
   "execution_count": 6,
   "metadata": {},
   "outputs": [],
   "source": [
    "def summa(*sonlar):\n",
    "    \"\"\"Kiritilgan sonlar yig'indisini hisoblaydigan funksiya\"\"\"\n",
    "    yigindi = 0\n",
    "    for son in sonlar:\n",
    "        yigindi += son\n",
    "    return yigindi"
   ]
  },
  {
   "cell_type": "markdown",
   "metadata": {},
   "source": [
    "Bu funksiyani istalgancha parametr bilan chaqirish mumkin:"
   ]
  },
  {
   "cell_type": "code",
   "execution_count": 7,
   "metadata": {},
   "outputs": [
    {
     "name": "stdout",
     "output_type": "stream",
     "text": [
      "3\n"
     ]
    }
   ],
   "source": [
    "print(summa(1,2))"
   ]
  },
  {
   "cell_type": "code",
   "execution_count": 9,
   "metadata": {},
   "outputs": [
    {
     "name": "stdout",
     "output_type": "stream",
     "text": [
      "15\n"
     ]
    }
   ],
   "source": [
    "print(summa(1,2,3,4,5))"
   ]
  },
  {
   "cell_type": "markdown",
   "metadata": {},
   "source": [
    "`*args` usulida, bacha uzatilgan parametrlar (bir dona bo'lsa ham) funksiya ichida [o'zgarmas ro'yxatga (tuple)](https://python.sariq.dev/ozgaruvchilar-va-malumot-turlari/08-list-tuple#tuples-ozgarmas-royxat) joylanadi. Bundan kelib chiqib, yuqoridagi funksiyamizni yanada soddalashtirib yozishimiz mumkin:"
   ]
  },
  {
   "cell_type": "markdown",
   "metadata": {},
   "source": [
    "Agar funksiya bir nechta argument qabul qilsa, `*args` argument doim oxirida yoziladi:"
   ]
  },
  {
   "cell_type": "code",
   "execution_count": 12,
   "metadata": {},
   "outputs": [],
   "source": [
    "def summa(x,y,*sonlar):\n",
    "    \"\"\"Kiritilgan sonlar yig'indisini hisoblaydigan funksiya\"\"\"\n",
    "    return x+y+sum(sonlar)"
   ]
  },
  {
   "cell_type": "markdown",
   "metadata": {},
   "source": [
    "Yuqoridagi funksiyamiz kamida 2 ta parametr qabul qiladi (`x` va `y`) va birinchi ikki argumentlar majburiy argumentlardir."
   ]
  },
  {
   "cell_type": "code",
   "execution_count": 13,
   "metadata": {},
   "outputs": [
    {
     "ename": "TypeError",
     "evalue": "summa() missing 1 required positional argument: 'y'",
     "output_type": "error",
     "traceback": [
      "\u001b[0;31m---------------------------------------------------------------------------\u001b[0m",
      "\u001b[0;31mTypeError\u001b[0m                                 Traceback (most recent call last)",
      "\u001b[0;32m<ipython-input-13-4a3cd0d0086e>\u001b[0m in \u001b[0;36m<module>\u001b[0;34m\u001b[0m\n\u001b[0;32m----> 1\u001b[0;31m \u001b[0mprint\u001b[0m\u001b[0;34m(\u001b[0m\u001b[0msumma\u001b[0m\u001b[0;34m(\u001b[0m\u001b[0;36m2\u001b[0m\u001b[0;34m)\u001b[0m\u001b[0;34m)\u001b[0m\u001b[0;34m\u001b[0m\u001b[0;34m\u001b[0m\u001b[0m\n\u001b[0m",
      "\u001b[0;31mTypeError\u001b[0m: summa() missing 1 required positional argument: 'y'"
     ]
    }
   ],
   "source": [
    "print(summa(2))"
   ]
  },
  {
   "cell_type": "markdown",
   "metadata": {},
   "source": [
    "## `**kwargs` USULI\n",
    "Agar funksiyaga kalit so'z - qiymat ko'rinishidagi argumentlarni uzatish talab qilinsa, va bunday parametrlar soni noma'lum bo'lsa, argument oldidan ikkita yulduzcha qo'yiladi (`**kwargs`).\n",
    "\n",
    ">**kwargs — keyword arguments (kalit so'zli argumentlar)"
   ]
  },
  {
   "cell_type": "code",
   "execution_count": 15,
   "metadata": {},
   "outputs": [],
   "source": [
    "def avto_info(kompaniya,model,**malumotlar):\n",
    "    \"\"\"Avto haqidagi ma'lumotlarni lug'at ko'rinishdia qaytaruvchi funksiya\"\"\"\n",
    "    malumotlar['kompaniya']=kompaniya\n",
    "    malumotlar['model']=model\n",
    "    return malumotlar"
   ]
  },
  {
   "cell_type": "markdown",
   "metadata": {},
   "source": [
    "Yuqoridagi funksiyamiz kompaniya va model degan ikki qiymatni qabul qiladi, undan keyin esa funksiyaga istalgancha parametr uzatish mumkin.  Bunday funksiyaga parametrlar `kalitso'z=qiymat` ko'rinishida uzatiladi.\n",
    "\n",
    "Funksiya ichida avval foydalanuvchi kiritgan **qo'shimcha** qiymatlardan iborat `malumotlar` deb nomlangan lug'at shakllantiriladi. Undan keyin esa majburiy parametrlarni lug'atga qo'shamiz. "
   ]
  },
  {
   "cell_type": "code",
   "execution_count": 16,
   "metadata": {},
   "outputs": [],
   "source": [
    "avto1 = avto_info(\"GM\", \"malibu\", rang='qora', yil=2018)\n",
    "avto2 = avto_info(\"Kia\", \"K5\", rang='qizil', narh=35000)"
   ]
  },
  {
   "cell_type": "code",
   "execution_count": 17,
   "metadata": {},
   "outputs": [
    {
     "name": "stdout",
     "output_type": "stream",
     "text": [
      "{'rang': 'qizil', 'narh': 35000, 'kompaniya': 'Kia', 'model': 'K5'}\n"
     ]
    }
   ],
   "source": [
    "print(avto2)"
   ]
  },
  {
   "cell_type": "markdown",
   "metadata": {},
   "source": [
    "# AMALIYOT\n",
    "1. Istalgancha sonlarni qabul qilib, ularning ko'paytmasini qaytaruvchi funksiya yozing\n",
    "2. Talabalar haqidagi ma'lumotlarini lug'at ko'rinishida qaytaruvchi funkisya yozing. Talabaning ismi va familiyasi majburiy argument, qolgan ma'lumotlar esa ixtiyoriy ko'rinishda istalgancha berilishi mumkin bo'lsin.\n",
    "\n",
    "# JAVOBLAR\n",
    "## GitHub"
   ]
  },
  {
   "cell_type": "code",
   "execution_count": 1,
   "metadata": {},
   "outputs": [
    {
     "name": "stdout",
     "output_type": "stream",
     "text": [
      "120\n"
     ]
    }
   ],
   "source": [
    "def multiply(*sonlar):\n",
    "    kopaytma = 1\n",
    "    for son in sonlar:\n",
    "        kopaytma *= son\n",
    "    return kopaytma\n",
    "\n",
    "print(multiply(4,5,6))"
   ]
  },
  {
   "cell_type": "code",
   "execution_count": 2,
   "metadata": {},
   "outputs": [],
   "source": [
    "def talaba_info(ism, familiya, **kwargs):\n",
    "    kwargs['ism']=ism\n",
    "    kwargs['familiya']=familiya\n",
    "    return kwargs\n",
    "\n",
    "talaba = talaba_info('olim','olimov',tyil=1995,fakultet='IT',yonalish='AT')"
   ]
  }
 ],
 "metadata": {
  "language_info": {
   "codemirror_mode": {
    "name": "ipython",
    "version": 3
   },
   "file_extension": ".py",
   "mimetype": "text/x-python",
   "name": "python",
   "nbconvert_exporter": "python",
   "pygments_lexer": "ipython3",
   "version": "3.8.6"
  }
 },
 "nbformat": 4,
 "nbformat_minor": 2
}