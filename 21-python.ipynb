{
 "cells": [
  {
   "cell_type": "markdown",
   "metadata": {},
   "source": [
    "# 21-DARS. FUNKSIYA VA RO'YXAT\n",
    "\n",
    "Funksiyaga ro'yxat uzatishni o'rganamiz\n",
    "\n",
    "![](https://gblobscdn.gitbook.com/assets%2F-MGbkqs1tROquIT6oqUs%2F-Mc-5yGQPZTBaGoehQdL%2F-Mc-7xpq4Puu3KEjmT0R%2FSD_YT_TG_logo_mini.png?alt=media&token=929fe67b-ec12-4f63-b33e-e9c5e3d8ad09)\n",
    "\n",
    "# FUNKSIYAGA RO'YXAT UZATISH\n",
    "Biz avvalgi darslarimizda funksiyaga parametr sifatida yagona qiymat berayotgan edik. Aslida, bu bilan cheklanmasdan, funksiyaga ro'yxat (list) ham berishimiz mumkin. Bunda, funksiya ro'yxat qiymatlariga to'g'ridan-to'g'ri murojat qila oladi.\n",
    "\n",
    "Keling talabalarni baholaydigan funksiya yozamiz. Funksiyamiz talabalar ro'yxatini qabul qilib oladi, ro'yxatdan har bir talabani sug'urib olib (`.pop()`), bahosini kiritishni so'raydi. Talaba ismi va bahosini lug'atga joylab, yakuniy lug'atni foydalanuvchiga qaytaradi."
   ]
  },
  {
   "cell_type": "code",
   "execution_count": 5,
   "metadata": {},
   "outputs": [
    {
     "name": "stdout",
     "output_type": "stream",
     "text": [
      "Talaba Husanning bahosini kiriting: 5\n",
      "Talaba Hasanning bahosini kiriting: 2\n",
      "Talaba Valining bahosini kiriting: 4\n",
      "Talaba Alining bahosini kiriting: 5\n",
      "{'husan': '5', 'hasan': '2', 'vali': '4', 'ali': '5'}\n"
     ]
    }
   ],
   "source": [
    "def bahola(ismlar):\n",
    "    baholar = {}\n",
    "    while ismlar:\n",
    "        ism = ismlar.pop()\n",
    "        baho = input(f\"Talaba {ism.title()}ning bahosini kiriting: \")\n",
    "        baholar[ism]=baho\n",
    "    return baholar\n",
    "\n",
    "talabalar = ['ali', 'vali', 'hasan', 'husan']\n",
    "baholar = bahola(talabalar)\n",
    "print(baholar)"
   ]
  },
  {
   "cell_type": "markdown",
   "metadata": {},
   "source": [
    "# RO'YXATGA O'ZGARTIRISH KIRITISH\n",
    "Funksiyaga ro'yxat uzatganimizda, funksiya ro'yxat elementlariga to'g'ridan-to'g'ri murojat qila oladi. Ro'yxatga funksiya ichida kiritilgan o'zgartirishlar asl ro'yxatga ham ta'sir qiladi. Avvalgi misolimizga qaytaylik:"
   ]
  },
  {
   "cell_type": "code",
   "execution_count": 6,
   "metadata": {},
   "outputs": [
    {
     "name": "stdout",
     "output_type": "stream",
     "text": [
      "Talaba Husanning bahosini kiriting: 5\n",
      "Talaba Hasanning bahosini kiriting: 3\n",
      "Talaba Valining bahosini kiriting: 4\n",
      "Talaba Alining bahosini kiriting: 4\n",
      "[]\n"
     ]
    }
   ],
   "source": [
    "talabalar = ['ali', 'vali', 'hasan', 'husan']\n",
    "baholar = bahola(talabalar)\n",
    "print(talabalar)"
   ]
  },
  {
   "cell_type": "markdown",
   "metadata": {},
   "source": [
    "Yuqoridagi funksiya unga uzatilgan ro'yxat ichidagi talabalarning ismini `.pop()` yordamida sug'urib olgani uchun bizning asl ro'yxatimiz ham bo'shab qoldi. E'tibor bering, funksiya tashqarisidagi va ichidagi ro'yxatlar ikki hil nomlangan bo'lsada (`talabalar` va `ismlar`), ikkalasi ham xotiradagi bitta ro'yxatga bog'langani sabab ulardan biriga o'zgartirish kiritilishi bilan, ikkinchisi ham o'zgaradi. \n",
    "\n"
   ]
  },
  {
   "cell_type": "markdown",
   "metadata": {},
   "source": [
    "![](https://gblobscdn.gitbook.com/assets%2F-MGbkqs1tROquIT6oqUs%2F-MP8EGli8doB3A3zBciJ%2F-MP8WrcRbEHkTZzbTVxR%2Fimage.png?alt=media&token=3087463f-98b5-4c1f-b011-af040317ab9f)"
   ]
  },
  {
   "cell_type": "markdown",
   "metadata": {},
   "source": [
    "# ASL RO'YXATGA O'ZGARTIRISH KIRITISHNING OLDINI OLISH \n",
    "Agar funksiya asl ro'yxatga o'zgartirish kiritishini istamasangiz, funksiyaga ro'yxatning o'zini emas, uning nusxasini uzatish mumkin. Buning uchun funksiya parametrini `royxat_nomi[:]` ko'rinishida yozish kifoya. Bunda `[:]` operatori ro'yxatdan nusxa olishni bildiradi:"
   ]
  },
  {
   "cell_type": "code",
   "execution_count": 7,
   "metadata": {},
   "outputs": [
    {
     "name": "stdout",
     "output_type": "stream",
     "text": [
      "Talaba Husanning bahosini kiriting: 5\n",
      "Talaba Hasanning bahosini kiriting: 3\n",
      "Talaba Valining bahosini kiriting: 4\n",
      "Talaba Alining bahosini kiriting: 3\n",
      "['ali', 'vali', 'hasan', 'husan']\n"
     ]
    }
   ],
   "source": [
    "talabalar = ['ali', 'vali', 'hasan', 'husan']\n",
    "baholar = bahola(talabalar[:])\n",
    "print(talabalar)"
   ]
  },
  {
   "cell_type": "markdown",
   "metadata": {},
   "source": [
    "# AMALIYOT\n",
    "- Matnlardan iborat ro'yxat qabul qilib, ro'yxatdagi har bir matnning birinchi harfini katta harfga o'zgatiruvchi funksiya yozing. "
   ]
  },
  {
   "cell_type": "markdown",
   "metadata": {},
   "source": [
    "- Yuqoridagi funksiyani asl ro'yxatni o'zgartirmaydigan va yangi ro'yxat qaytaradigan qilib o'zgartiring"
   ]
  },
  {
   "cell_type": "markdown",
   "metadata": {},
   "source": [
    "- Darsimiz davomida yozgan `bahola` funksiyasini `.pop()` metodidan foydalanmasdan va asl ro'yxatga o'zgartirish kiritmasdan faqat lug'at qaytaradigan qilib yozing.\n",
    "\n",
    "# JAVOBLAR"
   ]
  },
  {
   "cell_type": "code",
   "execution_count": 1,
   "metadata": {},
   "outputs": [
    {
     "name": "stdout",
     "output_type": "stream",
     "text": [
      "['Ali', 'Vali', 'Hasan', 'Husan']\n"
     ]
    }
   ],
   "source": [
    "def katta_harf(matnlar):\n",
    "    for i in range(len(matnlar)):\n",
    "        matnlar[i]=matnlar[i].title()   \n",
    "\n",
    "ismlar = ['ali', 'vali', 'hasan', 'husan']\n",
    "katta_harf(ismlar)\n",
    "print(ismlar)"
   ]
  },
  {
   "cell_type": "code",
   "execution_count": 3,
   "metadata": {},
   "outputs": [
    {
     "name": "stdout",
     "output_type": "stream",
     "text": [
      "['ali', 'vali', 'hasan', 'husan']\n",
      "['Ali', 'Vali', 'Hasan', 'Husan']\n"
     ]
    }
   ],
   "source": [
    "def katta_harf(matnlar):\n",
    "    matnlar = matnlar[:]\n",
    "    for i in range(len(matnlar)):\n",
    "        matnlar[i]=matnlar[i].title()\n",
    "    return matnlar\n",
    "\n",
    "ismlar = ['ali', 'vali', 'hasan', 'husan']\n",
    "yangi_ismlar = katta_harf(ismlar)\n",
    "print(ismlar)\n",
    "print(yangi_ismlar)"
   ]
  },
  {
   "cell_type": "code",
   "execution_count": 4,
   "metadata": {},
   "outputs": [
    {
     "name": "stdout",
     "output_type": "stream",
     "text": [
      "Talaba Alining bahosini kiriting: 5\n",
      "Talaba Valining bahosini kiriting: 2\n",
      "Talaba Hasanning bahosini kiriting: 3\n",
      "Talaba Husanning bahosini kiriting: 4\n",
      "{'ali': '5', 'vali': '2', 'hasan': '3', 'husan': '4'}\n",
      "['ali', 'vali', 'hasan', 'husan']\n"
     ]
    }
   ],
   "source": [
    "talabalar = ['ali', 'vali', 'hasan', 'husan']\n",
    "\n",
    "def bahola(ismlar):\n",
    "    baholar = {}\n",
    "    for ism in ismlar:\n",
    "        baho = input(f\"Talaba {ism.title()}ning bahosini kiriting: \")\n",
    "        baholar[ism]=baho\n",
    "    return baholar\n",
    "        \n",
    "baholar = bahola(talabalar)\n",
    "print(baholar)\n",
    "print(talabalar)\n"
   ]
  }
 ],
 "metadata": {
  "language_info": {
   "codemirror_mode": {
    "name": "ipython",
    "version": 3
   },
   "file_extension": ".py",
   "mimetype": "text/x-python",
   "name": "python",
   "nbconvert_exporter": "python",
   "pygments_lexer": "ipython3",
   "version": "3.8.6"
  }
 },
 "nbformat": 4,
 "nbformat_minor": 2
}