{
 "cells": [
  {
   "cell_type": "markdown",
   "metadata": {},
   "source": [
    "# 19-DARS. FUNKSIYA\n",
    "\n",
    "Pythonda funksiyalar bilan tanishamiz"
   ]
  },
  {
   "cell_type": "markdown",
   "metadata": {},
   "source": [
    "![](https://gblobscdn.gitbook.com/assets%2F-MGbkqs1tROquIT6oqUs%2F-Mc-5yGQPZTBaGoehQdL%2F-Mc-7xpq4Puu3KEjmT0R%2FSD_YT_TG_logo_mini.png?alt=media&token=929fe67b-ec12-4f63-b33e-e9c5e3d8ad09)\n",
    "\n",
    "# FUNKSIYA NIMA?\n",
    "\n",
    "Funksiya ma'lum bir vazifani bajarishga mo'ljallangan kodlar yig'indisi. Biz shu paytgacha bir nechta tayyor funksiyalardan foydalanib keldik. Misol uchun `print()` funksiyasi konsolga matn chiqarish uchun, `range()` funksiyasi esa ma'lum oraliqdagi sonlarni yaratish uchun ishlatiladi.  \n",
    "\n",
    "Aslida har qanday funksiyaning ortida ham bir necha qatordan iborat kod bo'ladi, lekin biz funksiyaga murojat qilganda uning nomini yozamiz xolos. Funksiya ortidagi kod esa biz uchun yashirin bo'lib qolaveradi. Funksiyalarning qulayligi ham shunda. Dastur davomida ma'lum bir kodlarni qayta-qayta yozmaslik uchun biz ularni jamlab, bitta funksiya ichiga joylashimiz va dastur davomida bu kodlarga funksiya nomi orqali murojat qilishimiz mumkin. \n",
    "\n",
    "Funksiyalar turlicha bo'ladi, ba'zi funksiyalar sizdan qiymat qabul qilib, konsolga biror ma'umot chiqaradi, ba'zilari esa sizdan qabul qilgan qiymat ustida turli amallar bajarib yangi qiymat qaytaradi. Foydalanuvchidan mutlaqo qiymat qabul qilmaydigan funksiyalar ham mavjud. \n",
    "\n",
    "Ushbu mavzuda siz qanday qilib Pythonda yangi funksiya yaratish, unga murojat qilish, tekshirish va to'g'rilashni o'rganasiz. Shuningdek darsimiz yakunida dasturimizni bir nechta faullarga ajratishni va funksiylarani alohida, module deb ataluvchi fayllarga joylashni ham o'rganamiz.\n",
    "\n",
    "# FUNKSIYA YARATAMIZ\n",
    "\n",
    "Keling oddiy, salom_ber deb nomlangan funksiya yaratamiz. Bu funksiya murojat qilganimizda konsolga \"Assalom alaykum!\" degan xabarni chiqarsin."
   ]
  },
  {
   "cell_type": "code",
   "execution_count": 4,
   "metadata": {},
   "outputs": [],
   "source": [
    "def salom_ber():\n",
    "    \"\"\"Salom beruvchi funksiya\"\"\"\n",
    "    print(\"Assalomu alaykum!\")"
   ]
  },
  {
   "cell_type": "markdown",
   "metadata": {},
   "source": [
    "Kodni qatroma-qator tahlil qilaylik:\n",
    "1. Avvalo `def` operatori yordamida Pythonga funksiya yaratayotganimizni bildirdik. `def` dan so'ng esa funksiyamizga nom berdik va qavslarni ochib, yopdik. Bizning funksiyamiz foydalanuvchidan hech qanday qiymat qabul qilmaydi, shuning uchun ham qavs ichi bo'sh. Keyingi misollarda foydalanuvchidan qiymat qabul qiluvchi funksiyalarni ham ko'ramiz.\n",
    "2. `def` qatoridan keyin o'ngga surib yozilgan har qanday kod funksiyaning badani hisoblanadi. 2-qatorda biz uchta ketma-ket qo'shtirnoq ichida funksiya haqida ma'lumot berdik. Python mana shu ma'lumotni o'qib, dasturchi funksiya haqida bilmoqchi bo'lganda aynan shu matnni ko'rsatadi. \n",
    "3. Oxirgi qatorimizda esa `\"Assalomu alaykum!\"` matnini konsolga chiqarishni buyurdik. Bizning sodda funksiyamizning asosiy vazifasi ham shu.\n",
    "\n",
    "Mana funksiya tayyor. Endi bu funksiyadan foydalanish uchun uni chaqiramiz. Buning uchun funksiya nomini yozamiz va qavslarni ochib, yopamiz (esingizda bo'lsa bizning funksiyamiz qiymat qabul qilmaydi, shuning uchun qavslar ichi bo'sh)."
   ]
  },
  {
   "cell_type": "code",
   "execution_count": 5,
   "metadata": {},
   "outputs": [
    {
     "name": "stdout",
     "output_type": "stream",
     "text": [
      "Assalomu alaykum!\n"
     ]
    }
   ],
   "source": [
    "salom_ber()"
   ]
  },
  {
   "cell_type": "markdown",
   "metadata": {},
   "source": [
    "> Funksiyaga nom berishda fe'l, ya'ni harakatni bildiruvchi so'zlar yoki jumlalardan foydalaning. Bu bilan siz o'zgaruvchi va funksiya o'rtasini farqlashingiz oson bo'ladi. Misol uchun, yuqorida biz funksiyamizni `salom` emas `salom_ber` deb nomladik.\\\n",
    "\n",
    "## FUNKSIYAGA QIYMAT UZATISH\n",
    "\n",
    "Avvalgi sodda funksiyamiz foydalanivchidan hech qanday qiymat olmaydi va barchaga birday `\"Assalomu alaykum!\"` deb javob qiladi. Keling funksiyaga o'zgartirish kiritamiz, funksiya foydalanuvchi ismini qabul qilib, unga ismi bilan murojat qilsin. Buning uchun funksiya nomidan keyin, qavs ichida foydalanuvchi berishi kerak bo'lgan qiymatni ko'rsatamiz."
   ]
  },
  {
   "cell_type": "code",
   "execution_count": 6,
   "metadata": {},
   "outputs": [],
   "source": [
    "def salom_ber(ism):\n",
    "    \"\"\"Fodyalanuvchi ismini qabul qilib, unga salom beruvchi funksiya\"\"\"\n",
    "    print(f\"Assalomu alaykum, hurmatli {ism.title()}!\")"
   ]
  },
  {
   "cell_type": "markdown",
   "metadata": {},
   "source": [
    "Mana endi fuknsiyamiz foydalanuvchidan ism degan qiymatni ham kutadi."
   ]
  },
  {
   "cell_type": "code",
   "execution_count": 7,
   "metadata": {},
   "outputs": [
    {
     "name": "stdout",
     "output_type": "stream",
     "text": [
      "Assalomu alaykum, hurmatli Hasan!\n"
     ]
    }
   ],
   "source": [
    "salom_ber('hasan')"
   ]
  },
  {
   "cell_type": "markdown",
   "metadata": {},
   "source": [
    "Agar funksiyaga murojat qilishda, unga qiymat bermasak xatolik vujudga keladi:\n"
   ]
  },
  {
   "cell_type": "code",
   "execution_count": 8,
   "metadata": {},
   "outputs": [
    {
     "ename": "TypeError",
     "evalue": "salom_ber() missing 1 required positional argument: 'ism'",
     "output_type": "error",
     "traceback": [
      "\u001b[0;31m---------------------------------------------------------------------------\u001b[0m",
      "\u001b[0;31mTypeError\u001b[0m                                 Traceback (most recent call last)",
      "\u001b[0;32m<ipython-input-8-f8a436c53b0f>\u001b[0m in \u001b[0;36m<module>\u001b[0;34m\u001b[0m\n\u001b[0;32m----> 1\u001b[0;31m \u001b[0msalom_ber\u001b[0m\u001b[0;34m(\u001b[0m\u001b[0;34m)\u001b[0m\u001b[0;34m\u001b[0m\u001b[0;34m\u001b[0m\u001b[0m\n\u001b[0m",
      "\u001b[0;31mTypeError\u001b[0m: salom_ber() missing 1 required positional argument: 'ism'"
     ]
    }
   ],
   "source": [
    "salom_ber()"
   ]
  },
  {
   "cell_type": "markdown",
   "metadata": {},
   "source": [
    "## DOCSTRING\n",
    "\n",
    "Avval aytganimizdek, funksiya yaratganda, funksiya qanday ishlashi haqida qisqacha ma'lumot berib ketish o'zimiz uchun ham, kelajakda bizni funksiyamizni ishlatadigan boshqa dasturchilar uchun ham juda foydali bo'ladi. Quyidagi funksiyaning 2-qatorda biz funksiya haqida ma'lumot berdik. Bu qator docstring deyiladi. Murakkab funksiyalar uchun docstringni bir necha qatorga bo'lib yozishingiz mumkin"
   ]
  },
  {
   "cell_type": "code",
   "execution_count": 9,
   "metadata": {},
   "outputs": [],
   "source": [
    "def salom_ber(ism):\n",
    "    \"\"\"Fodyalanuvchi ismini qabul qilib, \n",
    "        unga salom beruvchi funksiya\"\"\"\n",
    "    print(f\"Assalomu alaykum, hurmatli {ism.title()}!\")"
   ]
  },
  {
   "cell_type": "markdown",
   "metadata": {},
   "source": [
    "Xo'sh, bu ma'lumot qachon va qayerda ko'rsatiladi? Dastur yozish jarayonida funksiya nomini yozishingiz bilan, docstring ko'rsatiladi:\n",
    "![](https://gblobscdn.gitbook.com/assets%2F-MGbkqs1tROquIT6oqUs%2F-MOeIRBktQ-fwuoU3oVA%2F-MOeJsdlMhaALqFN97IQ%2Fimage.png?alt=media&token=88bdbd2d-1bbf-40a2-9751-32ef12924d93)"
   ]
  },
  {
   "cell_type": "markdown",
   "metadata": {},
   "source": [
    "Docstringni konsolga chiqarish uchun `print(funksiya_nomi.__doc__)` deb ham yozishimiz mumkin:\n"
   ]
  },
  {
   "cell_type": "code",
   "execution_count": 10,
   "metadata": {},
   "outputs": [
    {
     "name": "stdout",
     "output_type": "stream",
     "text": [
      "Fodyalanuvchi ismini qabul qilib, \n",
      "        unga salom beruvchi funksiya\n"
     ]
    }
   ],
   "source": [
    "print(salom_ber.__doc__)"
   ]
  },
  {
   "cell_type": "markdown",
   "metadata": {},
   "source": [
    "## FUNKSIYAGA BIR NECHA BOR MUROJAT QILISH\n",
    "\n",
    "Funksiya yaratishning asl maqsadlaridan biri, biz unga qayta-qayta, yangi qiymatlar bilan murojat qilishimiz mumkin. "
   ]
  },
  {
   "cell_type": "code",
   "execution_count": 11,
   "metadata": {},
   "outputs": [
    {
     "name": "stdout",
     "output_type": "stream",
     "text": [
      "Assalomu alaykum, hurmatli Hasan!\n"
     ]
    }
   ],
   "source": [
    "salom_ber('hasan')"
   ]
  },
  {
   "cell_type": "code",
   "execution_count": 12,
   "metadata": {},
   "outputs": [
    {
     "name": "stdout",
     "output_type": "stream",
     "text": [
      "Assalomu alaykum, hurmatli Olim!\n"
     ]
    }
   ],
   "source": [
    "salom_ber('olim')"
   ]
  },
  {
   "cell_type": "markdown",
   "metadata": {},
   "source": [
    "## ARGUMENT VA PARAMETER\n",
    "\n",
    "Funksiya yaratishda, qavs ichida berilgan, funksiya to'g'ri ishlashi uchun uzatiladigan qiymat **parameter** deb ataladi. Yuqoridagi misolda `ism` bu `salom_ber` funksiyasining parametri. \n",
    "\n",
    "Foydalanuvchi funksiyaga murojat qilishda funksiyaga uzatgan qiymat esa **argument** deb ataladi. `salom_ber('hasan')` kodida `'hasan'` bu argument. \n",
    "\n",
    "> Ba'zi manbalarda yoki darslarda argument va parametr so'zlari almashtirib ishlatilishi ham kuzatiladi.\n",
    "\n",
    "# FUNKSIYAGA BIR NECHTA ARGUMENT UZATISH\n",
    "\n",
    "Shunday funksiyalar bor, bir emas bir nechta parameter talab qilishi mumkin, foydalanuvchi esa o'z navbatida bir nechta argumentlar taqdim qilishi kerak. Funksiyaga argument uzatishning bir necha usuli bor, keling ular bilan birma bir tanishamiz.\n",
    "\n",
    "## TO'G'RI TARTIBDA UZATISH\n",
    "\n",
    "Bu usulda, funksiya parametrlari qaysi tartibda yozilgan bo'lsa, argumentlar ham aynan shu ketma-ketlikda uzatilishi kerak. Keling bitta misol ko'ramiz. Quyidagi funksiya foydalanuvchining ismi va familiyasini parametr sifatida qabul qilib, ularni jamlab xabar chiqaradi."
   ]
  },
  {
   "cell_type": "code",
   "execution_count": 13,
   "metadata": {},
   "outputs": [],
   "source": [
    "def toliq_ism(ism, familiya):\n",
    "    \"\"\"Foydalanuvchi ism va familiyasini jamlab chiqaruvchi funksiya\"\"\"\n",
    "    print(f\"Foydalanuvchi ismi: {ism.title()}\\n\"\n",
    "          f\"Foydalanuvchi familiyasi: {familiya.title()}\")"
   ]
  },
  {
   "cell_type": "markdown",
   "metadata": {},
   "source": [
    "Yuqoridagi funksiya to'g'ri natija chiqarishi uchun argumentlarni ism va familiya ketma-ketligida kiritishimiz lozim."
   ]
  },
  {
   "cell_type": "code",
   "execution_count": 14,
   "metadata": {},
   "outputs": [
    {
     "name": "stdout",
     "output_type": "stream",
     "text": [
      "Foydalanuvchi ismi: Olim\n",
      "Foydalanuvchi familiyasi: Hakimov\n"
     ]
    }
   ],
   "source": [
    "toliq_ism('olim','hakimov')"
   ]
  },
  {
   "cell_type": "code",
   "execution_count": 15,
   "metadata": {},
   "outputs": [
    {
     "name": "stdout",
     "output_type": "stream",
     "text": [
      "Foydalanuvchi ismi: Hakimov\n",
      "Foydalanuvchi familiyasi: Olim\n"
     ]
    }
   ],
   "source": [
    "toliq_ism('hakimov','olim')"
   ]
  },
  {
   "cell_type": "markdown",
   "metadata": {},
   "source": [
    "Ko'p xolatlarda esa, argumentlarni noto'g'ri tartibda uzatish xatolikka ham olib kelishi mumkin.\n"
   ]
  },
  {
   "cell_type": "code",
   "execution_count": 16,
   "metadata": {},
   "outputs": [],
   "source": [
    "def yosh_hisobla(ism, tugilgan_yil):\n",
    "    \"\"\"Foydalanuvchi yoshini hisoblaydigan dastur\"\"\"\n",
    "    print(f\"{ism.title()} {2020-tugilgan_yil} yoshda\")"
   ]
  },
  {
   "cell_type": "code",
   "execution_count": 17,
   "metadata": {},
   "outputs": [
    {
     "name": "stdout",
     "output_type": "stream",
     "text": [
      "Olim 23 yoshda\n"
     ]
    }
   ],
   "source": [
    "yosh_hisobla('olim', 1997)"
   ]
  },
  {
   "cell_type": "code",
   "execution_count": 18,
   "metadata": {},
   "outputs": [
    {
     "ename": "AttributeError",
     "evalue": "'int' object has no attribute 'title'",
     "output_type": "error",
     "traceback": [
      "\u001b[0;31m---------------------------------------------------------------------------\u001b[0m",
      "\u001b[0;31mAttributeError\u001b[0m                            Traceback (most recent call last)",
      "\u001b[0;32m<ipython-input-18-6f8d76423d10>\u001b[0m in \u001b[0;36m<module>\u001b[0;34m\u001b[0m\n\u001b[0;32m----> 1\u001b[0;31m \u001b[0myosh_hisobla\u001b[0m\u001b[0;34m(\u001b[0m\u001b[0;36m1997\u001b[0m\u001b[0;34m,\u001b[0m \u001b[0;34m'olim'\u001b[0m\u001b[0;34m)\u001b[0m\u001b[0;34m\u001b[0m\u001b[0;34m\u001b[0m\u001b[0m\n\u001b[0m",
      "\u001b[0;32m<ipython-input-16-08da249bc7ab>\u001b[0m in \u001b[0;36myosh_hisobla\u001b[0;34m(ism, tugilgan_yil)\u001b[0m\n\u001b[1;32m      1\u001b[0m \u001b[0;32mdef\u001b[0m \u001b[0myosh_hisobla\u001b[0m\u001b[0;34m(\u001b[0m\u001b[0mism\u001b[0m\u001b[0;34m,\u001b[0m \u001b[0mtugilgan_yil\u001b[0m\u001b[0;34m)\u001b[0m\u001b[0;34m:\u001b[0m\u001b[0;34m\u001b[0m\u001b[0;34m\u001b[0m\u001b[0m\n\u001b[1;32m      2\u001b[0m     \u001b[0;34m\"\"\"Foydalanuvchi yoshini hisoblaydigan dastur\"\"\"\u001b[0m\u001b[0;34m\u001b[0m\u001b[0;34m\u001b[0m\u001b[0m\n\u001b[0;32m----> 3\u001b[0;31m     \u001b[0mprint\u001b[0m\u001b[0;34m(\u001b[0m\u001b[0;34mf\"{ism.title()} {2020-tugilgan_yil} yoshda\"\u001b[0m\u001b[0;34m)\u001b[0m\u001b[0;34m\u001b[0m\u001b[0;34m\u001b[0m\u001b[0m\n\u001b[0m",
      "\u001b[0;31mAttributeError\u001b[0m: 'int' object has no attribute 'title'"
     ]
    }
   ],
   "source": [
    "yosh_hisobla(1997, 'olim')"
   ]
  },
  {
   "cell_type": "markdown",
   "metadata": {},
   "source": [
    "## KALIT SO'Z BILAN UZATISH\n",
    "\n",
    "Yuqoridagi kabi holatlarning oldini olish uchun argumentlarni parametr nomi bilan qo'shib uzatishimiz mumkin. Buning uchun funksiyaga o'zgartirish kiritish talab qilinmaydi."
   ]
  },
  {
   "cell_type": "code",
   "execution_count": 19,
   "metadata": {},
   "outputs": [
    {
     "name": "stdout",
     "output_type": "stream",
     "text": [
      "Olim 23 yoshda\n"
     ]
    }
   ],
   "source": [
    "yosh_hisobla(tugilgan_yil=1997, ism='olim')"
   ]
  },
  {
   "cell_type": "markdown",
   "metadata": {},
   "source": [
    "Yuoqirdagi misolda funksiyani chaqirishda biz parametrlar ketma-ketligiga rioya qilmagan bo'lsakda, argumentlarni **`parametr_nomi=qiymat`** ko'rinishida yozganimiz sababli funksiya to'g'ri ishladi. \n",
    "\n",
    "Huddi shu kabi yuqoridagi toliq_ism funksiyasiga murojat qilishimiz mumkin:"
   ]
  },
  {
   "cell_type": "code",
   "execution_count": 20,
   "metadata": {},
   "outputs": [
    {
     "name": "stdout",
     "output_type": "stream",
     "text": [
      "Foydalanuvchi ismi: Olim\n",
      "Foydalanuvchi familiyasi: Hakimov\n"
     ]
    }
   ],
   "source": [
    "toliq_ism(familiya='hakimov',ism='olim')"
   ]
  },
  {
   "cell_type": "markdown",
   "metadata": {},
   "source": [
    "> Kalit so'z usulidan foydalanganda parametr nomi to'g'ri yozilganiga ahamiyat bering."
   ]
  },
  {
   "cell_type": "markdown",
   "metadata": {},
   "source": [
    "## STANDART QIYMAT\n",
    "\n",
    "Funksiya yaratishda, istalgan parametr uchun standart qiymat ko'rsatib ketishimiz mumkin. Agar foydalanuvchi shu parametr uchun qiymat (argument) kiritmasa, funksiya bajarilishi jarayonida standart qiymat ishlatiladi. Standart qiymatni funksiya yaratish vaqtida **`parametr = qiymat`** ko'rinishida beriladi."
   ]
  },
  {
   "cell_type": "code",
   "execution_count": 21,
   "metadata": {},
   "outputs": [],
   "source": [
    "def yosh_hisobla(tugilgan_yil, joriy_yil=2020): # joriy yil uchun st.qiymat 2020\n",
    "    \"\"\"Foydalanuvchi tug'ilgan yilidan uning yoshini hisoblaydi\"\"\"\n",
    "    print(f\"Siz {joriy_yil-tugilgan_yil} yoshdasiz\")"
   ]
  },
  {
   "cell_type": "markdown",
   "metadata": {},
   "source": [
    "Yuqoridagi misolda biz joriy_yil parametriga 2020 standart qiymatini berib ketdik. \n",
    "\n",
    "> Funksiya yaratishda, standart qiymatga ega parametrlar doim oxirida yozilishi kerak. Aks holda xatolik yuzaga keladi.\n",
    "\n",
    "Keling avval funksiyani ikkala argument bilan chaqiramiz:"
   ]
  },
  {
   "cell_type": "code",
   "execution_count": 22,
   "metadata": {},
   "outputs": [
    {
     "name": "stdout",
     "output_type": "stream",
     "text": [
      "Siz 25 yoshdasiz\n"
     ]
    }
   ],
   "source": [
    "yosh_hisobla(1995,2020)"
   ]
  },
  {
   "cell_type": "markdown",
   "metadata": {},
   "source": [
    "Endi esa faqat bitta argument (`tugilgan_yil`) bilan chaqiramiz:\n"
   ]
  },
  {
   "cell_type": "code",
   "execution_count": 23,
   "metadata": {},
   "outputs": [
    {
     "name": "stdout",
     "output_type": "stream",
     "text": [
      "Siz 27 yoshdasiz\n"
     ]
    }
   ],
   "source": [
    "yosh_hisobla(1993)"
   ]
  },
  {
   "cell_type": "markdown",
   "metadata": {},
   "source": [
    "Bu safar foydalanuvchi `joriy_yil` ni kiritmagani sababli, standart qiymat, `2020` ishlatildi. \n"
   ]
  },
  {
   "cell_type": "markdown",
   "metadata": {},
   "source": [
    "# FUNKSIYAGA MUROJAT QILISHDA XATOLIKLAR\n",
    "\n",
    "Funksiyalarga murojat qilishda turli xatoliklarga yo'l qo'shimiz tabiiy. Bunday holatlarda Python qaytargan xatoni sinchiklab o'qib, xato qayerdaligini topishimiz va uni to'g'rilashimiz zarur. Quyida men avvalroq yaratgan funksiyalarimizni xato usullar bilan chaqiraman. Xato nimada ekanini topa olasizmi?\n"
   ]
  },
  {
   "cell_type": "code",
   "execution_count": 25,
   "metadata": {},
   "outputs": [
    {
     "name": "stdout",
     "output_type": "stream",
     "text": [
      "Tug'ilgan yilingizni kiriting: 1998\n"
     ]
    },
    {
     "ename": "TypeError",
     "evalue": "unsupported operand type(s) for -: 'int' and 'str'",
     "output_type": "error",
     "traceback": [
      "\u001b[0;31m---------------------------------------------------------------------------\u001b[0m",
      "\u001b[0;31mTypeError\u001b[0m                                 Traceback (most recent call last)",
      "\u001b[0;32m<ipython-input-25-11724be0a287>\u001b[0m in \u001b[0;36m<module>\u001b[0;34m\u001b[0m\n\u001b[1;32m      4\u001b[0m \u001b[0;34m\u001b[0m\u001b[0m\n\u001b[1;32m      5\u001b[0m \u001b[0mtyil\u001b[0m \u001b[0;34m=\u001b[0m \u001b[0minput\u001b[0m\u001b[0;34m(\u001b[0m\u001b[0;34m\"Tug'ilgan yilingizni kiriting: \"\u001b[0m\u001b[0;34m)\u001b[0m\u001b[0;34m\u001b[0m\u001b[0;34m\u001b[0m\u001b[0m\n\u001b[0;32m----> 6\u001b[0;31m \u001b[0myosh_hisobla\u001b[0m\u001b[0;34m(\u001b[0m\u001b[0mtyil\u001b[0m\u001b[0;34m)\u001b[0m\u001b[0;34m\u001b[0m\u001b[0;34m\u001b[0m\u001b[0m\n\u001b[0m",
      "\u001b[0;32m<ipython-input-25-11724be0a287>\u001b[0m in \u001b[0;36myosh_hisobla\u001b[0;34m(tugilgan_yil, joriy_yil)\u001b[0m\n\u001b[1;32m      1\u001b[0m \u001b[0;32mdef\u001b[0m \u001b[0myosh_hisobla\u001b[0m\u001b[0;34m(\u001b[0m\u001b[0mtugilgan_yil\u001b[0m\u001b[0;34m,\u001b[0m \u001b[0mjoriy_yil\u001b[0m\u001b[0;34m=\u001b[0m\u001b[0;36m2020\u001b[0m\u001b[0;34m)\u001b[0m\u001b[0;34m:\u001b[0m\u001b[0;34m\u001b[0m\u001b[0;34m\u001b[0m\u001b[0m\n\u001b[1;32m      2\u001b[0m     \u001b[0;34m\"\"\"Foydalanuvchi tug'ilgan yilidan uning yoshini hisoblaydi\"\"\"\u001b[0m\u001b[0;34m\u001b[0m\u001b[0;34m\u001b[0m\u001b[0m\n\u001b[0;32m----> 3\u001b[0;31m     \u001b[0mprint\u001b[0m\u001b[0;34m(\u001b[0m\u001b[0;34mf\"Siz {joriy_yil-tugilgan_yil} yoshdasiz\"\u001b[0m\u001b[0;34m)\u001b[0m\u001b[0;34m\u001b[0m\u001b[0;34m\u001b[0m\u001b[0m\n\u001b[0m\u001b[1;32m      4\u001b[0m \u001b[0;34m\u001b[0m\u001b[0m\n\u001b[1;32m      5\u001b[0m \u001b[0mtyil\u001b[0m \u001b[0;34m=\u001b[0m \u001b[0minput\u001b[0m\u001b[0;34m(\u001b[0m\u001b[0;34m\"Tug'ilgan yilingizni kiriting: \"\u001b[0m\u001b[0;34m)\u001b[0m\u001b[0;34m\u001b[0m\u001b[0;34m\u001b[0m\u001b[0m\n",
      "\u001b[0;31mTypeError\u001b[0m: unsupported operand type(s) for -: 'int' and 'str'"
     ]
    }
   ],
   "source": [
    "def yosh_hisobla(tugilgan_yil, joriy_yil=2020):\n",
    "    \"\"\"Foydalanuvchi tug'ilgan yilidan uning yoshini hisoblaydi\"\"\"\n",
    "    print(f\"Siz {joriy_yil-tugilgan_yil} yoshdasiz\")\n",
    "    \n",
    "tyil = input(\"Tug'ilgan yilingizni kiriting: \")\n",
    "yosh_hisobla(tyil)"
   ]
  },
  {
   "cell_type": "code",
   "execution_count": 26,
   "metadata": {},
   "outputs": [
    {
     "ename": "TypeError",
     "evalue": "yosh_hisobla() missing 1 required positional argument: 'joriy_yil'",
     "output_type": "error",
     "traceback": [
      "\u001b[0;31m---------------------------------------------------------------------------\u001b[0m",
      "\u001b[0;31mTypeError\u001b[0m                                 Traceback (most recent call last)",
      "\u001b[0;32m<ipython-input-26-2b07072493ea>\u001b[0m in \u001b[0;36m<module>\u001b[0;34m\u001b[0m\n\u001b[1;32m      3\u001b[0m     \u001b[0mprint\u001b[0m\u001b[0;34m(\u001b[0m\u001b[0;34mf\"Siz {joriy_yil-tugilgan_yil} yoshdasiz\"\u001b[0m\u001b[0;34m)\u001b[0m\u001b[0;34m\u001b[0m\u001b[0;34m\u001b[0m\u001b[0m\n\u001b[1;32m      4\u001b[0m \u001b[0;34m\u001b[0m\u001b[0m\n\u001b[0;32m----> 5\u001b[0;31m \u001b[0myosh_hisobla\u001b[0m\u001b[0;34m(\u001b[0m\u001b[0;36m1993\u001b[0m\u001b[0;34m)\u001b[0m\u001b[0;34m\u001b[0m\u001b[0;34m\u001b[0m\u001b[0m\n\u001b[0m",
      "\u001b[0;31mTypeError\u001b[0m: yosh_hisobla() missing 1 required positional argument: 'joriy_yil'"
     ]
    }
   ],
   "source": [
    "def yosh_hisobla(tugilgan_yil, joriy_yil):\n",
    "    \"\"\"Foydalanuvchi tug'ilgan yilidan uning yoshini hisoblaydi\"\"\"\n",
    "    print(f\"Siz {joriy_yil-tugilgan_yil} yoshdasiz\")\n",
    "\n",
    "yosh_hisobla(1993)"
   ]
  },
  {
   "cell_type": "code",
   "execution_count": 27,
   "metadata": {},
   "outputs": [
    {
     "ename": "TypeError",
     "evalue": "salom_ber() takes 0 positional arguments but 1 was given",
     "output_type": "error",
     "traceback": [
      "\u001b[0;31m---------------------------------------------------------------------------\u001b[0m",
      "\u001b[0;31mTypeError\u001b[0m                                 Traceback (most recent call last)",
      "\u001b[0;32m<ipython-input-27-9c13b4e01b52>\u001b[0m in \u001b[0;36m<module>\u001b[0;34m\u001b[0m\n\u001b[1;32m      3\u001b[0m     \u001b[0mprint\u001b[0m\u001b[0;34m(\u001b[0m\u001b[0;34m\"Assalomu alaykum!\"\u001b[0m\u001b[0;34m)\u001b[0m\u001b[0;34m\u001b[0m\u001b[0;34m\u001b[0m\u001b[0m\n\u001b[1;32m      4\u001b[0m \u001b[0;34m\u001b[0m\u001b[0m\n\u001b[0;32m----> 5\u001b[0;31m \u001b[0msalom_ber\u001b[0m\u001b[0;34m(\u001b[0m\u001b[0;34m'hasan'\u001b[0m\u001b[0;34m)\u001b[0m\u001b[0;34m\u001b[0m\u001b[0;34m\u001b[0m\u001b[0m\n\u001b[0m",
      "\u001b[0;31mTypeError\u001b[0m: salom_ber() takes 0 positional arguments but 1 was given"
     ]
    }
   ],
   "source": [
    "def salom_ber():\n",
    "    \"\"\"Salom beruvchi funksiya\"\"\"\n",
    "    print(\"Assalomu alaykum!\")\n",
    "\n",
    "salom_ber('hasan')"
   ]
  },
  {
   "cell_type": "code",
   "execution_count": 29,
   "metadata": {},
   "outputs": [
    {
     "ename": "IndentationError",
     "evalue": "unindent does not match any outer indentation level (<tokenize>, line 6)",
     "output_type": "error",
     "traceback": [
      "\u001b[0;36m  File \u001b[0;32m\"<tokenize>\"\u001b[0;36m, line \u001b[0;32m6\u001b[0m\n\u001b[0;31m    toliq_ism('olim hakimov')\u001b[0m\n\u001b[0m    ^\u001b[0m\n\u001b[0;31mIndentationError\u001b[0m\u001b[0;31m:\u001b[0m unindent does not match any outer indentation level\n"
     ]
    }
   ],
   "source": [
    "def toliq_ism(ism, familiya):\n",
    "    \"\"\"Foydalanuvchi ism va familiyasini jamlab chiqaruvchi funksiya\"\"\"\n",
    "    print(f\"Foydalanuvchi ismi: {ism.title()}\\n\"\n",
    "          f\"Foydalanuvchi familiyasi: {familiya.title()}\")\n",
    " \n",
    " toliq_ism('olim hakimov')"
   ]
  },
  {
   "cell_type": "markdown",
   "metadata": {},
   "source": [
    "# AMALIYOT\n",
    "1. Foydalanuvchi ismi va yoshini so'rab, uning tug'ilgan yilini hisoblaydigan funksiya yozing.\n",
    "2. Foydalanuvchidan son olib, uning kvadrati va kubini konsolga chiqaruvchi funksiya yozing.\n",
    "3. Foydalanuvchidan son olib, son juft yoki toqligini konsolga chiqaruvchi funksiya yozing.\n",
    "4. Foydalanuvchidan ikkita son olib, ulardan kattasini konsolga chiqaruvchi funksiya yozing. Agar sonlar teng bo'lsa \"Sonlar teng\" degan xabarni chiqaring.\n",
    "5. Foydalanuvchidan x va y sonlarini olib, ni konsolga chiqaruvchi funksiya yozing.\n",
    "6. Yuqoridagi funksiyada y uchun 2 standart qiymatini bering.\n",
    "7. Foydalanuvchidan son qabul qilib, sonni 2 dan 10 gacha bo'lgan sonlarga qoldiqsiz bo'linishini tekshiruvchi funksiya yozing. Natijalarni konsolga chiqaring."
   ]
  },
  {
   "cell_type": "markdown",
   "metadata": {},
   "source": [
    "# JAVOBLAR"
   ]
  },
  {
   "cell_type": "code",
   "execution_count": 38,
   "metadata": {},
   "outputs": [
    {
     "name": "stdout",
     "output_type": "stream",
     "text": [
      "Olim 18 yoshda\n"
     ]
    }
   ],
   "source": [
    "# Foydalanuvchi ismi va yoshini so'rab, uning tug'ilgan yilini hisoblaydigan funksiya yozing.\n",
    "def tyiltop(ism, yosh):\n",
    "    print(f\"{ism.title()} {2020-yosh} yoshda\")\n",
    "\n",
    "tyiltop('olim',2002)"
   ]
  },
  {
   "cell_type": "code",
   "execution_count": 31,
   "metadata": {},
   "outputs": [
    {
     "name": "stdout",
     "output_type": "stream",
     "text": [
      "-4 ning kvadrati 16 ga, kubi -64 ga teng\n"
     ]
    }
   ],
   "source": [
    "# Foydalanuvchidan son olib, uning kvadrati va kubini konsolga chiqaruvchi funksiya yozing.\n",
    "def kv_kub(son):\n",
    "    \"\"\"Kiritilgan sonning kvadrati va kubini konsolga chiqaruvchi funksiya\"\"\"\n",
    "    print(f\"{son} ning kvadrati {son**2} ga, kubi {son**3} ga teng\")\n",
    "\n",
    "kv_kub(-4)"
   ]
  },
  {
   "cell_type": "code",
   "execution_count": 32,
   "metadata": {},
   "outputs": [
    {
     "name": "stdout",
     "output_type": "stream",
     "text": [
      "20 juft son\n",
      "123 toq son\n"
     ]
    }
   ],
   "source": [
    "# Foydalanuvchidan son olib, son juft yoki toqligini konsolga chiqaruvchi funksiya yozing.\n",
    "def juftmi(son):\n",
    "    \"\"\"Kiritilgan son juft yoki toqligini konsolga chiqaruvchi funksiya\"\"\"\n",
    "    if son%2:\n",
    "        print(f\"{son} toq son\")\n",
    "    else:\n",
    "        print(f\"{son} juft son\")\n",
    "\n",
    "juftmi(20)\n",
    "juftmi(123)"
   ]
  },
  {
   "cell_type": "code",
   "execution_count": 33,
   "metadata": {},
   "outputs": [
    {
     "name": "stdout",
     "output_type": "stream",
     "text": [
      "20>10\n",
      "12>-9\n",
      "6115>625\n"
     ]
    }
   ],
   "source": [
    "# Foydalanuvchidan ikkita son olib, ulardan kattasini konsolga chiqaruvchi funksiya yozing. \n",
    "# Agar sonlar teng bo'lsa \"Sonlar teng\" degan xabarni chiqaring.\n",
    "def solishtir(x,y):\n",
    "    \"\"\"Ikki sonni solishtiruvchi funksiya\"\"\"\n",
    "    if x>y:\n",
    "        print(f\"{x}>{y}\")\n",
    "    elif x<y:\n",
    "        print(f\"{y}>{x}\")\n",
    "    else:\n",
    "        print(f\"{x}={y}\")\n",
    "\n",
    "solishtir(10,20)\n",
    "solishtir(-9,12)\n",
    "solishtir(1223*5,5**4)"
   ]
  },
  {
   "cell_type": "code",
   "execution_count": 34,
   "metadata": {},
   "outputs": [
    {
     "name": "stdout",
     "output_type": "stream",
     "text": [
      "5 ning 2-darajasi 25 ga teng\n",
      "3 ning 3-darajasi 27 ga teng\n",
      "94 ning 4-darajasi 78074896 ga teng\n",
      "6 ning 2-darajasi 36 ga teng\n"
     ]
    }
   ],
   "source": [
    "# Foydalanuvchidan x va y sonlarini olib, x^y ni konsolga chiqaruvchi funksiya yozing.\n",
    "# Yuqoridagi funksiyada y uchun 2 standart qiymatini bering.\n",
    "def daraja(x,y=2):\n",
    "    print(f\"{x} ning {y}-darajasi {x**y} ga teng\")\n",
    "\n",
    "daraja(5,2)\n",
    "daraja(3,3)\n",
    "daraja(94,4)\n",
    "daraja(6)"
   ]
  },
  {
   "cell_type": "code",
   "execution_count": 35,
   "metadata": {},
   "outputs": [
    {
     "name": "stdout",
     "output_type": "stream",
     "text": [
      "20 2 ga qoldiqsiz bo'linadi\n",
      "20 4 ga qoldiqsiz bo'linadi\n",
      "20 5 ga qoldiqsiz bo'linadi\n",
      "20 10 ga qoldiqsiz bo'linadi\n"
     ]
    }
   ],
   "source": [
    "# Foydalanuvchidan son qabul qilib, sonni 2, 3, 4 va 5 ga qoldiqsiz bo'linishini tekshiruvchi \n",
    "# funksiya yozing. \n",
    "# Natijalarni konsolga chiqaring (\"15 soni 3 ga qoldiqsiz bo'linadi\" ko'rinishida)\n",
    "def bolinish_alomatlari(son):\n",
    "    for n in range(2,11):\n",
    "        if not son%n:\n",
    "            print(f\"{son} {n} ga qoldiqsiz bo'linadi\")\n",
    "\n",
    "bolinish_alomatlari(20)"
   ]
  }
 ],
 "metadata": {
  "language_info": {
   "codemirror_mode": {
    "name": "ipython",
    "version": 3
   },
   "file_extension": ".py",
   "mimetype": "text/x-python",
   "name": "python",
   "nbconvert_exporter": "python",
   "pygments_lexer": "ipython3",
   "version": "3.8.6"
  }
 },
 "nbformat": 4,
 "nbformat_minor": 2
}