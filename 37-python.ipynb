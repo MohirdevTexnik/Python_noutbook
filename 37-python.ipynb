{
 "cells": [
  {
   "cell_type": "markdown",
   "metadata": {},
   "source": [
    "# 37-DARS. KLASSNI TEKSHIRISH\n",
    "\n",
    "Klasslarni ham tekshirib turish kerak.\n",
    "\n",
    "![](https://gblobscdn.gitbook.com/assets%2F-MGbkqs1tROquIT6oqUs%2F-Mc-5yGQPZTBaGoehQdL%2F-Mc-7xpq4Puu3KEjmT0R%2FSD_YT_TG_logo_mini.png?alt=media&token=929fe67b-ec12-4f63-b33e-e9c5e3d8ad09)"
   ]
  },
  {
   "cell_type": "markdown",
   "metadata": {},
   "source": [
    "# KIRISH\n",
    "\n",
    "Avvalgi darsimizda funksiyalarni tekshiruvchi testlar yozishni o'rgandik. Ushbu mavzuda esa klasslarni test qilishni o'rganamiz. Klass to'g'ri bo'lsa, undan yaratilgan obyektlar ham to'g'ri ishlaydi. \n",
    "\n",
    "Keling boshlanishiga biror klass yaratamiz:"
   ]
  },
  {
   "cell_type": "code",
   "execution_count": 4,
   "metadata": {},
   "outputs": [],
   "source": [
    "class Car:\n",
    "    \"\"\"(self,make,model,year,km=0,price=None)\"\"\"\n",
    "    def __init__(self,make,model,year,km=0,price=None):\n",
    "        self.make = make\n",
    "        self.model = model\n",
    "        self.year = year\n",
    "        self.price = price\n",
    "        self.__km = km\n",
    "    \n",
    "    def set_price(self,price):\n",
    "        self.price = price\n",
    "        \n",
    "    def add_km(self,km):\n",
    "        \"\"\"Mashinaning km ga yana km qo'shish\"\"\"\n",
    "        if km>=0:\n",
    "            self.__km += km\n",
    "        else:\n",
    "            raise ValueError(\"km manfiy bo'lishi mumkin emas\")\n",
    "    \n",
    "    def get_info(self):\n",
    "        info = f\"{self.make.upper()} {self.model.title()}, \" \n",
    "        info += f\"{self.year}-yil, {self.__km}km yurgan.\"\n",
    "        if self.price:\n",
    "            info += f\" Narhi: {self.price}\"\n",
    "        return info\n",
    "       \n",
    "    def get_km(self):\n",
    "        return self.__km"
   ]
  },
  {
   "cell_type": "markdown",
   "metadata": {},
   "source": [
    "Yuqoridagi klassimiz avtomobil haqida ma'lumotlarni saqlaydi. Klassimizning e'tibor qaratishimiz kerak bo'lgan jihatlari:\n",
    "- `km` va `price` (narh) argumentlariga standart qiymat berilgan\n",
    "- `km` parametri inkapsulasiyalangan (`self.__km`)\n",
    "- Avtomobil narhini `set_price()` metodi yordamida yangilash mumkin\n",
    "- `add_km()` metodi faqat musbat qiymat qabul qiladi. Agar manfiy qiymat uzatilsa raise operatori yordamida `ValueError` xatosini qaytaradi\n",
    "- `get_info()` metodidan qaytadigan qiymat avtomobil narhi bor yoki yo'qligiga qarab turli ko'rinishda bo'lishi mumkin\n",
    "- Avtomobil kilometrajini ko'rish uchun `get_km()` metodiga murojat qilamiz.\n",
    "\n",
    "# XUSUSIYATLARNI TEKSHIRISH\n",
    "\n",
    "Klassdan obyekt yaratish jarayonida biz obyektning xususiyatlarini parametr ko'rinishida beramiz. Quyidagi testda aynan shu jarayon to'g'ri kechganini tekshiramiz:"
   ]
  },
  {
   "cell_type": "code",
   "execution_count": null,
   "metadata": {},
   "outputs": [],
   "source": [
    "import unittest\n",
    "from cars import Car\n",
    "\n",
    "class CarTest(unittest.TestCase):\n",
    "    \"\"\"Car klassini tekshirish uchun test\"\"\"\n",
    "    \n",
    "    def test_create(self):        \n",
    "        # avto1 obyektini km va narhini bermasdan yaratamiz\n",
    "        avto1 = Car(\"toyota\",\"camry\",2020)\n",
    "        # Qiymatlar mavjudligini assertIsNotNone metodi bilan tekshiramiz\n",
    "        self.assertIsNotNone(avto1.make)\n",
    "        self.assertIsNotNone(avto1.model)\n",
    "        self.assertIsNotNone(avto1.year)\n",
    "        # Qiymat mavjud emasligini assertIsNone metodi bilan tekshiramiz\n",
    "        self.assertIsNone(avto1.price)\n",
    "        # Qiymat tengligini assertEquals metodi bilan tekshiramiz\n",
    "        self.assertEqual(0,avto1.get_km())\n",
    "        # Yangi obyekt yaratamiz va narhini ham ko'rsatamiz\n",
    "        avto2 = Car(\"toyota\",\"camry\",2020,price=75000)\n",
    "        self.assertEqual(75000,avto2.price)\n",
    "        \n",
    "unittest.main() "
   ]
  },
  {
   "cell_type": "markdown",
   "metadata": {},
   "source": [
    "Testni bajaramiz va quyidagi natijani olamiz:"
   ]
  },
  {
   "cell_type": "code",
   "execution_count": null,
   "metadata": {},
   "outputs": [],
   "source": [
    "Ran 1 test in 0.001s\n",
    "\n",
    "OK"
   ]
  },
  {
   "cell_type": "markdown",
   "metadata": {},
   "source": [
    "Testimizni tahlil qilamiz. Dastaval biz obyektimiz to'g'ri yaratilayotganini tekshrish uchun `avto1` obyektini 3 ta prametr bilan yaratib oldik (`make`, `model`, `year`) va  bu xususiyatlar bo'sh emasligini  `assertIsNotNone()` metodi bilan tekshirdik. \n",
    "\n",
    "`avto1` obyektini yaratishda uning narhini ko'rsatmadik, demak bu xususiyat standart qiymat (`None`) ga teng bo'lishi kerak. Buni tekshirish uchun esa `assertIsNone()` metodiga murojat qildik. Vanihoyat, avtomobil kilometraji `0` ga teng ekanligini `assertEquals()` metodi yordamida test qildik.\n",
    "\n",
    "Test so'ngida biz yana bir obyekt yaratdik (`avto2`) va bu safar avtomobil narhini ko'rsatganimiz uchun `assertEquals()` metodi yordamida bu qiymat to'g'ri saqlanganini tekshirib oldik.\n",
    "\n",
    "Testlarni yozishni davom etamiz. Navbat obyektga tegishli turli metodlarga.\n",
    "\n",
    "> **Test dasturlarni alohida faylga yozishni unutmang.**\n",
    "\n",
    "# setUp() METODI\n",
    "\n",
    "Yuqoridagi misolda bitta test davomida 2 ta obyekt yaratdik, va obyektning parametrlarini qo'lda yangidan kiritdik. Agar shu yo'sinda davom etadigan bo'lsak, turli testlar uchun har gal yangi obyekt yaratishimiz, va ularning har biriga xususiyatlarni qayta-qayta kiritishimiz talab qilinadi. Buning oldini olish uchun test klassimizning boshida `setUp()` metodini yaratib, bu metod ichida barcha kerakli qiymatlarni va obyektlarni saqlab qo'yishimiz va turli testlarda shu qiymatlarga murojat qilishimiz mumkin:"
   ]
  },
  {
   "cell_type": "code",
   "execution_count": null,
   "metadata": {},
   "outputs": [],
   "source": [
    "import unittest\n",
    "from cars import Car\n",
    "\n",
    "class CarTest(unittest.TestCase):\n",
    "    \"\"\"Car klassini tekshirish uchun test\"\"\"\n",
    "    def setUp(self):        \n",
    "        make = \"GM\"\n",
    "        model = \"Malibu\"\n",
    "        year = 2020        \n",
    "        self.price = 40000\n",
    "        self.km = 10000\n",
    "        self.avto1 = Car(make,model,year)\n",
    "        self.avto2 = Car(make,model,year,price=self.price)\n",
    "        \n",
    "    def test_create(self):                \n",
    "        # Qiymatlar mavjudligini assertIsNotNone metodi bilan tekshiramiz\n",
    "        self.assertIsNotNone(self.avto1.make)\n",
    "        self.assertIsNotNone(self.avto1.model)\n",
    "        self.assertIsNotNone(self.avto1.year)\n",
    "        # Qiymat mavjud emasligini assertIsNone metodi bilan tekshiramiz\n",
    "        self.assertIsNone(self.avto1.price)\n",
    "        # Qiymat tengligini assertEquals metodi bilan tekshiramiz\n",
    "        self.assertEqual(0,self.avto1.get_km())\n",
    "        # avto2 narhini tekshiramiz\n",
    "        self.assertEqual(self.price,self.avto2.price)\n",
    "\n",
    "unittest.main()  "
   ]
  },
  {
   "cell_type": "markdown",
   "metadata": {},
   "source": [
    "E'tibor bering, `setUp()` metodi ichida ba'zi o'zagruvchilar self yordamida berilgan (`self.price`, `self.km`, `self.avto1`, `self,avto2`). Bu o'zgaruvchilarga biz `CarTest()` klassining ichida istalgan joydan murojat qilishimiz mumkin. Shuning uchun ham, `test_create()` funksiyasi ichida biz yangi obyekt yaratmasdan, `setUp()` ichidagi `avto1` va `avto2` obyektlariga murojat qildik.\n",
    "\n",
    "# METODLARNI TEKSHIRISH\n",
    "\n",
    "Obyektimiz bir nechta metodlardan iborat. Ularning har biri uchun alohida test yozamiz. Bu metodlarni `CarTest` ichida yozishni unutmang.\n",
    "\n",
    "Osonidan boshlaymiz:"
   ]
  },
  {
   "cell_type": "code",
   "execution_count": null,
   "metadata": {},
   "outputs": [],
   "source": [
    "    def test_set_price(self):\n",
    "        self.avto2.set_price(self.price)\n",
    "        self.assertEqual(self.price,self.avto2.price)"
   ]
  },
  {
   "cell_type": "markdown",
   "metadata": {},
   "source": [
    "Endi `add_km()` metodini tekshiraylik. Bu metodimiz faqatgina musbat qiymat qabul qilishi, manfiy qiymat uzatilganda `ValueError` xatosini qaytarishi kerak edi. Shuning uchun metodni test qilishda avval musbat, keyin esa manfiy qiymat berib ko'ramiz."
   ]
  },
  {
   "cell_type": "code",
   "execution_count": null,
   "metadata": {},
   "outputs": [],
   "source": [
    "    def test_add_km(self):\n",
    "        #1 Musbat qiymat berib ko'ramiz\n",
    "        self.avto1.add_km(self.km)\n",
    "        self.assertEqual(self.km,self.avto1.get_km())\n",
    "        #2 Manfiy qiymat berib ko'ramiz\n",
    "        new_km = -5000        \n",
    "        try:\n",
    "            self.avto1.add_km(new_km)\n",
    "        except ValueError as error:\n",
    "            self.assertEqual(type(error), ValueError)"
   ]
  },
  {
   "cell_type": "markdown",
   "metadata": {},
   "source": [
    "Navbat `get_info()` metodiga. Bu metod ham obyektning xususiyatlaridan kelib chiqqan holda 2 hil qiymat qaytarishi mumkin, demak testimiz bu ikki holatni hisobga olishi kerak.\n"
   ]
  },
  {
   "cell_type": "code",
   "execution_count": null,
   "metadata": {},
   "outputs": [],
   "source": [
    "    def test_get_info(self):\n",
    "        avto1_info = 'GM Malibu, 2020-yil, 0km yurgan.'\n",
    "        self.assertEqual(avto1_info,self.avto1.get_info())\n",
    "        # avto1 narhi va km o'zgartiramiz\n",
    "        self.avto1.set_price(50000)\n",
    "        self.avto1.add_km(20000)\n",
    "        avto1_info = 'GM Malibu, 2020-yil, 20000km yurgan. Narhi: 50000'\n",
    "        self.assertEqual(avto1_info,self.avto1.get_info())"
   ]
  },
  {
   "cell_type": "markdown",
   "metadata": {},
   "source": [
    "Yakuniy test dasturimiz quyidagi ko'rinishga ega bo'ldi:\n"
   ]
  },
  {
   "cell_type": "code",
   "execution_count": null,
   "metadata": {},
   "outputs": [],
   "source": [
    "import unittest\n",
    "from cars import Car\n",
    "\n",
    "class CarTest(unittest.TestCase):\n",
    "    \"\"\"Car klassini tekshirish uchun test\"\"\"\n",
    "    def setUp(self):        \n",
    "        make = \"GM\"\n",
    "        model = \"Malibu\"\n",
    "        year = 2020        \n",
    "        self.price = 40000\n",
    "        self.km = 10000\n",
    "        self.avto1 = Car(make,model,year)\n",
    "        self.avto2 = Car(make,model,year,price=self.price)\n",
    "        \n",
    "    def test_create(self):                \n",
    "        # Qiymatlar mavjudligini assertIsNotNone metodi bilan tekshiramiz\n",
    "        self.assertIsNotNone(self.avto1.make)\n",
    "        self.assertIsNotNone(self.avto1.model)\n",
    "        self.assertIsNotNone(self.avto1.year)\n",
    "        # Qiymat mavjud emasligini assertIsNone metodi bilan tekshiramiz\n",
    "        self.assertIsNone(self.avto1.price)\n",
    "        # Qiymat tengligini assertEquals metodi bilan tekshiramiz\n",
    "        self.assertEqual(0,self.avto1.get_km())\n",
    "        # avto2 narhini tekshiramiz\n",
    "        self.assertEqual(self.price,self.avto2.price)\n",
    "    \n",
    "    def test_set_price(self):\n",
    "        self.avto2.set_price(self.price)\n",
    "        self.assertEqual(self.price,self.avto2.price)\n",
    "    \n",
    "    def test_add_km(self):\n",
    "        # Musbat qiymat berib ko'ramiz\n",
    "        self.avto1.add_km(self.km)\n",
    "        self.assertEqual(self.km,self.avto1.get_km())\n",
    "        # Manfiy qiymat berib ko'ramiz\n",
    "        new_km = -5000        \n",
    "        try:\n",
    "            self.avto1.add_km(new_km)\n",
    "        except ValueError as error:\n",
    "            self.assertEqual(type(error), ValueError)\n",
    "    \n",
    "    def test_get_info(self):\n",
    "        avto1_info = 'GM Malibu, 2020-yil, 0km yurgan.'\n",
    "        self.assertEqual(avto1_info,self.avto1.get_info())\n",
    "        # avto1 narhi va km o'zgartiramiz\n",
    "        self.avto1.set_price(50000)\n",
    "        self.avto1.add_km(20000)\n",
    "        avto1_info = 'GM Malibu, 2020-yil, 20000km yurgan. Narhi: 50000'\n",
    "        self.assertEqual(avto1_info,self.avto1.get_info())\n",
    "\n",
    "        \n",
    "unittest.main()"
   ]
  },
  {
   "cell_type": "markdown",
   "metadata": {},
   "source": [
    "Testni bajaramiz va quyidagi natijani olamiz:\n"
   ]
  },
  {
   "cell_type": "code",
   "execution_count": null,
   "metadata": {},
   "outputs": [],
   "source": [
    "....\n",
    "----------------------------------------------------------------------\n",
    "Ran 4 tests in 0.002s\n",
    "\n",
    "OK"
   ]
  },
  {
   "cell_type": "markdown",
   "metadata": {},
   "source": [
    "# AMALIYOT\n",
    "\n",
    "- 30-darsimizda `Shaxs` va `Talaba` klasslarini yaratgan edik. Shu ikki klassning xususiyatlari va metodlarini tekshiruvchi test dasturlar yozing. \n",
    "- Ikki klass uchun yagona test yoza olasizmi? (`isInstance()` funksiyasini eslang)"
   ]
  }
 ],
 "metadata": {
  "language_info": {
   "codemirror_mode": {
    "name": "ipython",
    "version": 3
   },
   "file_extension": ".py",
   "mimetype": "text/x-python",
   "name": "python",
   "nbconvert_exporter": "python",
   "pygments_lexer": "ipython3",
   "version": "3.8.6"
  }
 },
 "nbformat": 4,
 "nbformat_minor": 2
}