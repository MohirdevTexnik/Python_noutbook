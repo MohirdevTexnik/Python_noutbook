{
 "cells": [
  {
   "cell_type": "markdown",
   "metadata": {},
   "source": [
    "# 38-DARS. PYTHON STANDART KUTUBXONASI\n",
    "\n",
    "Pythondagi foydali modullar bilan tanishamiz.\n",
    "\n",
    "![](https://gblobscdn.gitbook.com/assets%2F-MGbkqs1tROquIT6oqUs%2F-Mc-5yGQPZTBaGoehQdL%2F-Mc-7xpq4Puu3KEjmT0R%2FSD_YT_TG_logo_mini.png?alt=media&token=929fe67b-ec12-4f63-b33e-e9c5e3d8ad09)"
   ]
  },
  {
   "cell_type": "markdown",
   "metadata": {},
   "source": [
    "# KIRISH\n",
    "\n",
    "Python dasturlash tili yildan-yilga ommalashib bormoqda. Bunga birinchi navbatda Pythonning sodda va tushunarli sintaksi sabab bo'lsa, ikkinchi va ehtimol eng ko'zga ko'ringan sabab bu Pythonning keng qamrovli kutubxonalar to'plamidir. Ushbu darsimizda Pytyon kutubxonasidagi ba'zi muhim modullar bilan tanishamiz. Standart kutubxonanig to'liq tarkibi bilan Python rasmiy sahifasida tanishishingiz mumkin.\n",
    "\n",
    "> **Kutubxona bu boshqalar tarafidan yozilgan tayyor funksiyalar va obyektlar to'plami.**\n",
    "\n",
    "# `datetime` — SANA VA VAQT\n",
    "\n",
    "Ushbu modul yordamida Pythonda sanalar bilan ishlashimiz mumkin. Moduldan foydalanishdan avval uni `import` qilamiz. Har gal moduldan foydalanishda `datetime` deb qayta yozmaslik uchun, `import` qilishda modulga `dt` nomini beramiz."
   ]
  },
  {
   "cell_type": "code",
   "execution_count": 4,
   "metadata": {},
   "outputs": [],
   "source": [
    "import datetime as dt"
   ]
  },
  {
   "cell_type": "markdown",
   "metadata": {},
   "source": [
    "Hozirgi vaqt va sanani koʻrish uchun `datetime.now()` moduliga murojat qilamiz:\n"
   ]
  },
  {
   "cell_type": "code",
   "execution_count": 5,
   "metadata": {},
   "outputs": [
    {
     "name": "stdout",
     "output_type": "stream",
     "text": [
      "2021-06-20 05:18:32.280717\n"
     ]
    }
   ],
   "source": [
    "hozir = dt.datetime.now()\n",
    "print(hozir)"
   ]
  },
  {
   "cell_type": "markdown",
   "metadata": {},
   "source": [
    "Kurib turganingizdek, natija yil, oy, kun soat, minut, sekund va millisekund koʻrinishida chiqdi. Biz bu qiymatlardan istaganimzni maxsus metodlar yordamida ajratib olishimiz mumkin:"
   ]
  },
  {
   "cell_type": "code",
   "execution_count": 6,
   "metadata": {},
   "outputs": [
    {
     "name": "stdout",
     "output_type": "stream",
     "text": [
      "2021-06-20\n"
     ]
    }
   ],
   "source": [
    "# sanani ajratib olish\n",
    "print(hozir.date())"
   ]
  },
  {
   "cell_type": "code",
   "execution_count": 7,
   "metadata": {},
   "outputs": [
    {
     "name": "stdout",
     "output_type": "stream",
     "text": [
      "05:18:32.280717\n"
     ]
    }
   ],
   "source": [
    "# vaqtni ajratib olish\n",
    "print(hozir.time())"
   ]
  },
  {
   "cell_type": "code",
   "execution_count": 8,
   "metadata": {},
   "outputs": [
    {
     "name": "stdout",
     "output_type": "stream",
     "text": [
      "5\n"
     ]
    }
   ],
   "source": [
    "# soatni ajratib olish\n",
    "print(hozir.hour)"
   ]
  },
  {
   "cell_type": "code",
   "execution_count": 9,
   "metadata": {},
   "outputs": [
    {
     "name": "stdout",
     "output_type": "stream",
     "text": [
      "18\n"
     ]
    }
   ],
   "source": [
    "# minutni ajratib olish\n",
    "print(hozir.minute)"
   ]
  },
  {
   "cell_type": "code",
   "execution_count": 10,
   "metadata": {},
   "outputs": [
    {
     "name": "stdout",
     "output_type": "stream",
     "text": [
      "32\n"
     ]
    }
   ],
   "source": [
    "# sekundni ajratib olish\n",
    "print(hozir.second)"
   ]
  },
  {
   "cell_type": "markdown",
   "metadata": {},
   "source": [
    "Agar bugungi kunning sanasi talab qilinsa `datetime` moduli ichidagi `date.today()` moduliga murojat qilamiz."
   ]
  },
  {
   "cell_type": "code",
   "execution_count": 11,
   "metadata": {},
   "outputs": [
    {
     "name": "stdout",
     "output_type": "stream",
     "text": [
      "Bugungi sana: 2021-06-20\n"
     ]
    }
   ],
   "source": [
    "bugun = dt.date.today()\n",
    "print(f\"Bugungi sana: {bugun}\")"
   ]
  },
  {
   "cell_type": "markdown",
   "metadata": {},
   "source": [
    "Agar biror sanani qoʻlda kiritish talab qilinsa `.date()` metodiga kerakli sanani (yil, oy, kun) koʻrinishida kiritamiz."
   ]
  },
  {
   "cell_type": "code",
   "execution_count": 12,
   "metadata": {},
   "outputs": [
    {
     "name": "stdout",
     "output_type": "stream",
     "text": [
      "Ertangi sana: 2021-06-21\n"
     ]
    }
   ],
   "source": [
    "ertaga = dt.date(2021, 6, 21)\n",
    "print(f\"Ertangi sana: {ertaga}\")"
   ]
  },
  {
   "cell_type": "markdown",
   "metadata": {},
   "source": [
    "Faqatgina vaqt bilan ishlash uchun `.datetime.now().time()` metodiga murojat qilishimiz mumkin:\n"
   ]
  },
  {
   "cell_type": "code",
   "execution_count": 13,
   "metadata": {},
   "outputs": [
    {
     "name": "stdout",
     "output_type": "stream",
     "text": [
      "Hozir soat: 05:20:43.306376\n"
     ]
    }
   ],
   "source": [
    "hozir = dt.datetime.now()\n",
    "vaqtHozir = hozir.time()\n",
    "print(f\"Hozir soat: {vaqtHozir}\")"
   ]
  },
  {
   "cell_type": "markdown",
   "metadata": {},
   "source": [
    "Istalgan vaqtni qoʻlda kiritish uchun esa `.time()` metodiga kerakli vaqtni (soat, minut, sekund) koʻrinishida beramiz:\n"
   ]
  },
  {
   "cell_type": "code",
   "execution_count": 14,
   "metadata": {},
   "outputs": [],
   "source": [
    "vaqtKeyin = dt.time(23,45,00)"
   ]
  },
  {
   "cell_type": "markdown",
   "metadata": {},
   "source": [
    "Ayirish operatori yordamida sanalalar va vaqtlar orasidagi farqni hisoblashimiz mumkin:"
   ]
  },
  {
   "cell_type": "code",
   "execution_count": 16,
   "metadata": {},
   "outputs": [
    {
     "name": "stdout",
     "output_type": "stream",
     "text": [
      "29 days, 0:00:00\n",
      "Qurbon Hayitiga 29 kun qoldi\n"
     ]
    }
   ],
   "source": [
    "bugun = dt.date.today()\n",
    "qurbonHayit = dt.date(2021, 7, 19)\n",
    "farq = qurbonHayit-bugun\n",
    "print(farq)\n",
    "print(f\"Qurbon Hayitiga {farq.days} kun qoldi\")"
   ]
  },
  {
   "cell_type": "markdown",
   "metadata": {},
   "source": [
    "Huddi shu kabi ikki vaqt oraligʻini sekundlarda yoki soatlarda ham koʻrishimiz mumkin:\n"
   ]
  },
  {
   "cell_type": "code",
   "execution_count": 18,
   "metadata": {},
   "outputs": [
    {
     "name": "stdout",
     "output_type": "stream",
     "text": [
      "Futbol boshlanishiga 66117 sekund qoldi\n",
      "Futbol boshlanishiga 1101 minut qoldi\n",
      "Futbol boshlanishiga 18 soat qoldi\n"
     ]
    }
   ],
   "source": [
    "hozir = dt.datetime.now()\n",
    "futbol = dt.datetime(2021, 6, 22, 23, 45, 00)\n",
    "farq= futbol-hozir\n",
    "sekundlar = farq.seconds\n",
    "minutlar = int(sekundlar/60)\n",
    "soatlar = int(minutlar/60)\n",
    "print(f\"Futbol boshlanishiga {sekundlar} sekund qoldi\")\n",
    "print(f\"Futbol boshlanishiga {minutlar} minut qoldi\")\n",
    "print(f\"Futbol boshlanishiga {soatlar} soat qoldi\")"
   ]
  },
  {
   "cell_type": "markdown",
   "metadata": {},
   "source": [
    "Yuqorida sanalar AQSh standartiga koʻra, yil-oy-kun koʻrinishida chiqayapti. Sanani oʻzimizga moslab chiqarish uchun `.strftime()` metodini chaqiramiz, va sanani oʻzimizga qulay formatda chiqaramiz.\n"
   ]
  },
  {
   "cell_type": "code",
   "execution_count": 20,
   "metadata": {},
   "outputs": [
    {
     "name": "stdout",
     "output_type": "stream",
     "text": [
      "Hozir soat: 05:23:02\n"
     ]
    }
   ],
   "source": [
    "# vaqtni millisekundsiz chiqaramiz\n",
    "vaqt = hozir.strftime(\"%H:%M:%S\")\n",
    "print(f\"Hozir soat: {vaqt}\")"
   ]
  },
  {
   "cell_type": "code",
   "execution_count": 21,
   "metadata": {},
   "outputs": [
    {
     "name": "stdout",
     "output_type": "stream",
     "text": [
      "Bugun sana: 20-06-2021\n"
     ]
    }
   ],
   "source": [
    "# sanani kun-oy-yil koʻrinishida chiqaramiz\n",
    "sana = hozir.strftime(\"%d-%m-%Y\")\n",
    "print(f\"Bugun sana: {sana}\")"
   ]
  },
  {
   "cell_type": "code",
   "execution_count": 22,
   "metadata": {},
   "outputs": [
    {
     "name": "stdout",
     "output_type": "stream",
     "text": [
      "20/06/2021, 05:23\n"
     ]
    }
   ],
   "source": [
    "# sanani kun/oy/yil koʻrinishida chiqaramiz\n",
    "sana_vaqt = hozir.strftime(\"%d/%m/%Y, %H:%M\")\n",
    "print(sana_vaqt)"
   ]
  },
  {
   "cell_type": "markdown",
   "metadata": {},
   "source": [
    "# `math` — MATEMATIK FUNKSIYALAR\n",
    "Bu modul oʻz ichida matematikaga oid turli funksilayar va oʻzgaruvchilarni saqlaydi. Keling, ularning baʻzilari bilan tanishamiz."
   ]
  },
  {
   "cell_type": "markdown",
   "metadata": {},
   "source": [
    "## $\\pi$ ning qiymati"
   ]
  },
  {
   "cell_type": "code",
   "execution_count": 23,
   "metadata": {},
   "outputs": [
    {
     "name": "stdout",
     "output_type": "stream",
     "text": [
      "PI ning qiymati: 3.141592653589793\n"
     ]
    }
   ],
   "source": [
    "import math\n",
    "PI = math.pi\n",
    "print(f\"PI ning qiymati: {PI}\")"
   ]
  },
  {
   "cell_type": "markdown",
   "metadata": {},
   "source": [
    "## $e$ — natural logarifm asosi\n"
   ]
  },
  {
   "cell_type": "code",
   "execution_count": 24,
   "metadata": {},
   "outputs": [
    {
     "name": "stdout",
     "output_type": "stream",
     "text": [
      "e ning qiymati: 2.718281828459045\n"
     ]
    }
   ],
   "source": [
    "E = math.e\n",
    "print(f\"e ning qiymati: {E}\")"
   ]
  },
  {
   "cell_type": "markdown",
   "metadata": {},
   "source": [
    "## Trigonometriya"
   ]
  },
  {
   "cell_type": "markdown",
   "metadata": {},
   "source": [
    "Modul tarkibida deyarli barcha trigonometrik funksiyalar mavjud (cos, sin, tangens, arccos, va hokazo) \n"
   ]
  },
  {
   "cell_type": "code",
   "execution_count": 28,
   "metadata": {},
   "outputs": [
    {
     "data": {
      "text/plain": [
       "1.0"
      ]
     },
     "execution_count": 28,
     "metadata": {},
     "output_type": "execute_result"
    }
   ],
   "source": [
    "math.sin(math.pi/2)"
   ]
  },
  {
   "cell_type": "code",
   "execution_count": 29,
   "metadata": {},
   "outputs": [
    {
     "data": {
      "text/plain": [
       "1.0"
      ]
     },
     "execution_count": 29,
     "metadata": {},
     "output_type": "execute_result"
    }
   ],
   "source": [
    "math.cos(0)"
   ]
  },
  {
   "cell_type": "code",
   "execution_count": 30,
   "metadata": {},
   "outputs": [
    {
     "data": {
      "text/plain": [
       "-1.2246467991473532e-16"
      ]
     },
     "execution_count": 30,
     "metadata": {},
     "output_type": "execute_result"
    }
   ],
   "source": [
    "math.tan(PI)"
   ]
  },
  {
   "cell_type": "markdown",
   "metadata": {},
   "source": [
    "Shunigdek `degrees` va `radians` metodlari yordamida burchakdan radianga va aksincha konvertasiya qilishimiz ham mumkin:\n"
   ]
  },
  {
   "cell_type": "code",
   "execution_count": 26,
   "metadata": {},
   "outputs": [
    {
     "data": {
      "text/plain": [
       "90.0"
      ]
     },
     "execution_count": 26,
     "metadata": {},
     "output_type": "execute_result"
    }
   ],
   "source": [
    "math.degrees(math.pi/2)"
   ]
  },
  {
   "cell_type": "code",
   "execution_count": 27,
   "metadata": {},
   "outputs": [
    {
     "data": {
      "text/plain": [
       "1.5707963267948966"
      ]
     },
     "execution_count": 27,
     "metadata": {},
     "output_type": "execute_result"
    }
   ],
   "source": [
    "math.radians(90)"
   ]
  },
  {
   "cell_type": "markdown",
   "metadata": {},
   "source": [
    "## LOGARIFMLAR"
   ]
  },
  {
   "cell_type": "markdown",
   "metadata": {},
   "source": [
    "`log()` va `log10()` funksiyalari yordamida natural va o'n asosli logarifmlarni hisoblash mumkin:\n"
   ]
  },
  {
   "cell_type": "code",
   "execution_count": 31,
   "metadata": {},
   "outputs": [
    {
     "data": {
      "text/plain": [
       "1.6094379124341003"
      ]
     },
     "execution_count": 31,
     "metadata": {},
     "output_type": "execute_result"
    }
   ],
   "source": [
    "# natural logarifm\n",
    "math.log(5)"
   ]
  },
  {
   "cell_type": "code",
   "execution_count": 32,
   "metadata": {},
   "outputs": [
    {
     "data": {
      "text/plain": [
       "2.0"
      ]
     },
     "execution_count": 32,
     "metadata": {},
     "output_type": "execute_result"
    }
   ],
   "source": [
    "# 10 asosli logarifm\n",
    "math.log10(100)"
   ]
  },
  {
   "cell_type": "markdown",
   "metadata": {},
   "source": [
    "## SONLARNI YAXLITLASH\n",
    "\n",
    "Sonlarni eng yaxlitlash uchun Pythonda maxsus `round()` funksiyasi mavjud. Bunga qo'shimcha ravishda, `math` moduli ichidagi `ceil()` funksiyasi yordamida berilgan o'nlik sonni keyingi butun songa, `floor()` yordamida esa quyi butun songa yaqinlashtirish mumkin:"
   ]
  },
  {
   "cell_type": "code",
   "execution_count": 33,
   "metadata": {},
   "outputs": [
    {
     "name": "stdout",
     "output_type": "stream",
     "text": [
      "5\n"
     ]
    }
   ],
   "source": [
    "x = 4.6\n",
    "print(math.ceil(x))"
   ]
  },
  {
   "cell_type": "code",
   "execution_count": 34,
   "metadata": {},
   "outputs": [
    {
     "name": "stdout",
     "output_type": "stream",
     "text": [
      "4\n"
     ]
    }
   ],
   "source": [
    "print(math.floor(x))"
   ]
  },
  {
   "cell_type": "markdown",
   "metadata": {},
   "source": [
    "## ILDIZ VA DARAJA\n",
    "Berilgan sonning kvadrat ildizini hisoblash uchun `sqrt()`, sonni darajaga oshirish uchun esa `pow()` funksiyalariga murojat qilamiz:\n"
   ]
  },
  {
   "cell_type": "code",
   "execution_count": 35,
   "metadata": {},
   "outputs": [
    {
     "data": {
      "text/plain": [
       "9.0"
      ]
     },
     "execution_count": 35,
     "metadata": {},
     "output_type": "execute_result"
    }
   ],
   "source": [
    "x = 81\n",
    "\n",
    "# Kvadrat ildiz\n",
    "math.sqrt(x)"
   ]
  },
  {
   "cell_type": "code",
   "execution_count": 36,
   "metadata": {},
   "outputs": [
    {
     "data": {
      "text/plain": [
       "531441.0"
      ]
     },
     "execution_count": 36,
     "metadata": {},
     "output_type": "execute_result"
    }
   ],
   "source": [
    "# Darajaga oshirish\n",
    "math.pow(x,3) # x ning kubi"
   ]
  },
  {
   "cell_type": "code",
   "execution_count": 37,
   "metadata": {},
   "outputs": [
    {
     "data": {
      "text/plain": [
       "3486784401.0"
      ]
     },
     "execution_count": 37,
     "metadata": {},
     "output_type": "execute_result"
    }
   ],
   "source": [
    "math.pow(x,5) # x ning 5-darajasi"
   ]
  },
  {
   "cell_type": "code",
   "execution_count": 38,
   "metadata": {},
   "outputs": [
    {
     "data": {
      "text/plain": [
       "4.3267487109222245"
      ]
     },
     "execution_count": 38,
     "metadata": {},
     "output_type": "execute_result"
    }
   ],
   "source": [
    "math.pow(x,1/3) # x dan kub ildiz"
   ]
  },
  {
   "cell_type": "markdown",
   "metadata": {},
   "source": [
    "`math` moduli tarkibida boshqa funksiyalar ham mavjud. Yuqorida biz ularning ba'zilari bilan tanishdik. Bu modul asosan butun va oʻnlik sonlar bilan ishlashga moʻljallangan. Kompleks sonlar bilan ishlash uchun `cmath` moduliga murojat qilishingiz mumkin.\n"
   ]
  },
  {
   "cell_type": "markdown",
   "metadata": {},
   "source": [
    "# `pprint` - CHIROYLI PRINT\n",
    "\n",
    "`pprint` moduli yordamida turli o'zgaruvchilarni chiroyli ko'rinishda konsolga chiqarishimiz mumkin. Bu bizga uzun lug'atlar, JSON fayllar yoki matnlar bilan ishlashda juda asqotadi.\n",
    "\n",
    "Misol uchun, avvalgi darslarimizning birida yaratgan [bemor.json](https://firebasestorage.googleapis.com/v0/b/gitbook-28427.appspot.com/o/assets%2F-MGbkqs1tROquIT6oqUs%2F-MVKOuCO1rXy2QNl5hSo%2F-MVLISWmRxClH303Kj8C%2Fbemor.json?alt=media&token=63a76c45-6a4d-44a8-bef0-d09345879f23) faylini ochamiz va avval `print()` keyin `pprint()` yordamida konsolga chiqaramiz."
   ]
  },
  {
   "cell_type": "code",
   "execution_count": null,
   "metadata": {},
   "outputs": [],
   "source": [
    "from pprint import pprint\n",
    "import json\n",
    "\n",
    "filename = 'bemor.json'\n",
    "with open(filename) as f:\n",
    "    bemor = json.load(f)\n",
    "\n",
    "print(bemor)"
   ]
  },
  {
   "cell_type": "code",
   "execution_count": null,
   "metadata": {},
   "outputs": [],
   "source": [
    "{'ism': 'Alijon Valiyev', 'yosh': 30, 'oila': True, 'farzandlar': ['Ahmad', 'Bonu'], 'allergiya': None, 'dorilar': [{'nomi': 'Analgin', 'miqdori': 0.5}, {'nomi': 'Panadol', 'miqdori': 1.2}]}"
   ]
  },
  {
   "cell_type": "markdown",
   "metadata": {},
   "source": [
    "Navbat `pprint()` funksiyasiga:"
   ]
  },
  {
   "cell_type": "code",
   "execution_count": null,
   "metadata": {},
   "outputs": [],
   "source": [
    "pprint(bemor)"
   ]
  },
  {
   "cell_type": "code",
   "execution_count": null,
   "metadata": {},
   "outputs": [],
   "source": [
    "{'allergiya': None,\n",
    " 'dorilar': [{'miqdori': 0.5, 'nomi': 'Analgin'},\n",
    "             {'miqdori': 1.2, 'nomi': 'Panadol'}],\n",
    " 'farzandlar': ['Ahmad', 'Bonu'],\n",
    " 'ism': 'Alijon Valiyev',\n",
    " 'oila': True,\n",
    " 'yosh': 30}"
   ]
  },
  {
   "cell_type": "markdown",
   "metadata": {},
   "source": [
    "# `RegEx` - ANDOZA YORDAMIDA MATN IZLASH\n",
    "\n",
    "Pythondagi juda foydali modullardan biri bu `re` (*regular expressions*) moduli. Bu modul yordamida biror matn berilgan andozaga tushish, tushmalsigini tekshrib ko'rishimiz mumkin. Yoki berilgan andoza asosida matnlar orasidan kerakli matnlarni ajratib olish mumkin.\n",
    "\n",
    "Keling boshlanishiga sodda misol ko'ramiz. Quyida biz 3 ta so'z va so'zlarni tekshirish uchun andoza yaratdik. Quyidagi andozamiz `т` harfidan boshlanuvchi (`^т`), `р` harfiga tugovchi ($р\\$$), 5 harfdan iborat so'zlarni qidiradi (^т...р$). \n",
    "\n",
    "Avvaliga andozalarni tushunish biroz qiyin bo'lishi mumkin, lekin vaqt o'tishi bilan andoza qanday ishlashini tushunib olasiz deb umid qilamiz.\n",
    "\n",
    "So'zlarni andozaga solishtirish uchun `re.match()` funksiyasidan foydalanamiz. Agar tekshirgan so'zimiz andozaga mosh tushsa, `re.match()` metodi so'zni o'zini qaytaradi, aks holda `None` qiymatini qaytaradi."
   ]
  },
  {
   "cell_type": "code",
   "execution_count": 39,
   "metadata": {},
   "outputs": [
    {
     "name": "stdout",
     "output_type": "stream",
     "text": [
      "<re.Match object; span=(0, 5), match='темир'>\n"
     ]
    }
   ],
   "source": [
    "import re\n",
    "\n",
    "word1 = \"темир\"\n",
    "word2 = \"томир\"\n",
    "word3 = \"тулпор\"\n",
    "\n",
    "andoza = \"^т...р\"\n",
    "\n",
    "print(re.match(andoza, word1))"
   ]
  },
  {
   "cell_type": "code",
   "execution_count": 40,
   "metadata": {},
   "outputs": [
    {
     "name": "stdout",
     "output_type": "stream",
     "text": [
      "<re.Match object; span=(0, 5), match='томир'>\n"
     ]
    }
   ],
   "source": [
    "print(re.match(andoza, word2))"
   ]
  },
  {
   "cell_type": "code",
   "execution_count": 41,
   "metadata": {},
   "outputs": [
    {
     "name": "stdout",
     "output_type": "stream",
     "text": [
      "None\n"
     ]
    }
   ],
   "source": [
    "print(re.match(andoza, word3))"
   ]
  },
  {
   "cell_type": "markdown",
   "metadata": {},
   "source": [
    "Natijadan ko'rishimiz mumkin, `word1` va `word2` o'zgaruvchilari anfozaga tushdi, `word3` esa tushmadi.\n",
    "\n",
    "Keling endi, so'z to'pish o'yinida ishlatilgan soz'lar ro'yxatidan foydalanamiz, va ro'yxatdan biz bergan andozaga tushuvchi so'zlarni ajratib olamiz."
   ]
  },
  {
   "cell_type": "code",
   "execution_count": null,
   "metadata": {},
   "outputs": [],
   "source": [
    "from uzwords import words\n",
    "andoza = \"^т...р$\"\n",
    "\n",
    "matches = []\n",
    "for word in words:\n",
    "    if re.match(andoza,word):\n",
    "        matches.append(word)\n",
    "print(matches)"
   ]
  },
  {
   "cell_type": "code",
   "execution_count": null,
   "metadata": {},
   "outputs": [],
   "source": [
    "['табар', 'табор', 'тавир', 'тайёр', 'татар', 'татир', 'тахир', 'тақир', 'театр', 'тембр', 'темир', 'темур', 'тенор', 'тикер', 'тихир', 'товар', 'товор', 'тожир', 'томир', 'тонер', 'тоҳир', 'триер', 'тумор', 'тўпар', 'тўпир']"
   ]
  },
  {
   "cell_type": "markdown",
   "metadata": {},
   "source": [
    "Andozalar biror matnda biz uchun kerakli maʻlumotlarni ajratib olish uchun juda qulay. Masalan, Telegram orqali yuborilgan habardan email manzilini yoki telefon raqamini ajratib olish uchun maxsus andoza yozishmiz mumkin. [ihateregex.io](https://ihateregex.io) sahifasidan esa loyihangiz uchun tayyor andozalarni topishingiz mumkin. \n",
    "\n",
    "![](https://gblobscdn.gitbook.com/assets%2F-MGbkqs1tROquIT6oqUs%2F-MVLd3UlKBz5SKW5nQkC%2F-MVLeZ9FVlbBBhfluJuR%2Fimage.png?alt=media&token=6f572e8e-a964-4aaa-8ff7-f654a3b50584)\n",
    "\n",
    "Keling, yuqoridagi andoza asosida biror matndan email manzilini ajratib olamiz. Buning uchun `re.findall()` funksiyasidan foydalanamiz."
   ]
  },
  {
   "cell_type": "code",
   "execution_count": 43,
   "metadata": {},
   "outputs": [
    {
     "name": "stdout",
     "output_type": "stream",
     "text": [
      "['rtmkonferensiya2021@mail.ru']\n"
     ]
    }
   ],
   "source": [
    "matn = \"\"\"Maqolalar  2020-yilning 20-martiga qadar rtmkonferensiya2021@mail.ru elektron pochtasida qabul qilinadi.\n",
    "Quyidagi yo'nalishdagi maqolalar qabul qilinadi:\n",
    "👉 Aniq va tabiiy fanlarni zamonaviy pedagogik texnologiyalar asosida o‘qitish  metodikasi.\n",
    "👉 Umumta’lim  fanlarini o‘qitishda  STEAM yondashuvning o’rni va ahamiyati. \"\"\"\n",
    "\n",
    "andoza = '[^@ \\t\\r\\n]+@[^@ \\t\\r\\n]+\\.[^@ \\t\\r\\n]+'\n",
    "email = re.findall(andoza,matn)\n",
    "print(email)"
   ]
  },
  {
   "cell_type": "markdown",
   "metadata": {},
   "source": [
    "Andoza yordamida foydalanuvchi kiritgan qiymatlarni ham ma'lum shartlarga javob berishini tekshirib olishimiz mumkin:"
   ]
  },
  {
   "cell_type": "code",
   "execution_count": 44,
   "metadata": {},
   "outputs": [
    {
     "name": "stdout",
     "output_type": "stream",
     "text": [
      "Yangi parol kiriting(kamida 8 belgidan iborat, kamida 1 ta lotin bosh harf, 1 ta kichik harf, 1 ta son va 1 ta maxsus belgi boʻlishi kerak): salomDunyo123\n",
      "Maxfiy so'z talabga javob bermadi\n",
      "Yangi parol kiriting(kamida 8 belgidan iborat, kamida 1 ta lotin bosh harf, 1 ta kichik harf, 1 ta son va 1 ta maxsus belgi boʻlishi kerak): salomDunyo123#$\n",
      "Maxfiy so'z qabul qilindi\n"
     ]
    }
   ],
   "source": [
    "# Kuchli parolni tekshirish\n",
    "# Quyidagi andoza ham ihateregex.io sahifasidan olindi\n",
    "andoza = '^(?=.*?[A-Z])(?=.*?[a-z])(?=.*?[0-9])(?=.*?[#?!@$ %^&*-]).{8,}$'\n",
    "msg = \"Yangi parol kiriting\"\n",
    "msg += '(kamida 8 belgidan iborat, kamida 1 ta lotin bosh harf, 1 ta kichik harf, '\n",
    "msg += '1 ta son va 1 ta maxsus belgi boʻlishi kerak): '\n",
    "\n",
    "while True:\n",
    "    password = input(msg)\n",
    "    if re.match(andoza,password):\n",
    "        print(\"Maxfiy so'z qabul qilindi\")\n",
    "        break\n",
    "    else:\n",
    "        print(\"Maxfiy so'z talabga javob bermadi\")"
   ]
  },
  {
   "cell_type": "markdown",
   "metadata": {},
   "source": [
    "# AMALIYOT\n",
    "\n",
    "- Bugungi sanadan boshlab 2 hafta farq bilan 10 ta sanani konsolga chiqaring\n",
    "- Ramazon va qurbon hayitigacha qolgan kunlarni konsolga chiqaring\n",
    "- Tug'ilgan kuningizdan bugungi sanagacha qancha yil, oy, kun o'tganini qaytaruvchi funksiya yozing\n",
    "- Foydalanuvchidan telefon raqamini kiritishni so'rang. Kiritlgan qiymatni andoza yordamida tekshiring\n",
    "- Berilgan matndan veb sahifa manzilini ajratib olyuvchi funksiya yozing. Quyidagi matndan namuna sifatida foydalanishingiz mumkin:\n",
    "> Assalom alaykum hurmatli do'stlar. Navbatdagi darsimiz YouTubega yuklandi: https://youtu.be/vsxJPRLXpgI\n",
    "Ushbu darsimizda unittest moduli yordamida klasslarning xususiyatlar va metodlarini tekshiruvchi dastur yozishni o'rganamiz. Bugungi dars manzili: https://python.sariq.dev/testing/37-klass-test"
   ]
  },
  {
   "cell_type": "code",
   "execution_count": null,
   "metadata": {},
   "outputs": [],
   "source": []
  }
 ],
 "metadata": {
  "language_info": {
   "codemirror_mode": {
    "name": "ipython",
    "version": 3
   },
   "file_extension": ".py",
   "mimetype": "text/x-python",
   "name": "python",
   "nbconvert_exporter": "python",
   "pygments_lexer": "ipython3",
   "version": "3.8.6"
  }
 },
 "nbformat": 4,
 "nbformat_minor": 2
}