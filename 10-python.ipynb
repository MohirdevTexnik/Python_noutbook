{
  "cells": [
    {
      "cell_type": "markdown",
      "metadata": {
        "id": "fuD87Ibqb0w1"
      },
      "source": [
        "# 10-DARS. `IF-ELSE`\n",
        "\n",
        "Dasturni tarmoqlashni o'rganamiz"
      ]
    },
    {
      "cell_type": "markdown",
      "metadata": {
        "id": "heIGg7dkb0w5"
      },
      "source": [
        "![](https://gblobscdn.gitbook.com/assets%2F-MGbkqs1tROquIT6oqUs%2F-Mc-5yGQPZTBaGoehQdL%2F-Mc-7xpq4Puu3KEjmT0R%2FSD_YT_TG_logo_mini.png?alt=media&token=929fe67b-ec12-4f63-b33e-e9c5e3d8ad09)"
      ]
    },
    {
      "cell_type": "markdown",
      "metadata": {
        "id": "KL2YyuGmb0w6"
      },
      "source": [
        "# TARMOQLANISH\n",
        "\n",
        "Shu vaqtgacha yozgan dasturlarimizga e'tibor bersangiz, dasturimiz yuqoridan pastga qarab qatorma-qator bajarilib keldi. Bu chiziqli dastur deyiladi. Voqelikda esa aksar dasturlar ma'lum bir shart bajarilishi (yoki bajarilmaganiga) ko'ra kodning bir qismidan boshqa qismiga \"sakrab\" o'tishi tabiiy hol. Dasturlashda bu **tarmoqlanish** deb ataladi.\n",
        "\n",
        "![](https://gblobscdn.gitbook.com/assets%2F-MGbkqs1tROquIT6oqUs%2F-MMYB3w5bqcxar0xuzi2%2F-MMcrT4AK37JNwfmXziF%2Ffig1.png?alt=media&token=176c0f12-d46f-43cd-a374-19c69f3caf3a)\n",
        "\n",
        "Ushbu darsimizda biz if operatori yordamida shunday shartlarni yozishni, tekshirishni va tekshiruv natijasiga ko'ra kodning turli qismlarini bajarishni o'rganamiz.\n",
        "\n",
        "# `if` OPERATORI\n",
        "**if** so'zi ingliz tilidan **\"agar\"** deb tarjima qilinadi va deyarli barcha dasturlash tillarida shartlarni yozish uchun foydalaniladi.\n",
        "\n",
        "Keling quyidagi misolni ko'ramiz. Bizda avtolar ro'yxati bor:"
      ]
    },
    {
      "cell_type": "code",
      "execution_count": null,
      "metadata": {
        "id": "dnyTtxsqb0w7"
      },
      "outputs": [],
      "source": [
        "avtolar = ['audi','bmw','volvo','kia','hyundai']"
      ]
    },
    {
      "cell_type": "markdown",
      "metadata": {
        "id": "yUch27-Xb0w8"
      },
      "source": [
        "Biz ro'yxatdagi har bil elementni katta harf bilan konsolga chiqarmoqchimiz. Bunda istisno sifatida \"BMW\" mashinasi nomini hamma harflarini katta bilan chiqarishimiz kerak.\n",
        "\n",
        "Demak quyidagi kodni yozamiz:"
      ]
    },
    {
      "cell_type": "code",
      "execution_count": null,
      "metadata": {
        "id": "LFTUQBGFb0w8"
      },
      "outputs": [],
      "source": [
        "for avto in avtolar: # avtolar ichidadi har bir avto uchun ...\n",
        "    if avto == 'bmw':  # ... agar avto bmw ga teng bo'lsa ...\n",
        "        print(avto.upper()) # avto nomini hamma harflarini katta bilan yoz.\n",
        "    else: # aks holda ...\n",
        "        print(avto.title()) # avto nomini faqat birinchi harfini katta bilann yoz."
      ]
    },
    {
      "cell_type": "markdown",
      "metadata": {
        "id": "21Gumttjb0w9"
      },
      "source": [
        "Kodni tahlil qilaylik:\n",
        "- 1-qatorda biz for tsiklini boshladik: *avto ichidagi har bir avto uchun*.\n",
        "- 2-qatorda shart yozdik: agar avto `bmw` ga teng bo'lsa (bu yerda `==` belgisi tenglikni tekshirish belgisi hisoblanadi va **\"avto bmw ga tengmi?\"** deb o'qiladi).\n",
        "- 3-qator yuqoridagi shartning badani hisoblanadi va faqatgina shart bajarilgandagina ishga tushadi va avto nomini hamma harflarini katta bilan yozadi (`.upper()` metodi).\n",
        "- 4-qatorda yana bir yangi operator, `else` bilan tanishamiz. **\"Else\"** ingliz tilidan **\"aks holda\"** deb tarjima qilinadi va `if` sharti bajarilmaganda `else` qismi ichidagi kod bajariladi.\n",
        "- 5-qator esa `else` (aks holda, ya'ni 2- qatordagi shart bajarilmaganda) ishga tushadi va avto nomining faqat birinchi harfini katta bilan yozadi (`.title()` metodi)\n",
        "\n",
        "> **Diqqat!** Shart \"badani\" shartdan biroz o'ngga surib yoziladi (huddi for tsikli kabi). if/else dan keyin kelgan va o'ngga surib yozilgan har bir qator if/else shartining badani hisoblanadi.\n",
        "\n",
        "Yuoqridagi kodni bajaramiz, va natijani ko'ramiz:"
      ]
    },
    {
      "cell_type": "code",
      "execution_count": 1,
      "metadata": {
        "colab": {
          "base_uri": "https://localhost:8080/"
        },
        "id": "fjwElO8Sb0w9",
        "outputId": "efeb59eb-225c-4ae1-f0b9-fedfb59bf9a8"
      },
      "outputs": [
        {
          "output_type": "stream",
          "name": "stdout",
          "text": [
            "Audi\n",
            "BMW\n",
            "Volvo\n",
            "Kia\n",
            "Chevrolet\n"
          ]
        }
      ],
      "source": [
        "avtolar = ['audi','bmw','volvo','kia','chevrolet']\n",
        "for avto in avtolar: # avtolar ichidadi har bir avto uchun ...\n",
        "    if avto == 'bmw':  # ... agar avto bmw ga teng bo'lsa ...\n",
        "        print(avto.upper()) # avto nomini hamma harflarini katta bilan yoz.\n",
        "    else: # aks holda ...\n",
        "        print(avto.title()) # avto nomini faqat birinchi harfini katta bilan yoz."
      ]
    },
    {
      "cell_type": "markdown",
      "metadata": {
        "id": "dF5xvnATb0w-"
      },
      "source": [
        "# TRUE/FALSE\n",
        "Yuqorida shartni tekshirish uchun `==` operatoridan foydalandik. Bu operatorni oddiy tilga tarjima qilsak **\"tengmi?\"** degan ma'noni beradi.\n",
        "\n",
        "Agar shartning ikki tarafidagi qiymatlar teng bo'lsa ifoda `TRUE` qiymatini qaytaradi (\"True\" so'zi ingliz tilidan \"haqiqiy\" yoki \"to'g'ri\" deb tarjima qilinadi).\n",
        "\n",
        "Aksincha, qiymatlar tenglik qanoatlantirilmasa, ifoda `FALSE` qiymatini qaytaradi (\"False\" so'zini ingliz tilidan \"yolg'on\" deb tarjima qilsak bo'ladi).\n",
        "\n",
        "Quyidagi misollarga e'tibor bering. Biz `ism` degan o'zgaruvchi yaratdik, va unga `'Ali'` matnini yukladik. Keling endi `==` yordamida `ism` ning qiymatini tekshirib ko'ramiz:"
      ]
    },
    {
      "cell_type": "code",
      "execution_count": null,
      "metadata": {
        "id": "ea9PhSICb0w-"
      },
      "outputs": [],
      "source": [
        "ism='Ali'"
      ]
    },
    {
      "cell_type": "code",
      "execution_count": null,
      "metadata": {
        "id": "E9wtb2rjb0w_",
        "outputId": "8b962c20-0307-4968-cee1-f1291871cbfc"
      },
      "outputs": [
        {
          "data": {
            "text/plain": [
              "True"
            ]
          },
          "execution_count": 8,
          "metadata": {},
          "output_type": "execute_result"
        }
      ],
      "source": [
        "ism=='Ali'"
      ]
    },
    {
      "cell_type": "code",
      "execution_count": null,
      "metadata": {
        "id": "wHRUnwbDb0xA",
        "outputId": "d626852d-f3ca-43f5-9da2-e97f4f92dde0"
      },
      "outputs": [
        {
          "data": {
            "text/plain": [
              "False"
            ]
          },
          "execution_count": 9,
          "metadata": {},
          "output_type": "execute_result"
        }
      ],
      "source": [
        "ism=='Vali'"
      ]
    },
    {
      "cell_type": "markdown",
      "metadata": {
        "id": "rLPRLijSb0xA"
      },
      "source": [
        "Ko'rib turganingizdek avval `ism=='Ali'` (ism 'Ali' ga tengmi?) deb so'raganimizda, ifoda `TRUE` (Ha) degan javobni qaytardi, keyin esa `ism=='Vali'` (ism 'Vali' ga tengmi?) deb so'raganimizda esa, ifoda `FALSE` (Yo'q) deb qiymat qaytardi.\n",
        "\n",
        "Demak, `if/else` bog'lamasida, `i`f ning badani ifoda `True` bo'lganda, `else` ning badani esa ifoda `False` bo'lganda bajariladi."
      ]
    },
    {
      "cell_type": "markdown",
      "metadata": {
        "id": "WERLq31Yb0xB"
      },
      "source": [
        "# MATNLARNI SOLISHTIRISH"
      ]
    },
    {
      "cell_type": "markdown",
      "metadata": {
        "id": "wmynAjizb0xB"
      },
      "source": [
        "Aksar tizimlar foydalanuvchi kiritgan matnni ma'lum bir ko'rinishga keltirib oladi. Buning sababi, kompyuter uchun `'Ali'`, `'ALI'`, va `'ali'` bu uchta turli hil ism. Ularni solishtirish uchun esa bir ko'rinishga keltirib olish kerak.\n",
        "\n",
        "Tasavvur qiling siz yangi email manzil ochmoqchisiz, va o'zingizga yangi foydalanuvchi ismini tanlashingiz kerak. Kompyuter siz kiritgan foydalanuvchi ismini tizimdagi mavjud foydalanuvchilar bilan solishtiradi va agar ism band bo'lsa sizga boshqa ism tanlashni aytadi. Solishtirish jarayonida esa, siz tanlagan ismni kichik harflarga o'tkazib, boshqa ismlar bilan solishtiradi.\n",
        "\n",
        "![](https://gblobscdn.gitbook.com/assets%2F-MGbkqs1tROquIT6oqUs%2F-MMeP_WLpHkdzcxiw2zi%2F-MMeU64riTA_t65PqoXr%2Fimage.png?alt=media&token=67317e40-bfd0-4173-bd32-3c43d10f7a37)\n",
        "\n",
        "Yuqoridagi misolda, kimdur `anvar@yandex.ru` manzilini band qilgan, agarda men `'Anvar'`, yoki `'ANvar'`, yoki `'ANVAR'` deb login tanlasam ham, `anvar@yandex.ru` band bo'gani sababli men so'ragan loginlar rad qilinaveradi.\n",
        "\n",
        "Xo'sh, turli ko'rinishda yozilgan matnlarni qanday qilib solishtiramiz? Juda oddiy. Matnlarni solishtirishdan avval `.lower()` metodi yordamida kichik harflar ko'rinishiga keltirib olamiz:\n"
      ]
    },
    {
      "cell_type": "code",
      "execution_count": null,
      "metadata": {
        "id": "hErhUu8Mb0xB",
        "outputId": "4e833408-a310-4888-b592-775895e06381"
      },
      "outputs": [
        {
          "data": {
            "text/plain": [
              "True"
            ]
          },
          "execution_count": 10,
          "metadata": {},
          "output_type": "execute_result"
        }
      ],
      "source": [
        "ism = 'Ali'\n",
        "ism.lower() == 'ali'"
      ]
    },
    {
      "cell_type": "markdown",
      "metadata": {
        "id": "6PLcVCzMb0xB"
      },
      "source": [
        "# QIYMATLARNING TENG EMASLIGINI TEKSHIRISH\n",
        "\n",
        "Agar ikki qiymatning teng emasligini tekshirish talab qilinsa, `!=` operatoridan foydalanilamiz."
      ]
    },
    {
      "cell_type": "code",
      "execution_count": null,
      "metadata": {
        "id": "0vzahCm8b0xB",
        "outputId": "47d4f68b-2769-45f9-d816-3839518c3fc8"
      },
      "outputs": [
        {
          "name": "stdout",
          "output_type": "stream",
          "text": [
            "Ismingiz nima?\n",
            ">>>anvar\n",
            "Uzr, Anvar biz Alini kutayapmiz.\n"
          ]
        }
      ],
      "source": [
        "ism = input('Ismingiz nima?\\n>>>') # Foydalanuvchi ismini so'raymiz\n",
        "if ism.lower() != 'ali': # Agar ism Aliga teng bo'lmasa ...\n",
        "    print(f\"Uzr, {ism.title()} biz Alini kutayapmiz.\") # quyidagi xabar chiqadi\n",
        "else:\n",
        "    print(\"Salom, Ali\")"
      ]
    },
    {
      "cell_type": "markdown",
      "metadata": {
        "id": "RtHgIFmfb0xB"
      },
      "source": [
        "Demak yuqoridagi kodning 2-qatorida `ism` ichidagi qiymat `'ali'` ga teng bo'lmasa `\"Uzr, {ism} biz Alini kutyapmiz\"` degan xabarni chiqar dedik. Aks holda (`else`), `\"Salom, Ali\"` degan xabar chiqadi.\n",
        "\n",
        "> Shartlarda `else` qismi bo'lishi majburiy emas. Bunga keyingi bo'limlarda tushunarliroq misollar ko'ramiz."
      ]
    },
    {
      "cell_type": "markdown",
      "metadata": {
        "id": "NTfWPFc8b0xB"
      },
      "source": [
        "# SONLARNI SOLISHTIRISH\n",
        "\n",
        "Sonlarni solishtirishda yuqoridagi teng (`==`) va teng emas (`!=`) shartlariga qo'shimcha ravishda quyidagi mantiqiy shartlar ham qo'shiladi:\n",
        "\n",
        "- Kichik: `a<b`\n",
        "- Kichik yoki teng: `a<=b`\n",
        "- Katta: `a>b`\n",
        "- Katta yoki teng: `a>=b`"
      ]
    },
    {
      "cell_type": "code",
      "execution_count": null,
      "metadata": {
        "id": "gYQDW4A7b0xB",
        "outputId": "6b4017d7-965f-471f-fedb-89ae41fbe401"
      },
      "outputs": [
        {
          "name": "stdout",
          "output_type": "stream",
          "text": [
            "12x6 nechiga teng?>>>18\n",
            "Javob xato!\n"
          ]
        }
      ],
      "source": [
        "javob = float(input(\"12x6 nechiga teng?>>>\"))\n",
        "if javob!=72:\n",
        "    print(\"Javob xato!\")"
      ]
    },
    {
      "cell_type": "code",
      "execution_count": null,
      "metadata": {
        "id": "lPo29G6tb0xC",
        "outputId": "2b364660-5c84-4751-82f8-db3e5652fbd3"
      },
      "outputs": [
        {
          "name": "stdout",
          "output_type": "stream",
          "text": [
            "Yoshingiz nechida?>>>22\n",
            "Xush kelibsiz!\n"
          ]
        }
      ],
      "source": [
        "yosh = int(input(\"Yoshingiz nechida?>>>\"))\n",
        "if yosh>=18: # yosh 18 dan katta yoki teng bo'lsa\n",
        "    print('Xush kelibsiz!')\n",
        "else: # ask holda\n",
        "    print('Kirish mumkin emas!')"
      ]
    },
    {
      "cell_type": "code",
      "execution_count": null,
      "metadata": {
        "id": "X6ejO206b0xC",
        "outputId": "f00de43b-eea5-46e2-9b42-d3e83469c42f"
      },
      "outputs": [
        {
          "name": "stdout",
          "output_type": "stream",
          "text": [
            "Yangi login tanlang:akmal\n",
            "Login 5 harfdan ko'proq bo'lishi shart!\n"
          ]
        }
      ],
      "source": [
        "login = input(\"Yangi login tanlang:\")\n",
        "if len(login)<=5: # login uzunligini tekshiramiz\n",
        "    print(\"Login 5 harfdan ko'proq bo'lishi shart!\")"
      ]
    },
    {
      "cell_type": "code",
      "execution_count": null,
      "metadata": {
        "id": "5vaCP3dab0xC",
        "outputId": "458d0ffb-996c-42b6-8d1d-f68b63828773"
      },
      "outputs": [
        {
          "name": "stdout",
          "output_type": "stream",
          "text": [
            "Tug'ilgan yilingizni kiriting:2007\n",
            "Yoshingiz 13da ekan.\n",
            "Kirish mumkin emas!\n"
          ]
        }
      ],
      "source": [
        "yil = int(input(\"Tug'ilgan yilingizni kiriting:\"))\n",
        "if 2020-yil<18: # foydalanuvchining yoshini hisoblaymiz\n",
        "    print(f\"Yoshingiz {2020-yil}da ekan.\")\n",
        "    print(\"Kirish mumkin emas!\")\n",
        "else:\n",
        "    print(\"Xush kelibsiz!\")"
      ]
    },
    {
      "cell_type": "markdown",
      "metadata": {
        "id": "W2iCGbwEb0xC"
      },
      "source": [
        "# BIR QATOR if/else\n",
        "\n",
        "Qisqa kodlar uchun shart va uning badanini 1 qatorga jamlab yozishimiz ham mumkin:\n"
      ]
    },
    {
      "cell_type": "code",
      "execution_count": null,
      "metadata": {
        "id": "t7f9tsX7b0xC",
        "outputId": "85358269-8716-4155-bd78-d08ab0b9e63c"
      },
      "outputs": [
        {
          "name": "stdout",
          "output_type": "stream",
          "text": [
            "Yoshingiz nechida?>>>66\n",
            "Siz COVID-19 risk guruhida ekansiz\n"
          ]
        }
      ],
      "source": [
        "yosh = int(input(\"Yoshingiz nechida?>>>\"))\n",
        "if yosh>65: print(\"Siz COVID-19 risk guruhida ekansiz\")"
      ]
    },
    {
      "cell_type": "code",
      "execution_count": null,
      "metadata": {
        "id": "n6xpHGbhb0xC",
        "outputId": "fdf7130c-e5b5-4c4b-d238-deb500006686"
      },
      "outputs": [
        {
          "name": "stdout",
          "output_type": "stream",
          "text": [
            "x<y\n"
          ]
        }
      ],
      "source": [
        "x, y = 25, 50 # x=25 va y=50\n",
        "print(\"x>y\") if x>y else print(\"x<y\")"
      ]
    },
    {
      "cell_type": "markdown",
      "metadata": {
        "id": "IjOKbN_-b0xD"
      },
      "source": [
        "# AMALIYOT\n",
        "\n",
        "- Yangi `cars = ['toyota', 'mazda', 'hyundai', 'gm', 'kia']` degan ro'yxat tuzing, ro'yxat elementlarining birinchi harfini katta qilib konsolga chqaring. `GM` uchun ikkala harfni katta qiling.\n",
        "- Yuqoridagi mashqni teng emas (`!=`) operatori yordamida bajaring.\n",
        "- Foydalanuvchi login ismini so'rang. Agar login `admin` bo'lsa, `\"Xush kelibsiz, Admin. Foydalanuvchilar ro'yxatini ko'rasizmi?\"` xabarini konsolga chiqaring. Aks holda, `\"Xush kelibsiz, {foydalanuvchi_ismi}!\"`  matnini konsolga chiqaring.\n",
        "- Foydalanuvchidan 2 ta son kiritishni so'rang. Agar ikki son bir-biriga teng bo'lsa, `\"Sonlar teng\"` ekan degan yozuvni konsolga chiqaring.\n",
        "- Foydalanuvchidan istalgan son kiritishni so'rang. Agar son manfiy bo'lsa konsolga `\"Manfiy son\"`, agar musbat bo'lsa `\"Musbat son\"` degan xabarni chiqaring.\n",
        "- Foydalanuvchidan son kiritishni so'rang, agar son musbat bo'lsa uning ildizini hisoblab konsolga chiqaring. Agar son manfiy bo'lsa, `\"Musbat son kiriting\"` degan xabarni chiqaring."
      ]
    },
    {
      "cell_type": "markdown",
      "metadata": {
        "id": "Wh7oSMh2b0xD"
      },
      "source": [
        "# JAVOBLAR"
      ]
    },
    {
      "cell_type": "code",
      "execution_count": null,
      "metadata": {
        "id": "l1SIx-lcb0xD",
        "outputId": "624df9db-6fa3-49d2-c539-be64b9473997"
      },
      "outputs": [
        {
          "name": "stdout",
          "output_type": "stream",
          "text": [
            "Toyota\n",
            "Mazda\n",
            "Hyundai\n",
            "GM\n",
            "Kia\n"
          ]
        }
      ],
      "source": [
        "#Yangi cars = ['toyota', 'mazda', 'hyundai', 'gm', 'kia'] degan ro'yxat tuzing, ro'yxat elementlarining birinchi harfini katta qilib konsolga chqaring. GM uchun ikkala harfni katta qiling.\n",
        "cars = ['toyota', 'mazda', 'hyundai', 'gm', 'kia']\n",
        "for car in cars:\n",
        "  if car=='gm':\n",
        "    print(car.upper())\n",
        "  else:\n",
        "    print(car.title())"
      ]
    },
    {
      "cell_type": "code",
      "execution_count": null,
      "metadata": {
        "id": "neaPrs4Fb0xD",
        "outputId": "73f50545-b123-43c9-9cc5-1c9dbfe5aa8c"
      },
      "outputs": [
        {
          "name": "stdout",
          "output_type": "stream",
          "text": [
            "Toyota\n",
            "Mazda\n",
            "Hyundai\n",
            "GM\n",
            "Kia\n"
          ]
        }
      ],
      "source": [
        "#Yuqoridagi mashqni teng emas (!=) operatori yordamida bajaring.\n",
        "cars = ['toyota', 'mazda', 'hyundai', 'gm', 'kia']\n",
        "for car in cars:\n",
        "  if car!='gm':\n",
        "    print(car.title())\n",
        "  else:\n",
        "    print(car.upper())"
      ]
    },
    {
      "cell_type": "code",
      "execution_count": null,
      "metadata": {
        "id": "NPgSgSheb0xD",
        "outputId": "f9454c01-7443-4ec2-98c7-62ee0effbad6"
      },
      "outputs": [
        {
          "name": "stdout",
          "output_type": "stream",
          "text": [
            "Login kiriting: admin\n",
            "Xush kelibsiz Admin, foydalanuvchilar ro'yxatini ko'rasizmi?\n"
          ]
        }
      ],
      "source": [
        "#Foydalanuvchi login ismini so'rang. Agar login admin bo'lsa, \"Xush kelibsiz, Admin. Foydalanuvchilar ro'yxatini ko'rasizmi?\" xabarini konsolga chiqaring. Aks xolda, \"Xush kelibsiz, {foydalanuvchi_ismi}!\" matnini konsolga chiqaring.\n",
        "login = input(\"Login kiriting: \")\n",
        "if login.lower() == 'admin':\n",
        "  print(\"Xush kelibsiz Admin, foydalanuvchilar ro'yxatini ko'rasizmi?\")\n",
        "else:\n",
        "  print(f\"Xush kelibsiz {login.title()}!\")"
      ]
    },
    {
      "cell_type": "code",
      "execution_count": null,
      "metadata": {
        "id": "Oe-qwfF7b0xD",
        "outputId": "d9f924e5-6169-4220-84b2-1583ed43f610"
      },
      "outputs": [
        {
          "name": "stdout",
          "output_type": "stream",
          "text": [
            "Birinchi sonni kiriting: 12\n",
            "Ikkinchi sonni kiriting:25\n"
          ]
        }
      ],
      "source": [
        "#Foydalanuvchidan 2 ta son kiritishni so'rang. Agar ikki son bir-biriga teng bo'lsa, \"Sonlar teng\" ekan degan yozuvni konsolga chiqaring.\n",
        "x = float(input(\"Birinchi sonni kiriting: \"))\n",
        "y = float(input(\"Ikkinchi sonni kiriting:\"))\n",
        "if x==y: print(f\"Sonlar teng: {x}={y}\")"
      ]
    },
    {
      "cell_type": "code",
      "execution_count": null,
      "metadata": {
        "id": "sCBNKRx0b0xD",
        "outputId": "6a33138e-bc05-486b-c6d4-af5061ba1d94"
      },
      "outputs": [
        {
          "name": "stdout",
          "output_type": "stream",
          "text": [
            "Istalgan son kiriting:-25\n",
            "Son manfiy\n"
          ]
        }
      ],
      "source": [
        "#Foydalanuvchidan istalgan son kiritishni so'rang. Agar son manfiy bo'lsa konsolga \"Manfiy son\", agar musbat bo'lsa \"Musbat son\" degan xabarni chiqaring.\n",
        "son = float(input(\"Istalgan son kiriting:\"))\n",
        "print(\"Son manfiy\") if son<0 else print(\"Son musbat\")"
      ]
    },
    {
      "cell_type": "code",
      "execution_count": null,
      "metadata": {
        "id": "a7lILqMMb0xE",
        "outputId": "bd241253-d6d4-42f7-e9bf-c4ddf87cb243"
      },
      "outputs": [
        {
          "name": "stdout",
          "output_type": "stream",
          "text": [
            "Istalgan son kiriting: 65\n",
            "8.06225774829855\n"
          ]
        }
      ],
      "source": [
        "#Foydalanuvchidan son kiritishni so'rang, agar son musbat bo'lsa uning ildizini hisoblab konsolga chiqaring. Agar son manfiy bo'lsa, \"Musbat son kiriting\" degan xabarni chiqaring.\n",
        "son = float(input('Istalgan son kiriting: '))\n",
        "print(son**(1/2)) if son>0 else print('Musbat son kiriting')"
      ]
    }
  ],
  "metadata": {
    "language_info": {
      "name": "python"
    },
    "colab": {
      "provenance": []
    },
    "kernelspec": {
      "name": "python3",
      "display_name": "Python 3"
    }
  },
  "nbformat": 4,
  "nbformat_minor": 0
}