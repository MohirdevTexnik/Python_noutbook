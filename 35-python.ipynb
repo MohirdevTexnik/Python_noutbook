{
 "cells": [
  {
   "cell_type": "markdown",
   "metadata": {},
   "source": [
    "# 35-DARS. XATOLAR BILAN ISHLASH\n",
    "Xatolarni jilovlashni o'rganamiz.\n",
    "\n",
    "![](https://gblobscdn.gitbook.com/assets%2F-MGbkqs1tROquIT6oqUs%2F-Mc-5yGQPZTBaGoehQdL%2F-Mc-7xpq4Puu3KEjmT0R%2FSD_YT_TG_logo_mini.png?alt=media&token=929fe67b-ec12-4f63-b33e-e9c5e3d8ad09)"
   ]
  },
  {
   "cell_type": "markdown",
   "metadata": {},
   "source": [
    "# EXCEPTIONS\n",
    "Avvalgi darslarimizning birida biz **\"Run time error\"** xatoliklari bilan tanishgan edik. Bunday xatolar dastur bajarish jarayonida kelib chiqadi va dasturning ishlashini to'xtatadi. Sintaks xatolikdan farqli ravishda Python bunday xatolarni dasturni bajarishdan avval aniqlay olmaydi. \n",
    "\n",
    "Ushbu darsimizda qanday qilib mana shunday xatoliklarni jilovlashni o'rganamiz. Maqsadimiz xatolik yuz berganda dastur to'xtab qolishining oldini olish. Gap shundaki, dastur davomida xato yuz berganda Python maxsus exception (istisno) obyektini yaratadi. Agar bu obyekt \"tutib\" olinmasa, dastur bajarilishdan to'xtaydi. \n",
    "\n",
    "## `try-except`\n",
    "\n",
    "Istisno obyektlarni tutib olish uchun Pythonda maxsus `try-except` operatorlari bor. Bu operatorlar quyidagicha ishlaydi, `try` operatori badanida bajarish kerak bo'lgan kod yoziladi, `except` operatori badanida esa xatolik yuz berganda bajarilishi kerak bo'lgan kod yoziladi. Ya'ni dasturimiz to'xtab qolmasdan bajarilaveradi. \n",
    "\n",
    "Tushunarli bo'lishi uchun quyidagi misolni ko'ramiz. "
   ]
  },
  {
   "cell_type": "code",
   "execution_count": 4,
   "metadata": {},
   "outputs": [
    {
     "name": "stdout",
     "output_type": "stream",
     "text": [
      "Yoshingizni kiriting: 36.5\n"
     ]
    },
    {
     "ename": "ValueError",
     "evalue": "invalid literal for int() with base 10: '36.5'",
     "output_type": "error",
     "traceback": [
      "\u001b[0;31m---------------------------------------------------------------------------\u001b[0m",
      "\u001b[0;31mValueError\u001b[0m                                Traceback (most recent call last)",
      "\u001b[0;32m<ipython-input-4-eb6d6e50d3d8>\u001b[0m in \u001b[0;36m<module>\u001b[0;34m\u001b[0m\n\u001b[1;32m      1\u001b[0m \u001b[0myosh\u001b[0m \u001b[0;34m=\u001b[0m \u001b[0minput\u001b[0m\u001b[0;34m(\u001b[0m\u001b[0;34m\"Yoshingizni kiriting: \"\u001b[0m\u001b[0;34m)\u001b[0m\u001b[0;34m\u001b[0m\u001b[0;34m\u001b[0m\u001b[0m\n\u001b[0;32m----> 2\u001b[0;31m \u001b[0myosh\u001b[0m \u001b[0;34m=\u001b[0m \u001b[0mint\u001b[0m\u001b[0;34m(\u001b[0m\u001b[0myosh\u001b[0m\u001b[0;34m)\u001b[0m\u001b[0;34m\u001b[0m\u001b[0;34m\u001b[0m\u001b[0m\n\u001b[0m\u001b[1;32m      3\u001b[0m \u001b[0mprint\u001b[0m\u001b[0;34m(\u001b[0m\u001b[0;34mf\"Siz {2021-yosh} yilda tug'ilgansiz\"\u001b[0m\u001b[0;34m)\u001b[0m\u001b[0;34m\u001b[0m\u001b[0;34m\u001b[0m\u001b[0m\n",
      "\u001b[0;31mValueError\u001b[0m: invalid literal for int() with base 10: '36.5'"
     ]
    }
   ],
   "source": [
    "yosh = input(\"Yoshingizni kiriting: \")\n",
    "yosh = int(yosh)\n",
    "print(f\"Siz {2021-yosh} yilda tug'ilgansiz\")"
   ]
  },
  {
   "cell_type": "markdown",
   "metadata": {},
   "source": [
    "Keling, yuqoridagi kodni `try-except` yordamida yozamiz:\n"
   ]
  },
  {
   "cell_type": "code",
   "execution_count": 5,
   "metadata": {},
   "outputs": [
    {
     "name": "stdout",
     "output_type": "stream",
     "text": [
      "Yoshingizni kiriting: 36.5\n",
      "Butun son kiritmadingiz\n",
      "Dastur Tugadi!\n"
     ]
    }
   ],
   "source": [
    "yosh = input(\"Yoshingizni kiriting: \")\n",
    "try:\n",
    "    yosh = int(yosh)  \n",
    "    print(f\"Siz {2021-yosh} yilda tug'ilgansiz\")  \n",
    "except:\n",
    "    print(\"Butun son kiritmadingiz\")\n",
    "\n",
    "print(\"Dastur Tugadi!\")"
   ]
  },
  {
   "cell_type": "markdown",
   "metadata": {},
   "source": [
    "`try-except` operatorining afzalliklaridan biri, foydalanuvchiga tushunarsiz xatolar o'rniga, o'zimiz istagan, tushunarliroq matnni ko'rsatishimiz mumkin. Shuningdek, kompleks tizimlarda arzimagan xatoni deb dasturimiz to'xtab qolmaydi."
   ]
  },
  {
   "cell_type": "markdown",
   "metadata": {},
   "source": [
    "## `try-except-else`\n",
    "\n",
    "Yuqoridagi kodimizda biz try moduli ichida xato qaytarishi mumkin bo'lgan ifodani ham (`tyil = int(tyil)`), xato qaytmaganda bajarilishi kerak bo'lgan ifodani ham (`print(f\"Siz {2021-tyil} yoshdasiz\")` ) birdan yozib ketayapmiz. Aslida, bunday qilishimiz to'g'ri emas. \n",
    "\n",
    "To'g'ri usuli, bu avval xatoga tekshirish va xato yuz bermaganda bajariladigan ifodani alohida, else blokida yozish:"
   ]
  },
  {
   "cell_type": "code",
   "execution_count": 7,
   "metadata": {},
   "outputs": [
    {
     "name": "stdout",
     "output_type": "stream",
     "text": [
      "Yoshingizni kiriting: 36.5\n",
      "Butun son kiritmadingiz\n"
     ]
    }
   ],
   "source": [
    "yosh = input(\"Yoshingizni kiriting: \")\n",
    "try:\n",
    "    yosh = int(yosh)    \n",
    "except:\n",
    "    print(\"Butun son kiritmadingiz\")\n",
    "else:\n",
    "    print(f\"Siz {2021-yosh} yilda tug'ilgansiz\")"
   ]
  },
  {
   "cell_type": "markdown",
   "metadata": {},
   "source": [
    "Albatta, yuqoridagi usul har doim ham qo'l kelavermaydi.\n",
    "\n",
    "# MA'LUM TURDAGI XATOLARNI USHLASH\n",
    "\n",
    "Xatolarning turlari ko'p, `except` operatori yordamida esa biz aynan qaysi xatolarni ushlamoqchi ekanimizni ham ko'rsatishimiz mumkin. Misol uchun yuqoridagi misolda `int()` funksiyasi `ValueError` xatosini qaytardi. Agar biz faqatgina shu turdagi xatolarni ushlamoqchi bo'lsak, kodimizni quyidagicha o'zgartiramiz:"
   ]
  },
  {
   "cell_type": "code",
   "execution_count": 8,
   "metadata": {},
   "outputs": [
    {
     "name": "stdout",
     "output_type": "stream",
     "text": [
      "Yoshingizni kiriting: 26.5\n",
      "Butun son kiritmadingiz\n"
     ]
    }
   ],
   "source": [
    "yosh = input(\"Yoshingizni kiriting: \")\n",
    "try:\n",
    "    yosh = int(yosh)    \n",
    "except ValueError:\n",
    "    print(\"Butun son kiritmadingiz\")\n",
    "else:\n",
    "    print(f\"Siz {2021-yosh} yilda tug'ilgansiz\")"
   ]
  },
  {
   "cell_type": "markdown",
   "metadata": {},
   "source": [
    "## `ZeroDivisionError`\n",
    "\n",
    "Ba'zi dastur davomida arifmetik amallar bajarilishi natijasida 0 ga bo'lish xatoligi (`ZeroDivisionError`) yuzaga kelishi mumkin. Aynan shu xatoni jilovlash uchun, `except ZeroDivisionError` ifodasidan foydalanamiz:"
   ]
  },
  {
   "cell_type": "code",
   "execution_count": 9,
   "metadata": {},
   "outputs": [
    {
     "name": "stdout",
     "output_type": "stream",
     "text": [
      "0 ga bo'lib bo'lmaydi\n"
     ]
    }
   ],
   "source": [
    "x,y=5,10\n",
    "try:\n",
    "   y/(x-5)\n",
    "except ZeroDivisionError:\n",
    "    print(\"0 ga bo'lib bo'lmaydi\")"
   ]
  },
  {
   "cell_type": "markdown",
   "metadata": {},
   "source": [
    "## IndexError\n",
    "\n",
    "Bu xatolik odatda ro'yxatda mavjud bo'lmagan indeksga murojat qilishda chiqib keladi."
   ]
  },
  {
   "cell_type": "code",
   "execution_count": 11,
   "metadata": {},
   "outputs": [
    {
     "name": "stdout",
     "output_type": "stream",
     "text": [
      "Ro'yxatda 4 ta meva bor xolos\n"
     ]
    }
   ],
   "source": [
    "mevalar = ['olma','anor','anjir','uzum']\n",
    "try:\n",
    "    print(mevalar[7])\n",
    "except IndexError:\n",
    "    print(f\"Ro'yxatda {len(mevalar)} ta meva bor xolos\")"
   ]
  },
  {
   "cell_type": "markdown",
   "metadata": {},
   "source": [
    "## KeyError\n",
    "\n",
    "Bu xatolik lug'atda mavjud bo'lmagan kalitga murojat qilishda kelib chiqadi:"
   ]
  },
  {
   "cell_type": "code",
   "execution_count": 12,
   "metadata": {},
   "outputs": [
    {
     "name": "stdout",
     "output_type": "stream",
     "text": [
      "Bunday kalit mavjud emas\n"
     ]
    }
   ],
   "source": [
    "user = {\"username\":\"sariqdev\",\n",
    "        \"status\":\"admin\",\n",
    "        \"email\":\"admin@sariq.dev\",\n",
    "        \"phone\":\"99897123456\"}\n",
    "\n",
    "key=\"tel\"\n",
    "try:\n",
    "    print(f'Foydalanuvchi: {user[key]}')\n",
    "except KeyError:\n",
    "    print(\"Bunday kalit mavjud emas\")"
   ]
  },
  {
   "cell_type": "markdown",
   "metadata": {},
   "source": [
    "## FileNotFoundError\n",
    "\n",
    "Avvalgi darsimizda fayllar bilan ishlashni o'rgangan edik. Fayllarni biz o'qish (`open(filename,'r')`) yoki yozish (`open(filename,'w')`) uchun ochishimiz mumkin. Agar faylga ma'lumot yozish uchun ochishda, mavjud bo'lmagan faylga murojat qilsak, Python yangi fayl yaratadi. Lekin, faylni o'qish uchun ochishda fayl nomini xato yozsak, yoki mavjud bo'lmagan faylni ochmoqchi bo'lsak `FileNotFoundError` (*fayl topilmadi*) xatoligi yuzaga keladi. "
   ]
  },
  {
   "cell_type": "code",
   "execution_count": 13,
   "metadata": {},
   "outputs": [
    {
     "ename": "FileNotFoundError",
     "evalue": "[Errno 2] No such file or directory: 'data.txt'",
     "output_type": "error",
     "traceback": [
      "\u001b[0;31m---------------------------------------------------------------------------\u001b[0m",
      "\u001b[0;31mFileNotFoundError\u001b[0m                         Traceback (most recent call last)",
      "\u001b[0;32m<ipython-input-13-52e6a704f49d>\u001b[0m in \u001b[0;36m<module>\u001b[0;34m\u001b[0m\n\u001b[1;32m      1\u001b[0m \u001b[0mfilename\u001b[0m \u001b[0;34m=\u001b[0m \u001b[0;34m\"data.txt\"\u001b[0m \u001b[0;31m# bunday fayl mavjud emas\u001b[0m\u001b[0;34m\u001b[0m\u001b[0;34m\u001b[0m\u001b[0m\n\u001b[0;32m----> 2\u001b[0;31m \u001b[0;32mwith\u001b[0m \u001b[0mopen\u001b[0m\u001b[0;34m(\u001b[0m\u001b[0mfilename\u001b[0m\u001b[0;34m)\u001b[0m \u001b[0;32mas\u001b[0m \u001b[0mf\u001b[0m\u001b[0;34m:\u001b[0m\u001b[0;34m\u001b[0m\u001b[0;34m\u001b[0m\u001b[0m\n\u001b[0m\u001b[1;32m      3\u001b[0m     \u001b[0mtext\u001b[0m \u001b[0;34m=\u001b[0m \u001b[0mf\u001b[0m\u001b[0;34m.\u001b[0m\u001b[0mread\u001b[0m\u001b[0;34m(\u001b[0m\u001b[0;34m)\u001b[0m\u001b[0;34m\u001b[0m\u001b[0;34m\u001b[0m\u001b[0m\n",
      "\u001b[0;31mFileNotFoundError\u001b[0m: [Errno 2] No such file or directory: 'data.txt'"
     ]
    }
   ],
   "source": [
    "filename = \"data.txt\" # bunday fayl mavjud emas\n",
    "with open(filename) as f:\n",
    "    text = f.read()"
   ]
  },
  {
   "cell_type": "markdown",
   "metadata": {},
   "source": [
    "Demak, bu xatolikni ham ushlab qolish uchun `except FileNotFoundError`ifodasidan foydalanamiz:"
   ]
  },
  {
   "cell_type": "code",
   "execution_count": 15,
   "metadata": {},
   "outputs": [
    {
     "name": "stdout",
     "output_type": "stream",
     "text": [
      "Kechirasiz, data.txt fayli mavjud emas. Boshqa fayl tanlang.\n"
     ]
    }
   ],
   "source": [
    "filename = \"data.txt\" # bunday fayl mavjud emas\n",
    "try:\n",
    "    with open(filename) as f:\n",
    "        text = f.read()\n",
    "except FileNotFoundError:\n",
    "    print(f\"Kechirasiz, {filename} fayli mavjud emas. Boshqa fayl tanlang.\")"
   ]
  },
  {
   "cell_type": "markdown",
   "metadata": {},
   "source": [
    "Pythonda bundan boshqa xatolar ham ko'p uchraydi, ularning ba'zilari 12-darsda tanishgan edik.\n",
    "\n",
    "## BIR NECHTA XATOLARNI USHLASH\n",
    "\n",
    "`try-except` ketma-ketligida bir nechta except operatorlari ham bo'lishi mumkin. Ularning har biri ma'lum turdagi xatolik uchun javobgar bo'ladi:"
   ]
  },
  {
   "cell_type": "code",
   "execution_count": null,
   "metadata": {},
   "outputs": [],
   "source": [
    "n = input(\"Butun son kiriting: \")\n",
    "try:\n",
    "    n = int(n)\n",
    "    x=20/n\n",
    "except ValueError: # agar foydalanuvchi butun son kiritmasa\n",
    "    print(\"Butun son kiritmadingiz\")\n",
    "except ZeroDivisionError: # agar foydalanuvchi 0 kiritsa\n",
    "    print(\"0 ga bo'lib bo'lmaydi\")\n",
    "else:\n",
    "print(f\"x={x}\")"
   ]
  },
  {
   "cell_type": "markdown",
   "metadata": {},
   "source": [
    "# XATOLARNI KO'RSATMAY O'TISH\n",
    "\n",
    "Yuqoridagi misollarda kodimiz xato qaytarganda, dasturimiz foydalanuvchiga qandaydur ma'lumotni ko'rsatayapti:"
   ]
  },
  {
   "cell_type": "code",
   "execution_count": 16,
   "metadata": {},
   "outputs": [
    {
     "name": "stdout",
     "output_type": "stream",
     "text": [
      "talaba1.json mavjud emas\n",
      "talaba2.json mavjud emas\n",
      "talaba3.json mavjud emas\n",
      "talaba4.json mavjud emas\n"
     ]
    }
   ],
   "source": [
    "import json\n",
    "files = ['talaba1.json','talaba2.json','talaba3.json','talaba4.json']\n",
    "for filename in files:\n",
    "    try:\n",
    "        with open(filename) as f:\n",
    "            talaba = json.load(f)        \n",
    "    except FileNotFoundError:\n",
    "        print(f\"{filename} mavjud emas\")\n",
    "    else:\n",
    "        print(talaba['ism'])\n",
    "        # fayl ustida turli amallar "
   ]
  },
  {
   "cell_type": "markdown",
   "metadata": {},
   "source": [
    "Hech qanday ma'lumot ko'rsatmay, dasturni davom etish uchun `pass` operatoridan foydalanamiz. Odatda `pass` operatoridan funksiyalar yoki operatorlarning badanini \"to'ldirib\" ketish uchun ishlatiladi. Ya'ni, agar biz `except` operatorini yozsagu, uning badanida hech narsa bajarilishini istmasak, pass operatorini ishlatamiz. "
   ]
  },
  {
   "cell_type": "code",
   "execution_count": 17,
   "metadata": {},
   "outputs": [],
   "source": [
    "import json\n",
    "files = ['talaba1.json','talaba2.json','talaba3.json','talaba4.json']\n",
    "for filename in files:\n",
    "    try:\n",
    "        with open(filename) as f:\n",
    "            talaba = json.load(f)        \n",
    "    except FileNotFoundError:\n",
    "        pass\n",
    "    else:\n",
    "        print(talaba['ism'])"
   ]
  },
  {
   "cell_type": "markdown",
   "metadata": {},
   "source": [
    "# XATOLARNING OLDINI OLISH\n",
    "\n",
    "Yuqorida biz xatolar yuz berganda, ularni ushlash va dastur to'xtashining oldini olishni ko'rdik. Ya'ni, `try-except` ketma-ketligi xatolarning oldini olishga yordam bera olmaydi. Xatolarning oldini olish uchun `if-else` va `while` tsikllaridan foydalanganimiz afzal.\n",
    "\n",
    "Mavzu boshidagi misolimizga qaytsak. Biz foydalanuvchi yoshini so'radik, va foydalanuvchi butun son kiritmagani sababli dasturni to'xtatdik. Aslida, while tsikli yordamida toki foydalanuvchi to'g'ri qiymat kritgunga qadar uning yoshini qayta-qayta talab qilishimiz mumkin:"
   ]
  },
  {
   "cell_type": "code",
   "execution_count": 19,
   "metadata": {},
   "outputs": [
    {
     "name": "stdout",
     "output_type": "stream",
     "text": [
      "Yoshingizni kiriting: 23.5\n",
      "Yoshingizni kiriting: 223.5\n",
      "Yoshingizni kiriting: 32\n",
      "Siz 1989 yilda tug'ilgansiz\n"
     ]
    }
   ],
   "source": [
    "while True:\n",
    "    yosh = input(\"Yoshingizni kiriting: \")\n",
    "    if yosh.isdigit():\n",
    "        yosh = int(yosh)\n",
    "        break        \n",
    "\n",
    "print(f\"Siz {2021-yosh} yilda tug'ilgansiz\")"
   ]
  },
  {
   "cell_type": "markdown",
   "metadata": {},
   "source": [
    "Albatta yuqordagi usul barcha xatolar uchun ishlamaydi. Shunday xatolar bo'lishi mumkinki, biz ularni oldindan ko'ra olmasligimiz yoki, oldindan to'g'rila olmasligimiz, yoki xato foydalanuvchiga bog'liq bo'lmasligi mumkin. Shunday holatlarda, `try-except` operatorlari bizning xaloskorimiz bo'ladi."
   ]
  }
 ],
 "metadata": {
  "language_info": {
   "codemirror_mode": {
    "name": "ipython",
    "version": 3
   },
   "file_extension": ".py",
   "mimetype": "text/x-python",
   "name": "python",
   "nbconvert_exporter": "python",
   "pygments_lexer": "ipython3",
   "version": "3.8.6"
  }
 },
 "nbformat": 4,
 "nbformat_minor": 2
}