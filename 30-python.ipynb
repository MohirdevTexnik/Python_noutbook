{
 "cells": [
  {
   "cell_type": "markdown",
   "metadata": {},
   "source": [
    "# 30-DARS. VORISLIK VA POLIMORFIZM\n",
    "\n",
    "Klasslardan klass yaratishni o'rganamiz.\n",
    "\n",
    "![](https://gblobscdn.gitbook.com/assets%2F-MGbkqs1tROquIT6oqUs%2F-Mc-5yGQPZTBaGoehQdL%2F-Mc-7xpq4Puu3KEjmT0R%2FSD_YT_TG_logo_mini.png?alt=media&token=929fe67b-ec12-4f63-b33e-e9c5e3d8ad09)"
   ]
  },
  {
   "cell_type": "markdown",
   "metadata": {},
   "source": [
    "# SUPER KLASS VA VORIS KLASS\n",
    "\n",
    "Obyektga yo'naltirilgan dasturlashning qulayliklaridan biri bu klasslardan boshqa klass yaratish imkoniyati. Bizga kerak bo'lgan yangi klass, avval yaratilgan boshqa klass bilan o'xshashlik joylari bo'lsa, biz bu klassdan voris klass yaratishimiz mumkin. Bunda asl klass - ota, yoki super klass deb ataladi. \n",
    "\n",
    "Super klassdan yaratilgan voris klass otaning barcha yoki tanlangan xususiyatlari va metodlarini meros olish bilan birga, o'ziga xos xususiyat va metodlariga ega bo'ladi.\n",
    "\n",
    "Keling boshlanishiga `Shaxs` klassini yaratamiz, bu klassimiz keyinchalik boshqa klasslar uchun super klass vazifasini bajaradi:"
   ]
  },
  {
   "cell_type": "code",
   "execution_count": 4,
   "metadata": {},
   "outputs": [],
   "source": [
    "class Shaxs:\n",
    "    \"\"\"Shaxslar haqida ma'lumot\"\"\"\n",
    "    def __init__(self,ism,familiya,passport,tyil):\n",
    "        self.ism = ism\n",
    "        self.familiya = familiya\n",
    "        self.passport = passport\n",
    "        self.tyil = tyil\n",
    "    \n",
    "    def get_info(self):\n",
    "        \"\"\"Shaxs haqida ma'lumot\"\"\"\n",
    "        info = f\"{self.ism} {self.familiya}. \"\n",
    "        info += f\"Passport:{self.passport}, {self.tyil}-yilda tug`ilgan\"\n",
    "        return info\n",
    "        \n",
    "    def get_age(self,yil):\n",
    "        \"\"\"Shaxsning yoshini qaytaruvchi metod\"\"\"\n",
    "        return yil - self.tyil"
   ]
  },
  {
   "cell_type": "markdown",
   "metadata": {},
   "source": [
    "Klassimizni tekshirib ko'ramiz:\n"
   ]
  },
  {
   "cell_type": "code",
   "execution_count": 5,
   "metadata": {},
   "outputs": [
    {
     "name": "stdout",
     "output_type": "stream",
     "text": [
      "Hasan Alimov. Passport:FB001122, 1995-yilda tug`ilgan. 26 yoshda.\n"
     ]
    }
   ],
   "source": [
    "inson = Shaxs(\"Hasan\",\"Alimov\",\"FB001122\",1995)\n",
    "print(f\"{inson.get_info()}. {inson.get_age(2021)} yoshda.\")"
   ]
  },
  {
   "cell_type": "markdown",
   "metadata": {},
   "source": [
    "# VORIS KLASS YARATISH\n",
    "\n",
    "Endi avvalgi darsimizda yaratgan `Talaba` klassimizni qaytadan yaratamiz. Bu safar, avvalgidan farqli ravishda, `Talaba` ni yaratishda, `Shaxs` dan super klass sifatida foydalanamiz:"
   ]
  },
  {
   "cell_type": "code",
   "execution_count": 6,
   "metadata": {},
   "outputs": [],
   "source": [
    "class Talaba(Shaxs):\n",
    "    \"\"\"Talaba klassi\"\"\"\n",
    "    def __init__(self, ism, familiya, passport, tyil):\n",
    "        \"\"\"Talabaning xususiyatlari\"\"\"\n",
    "        super().__init__(ism, familiya, passport, tyil)"
   ]
  },
  {
   "cell_type": "markdown",
   "metadata": {},
   "source": [
    "Kodimizni tahlil qilaylik:\n",
    "- 1-qatorda klass nomidan so'ng, qavs ichida super klass nomini berdik\n",
    "- 5-qatorda (`def __init__ ichida`) klassimiz super klassning xususiyatlarini meros olishini ko'rsatdik \n",
    "\n",
    "Yangi yaratgan `Talaba` klassimiz Shaxsning barcha xususiyatlari va metodlariga ega bo'ladi."
   ]
  },
  {
   "cell_type": "code",
   "execution_count": 7,
   "metadata": {},
   "outputs": [
    {
     "name": "stdout",
     "output_type": "stream",
     "text": [
      "Valijon Aliyev. Passport:FA112299, 2000-yilda tug`ilgan\n"
     ]
    }
   ],
   "source": [
    "talaba = Talaba(\"Valijon\",\"Aliyev\",\"FA112299\",2000)\n",
    "print(talaba.get_info())"
   ]
  },
  {
   "cell_type": "markdown",
   "metadata": {},
   "source": [
    "Talaba klassi uchun alohida `get_info()` metodini yozmagan bo'lsakda, bu metod `Talaba`ga `Shaxs`dan meros o'tdi.\n",
    "Huddi shu kabi `get_age()` metodiga ham murojat qilishimiz mumkin:"
   ]
  },
  {
   "cell_type": "code",
   "execution_count": 10,
   "metadata": {},
   "outputs": [
    {
     "name": "stdout",
     "output_type": "stream",
     "text": [
      "21\n"
     ]
    }
   ],
   "source": [
    "print(talaba.get_age(2021))"
   ]
  },
  {
   "cell_type": "markdown",
   "metadata": {},
   "source": [
    "> Dastur davomida super klass voris klasslardan avval yozilgan (chaqirilgan) bo'lishi kerak.\n"
   ]
  },
  {
   "cell_type": "markdown",
   "metadata": {},
   "source": [
    "## VORIS KLASSGA XOS XUSUSIYATLAR VA METODLAR\n",
    "\n",
    "Hozirgi ko'rinishda `Talaba` va `Shaxs` klasslari o'rtasida hech qanday farq yo'q. Keling `Talaba` klassimizga o'ziga xos xususiyatlar va metodlar yarataylik. Avvalosiga, talabaning bosqichi va ID raqamini xususiyat sifatida qo'shamiz. Bunda ID raqami obyekt yaratilishida parameter sifatida uzatiladi, bosqich esa standart qiymatga ega."
   ]
  },
  {
   "cell_type": "code",
   "execution_count": 11,
   "metadata": {},
   "outputs": [],
   "source": [
    "class Talaba(Shaxs):\n",
    "    \"\"\"Talaba klassi\"\"\"\n",
    "    def __init__(self, ism, familiya, passport, tyil,idraqam):\n",
    "        \"\"\"Talabaning xususiyatlari\"\"\"\n",
    "        super().__init__(ism, familiya, passport, tyil)\n",
    "        self.idraqam = idraqam\n",
    "        self.bosqich = 1"
   ]
  },
  {
   "cell_type": "markdown",
   "metadata": {},
   "source": [
    "Endi yangi, `Talaba` obyektini yaratishda qo'shimcha `idraqam` parametrini ham kiritish talab qilinadi:\n"
   ]
  },
  {
   "cell_type": "code",
   "execution_count": 12,
   "metadata": {},
   "outputs": [],
   "source": [
    "talaba = Talaba(\"Valijon\",\"Aliyev\",\"FA112299\",2000,\"0000012\")"
   ]
  },
  {
   "cell_type": "markdown",
   "metadata": {},
   "source": [
    "So'ngra, bu qiymatlarni qaytaruvchi alohida metodlar yozamiz:\n"
   ]
  },
  {
   "cell_type": "code",
   "execution_count": 13,
   "metadata": {},
   "outputs": [],
   "source": [
    "class Talaba(Shaxs):\n",
    "    \"\"\"Talaba klassi\"\"\"\n",
    "    def __init__(self, ism, familiya, passport, tyil,idraqam):\n",
    "        \"\"\"Talabaning xususiyatlari\"\"\"\n",
    "        super().__init__(ism, familiya, passport, tyil)\n",
    "        self.idraqam = idraqam\n",
    "        self.bosqich = 1\n",
    "    \n",
    "    def get_id(self):\n",
    "        \"\"\"Talabaning ID raqami\"\"\"\n",
    "        return self.idraqam\n",
    "    \n",
    "    def get_bosqich(self):\n",
    "        \"\"\"Talabaning o'qish bosqichi\"\"\"\n",
    "        return self.bosqich"
   ]
  },
  {
   "cell_type": "markdown",
   "metadata": {},
   "source": [
    "Metodlarni tekshirib ko'ramiz:\n"
   ]
  },
  {
   "cell_type": "code",
   "execution_count": 21,
   "metadata": {},
   "outputs": [
    {
     "name": "stdout",
     "output_type": "stream",
     "text": [
      "Valijon Aliyev. 1-bosqich. ID raqami: 0000012. ID raqami:0000012\n"
     ]
    }
   ],
   "source": [
    "talaba = Talaba(\"Valijon\",\"Aliyev\",\"FA112299\",2000,\"0000012\")\n",
    "print(f\"{talaba.get_info()}. ID raqami:{talaba.get_id()}\")"
   ]
  },
  {
   "cell_type": "code",
   "execution_count": 15,
   "metadata": {},
   "outputs": [
    {
     "name": "stdout",
     "output_type": "stream",
     "text": [
      "1-bosqich talabasi\n"
     ]
    }
   ],
   "source": [
    "print(f\"{talaba.get_bosqich()}-bosqich talabasi\")"
   ]
  },
  {
   "cell_type": "markdown",
   "metadata": {},
   "source": [
    "Shu zayilda yangi klassimizga istalgancha yangi xususiyatlar va metodlar qo'shishimiz mumkin. Bunda, agar yangi xususiyat yoki metod super klassga ham aloqador bo'lsa uni birdan super klassga qo'shish tavsiya qilinadi.\n",
    "\n",
    "> Voris klass boshqa klass uchun super klass bo'lishi mumkin.\n",
    "\n",
    "# POLIMORFIZM — SUPER KLASS METODLARINI QAYTA YOZISH\n",
    "\n",
    "Voris klassga super klassdan meros qolgan istalgan metodni qayta talqin qilish mumkin. Avvalgi misolimizdagi `get_info()` super metodini ko'raylik, bu metod talabaning ismi, familiyasi, passport raqami va tug'ilgan yilini qaytaradi:"
   ]
  },
  {
   "cell_type": "code",
   "execution_count": 18,
   "metadata": {},
   "outputs": [
    {
     "name": "stdout",
     "output_type": "stream",
     "text": [
      "Valijon Aliyev. Passport:FA112299, 2000-yilda tug`ilgan\n"
     ]
    }
   ],
   "source": [
    "print(talaba.get_info())"
   ]
  },
  {
   "cell_type": "markdown",
   "metadata": {},
   "source": [
    "Endi `get_info()` metodi talabaga mos ma'lumotlar qaytarishi uchun, `Talaba` klassi ichida huddi shu nomli metodni qayta yozamiz:\n"
   ]
  },
  {
   "cell_type": "code",
   "execution_count": 19,
   "metadata": {},
   "outputs": [],
   "source": [
    "class Talaba(Shaxs):\n",
    "    \"\"\"Talaba klassi\"\"\"\n",
    "    def __init__(self,ism,familiya,passport,tyil,idraqam):\n",
    "        \"\"\"Talabaning xususiyatlari\"\"\"\n",
    "        super().__init__(ism, familiya, passport, tyil)\n",
    "        self.idraqam = idraqam\n",
    "        self.bosqich = 1\n",
    "    \n",
    "    def get_id(self):\n",
    "        \"\"\"Talabaning ID raqami\"\"\"\n",
    "        return self.idraqam\n",
    "    \n",
    "    def get_bosqich(self):\n",
    "        \"\"\"Talabaning o'qish bosqichi\"\"\"\n",
    "        return self.bosqich\n",
    "    \n",
    "    def get_info(self):\n",
    "        \"\"\"Talaba haqida ma'lumot\"\"\"\n",
    "        info = f\"{self.ism} {self.familiya}. \"\n",
    "        info += f\"{self.get_bosqich()}-bosqich. ID raqami: {self.idraqam}\"\n",
    "        return info"
   ]
  },
  {
   "cell_type": "markdown",
   "metadata": {},
   "source": [
    "Metodni tekshirib ko'ramiz:\n"
   ]
  },
  {
   "cell_type": "code",
   "execution_count": 22,
   "metadata": {},
   "outputs": [
    {
     "name": "stdout",
     "output_type": "stream",
     "text": [
      "Valijon Aliyev. 1-bosqich. ID raqami: 0000012\n"
     ]
    }
   ],
   "source": [
    "talaba = Talaba(\"Valijon\",\"Aliyev\",\"FA112299\",2000,\"0000012\")\n",
    "print(talaba.get_info())"
   ]
  },
  {
   "cell_type": "markdown",
   "metadata": {},
   "source": [
    "# OBYEKT ICHIDA OBYEKT\n",
    "\n",
    "Ba'zida klassimiz xususiyatlar va ular bilan ishlaydigan metodlarga to'lib ketishi, bu esa o'z navbatida obyektga murojat qilishni qiyinlashitirishi mumkin. Shunday holatlarda ba'zi xususiyatlarni alohida klass ko'rinishida yozish va keyinchalik bu klassdan yaratilgan obyektni boshqa obyektning xususiyati sifatida foydalanish mumkin.\n",
    "\n",
    "Misol uchun, yuqoridagi `Shaxs` klassimizga yana bir `manzil` degan xususiyat qo'shaylik. Odatda manzil bir nechta qismlardan iborat bo'ladi (xonadon, ko'cha, mahalla, tuman/shahar, viloyat, indeks va hokazo) va ularning har biri uchun `Shaxs` ichida alohida xususiyat yaratmasdan, alohida `manzil` degan *klassga* yuklash maqsadga muvofiq bo'ladi. "
   ]
  },
  {
   "cell_type": "code",
   "execution_count": 23,
   "metadata": {},
   "outputs": [],
   "source": [
    "class Manzil:\n",
    "    \"\"\"Manzil saqlash uchun klass\"\"\"\n",
    "    def __init__(self,uy,kocha,tuman,viloyat):\n",
    "        \"\"\"Manzil xususiyatlari\"\"\"\n",
    "        self.uy = uy\n",
    "        self.kocha = kocha\n",
    "        self.tuman = tuman\n",
    "        self.viloyat = viloyat\n",
    "    \n",
    "    def get_manzil(self):\n",
    "        \"\"\"Manzilni ko'rish\"\"\"\n",
    "        manzil = f\"{self.viloyat} viloyati, {self.tuman} tumani, \"\n",
    "        manzil += f\"{self.kocha} ko'chasi, {self.uy}-uy\"\n",
    "        return manzil"
   ]
  },
  {
   "cell_type": "markdown",
   "metadata": {},
   "source": [
    "`Talaba` klassimizga ham qo'shimcha `manzil` xususiyatini qo'shamiz:\n"
   ]
  },
  {
   "cell_type": "code",
   "execution_count": 24,
   "metadata": {},
   "outputs": [],
   "source": [
    "class Talaba(Shaxs):\n",
    "    \"\"\"Talaba klassi\"\"\"\n",
    "    def __init__(self,ism,familiya,passport,tyil,idraqam,manzil):\n",
    "        \"\"\"Talabaning xususiyatlari\"\"\"\n",
    "        super().__init__(ism, familiya, passport, tyil)\n",
    "        self.idraqam = idraqam\n",
    "        self.bosqich = 1\n",
    "        self.manzil = manzil\n",
    "    \n",
    "    def get_id(self):\n",
    "        \"\"\"Talabaning ID raqami\"\"\"\n",
    "        return self.idraqam\n",
    "    \n",
    "    def get_bosqich(self):\n",
    "        \"\"\"Talabaning o'qish bosqichi\"\"\"\n",
    "        return self.bosqich\n",
    "    \n",
    "    def get_info(self):\n",
    "        \"\"\"Talaba haqida ma'lumot\"\"\"\n",
    "        info = f\"{self.ism} {self.familiya}. \"\n",
    "        info += f\"{self.get_bosqich()}-bosqich. ID raqami: {self.idraqam}\"\n",
    "        return info"
   ]
  },
  {
   "cell_type": "markdown",
   "metadata": {},
   "source": [
    "Keling endi talaba obyektini qayta yaratamiz. Bu safar talabaning manzili ham alohida obyekt sifatida talaba ga uzatiladi:\n"
   ]
  },
  {
   "cell_type": "code",
   "execution_count": 25,
   "metadata": {},
   "outputs": [],
   "source": [
    "talaba_manzil = Manzil(12,'Olmazor',\"Bog'bon\",\"Samarqand\")\n",
    "talaba = Talaba(\"Valijon\",\"Aliyev\",\"FA112299\",2000,\"0000012\",talaba_manzil)"
   ]
  },
  {
   "cell_type": "markdown",
   "metadata": {},
   "source": [
    "Obyekt ichidagi obyektning xususiyatlari va metodlariga ham avvalgidek nuqta orqali murojat qilishimiz mumkin:\n"
   ]
  },
  {
   "cell_type": "code",
   "execution_count": 26,
   "metadata": {},
   "outputs": [
    {
     "name": "stdout",
     "output_type": "stream",
     "text": [
      "Samarqand viloyati, Bog'bon tumani, Olmazor ko'chasi, 12-uy\n"
     ]
    }
   ],
   "source": [
    "print(talaba.manzil.get_manzil())"
   ]
  },
  {
   "cell_type": "code",
   "execution_count": 27,
   "metadata": {},
   "outputs": [
    {
     "name": "stdout",
     "output_type": "stream",
     "text": [
      "Bog'bon\n"
     ]
    }
   ],
   "source": [
    "print(talaba.manzil.tuman)"
   ]
  },
  {
   "cell_type": "markdown",
   "metadata": {},
   "source": [
    "# AMALIYOT\n",
    "- `Talaba` klassiga yana bir, `fanlar` degan xususiyat qo'shing. Bu xususiyat parametr sifatida uzatilmasin va obyekt yaratilganida bo'sh ro'yxatdan iborat bo'lsin (`self.fanlar=[]`)\n",
    "- `Fan` degan yangi klass yarating va bu klassdan turli fanlar uchun alohida obyektlar yarating.\n",
    "- Talaba klassiga `fanga_yozil()` degan yangi metod yozing. Bu metod parametr sifatida `Fan` klassiga tegishli obyektlarni qabul qilib olsin va talabaning fanlar ro'yxatiga qo'shib qo'ysin.\n",
    "- Talabaning fanlari ro'yxatidan biror fanni o'chirib tashlash uchun `remove_fan()` metodini yozing. Agar bu metodga ro'yxatda yo'q fan uzatilsa `\"Siz bu fanga yozilmagansiz\"` xabarini qaytarsin.\n",
    "- Yuqoridagi `Shaxs` klassidan boshqa turli voris klasslar yaratib ko'ring (masalan `Professor`, `Foydalanuvchi`, `Sotuvchi`, `Mijoz` va hokazo)\n",
    "- Har bir klassga o'ziga hoz xususiyatlar va metodlar yuklang.\n",
    "- Barcha yangi klasslar uchun `get_info()` metodini qayta yozib chiqing.\n",
    "- Voris klasslardan yana boshqa voris klass yaratib ko'ring. Misol uchun `Foydalanuvchi` klassidan `Admin` klassini yarating. \n",
    "- `Admin` klassiga foydalanuvchida yo'q yangi metodlar yozing, masalan, `ban_user()` metodi konsolga `\"Foydalanuvchi bloklandi\"` degan matn chiqarsin."
   ]
  }
 ],
 "metadata": {
  "language_info": {
   "codemirror_mode": {
    "name": "ipython",
    "version": 3
   },
   "file_extension": ".py",
   "mimetype": "text/x-python",
   "name": "python",
   "nbconvert_exporter": "python",
   "pygments_lexer": "ipython3",
   "version": "3.8.6"
  }
 },
 "nbformat": 4,
 "nbformat_minor": 2
}