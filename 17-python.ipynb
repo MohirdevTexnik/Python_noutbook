{
 "cells": [
  {
   "cell_type": "markdown",
   "metadata": {},
   "source": [
    "# 17-DARS. `while` TSIKLI\n",
    "`while` tsikli bilan tanishamiz"
   ]
  },
  {
   "cell_type": "markdown",
   "metadata": {},
   "source": [
    "![](https://gblobscdn.gitbook.com/assets%2F-MGbkqs1tROquIT6oqUs%2F-Mc-5yGQPZTBaGoehQdL%2F-Mc-7xpq4Puu3KEjmT0R%2FSD_YT_TG_logo_mini.png?alt=media&token=929fe67b-ec12-4f63-b33e-e9c5e3d8ad09)\n",
    "\n",
    "# YANA `input()`\n",
    "\n",
    "Dasturlar foydalanuvchining muammolarini hal qilish uchun yoziladi. Buning uchun esa, foydalanuvchi bilan aloqa o'rnatish, undan turli ma'lumotlarni qabul qilib olib talab etiladi. Misol uchun, dasturimiz foydalanuvchiga ismi bilan murojat qilishi uchun, avval uning ismini so'rashi kerak. Yoki, foydalanuvchi istagan ma'lumotni topish uchun avval undan biror kalit so'z kiritishni so'rash kerak va hokazo.\n",
    "\n",
    "Biz avvalgi darsimizda `input()` yordamida foydalanuvchidan qiymat qilishni o'rgangan edik. Dastur davomida `input()` funktsiyasini chaqirganimizda dastur foydalanuvchi biror matn kiritiib, Enter tugmasini bosgunga qadar to'xtab turadi. \n",
    "\n",
    "Foydalanuvchi kiritgan qiymatni biror o'zgaruvchiga yuklash, va undan dastur davomida foydalanish mumkin."
   ]
  },
  {
   "cell_type": "code",
   "execution_count": 5,
   "metadata": {},
   "outputs": [
    {
     "name": "stdout",
     "output_type": "stream",
     "text": [
      "Ismingiz nima? Anvar\n",
      "Salom, Anvar\n"
     ]
    }
   ],
   "source": [
    "ism = input(\"Ismingiz nima? \")\n",
    "print(f'Salom, {ism.title()}')"
   ]
  },
  {
   "cell_type": "markdown",
   "metadata": {},
   "source": [
    "`input()` finktsiyasi ichidagi matn ingliz tilida prompt, savol deyiladi. Aslida biz savolni ham o'zgaruvchiga yuklab, shaxsiy so'rovnomalar ham yaratishimiz mumkin."
   ]
  },
  {
   "cell_type": "code",
   "execution_count": 6,
   "metadata": {},
   "outputs": [
    {
     "name": "stdout",
     "output_type": "stream",
     "text": [
      "Ismingiz nima? Hamida\n",
      "Salom, Hamida. Yoshingiz nechida? 11\n"
     ]
    }
   ],
   "source": [
    "ism = input(\"Ismingiz nima? \")\n",
    "savol = f\"Salom, {ism.title()}. Yoshingiz nechida? \"\n",
    "yosh = input(savol)"
   ]
  },
  {
   "cell_type": "markdown",
   "metadata": {},
   "source": [
    "Yuqorida birinchi `input()` bilan foydalanuvchi ismini so'radik va yangi savol matnini yasab oldik. \n",
    "\n",
    "## Sonlar va input()\n",
    "\n",
    "`input()` funktsiyasi har qanday kiritilgan qiymatni matn sifatida qabul qilib oladi. Agar foydalanuvchidan son talab qilinsa, foydalanuvchi kiritgan qiymatni butun (integer) yoki on'lik (float) son ko'rinishiga o'tkazib olish kerak.\n",
    "\n",
    "Buning uchun `int()` yoki `float()` funktsiyalaridan foydalanamiz."
   ]
  },
  {
   "cell_type": "code",
   "execution_count": 7,
   "metadata": {},
   "outputs": [
    {
     "name": "stdout",
     "output_type": "stream",
     "text": [
      "Ismingiz nima? Maryam\n",
      "Salom, Maryam. Yoshingiz nechida? 6\n",
      "Bo'yingiz necha metr? 1.2\n"
     ]
    }
   ],
   "source": [
    "ism = input(\"Ismingiz nima? \")\n",
    "savol = f\"Salom, {ism.title()}. Yoshingiz nechida? \"\n",
    "yosh = input(savol)\n",
    "yosh = int(yosh) # yosh ni butun songa o'tkazamiz\n",
    "height = input(\"Bo'yingiz necha metr? \")\n",
    "height = float(height) # bo'yni o'nlik songa o'tkazamiz"
   ]
  },
  {
   "cell_type": "markdown",
   "metadata": {},
   "source": [
    "> Foydalanuvchidan qiymat so'raganingizda input()ichidagi savolni aniq va tushunarli qilib yozing. Masalan: `input(\"Tug'ilgan yilingizni kiriting: \")`\n",
    "\n",
    "# while TSIKLI BILAN TANISHAMIZ\n",
    "\n",
    "Biz avvalroq for tsikli bilan tanishgan edik. for tsikli ma'lum bir ro'yxatni olib, ro'yxat ichidagi qiymatlar tugaginga qadar biror kodni takrorlar edi. while ham takrorlash operatori bo'lib, for dan farqli ravishda, toki ma'lum bir shart to'g'ri (True) bo'lsa, kodni takrorlayveradi.  \n",
    "\n",
    "> **while** so'zi ingiz tilidan \"toki\" yoki \"-gacha\" deb tarjima qilinadi.\n",
    "\n",
    "Keling sodda misol ko'ramiz, while yordamida 5 gacha sanaymiz:"
   ]
  },
  {
   "cell_type": "code",
   "execution_count": 8,
   "metadata": {},
   "outputs": [
    {
     "name": "stdout",
     "output_type": "stream",
     "text": [
      "1 2 3 4 5 "
     ]
    }
   ],
   "source": [
    "son = 1 # son ga 1 qiymatini beramiz\n",
    "while son<=5: # toki son 5 dan kichik yoki teng ekan...\n",
    "    print(son, end=' ') # son ni konsolga chiqaramiz,\n",
    "    son = son+1 # songa 1 qo'shamiz."
   ]
  },
  {
   "cell_type": "markdown",
   "metadata": {},
   "source": [
    "Yuqoridagi kodni tahlil qilamiz: \n",
    "- avval son degan o'zgaruvchi yaratdik va unga 1 qiymatini berdik. \n",
    "- 2-qatorda esa toki son 5 dan kichik yoki teng ekan 3-4-qatorlarni bajar dedik. \n",
    "- 3-qatorda son ni konsolga chiqardik\n",
    "- 4-qatorda son ga 1 qo'shdik. \n",
    "- 4-qatordan so'ng kod yana 2-qatorga qaytadi va son<=5 shartini tekshiradi, agar shart bajarilsa 3-4 qator qayta-qayta bajarilaveradi. \n",
    "- 5-qadamdan so'ng son=5 bo'lganda while tsikli to'xtaydi.\n",
    "\n",
    "> Pythonda **`+=`** operatori bor. Bu operator o'ng tarafdagi qiymatni chap tarafdagi qiymatga qo'shadi. Misol uchun, yuqorida `son = son + 1` o'rniga `son += 1` deb yozishimiz mumkin.\n",
    "\n",
    "# `while` va `input()`\n",
    "\n",
    "Shu paytgacha yozgan dasturlarimiz faqatgina bir martta bajarilayotgan edi. `while` tsikli yordamida dasturni to'xtatish imkoniyatini foydalanuvchiga berishimiz mumkin."
   ]
  },
  {
   "cell_type": "code",
   "execution_count": 10,
   "metadata": {},
   "outputs": [
    {
     "name": "stdout",
     "output_type": "stream",
     "text": [
      "Kiritilgan sonning kvadratini qaytaruvchi dastur.\n",
      "Istalgan son kiriting (dasturni to'xtatish uchun 'exit' deb yozing): 3\n",
      "9.0\n",
      "Istalgan son kiriting (dasturni to'xtatish uchun 'exit' deb yozing): 5\n",
      "25.0\n",
      "Istalgan son kiriting (dasturni to'xtatish uchun 'exit' deb yozing): exit\n"
     ]
    }
   ],
   "source": [
    "print(\"Kiritilgan sonning kvadratini qaytaruvchi dastur.\")\n",
    "savol = \"Istalgan son kiriting \"\n",
    "savol += \"(dasturni to'xtatish uchun 'exit' deb yozing): \"\n",
    "qiymat = ''\n",
    "while qiymat != 'exit':\n",
    "    qiymat = input(savol)\n",
    "    if qiymat != 'exit':\n",
    "        print(float(qiymat)**2)"
   ]
  },
  {
   "cell_type": "markdown",
   "metadata": {},
   "source": [
    "Yuoqridagi dasturimiz toki foydalanuvchi `exit` deb yozguniga qadar takrorlanaveradi.\n",
    "\n",
    "## **Ishora (flag)**\n",
    "\n",
    "Yuqoridagi dasturda dasturni to'xtatish uchun yagona shartni tekshirdik (qiymat!='exit'), katta dasturlarda bir emas bir nechta shartlarni tekshirish, va ulardan biri bajarilgan taqdirda dasturni to'xtatish talab qilinishi mumkin. \n",
    "\n",
    "Bunday holatlarda biror o'zgaruvchidan ishora (flag) sifatida foydalanishimiz mumkin. Agar dastur bajarilishi davomida dasturni to'xtatish shartlaridan biri bajarilganda ishora o'zgaruvchining qiymatini o'zgartiramiz va dastur o'z-o'zidan to'xtaydi. "
   ]
  },
  {
   "cell_type": "code",
   "execution_count": 12,
   "metadata": {},
   "outputs": [
    {
     "name": "stdout",
     "output_type": "stream",
     "text": [
      "Kiritilgan sonning kvadratini qaytaruvchi dastur.\n",
      "Istalgan son kiriting (dasturni to'xtatish uchun 'exit' deb yozing): 3\n",
      "9.0\n",
      "Istalgan son kiriting (dasturni to'xtatish uchun 'exit' deb yozing): 5\n",
      "25.0\n",
      "Istalgan son kiriting (dasturni to'xtatish uchun 'exit' deb yozing): exit\n"
     ]
    }
   ],
   "source": [
    "print(\"Kiritilgan sonning kvadratini qaytaruvchi dastur.\")\n",
    "savol = \"Istalgan son kiriting \"\n",
    "savol += \"(dasturni to'xtatish uchun 'exit' deb yozing): \"\n",
    "ishora = True\n",
    "while ishora:\n",
    "    qiymat = input(savol)\n",
    "    if qiymat == 'exit':\n",
    "        ishora = False\n",
    "    else:\n",
    "        print(float(qiymat)**2)"
   ]
  },
  {
   "cell_type": "markdown",
   "metadata": {},
   "source": [
    "# `BREAK` OPERATORI\n",
    "`Break` operatori yordamida ma'lum bir shartni tekshirish va `while`tsikli bajarilishini to'xtatib qo'yish mumkin. \n"
   ]
  },
  {
   "cell_type": "code",
   "execution_count": 13,
   "metadata": {},
   "outputs": [
    {
     "name": "stdout",
     "output_type": "stream",
     "text": [
      "Kiritilgan sonning kvadratini qaytaruvchi dastur.\n",
      "Istalgan son kiriting (dasturni to'xtatish uchun 'exit' deb yozing): 6\n",
      "36.0\n",
      "Istalgan son kiriting (dasturni to'xtatish uchun 'exit' deb yozing): 10\n",
      "100.0\n",
      "Istalgan son kiriting (dasturni to'xtatish uchun 'exit' deb yozing): exit\n"
     ]
    }
   ],
   "source": [
    "print(\"Kiritilgan sonning kvadratini qaytaruvchi dastur.\")\n",
    "savol = \"Istalgan son kiriting \"\n",
    "savol += \"(dasturni to'xtatish uchun 'exit' deb yozing): \"\n",
    "\n",
    "while True: # abadiy tsikl\n",
    "    qiymat = input(savol)\n",
    "    if qiymat == 'exit':\n",
    "        break # tsiklni to'xtatish\n",
    "    else:\n",
    "        print(float(qiymat)**2)\n",
    "    "
   ]
  },
  {
   "cell_type": "markdown",
   "metadata": {},
   "source": [
    "`Break` operatori `for`tsiklini to'xtatish uchun ham ishlatiladi."
   ]
  },
  {
   "cell_type": "code",
   "execution_count": 14,
   "metadata": {},
   "outputs": [
    {
     "name": "stdout",
     "output_type": "stream",
     "text": [
      "1 ning kvadrati 1 ga teng\n",
      "2 ning kvadrati 4 ga teng\n",
      "3 ning kvadrati 9 ga teng\n",
      "4 ning kvadrati 16 ga teng\n"
     ]
    }
   ],
   "source": [
    "sonlar = list(range(1,11))\n",
    "for son in sonlar: \n",
    "    if son == 5: # son 5 ga teng bo'lsa kod to'xtaydi\n",
    "        break\n",
    "    print(f\"{son} ning kvadrati {son**2} ga teng\")\n"
   ]
  },
  {
   "cell_type": "markdown",
   "metadata": {},
   "source": [
    ">while tsikli ichida bir nechta break operatori ham bo'lishi mumkin.\n",
    "# `CONTINUE` OPERATORI\n",
    "Continue operatori esa aksincha, ma'lum bir shart bajarilganda qadam tashlab o'tish uchun mo'ljallangan.\n"
   ]
  },
  {
   "cell_type": "code",
   "execution_count": 1,
   "metadata": {},
   "outputs": [
    {
     "name": "stdout",
     "output_type": "stream",
     "text": [
      "1 ning kvadrati 1 ga teng\n",
      "2 ning kvadrati 4 ga teng\n",
      "3 ning kvadrati 9 ga teng\n",
      "4 ning kvadrati 16 ga teng\n",
      "6 ning kvadrati 36 ga teng\n",
      "7 ning kvadrati 49 ga teng\n",
      "8 ning kvadrati 64 ga teng\n",
      "9 ning kvadrati 81 ga teng\n",
      "10 ning kvadrati 100 ga teng\n"
     ]
    }
   ],
   "source": [
    "sonlar = list(range(1,11))\n",
    "for son in sonlar:\n",
    "    if son == 5: # son 5 ga teng bo'lsa tiskl boshiga qaytadi\n",
    "        continue\n",
    "    print(f\"{son} ning kvadrati {son**2} ga teng\")"
   ]
  },
  {
   "cell_type": "markdown",
   "metadata": {},
   "source": [
    "Yuqoridagi kodga e'tibor qiling, qaysi sonning kvadrati yo'q?"
   ]
  },
  {
   "cell_type": "code",
   "execution_count": 2,
   "metadata": {},
   "outputs": [
    {
     "name": "stdout",
     "output_type": "stream",
     "text": [
      "2\n",
      "4\n",
      "6\n",
      "8\n",
      "10\n"
     ]
    }
   ],
   "source": [
    "son = 0\n",
    "while son<10:\n",
    "    son += 1\n",
    "    if son%2!=0:\n",
    "        continue\n",
    "    else:\n",
    "        print(son)"
   ]
  },
  {
   "cell_type": "markdown",
   "metadata": {},
   "source": [
    "> `while` tsikli ichida bir nechta `continue` operatori ham bo'lishi mumkin.\n"
   ]
  },
  {
   "cell_type": "markdown",
   "metadata": {},
   "source": [
    "# ABADIY TSIKL TUZOG'I\n",
    "\n",
    "Tsikllar bilan ishlashda abadiy tsikl yaratib qo'yishdan ehtiyot bo'lishimiz kerak. Abadiy tsiklga turli mantiqiy xatolar sabab bo'lishi mumkin: noto'g'ri shart, o'zgarmas qiymat, kodlar ketma-ketligida xatolik va hokazo. \n",
    "\n",
    "Keling ba'zi misollarni ko'ramiz:"
   ]
  },
  {
   "cell_type": "code",
   "execution_count": null,
   "metadata": {},
   "outputs": [],
   "source": [
    "# infinite loop\n",
    "son = 0\n",
    "while son<10:\n",
    "    if son%2!=0:\n",
    "        continue\n",
    "    else:\n",
    "        print(son)"
   ]
  },
  {
   "cell_type": "markdown",
   "metadata": {},
   "source": [
    "Bu kod ham abadiy davom etadi, lekin nima uchun?\n"
   ]
  },
  {
   "cell_type": "code",
   "execution_count": null,
   "metadata": {},
   "outputs": [],
   "source": [
    "son = 1\n",
    "while son>0: \n",
    "    son += 1\n",
    "    if son%2!=0:\n",
    "        continue\n",
    "    else:\n",
    "        print(son)"
   ]
  },
  {
   "cell_type": "markdown",
   "metadata": {},
   "source": [
    "Yuqoridagi kodda esa xato shart tufayli (`son>0`) kod abadiy aylanadi.\n"
   ]
  },
  {
   "cell_type": "markdown",
   "metadata": {},
   "source": [
    "> **DIQQAT!* Abadiy tsikl bajarilishini to'xtatish uchun konsolda **`Ctrl+C`** tugmasini bosing\n"
   ]
  },
  {
   "cell_type": "markdown",
   "metadata": {},
   "source": [
    "# AMALIYOT\n",
    "\n",
    "1. Foydalanuvchidan yaxshi ko'rgan kitoblarini kiritishni so'rang. Foydalanuvchi stop so'zini yozishi bilan dasturni to'xtating\n",
    "2. Muzeyga chipta narhi foydalanuvchining yoshiga bog'liq: 7 dan yoshlarga - 2000 so'm, 7-18 gacha 3000 so'm, 18-65 gacha 10000 so'm, 65 dan kattalarga bepul. Shunday while tsikl yozingki, dastur foydalanuvchi yoshini so'rasin va chipta narhini chiqarsin. Foydalanuvchi `exit` yoki `quit` deb yozganda dastur to'xtasin (ikkita shartni ham tekshiring).\n",
    "    - Yuqoridagi dasturni turli usullarda yozib ko'ring (break, ishora, yoki shart tekshirish)\n",
    "3. Quyidagi dasturda bir nechta mantiqiy xatolar bor. Jumladan, xusisiy holatlarda tsikl abadiy qaytarilib qolmoqda. Xatolarni to'g'rilay olasizmi?"
   ]
  },
  {
   "cell_type": "code",
   "execution_count": null,
   "metadata": {},
   "outputs": [],
   "source": [
    "savol =\"Kiritilgan sonning ildizini qaytaruvchi dastur.\\n\"\n",
    "savol += \"Musbat son kiriting \"\n",
    "savol += \"(dasturni to'xtatish uchun 'exit' deb yozing): \"\n",
    "\n",
    "while True:\n",
    "    qiymat = input(savol)\n",
    "    if qiymat<0:\n",
    "        continue\n",
    "    elif qiymat=='Exit':\n",
    "        break\n",
    "    else:\n",
    "        ildiz = float(qiymat)**(0.5)\n",
    "        print(f\"{qiymat} ning ildizi {ildiz} ga teng\")"
   ]
  },
  {
   "cell_type": "markdown",
   "metadata": {},
   "source": [
    "# JAVOBLAR"
   ]
  },
  {
   "cell_type": "code",
   "execution_count": 3,
   "metadata": {},
   "outputs": [
    {
     "name": "stdout",
     "output_type": "stream",
     "text": [
      "Sevgan kitobingizni kiriting(barcha kitoblarni kiritib bo'lgach 'exit' deb yozing): Quron\n",
      "Sevgan kitobingizni kiriting(barcha kitoblarni kiritib bo'lgach 'exit' deb yozing): Hadis\n",
      "Sevgan kitobingizni kiriting(barcha kitoblarni kiritib bo'lgach 'exit' deb yozing): exit\n",
      "Rahmat!\n"
     ]
    }
   ],
   "source": [
    "savol = \"Sevgan kitobingizni kiriting\"\n",
    "savol += \"(barcha kitoblarni kiritib bo'lgach 'exit' deb yozing): \"\n",
    "\n",
    "while True:\n",
    "    kitob = input(savol)\n",
    "    if kitob == 'exit':\n",
    "        break\n",
    "print('Rahmat!')"
   ]
  },
  {
   "cell_type": "code",
   "execution_count": 4,
   "metadata": {},
   "outputs": [
    {
     "name": "stdout",
     "output_type": "stream",
     "text": [
      "Yoshingizni kiriting: 22\n",
      "Chipta 10000 so'm\n",
      "Yoshingizni kiriting: 23\n",
      "Chipta 10000 so'm\n",
      "Yoshingizni kiriting: quit\n"
     ]
    }
   ],
   "source": [
    "savol = \"Yoshingizni kiriting: \"\n",
    "\n",
    "while True:\n",
    "    qiymat = input(savol)\n",
    "    if qiymat == 'exit' or qiymat == 'quit':\n",
    "        break\n",
    "    yosh = int(qiymat)\n",
    "    \n",
    "    if yosh<7:\n",
    "        narh = 2000\n",
    "    elif 7<=yosh<18:\n",
    "        narh = 3000\n",
    "    elif 18<=yosh<65:\n",
    "        narh = 10000\n",
    "    else: narh = 0\n",
    "    \n",
    "    if narh==0:\n",
    "        print(\"Sizga chipta bepul\")\n",
    "    else:\n",
    "        print(f\"Chipta {narh} so'm\")"
   ]
  },
  {
   "cell_type": "code",
   "execution_count": 5,
   "metadata": {},
   "outputs": [
    {
     "name": "stdout",
     "output_type": "stream",
     "text": [
      "Kiritilgan sonning ildizini qaytaruvchi dastur.\n",
      "Musbat son kiriting (dasturni to'xtatish uchun 'exit' deb yozing): -56\n",
      "Kiritilgan sonning ildizini qaytaruvchi dastur.\n",
      "Musbat son kiriting (dasturni to'xtatish uchun 'exit' deb yozing): 65\n",
      "65 ning ildizi 8.06225774829855 ga teng\n",
      "Kiritilgan sonning ildizini qaytaruvchi dastur.\n",
      "Musbat son kiriting (dasturni to'xtatish uchun 'exit' deb yozing): -9\n",
      "Kiritilgan sonning ildizini qaytaruvchi dastur.\n",
      "Musbat son kiriting (dasturni to'xtatish uchun 'exit' deb yozing): 9\n",
      "9 ning ildizi 3.0 ga teng\n",
      "Kiritilgan sonning ildizini qaytaruvchi dastur.\n",
      "Musbat son kiriting (dasturni to'xtatish uchun 'exit' deb yozing): exit\n"
     ]
    }
   ],
   "source": [
    "savol =\"Kiritilgan sonning ildizini qaytaruvchi dastur.\\n\"\n",
    "savol += \"Musbat son kiriting \"\n",
    "savol += \"(dasturni to'xtatish uchun 'exit' deb yozing): \"\n",
    "\n",
    "while True:\n",
    "    qiymat = input(savol)\n",
    "    if qiymat=='exit':\n",
    "        break\n",
    "    elif float(qiymat)<0:\n",
    "        continue # agar foydalanuvchi manfiy son kiritsa tsiklni takrorlaymiz\n",
    "    else:\n",
    "        ildiz = float(qiymat)**(0.5)\n",
    "        print(f\"{qiymat} ning ildizi {ildiz} ga teng\")\n",
    "    "
   ]
  }
 ],
 "metadata": {
  "language_info": {
   "codemirror_mode": {
    "name": "ipython",
    "version": 3
   },
   "file_extension": ".py",
   "mimetype": "text/x-python",
   "name": "python",
   "nbconvert_exporter": "python",
   "pygments_lexer": "ipython3",
   "version": "3.8.6"
  }
 },
 "nbformat": 4,
 "nbformat_minor": 2
}