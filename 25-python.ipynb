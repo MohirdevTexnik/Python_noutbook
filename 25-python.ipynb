{
 "cells": [
  {
   "cell_type": "markdown",
   "metadata": {},
   "source": [
    "# 28-DARS. KLASSLAR\n",
    "\n",
    "Pythonda klasslar bilan tanishamiz\n",
    "\n",
    "![](https://gblobscdn.gitbook.com/assets%2F-MGbkqs1tROquIT6oqUs%2F-Mc-5yGQPZTBaGoehQdL%2F-Mc-7xpq4Puu3KEjmT0R%2FSD_YT_TG_logo_mini.png?alt=media&token=929fe67b-ec12-4f63-b33e-e9c5e3d8ad09)"
   ]
  },
  {
   "cell_type": "markdown",
   "metadata": {},
   "source": [
    "# KIRISH\n",
    "\n",
    "Avvalgi darsimizda ko'rganimizdek, klasslar Object oriented dasturlashning poydevorlaridan biridir. Klasslar bizga dasturlashga va dastur elementlariga real hayotdagi buyumlar (obyektlarga) yondoshgandek yondoshish imkonin beradi.\n",
    "\n",
    "Klasslar, obyketlar va ularning qanday ishlashini tushungan dasturchi, mantiqiy fikrlashda ham kuchli bo'ladi. Mukammal va kompleks muammolarga ham yechimni ko'ra biladi.\n",
    "\n",
    "# PYTHONDAGI KLASSLAR\n",
    "\n",
    "Klass tushunchasi siz uchun yangi bo'lishi mumkin, lekin biz shu vaqtgacha ulardan doimiy ravishda foydalanib keldik.\n",
    "Keling `x` o'zgaruvchi yaratamiz, unga biror qiymat yuklaymiz va `type()` funksiyasi yordamida uning turini kuramiz:"
   ]
  },
  {
   "cell_type": "code",
   "execution_count": 1,
   "metadata": {},
   "outputs": [
    {
     "name": "stdout",
     "output_type": "stream",
     "text": [
      "<class 'int'>\n"
     ]
    }
   ],
   "source": [
    "x = 10\n",
    "print(type(x))"
   ]
  },
  {
   "cell_type": "code",
   "execution_count": 2,
   "metadata": {},
   "outputs": [
    {
     "name": "stdout",
     "output_type": "stream",
     "text": [
      "<class 'str'>\n"
     ]
    }
   ],
   "source": [
    "matn = \"salom\"\n",
    "print(type(matn))"
   ]
  },
  {
   "cell_type": "markdown",
   "metadata": {},
   "source": [
    "Yuqoridan ko'rayabmizki, `x` bu `int` klassidagi, `matn` esa `str` klassidagi obyektlar ekan. Demak biz o'zgaruvchi yaratganimizda, aslida Python `int` yoki `str` klassidan foydalangan holda yangi obyektlar yaratib kelayotgan ekan.\n",
    "\n",
    "Huddi shu kabi, agar yangi funksiya yaratib, uning ham turini tekshirsak, funksiyamiz `function` klassiga tegishli obyekt bo'lib chiqadi."
   ]
  },
  {
   "cell_type": "code",
   "execution_count": 3,
   "metadata": {},
   "outputs": [
    {
     "name": "stdout",
     "output_type": "stream",
     "text": [
      "<class 'function'>\n"
     ]
    }
   ],
   "source": [
    "def salom_ber():\n",
    "    print(\"Assalom alaykum\")\n",
    "\n",
    "print(type(salom_ber))"
   ]
  },
  {
   "cell_type": "markdown",
   "metadata": {},
   "source": [
    "Demak, Pythondagi har qanday o'zgaruvchi, funksiya va boshqa elementlar aslida obyektlar ekan.\n",
    "\n",
    "# METODLAR\n",
    "\n",
    "Har bir obyekt uning ustida bajarish mumkin bo'lgan funksiyalar bilan keladi. Bu funksiyalar obyekt ichida yashirin bo'ladi, va biz ularga nuqta va funksiya nomi orqali murojat qilishimiz mumkin. Bunday funksiyalar shu klass (yoki obyektga) tegishli **metodlar** deyiladi.\n",
    "\n",
    "Biz ba'zi metodlar bilan avvalgi darslarimizda tanishdik. Bir klassga tegishli metodlar, boshqa klassdagi obyketlar uchun mavjud bo'lmasligi tabiiy. Misol uchun matnlar uchun mavjud metodlarni, butun yoki o'nli sonlarga qo'llab bo'lmaydi."
   ]
  },
  {
   "cell_type": "code",
   "execution_count": 4,
   "metadata": {},
   "outputs": [
    {
     "name": "stdout",
     "output_type": "stream",
     "text": [
      "SALOM\n"
     ]
    }
   ],
   "source": [
    "matn = \"salom\"\n",
    "print(matn.upper())"
   ]
  },
  {
   "cell_type": "code",
   "execution_count": 5,
   "metadata": {},
   "outputs": [
    {
     "ename": "AttributeError",
     "evalue": "'int' object has no attribute 'lower'",
     "output_type": "error",
     "traceback": [
      "\u001b[0;31m---------------------------------------------------------------------------\u001b[0m",
      "\u001b[0;31mAttributeError\u001b[0m                            Traceback (most recent call last)",
      "\u001b[0;32m<ipython-input-5-78f49bcb3491>\u001b[0m in \u001b[0;36m<module>\u001b[0;34m\u001b[0m\n\u001b[1;32m      1\u001b[0m \u001b[0mson\u001b[0m \u001b[0;34m=\u001b[0m \u001b[0;36m20\u001b[0m\u001b[0;34m\u001b[0m\u001b[0;34m\u001b[0m\u001b[0m\n\u001b[0;32m----> 2\u001b[0;31m \u001b[0mprint\u001b[0m\u001b[0;34m(\u001b[0m\u001b[0mson\u001b[0m\u001b[0;34m.\u001b[0m\u001b[0mlower\u001b[0m\u001b[0;34m(\u001b[0m\u001b[0;34m)\u001b[0m\u001b[0;34m)\u001b[0m\u001b[0;34m\u001b[0m\u001b[0;34m\u001b[0m\u001b[0m\n\u001b[0m",
      "\u001b[0;31mAttributeError\u001b[0m: 'int' object has no attribute 'lower'"
     ]
    }
   ],
   "source": [
    "son = 20\n",
    "print(son.lower())"
   ]
  },
  {
   "cell_type": "markdown",
   "metadata": {},
   "source": [
    "Keling endi o'zimizning klasslarimizni yaratishni ko'ramiz.\n",
    "\n",
    "# KLASS YARATISH\n",
    "\n",
    "Yangi klass yaratish uchun `class` operatoridan foydalanamiz va klassimizga tushunarli nom beramiz. Esingizda bo'lsin, klass bu hali obyekt emas, bu obyekt uchun shablon. Shuning uchun klass yaratishda shu klassdagi obyektlar uchun umumiy bo'lgan xususiyatlar va funksiyalarni o'ylashimiz kerak.\n",
    "\n",
    "Keling, `Talaba` degan klass yaratamiz:"
   ]
  },
  {
   "cell_type": "code",
   "execution_count": 6,
   "metadata": {},
   "outputs": [],
   "source": [
    "class Talaba:\n",
    "    \"\"\"Talaba nomli klass yaratamiz\"\"\"\n",
    "    def __init__(self,ism,familiya,tyil):\n",
    "        \"\"\"Talabaning xususiyatlari\"\"\"\n",
    "        self.ism = ism\n",
    "        self.familiya = familiya\n",
    "        self.tyil = tyil"
   ]
  },
  {
   "cell_type": "markdown",
   "metadata": {},
   "source": [
    "Kodimizni tahlil qilamiz:\n",
    "- `class Talaba` — Talaba nomli klass yaratdik. Klasslarga nom berishda uning birinchi harfini katta harfdan boshlash tavsiya qilinadi. Agar klass nomi 2 va undan ko'p so'zdan iborat bo'lsa har bir so'zni katta harf bilan boshlang.\n",
    "- `def __init__(self)` — klassga tegishli xususiyatlarni saqlovchi maxsus metod (funksiya). self kalit so'zi ingliz tilidan \"o'zi\" deb tarjima qilinadi, va bu klassdan yaratilgan obyektning o'ziga ishora qiladi. Ya'ni keyinchalik biz obyekt ichidagi metodga murojat qilganimizda shu obyektning o'zi birinchi bo'lib funksiyaga argument sifatida uzatiladi, obyket ustida turli amallar bajarish imkonin beradi\n",
    "- `def __init__(self,ism,familiya,tyil)` — yaratayotgan klassimizga xos xususiyatlarni `def __init__(self)` funksiyasiga argument sifatida uzatamiz. Bizning Talaba klassimiz ism, familiya va tug'ilgan yilga ega bo'ladi. \n",
    "- Keyingi qatorlarda esa `self.xususiyat = argument` komandasi yordamida uzatilgan argumentlarni klassning xususiyatlari bilan bo'glayapmiz. Bu yerda xususiyat nomi uzatilgan argument nomi bilan mos tushishi shart emas, unga istalgan nom berishimiz mumkin (masalan `self.name = ism`)\n",
    "\n",
    "# KLASSDAN OBYEKT YARATAMIZ\n",
    "K\n",
    "lassimiz tayyor, keling endi klassimizdan yangi obyekt yaratamiz. "
   ]
  },
  {
   "cell_type": "code",
   "execution_count": 7,
   "metadata": {},
   "outputs": [],
   "source": [
    "talaba1 = Talaba(\"Alijon\",\"Valiyev\",2000)"
   ]
  },
  {
   "cell_type": "markdown",
   "metadata": {},
   "source": [
    "Mana, `talaba1` obyektimiz tayyor. Obyektni yaratish uchun Talaba klassiga murojat qildik va talabaning ismi, familiyasi va tug'ilgan yilini parameter sifatida uzatdik. \n",
    "\n",
    "## OBYKETNING XUSUSIYATLARINI KO'RISH\n",
    "\n",
    "Obyektning xususiyatlarini ko'rish uchun nuqta orqali murojat qilishimiz mumkin."
   ]
  },
  {
   "cell_type": "code",
   "execution_count": 8,
   "metadata": {},
   "outputs": [
    {
     "name": "stdout",
     "output_type": "stream",
     "text": [
      "Alijon\n"
     ]
    }
   ],
   "source": [
    "print(talaba1.ism)"
   ]
  },
  {
   "cell_type": "code",
   "execution_count": 9,
   "metadata": {},
   "outputs": [
    {
     "name": "stdout",
     "output_type": "stream",
     "text": [
      "Valiyev\n"
     ]
    }
   ],
   "source": [
    "print(talaba1.familiya)"
   ]
  },
  {
   "cell_type": "markdown",
   "metadata": {},
   "source": [
    "## KLASSDAN BIR NECHTA OBYEKTLAR YARATISH\n",
    "Yuqoridagi klassdan biz istalgancha obyektlar yaratishimiz mumkin:"
   ]
  },
  {
   "cell_type": "code",
   "execution_count": 10,
   "metadata": {},
   "outputs": [],
   "source": [
    "talaba2 = Talaba(\"Olim\",\"Olimov\",1995)\n",
    "talaba3 = Talaba(\"Husan\",\"Akbarov\",2004)\n",
    "talaba4 = Talaba(\"Hasan\",\"Akbarov\",2004)"
   ]
  },
  {
   "cell_type": "markdown",
   "metadata": {},
   "source": [
    "Bunda har bir obyekt o'zining alohida xususiyatlariga ega bo'ladi.\n"
   ]
  },
  {
   "cell_type": "code",
   "execution_count": 11,
   "metadata": {},
   "outputs": [
    {
     "name": "stdout",
     "output_type": "stream",
     "text": [
      "Olim\n"
     ]
    }
   ],
   "source": [
    "print(talaba2.ism)"
   ]
  },
  {
   "cell_type": "code",
   "execution_count": 12,
   "metadata": {},
   "outputs": [
    {
     "name": "stdout",
     "output_type": "stream",
     "text": [
      "Akbarov\n"
     ]
    }
   ],
   "source": [
    "print(talaba4.familiya)"
   ]
  },
  {
   "cell_type": "markdown",
   "metadata": {},
   "source": [
    "# KLASSGA METODLAR QO'SHAMIZ\n",
    "\n",
    "Obyektimizning xususiyatlarini aniqlab oldik, keling endi obyekt bajarishi kerak bo'lgan metodlarni ham qo'shaylik."
   ]
  },
  {
   "cell_type": "code",
   "execution_count": 13,
   "metadata": {},
   "outputs": [],
   "source": [
    "class Talaba:\n",
    "    \"\"\"Talaba nomli klass yaratamiz\"\"\"\n",
    "    def __init__(self,ism,familiya,tyil):\n",
    "        \"\"\"Talabaning xususiyatlari\"\"\"\n",
    "        self.ism = ism\n",
    "        self.familiya = familiya\n",
    "        self.tyil = tyil\n",
    "    \n",
    "    def tanishtir(self):\n",
    "        print(f\"Ismim {self.ism} {self.familiya}. {self.tyil} yilda tu'gilganman\")"
   ]
  },
  {
   "cell_type": "markdown",
   "metadata": {},
   "source": [
    "Boshlanishiga klassimizga bitta, `tanishtir` metodini qo'shdik. Bu metodimiz ko'rib turganingizdek bitta `self` (ya'ni obyektning o'zini) argumentini qabul qiladi va talaba haqidagi ma'lumotlarni konsolga chiqaradi.\n",
    "\n",
    "## OBYEKTNING METODLARIGA MUROJAT QILAMIZ\n",
    "\n",
    "Obyekt ichidagi funksiyaga ya'ni obyektning metodiga murojat qilamiz:"
   ]
  },
  {
   "cell_type": "code",
   "execution_count": 14,
   "metadata": {},
   "outputs": [
    {
     "name": "stdout",
     "output_type": "stream",
     "text": [
      "Ismim Hasan Akbarov. 2004 yilda tu'gilganman\n"
     ]
    }
   ],
   "source": [
    "talaba4 = Talaba(\"Hasan\",\"Akbarov\",2004)\n",
    "talaba4.tanishtir()"
   ]
  },
  {
   "cell_type": "markdown",
   "metadata": {},
   "source": [
    "Klassimiz istalgancha metodlardan iborat bo'lishi mumkin:\n"
   ]
  },
  {
   "cell_type": "code",
   "execution_count": 15,
   "metadata": {},
   "outputs": [],
   "source": [
    "class Talaba:\n",
    "    \"\"\"Talaba nomli klass yaratamiz\"\"\"\n",
    "    def __init__(self,ism,familiya,tyil):\n",
    "        \"\"\"Talabaning xususiyatlari\"\"\"\n",
    "        self.ism = ism\n",
    "        self.familiya = familiya\n",
    "        self.tyil = tyil\n",
    "    \n",
    "    def get_name(self):\n",
    "        \"\"\"Talabaning ismini qaytaradi\"\"\"\n",
    "        return self.ism\n",
    "    \n",
    "    def get_lastname(self):\n",
    "        \"\"\"Talabaning familiyasini qaytaradi\"\"\"\n",
    "        return self.familiya\n",
    "    \n",
    "    def get_fullname(self):\n",
    "        \"\"\"Talabaning ism-familiyasini qaytaradi\"\"\"\n",
    "        return f\"{self.ism} {self.familiya}\"\n",
    "    \n",
    "    def tanishtir(self):\n",
    "        print(f\"Ismim {self.ism} {self.familiya}. {self.tyil} yilda tu'gilganman\")"
   ]
  },
  {
   "cell_type": "code",
   "execution_count": 16,
   "metadata": {},
   "outputs": [
    {
     "name": "stdout",
     "output_type": "stream",
     "text": [
      "Alijon Valiyev\n"
     ]
    }
   ],
   "source": [
    "talaba1 = Talaba(\"Alijon\",\"Valiyev\",2000)\n",
    "print(talaba1.get_fullname())"
   ]
  },
  {
   "cell_type": "markdown",
   "metadata": {},
   "source": [
    "## ARGUMENT QABUL QILUVCHI METODLAR\n",
    "\n",
    "Yuqoridagi misolimizda barcha metodlar faqatgina self parametrini qabul qilishayapti. Aslida, barcha funksiyalar kabi, klass ichidagi obyektlarni ham boshqa argumentlar qabul qiladigan qilib yozish mumkin."
   ]
  },
  {
   "cell_type": "code",
   "execution_count": 17,
   "metadata": {},
   "outputs": [],
   "source": [
    "class Talaba:\n",
    "    \"\"\"Talaba nomli klass yaratamiz\"\"\"\n",
    "    def __init__(self,ism,familiya,tyil):\n",
    "        \"\"\"Talabaning xususiyatlari\"\"\"\n",
    "        self.ism = ism\n",
    "        self.familiya = familiya\n",
    "        self.tyil = tyil\n",
    "    \n",
    "    def get_name(self):\n",
    "        \"\"\"Talabaning ismini qaytaradi\"\"\"\n",
    "        return self.ism\n",
    "    \n",
    "    def get_lastname(self):\n",
    "        \"\"\"Talabaning familiyasini qaytaradi\"\"\"\n",
    "        return self.familiya\n",
    "    \n",
    "    def get_fullname(self):\n",
    "        \"\"\"Talabaning ism-familiyasini qaytaradi\"\"\"\n",
    "        return f\"{self.ism} {self.familiya}\"\n",
    "    \n",
    "    def get_age(self,yil):\n",
    "        \"\"\"Talabaning yoshini qaytaradi\"\"\"\n",
    "        return yil-self.tyil\n",
    "    \n",
    "    def tanishtir(self):\n",
    "        print(f\"Ismim {self.ism} {self.familiya}. {self.tyil} yilda tu'gilganman\")"
   ]
  },
  {
   "cell_type": "markdown",
   "metadata": {},
   "source": [
    "Yuqorida klassimizga yangi **`get_age(self, yil)`** metodini qo'shdik. Bu metod obyektning o'zidan tashqari, qo'shimcha, `yil` argumentini ham qabul qiladi va talabaning yoshini qaytaradi."
   ]
  },
  {
   "cell_type": "code",
   "execution_count": 18,
   "metadata": {},
   "outputs": [
    {
     "name": "stdout",
     "output_type": "stream",
     "text": [
      "21\n"
     ]
    }
   ],
   "source": [
    "talaba1 = Talaba(\"Alijon\",\"Valiyev\",2000)\n",
    "print(talaba1.get_age(2021))"
   ]
  },
  {
   "cell_type": "markdown",
   "metadata": {},
   "source": [
    "# `pass` OPERATORI\n",
    "\n",
    "Pythonda hech qanday vazifani bajarmaydigan `pass` operatori mavjud. Bu operatordan bo'sh metodlar yaratishda foydalanish mumkin. Misol uchun siz klassingiz uchun muhim metodlarni bilasiz, lekin metod badani hali tayyor emas. Agar metod badanini bo'sh qoldirsangiz, Python `IndentationError` xatosini qaytaradi. Shunday xolatlarda, funksiya badaniga `pass` operatorini qo'yib ketishimiz mumkin:"
   ]
  },
  {
   "cell_type": "code",
   "execution_count": 19,
   "metadata": {},
   "outputs": [],
   "source": [
    "class User:\n",
    "    def __int__(self,name,username,email):\n",
    "        self.name = name\n",
    "        self.uname = username\n",
    "        self.mail = email\n",
    "    \n",
    "    def describe():\n",
    "        pass\n",
    "    \n",
    "    def get_email():\n",
    "        pass"
   ]
  },
  {
   "cell_type": "markdown",
   "metadata": {},
   "source": [
    "Yuqoridagi klassimizda describe() va get_email() funksiyalar badani hali tayyor emas, bo'shliqni to'ldirish uchun esa pass operatoridan foydalanganmiz.\n",
    "\n",
    "> **`pass`** operatoridan `if-else`, `for`, `while` operatorlari badanida ham foydalanish mumkin.\n",
    "\n",
    "# AMALIYOT\n",
    "\n",
    "- Web sahifangiz uchun foydalanuvchi (`user`) klassini tuzing. Klassning xususiyatlari sifatida odatda ijtimoiy tarmoqlar talab qiladigan ma'lumotlarni kiriting (ism, foydalanuvchi ismi, email, va hokazo)\n",
    "- Klassga bir nechta metodlar qo'shing, jumladan `get_info()` metodi foydalanuvchi haqida yig'ilgan ma'lumotlarni chiroyli qilib chiqarsin (masalan: `\"Foydalanuvchi: alijon1994, ismi: Alijon Valiyev, email: alijon1994@gmail.com`).\n",
    "- Klassdan bir nechta obyektlar yarating va uning xususiyatlari va metodlariga murojat qiling."
   ]
  }
 ],
 "metadata": {
  "language_info": {
   "codemirror_mode": {
    "name": "ipython",
    "version": 3
   },
   "file_extension": ".py",
   "mimetype": "text/x-python",
   "name": "python",
   "nbconvert_exporter": "python",
   "pygments_lexer": "ipython3",
   "version": "3.8.6"
  }
 },
 "nbformat": 4,
 "nbformat_minor": 2
}