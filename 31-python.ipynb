{
 "cells": [
  {
   "cell_type": "markdown",
   "metadata": {},
   "source": [
    "# 31-DARS. INKAPSULYATSIA, KLASSNING XUSUSIYAT VA METODLARI\n",
    "\n",
    "Inkapsulyatsiya yordamida obyektning xususiyatlarini yashirish."
   ]
  },
  {
   "cell_type": "markdown",
   "metadata": {},
   "source": [
    "![](https://gblobscdn.gitbook.com/assets%2F-MGbkqs1tROquIT6oqUs%2F-Mc-5yGQPZTBaGoehQdL%2F-Mc-7xpq4Puu3KEjmT0R%2FSD_YT_TG_logo_mini.png?alt=media&token=929fe67b-ec12-4f63-b33e-e9c5e3d8ad09)\n",
    "\n",
    "# INKAPSULYATSIYA\n",
    "\n",
    "*Obyektga Yo'naltirilgan Dasturlashning* tamoyillaridan biri bu inkapsulyatsiya, ya'ni obyektning xususiyatlarga to'g'ridan-to'g'ri (nuqta orqali) murojat qilishni va ularning qiymatini o'zgartirishni taqiqlab qo'yish. Pythonda bunday yopiq xususiyatlarning nomi ikki pastki chiziq bilan boshlanadi:"
   ]
  },
  {
   "cell_type": "code",
   "execution_count": 4,
   "metadata": {},
   "outputs": [],
   "source": [
    "from uuid import uuid4\n",
    "class Avto:\n",
    "    \"\"\"Avtomobil klassi\"\"\"\n",
    "    def __init__(self,make,model,rang,yil,narh,km=0):\n",
    "        \"\"\"Avtomobilning xususiyatlari\"\"\"\n",
    "        self.make = make\n",
    "        self.model = model\n",
    "        self.rang = rang\n",
    "        self.yil = yil\n",
    "        self.narh = narh\n",
    "        self.__km = km\n",
    "        self.__id = uuid4()\n",
    "    \n",
    "    def get_km(self):\n",
    "        return self.__km\n",
    "    \n",
    "    def get_id(self):\n",
    "        return self.__id"
   ]
  },
  {
   "cell_type": "markdown",
   "metadata": {},
   "source": [
    "Yuqoridagi kodimizning 11-qatorida `__km` xususiyati avtomobilning necha km yurgani haqida ma'lumot saqlaydi va bu ma'lumotni tashqaridan o'zgartirib bo'lmaydi. Kodimizning 12-qatorida esa har bir yangi yaratilgan avtomobilga yangi, noyob va takrorlanmas ID generasiya qilish uchun `uuid4()` funksiyasidan foydalanayapmiz. Deylik biz mashinalar sotish uchun onlayn bozor yaratsak, bozorimizga qo'shilgan har bir moshina endi o'zining ID raqamiga ega bo'ladi va bu ID raqamni to'g'ridan-to'g'ri (nuqta orqali) ko'rib bo'lmaydi."
   ]
  },
  {
   "cell_type": "code",
   "execution_count": 5,
   "metadata": {},
   "outputs": [
    {
     "ename": "AttributeError",
     "evalue": "'Avto' object has no attribute '__km'",
     "output_type": "error",
     "traceback": [
      "\u001b[0;31m---------------------------------------------------------------------------\u001b[0m",
      "\u001b[0;31mAttributeError\u001b[0m                            Traceback (most recent call last)",
      "\u001b[0;32m<ipython-input-5-05cd55624151>\u001b[0m in \u001b[0;36m<module>\u001b[0;34m\u001b[0m\n\u001b[1;32m      1\u001b[0m \u001b[0mavto1\u001b[0m \u001b[0;34m=\u001b[0m \u001b[0mAvto\u001b[0m\u001b[0;34m(\u001b[0m\u001b[0;34m\"GM\"\u001b[0m\u001b[0;34m,\u001b[0m\u001b[0;34m\"Malibu\"\u001b[0m\u001b[0;34m,\u001b[0m\u001b[0;34m\"Qora\"\u001b[0m\u001b[0;34m,\u001b[0m\u001b[0;36m2020\u001b[0m\u001b[0;34m,\u001b[0m\u001b[0;36m40000\u001b[0m\u001b[0;34m,\u001b[0m\u001b[0;36m100000\u001b[0m\u001b[0;34m)\u001b[0m\u001b[0;34m\u001b[0m\u001b[0;34m\u001b[0m\u001b[0m\n\u001b[0;32m----> 2\u001b[0;31m \u001b[0mavto1\u001b[0m\u001b[0;34m.\u001b[0m\u001b[0m__km\u001b[0m\u001b[0;34m\u001b[0m\u001b[0;34m\u001b[0m\u001b[0m\n\u001b[0m",
      "\u001b[0;31mAttributeError\u001b[0m: 'Avto' object has no attribute '__km'"
     ]
    }
   ],
   "source": [
    "avto1 = Avto(\"GM\",\"Malibu\",\"Qora\",2020,40000,100000)\n",
    "avto1.__km"
   ]
  },
  {
   "cell_type": "markdown",
   "metadata": {},
   "source": [
    "Yopiq xususiyatlarni ko'rish uchun esa alohida metodlar yozish maqsadga muvofiq bo'ladi (`get_km()` va `get_id()`):"
   ]
  },
  {
   "cell_type": "code",
   "execution_count": 6,
   "metadata": {},
   "outputs": [
    {
     "name": "stdout",
     "output_type": "stream",
     "text": [
      "ID: e131585c-71f3-4a1a-88bd-29243d9f6fd0\n"
     ]
    }
   ],
   "source": [
    "print(f\"ID: {avto1.get_id()}\")"
   ]
  },
  {
   "cell_type": "markdown",
   "metadata": {},
   "source": [
    "Bunday yopiq xususiyatlarni o'zgartirish ham metodlar orqali amalga oshirilishi kerak. Misol uchun mashinaning necha km yurganini o'zgartirish uchun klassimizga quyidagi metodni qo'shamiz:\n"
   ]
  },
  {
   "cell_type": "code",
   "execution_count": 9,
   "metadata": {},
   "outputs": [],
   "source": [
    "from uuid import uuid4\n",
    "class Avto:\n",
    "    \"\"\"Avtomobil klassi\"\"\"\n",
    "    def __init__(self,make,model,rang,yil,narh,km=0):\n",
    "        \"\"\"Avtomobilning xususiyatlari\"\"\"\n",
    "        self.make = make\n",
    "        self.model = model\n",
    "        self.rang = rang\n",
    "        self.yil = yil\n",
    "        self.narh = narh\n",
    "        self.__km = km\n",
    "        self.__id = uuid4()\n",
    "    \n",
    "    def get_km(self):\n",
    "        return self.__km\n",
    "    \n",
    "    def get_id(self):\n",
    "        return self.__id\n",
    "    \n",
    "    def add_km(self,km):\n",
    "        \"\"\"Mashinaning km ga yana km qo'shish\"\"\"\n",
    "        if km>=0:\n",
    "            self.__km += km\n",
    "        else:\n",
    "            print(\"Mashina km kamaytirib bo'lmaydi\")"
   ]
  },
  {
   "cell_type": "code",
   "execution_count": 10,
   "metadata": {},
   "outputs": [
    {
     "name": "stdout",
     "output_type": "stream",
     "text": [
      "101500\n"
     ]
    }
   ],
   "source": [
    "avto1 = Avto(\"GM\",\"Malibu\",\"Qora\",2020,40000,100000)\n",
    "avto1.add_km(1500)\n",
    "print(avto1.get_km())"
   ]
  },
  {
   "cell_type": "markdown",
   "metadata": {},
   "source": [
    "Inkapsulyatsiyaning maqsadi obyektning ma'lum xususiyatlarini tashqi ta'sirdan himoya qilish. Misol uchun yuqoridagi misolimizda mashinaning qancha yurganini faqat musbat tarafga o'zgartirish mumkin, noyob ID raqamini esa umuman o'zgartirib bo'lmaydi.\n",
    "\n",
    "## KLASSNING XUSUSIYATLARI VA METODLARI\n",
    "\n",
    "Avvalgi darslarimizda biror klassdan yaratilgan har bir obyektning xususiyatlarini klass ichidagidef `__init__()` medoti yordamida berayotgan edik. Bu metod qanday ishlaydi? Biz har gal klassga murojat qilganimizda klass aynan shu `__init__` metodini ishga tushiradi va biz bergan xususiyatlar bilan yangi obyekt yaratadi.\n",
    "\n",
    "Pythonda xususiyatlarni nafaqat obyektga balki to'g'ridan-to'g'ri klassga ham yuklash imkoniyati mavjud. Bunda klassning xususiyatiga berilgan qiymat barcha obyektlar uchun umumiy bo'ladi. Bu xususiyatni bir obyekt orqali o'zgartirilganda shu klassga oid barcha obyektlarda ham uning qiymati o'zgaradi.\n",
    "\n",
    "Klassga oid xususiyatlar `def __init__()` metodidan avval e'lon qilinadi.\n",
    "\n",
    "Keling tushunarli bo'lishi uchun quyidagi misolni ko'ramiz:"
   ]
  },
  {
   "cell_type": "code",
   "execution_count": 11,
   "metadata": {},
   "outputs": [],
   "source": [
    "class Avto:\n",
    "    \"\"\"Avtomobil klassi\"\"\"\n",
    "    num_avto = 0\n",
    "    def __init__(self,make,model,rang,yil,narh,km=0):\n",
    "        \"\"\"Avtomobilning xususiyatlari\"\"\"\n",
    "        self.make = make\n",
    "        self.model = model\n",
    "        self.rang = rang\n",
    "        self.yil = yil\n",
    "        self.narh = narh\n",
    "        self.__km = km\n",
    "        self.__id = uuid4()\n",
    "        Avto.num_avto += 1"
   ]
  },
  {
   "cell_type": "markdown",
   "metadata": {},
   "source": [
    "Kodni tahlil qilamiz:\n",
    "- 1-qatroda `Avto` klassini e'lo qildik\n",
    "- 3-qatorda `Avto` klassiga oid bo'lgan xususiyat `num_avto` yaratdik va unga 0 qiymatini berdik\n",
    "\n",
    "Keyingi qatorlarda `__init__` metodi yordamida klassdan yaratiladigan obyektlarning xususiyatlarini e'lon qildik va har gal bu metdoga murojat qilingandan num_avto ning qiymatini 1 ga oshradigan qilib qo'ydik (13-qator).\n",
    "\n",
    "Yuqoridagi usul bilan endi biz dastur davomida `Avto` klassidan jami nechta obyektlar yaratilganini kuzatib borishimiz mumkin bo'ladi. Bunda num_avto o'zgaruvchisiga istalgan obyekt orqali yoki klass nomi orqali murojat qilish mumkin:"
   ]
  },
  {
   "cell_type": "code",
   "execution_count": 12,
   "metadata": {},
   "outputs": [
    {
     "name": "stdout",
     "output_type": "stream",
     "text": [
      "2\n"
     ]
    }
   ],
   "source": [
    "avto1 = Avto(\"GM\",\"Malibu\",\"Qora\",2020,40000)\n",
    "avto2 = Avto(\"GM\",\"Lacetti\",\"Oq\",2020,20000)\n",
    "print(avto1.num_avto)"
   ]
  },
  {
   "cell_type": "code",
   "execution_count": 13,
   "metadata": {},
   "outputs": [
    {
     "name": "stdout",
     "output_type": "stream",
     "text": [
      "3\n"
     ]
    }
   ],
   "source": [
    "avto3 = Avto(\"Toyota\",'Carolla',\"Silver\",2018, 45000)\n",
    "print(Avto.num_avto)"
   ]
  },
  {
   "cell_type": "markdown",
   "metadata": {},
   "source": [
    "# KLASSNING XUSUSIYATLARINI INKAPSULYATSIYA QILISH\n",
    "\n",
    "Klassga oid xususiyatlar ham huddi yuoqridagi kabi nomidan avval ikki pastki chiziq qo'shish bilan inkapsulyatsiya qilinadi:"
   ]
  },
  {
   "cell_type": "code",
   "execution_count": 14,
   "metadata": {},
   "outputs": [],
   "source": [
    "class Avto:\n",
    "    \"\"\"Avtomobil klassi\"\"\"\n",
    "    __num_avto = 0 # klassga oid xususiyat\n",
    "    def __init__(self,make,model,rang,yil,narh):\n",
    "        \"\"\"Avtomobilning xususiyatlari\"\"\"\n",
    "        self.make = make\n",
    "        self.model = model\n",
    "        self.rang = rang\n",
    "        self.yil = yil\n",
    "        self.narh = narh\n",
    "        Avto.__num_avto += 1"
   ]
  },
  {
   "cell_type": "markdown",
   "metadata": {},
   "source": [
    "## KLASSGA OID METODLAR\n",
    "\n",
    "Klasslarning o'ziga xos metodlari ham bo'lishi mumkin. Misol uchun yuqoridagi `num_avto` xususiyatini ko'rish uchun alohida metod yozishimiz mumkin. Klassga oid metodlar `@classmethod` dekoratori bilan boshlanadi va obyektga oid metodlardan farqli ravishda `self` emas `cls` (class) argumentini qabul qiladi."
   ]
  },
  {
   "cell_type": "code",
   "execution_count": 15,
   "metadata": {},
   "outputs": [],
   "source": [
    "class Avto:\n",
    "    \"\"\"Avtomobil klassi\"\"\"\n",
    "    __num_avto = 0\n",
    "    def __init__(self,make,model,rang,yil,narh,km=0):\n",
    "        \"\"\"Avtomobilning xususiyatlari\"\"\"\n",
    "        self.make = make\n",
    "        self.model = model\n",
    "        self.rang = rang\n",
    "        self.yil = yil\n",
    "        self.narh = narh\n",
    "        self.__km = km\n",
    "        self.__id = uuid4()\n",
    "        Avto.__num_avto += 1\n",
    "    \n",
    "    @classmethod\n",
    "    def get_num_avto(cls):\n",
    "        return cls.__num_avto"
   ]
  },
  {
   "cell_type": "markdown",
   "metadata": {},
   "source": [
    "Klass metodlarga klassning nomi orqali murojat qilinadi:\n"
   ]
  },
  {
   "cell_type": "code",
   "execution_count": 16,
   "metadata": {},
   "outputs": [
    {
     "name": "stdout",
     "output_type": "stream",
     "text": [
      "3\n"
     ]
    }
   ],
   "source": [
    "avto1 = Avto(\"GM\",\"Malibu\",\"Qora\",2020,40000)\n",
    "avto2 = Avto(\"GM\",\"Lacetti\",\"Oq\",2020,20000)\n",
    "avto3 = Avto(\"Toyota\",'Carolla',\"Silver\",2018, 45000)\n",
    "print(Avto.get_num_avto())"
   ]
  },
  {
   "cell_type": "markdown",
   "metadata": {},
   "source": [
    "# KLASSLARNI MODULGA AJRATISH\n",
    "\n",
    "Vaqt o'tishi bilan dasturimizda klasslar ko'payib borishi tabiiy. Bizning asosiy dasturimiz uzun va chigal bo'lmasligi uchun klasslarni ham huddi funksiyalar kabi alohida modullarga ajratish maqsadga muvofiq bo'ladi. Dastur davomida kerak bo'ladigan klasslarga esa modulni chaqirish (import) orqali murojat qilishimiz mumkin. Bunda, bir-biriga bog'liq klasslarni bitta faylga joylashimiz mumkin. \n",
    "\n",
    "Misol uchun, biz `Talaba`, `Professor`, `Foydalanuvchi` va `Shaxs` degan klasslarni bitta `odamlar.py` moduliga, `Avto`, `Bus`, `Train` degan klasslarni esa boshqa `transport.py` moduliga joyladik. Kelajakda biz bu klasslarga `import` orqali murojaat qilishimiz mumkin.\n",
    "\n",
    "## BITTA KLASSNI IMPORT QILISH\n",
    "\n",
    "Moduldan bitta klass import qilish uchun `from modul import klass` ifodasidan foydalanamiz:"
   ]
  },
  {
   "cell_type": "code",
   "execution_count": null,
   "metadata": {},
   "outputs": [],
   "source": [
    "from odamlar import Talaba\n",
    "from transport import Avto\n",
    "\n",
    "talaba = Talaba(\"Alijon\",\"Valiyev\",\"FA010101\",\"N00022\")\n",
    "avto = Avto(\"GM\",\"Malibu\",\"Qora\",2020,40000)"
   ]
  },
  {
   "cell_type": "markdown",
   "metadata": {},
   "source": [
    "## BIR NECHTA KLASSLARNI IMPORT QILISH\n",
    "\n",
    "Moduldan bir nechta klass chaqirish talab qilinsa, import so'zidan so'ng klasslar ketma-ket vergul bilan ajratib yoziladi:"
   ]
  },
  {
   "cell_type": "code",
   "execution_count": null,
   "metadata": {},
   "outputs": [],
   "source": [
    "from odamlar import Talab, Shaxs\n",
    "\n",
    "talaba = Talaba(\"Alijon\",\"Valiyev\",\"FA010101\",\"N00022\")\n",
    "shaxs = Shaxs(\"Hasan\",\"Husanov\",\"FB0011223\")"
   ]
  },
  {
   "cell_type": "markdown",
   "metadata": {},
   "source": [
    "## MODULNI O'ZINI CHAQIRISH\n",
    "\n",
    "Modulni to'liq import qilish uchun `import modul` ifodasidan foydalanamiz. Bunda modul ichidagi klasslarga modul nomi va nuqta orqali murojat qilinadi:"
   ]
  },
  {
   "cell_type": "code",
   "execution_count": null,
   "metadata": {},
   "outputs": [],
   "source": [
    "import odamlar\n",
    "talaba = odamlar.Talaba(\"Alijon\",\"Valiyev\",\"FA010101\",\"N00022\")\n",
    "shaxs = odamlar.Shaxs(\"Hasan\",\"Husanov\",\"FB0011223\")"
   ]
  },
  {
   "cell_type": "markdown",
   "metadata": {},
   "source": [
    "# MODULDAGI BARCHA KLASSLARNI IMPORT QILISH\n",
    "\n",
    "Moduldagi barcha klasslar quyidagicha import qilinadi: `from modul import *`. Bunda modul ichidagi istalgan klassga to'g'ridan-to'g'ri uning nomi bilan murojat qilinadi."
   ]
  },
  {
   "cell_type": "code",
   "execution_count": null,
   "metadata": {},
   "outputs": [],
   "source": [
    "from odamlar import *\n",
    "talaba = Talaba(\"Alijon\",\"Valiyev\",\"FA010101\",\"N00022\")\n",
    "shaxs = Shaxs(\"Hasan\",\"Husanov\",\"FB0011223\")"
   ]
  },
  {
   "cell_type": "markdown",
   "metadata": {},
   "source": [
    "Bu usul 2 sababga ko'ra tavsiya qilinmaydi:\n",
    "1. Dasturni kelajakda qayta ochganimizda, dastur davomida moduldagi aynan qaysi klasslardan foydalanganimizni bir qarashda bilib bo'lmaydi\n",
    "2. Agar modul juda katta bo'lsa, uning ichidagi ba'zi klasslar biz o'zimiz yaratgan klasslar bilan nomi bir hil bo'lib qolish ehtimoli bor. Bu esa o'z navbatida dastrumiz xato ishlashiga olib keladi.\n",
    "\n",
    "> Modul ichiga boshqa modulni ham import qilish mumkin. Masalan modul ichidagi ba'zi klasslar to'g'ri ishlashi uchun boshqa modul talab qilingan vaqtlarda.\n",
    "\n",
    "# AMALIYOT\n",
    "\n",
    "- Avvalgi darslarimizda yaratgan `Shaxs` va `Talaba` klasslariga yopiq xususiyatlar qo'shing va ularning qiymatini ko'rsatuvchi va o'zgartiruvchi metodlar yozing.\n",
    "- Yuqoridagi klasslarga `talabalar_soni` va `odamlar_soni` degan klassga oid xususiyatlar qo'shing.\n",
    "- Klassga oid xususiyatlar bilan ishlash uchun maxsus `@classmethod` lar yozing "
   ]
  }
 ],
 "metadata": {
  "language_info": {
   "codemirror_mode": {
    "name": "ipython",
    "version": 3
   },
   "file_extension": ".py",
   "mimetype": "text/x-python",
   "name": "python",
   "nbconvert_exporter": "python",
   "pygments_lexer": "ipython3",
   "version": "3.8.6"
  }
 },
 "nbformat": 4,
 "nbformat_minor": 2
}