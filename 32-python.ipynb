{
 "cells": [
  {
   "cell_type": "markdown",
   "metadata": {},
   "source": [
    "# 32-DARS. DUNDER METODLAR\n",
    "\n",
    "Pythondagi maxsus metodlar bilan tanishamiz."
   ]
  },
  {
   "cell_type": "markdown",
   "metadata": {},
   "source": [
    "![](https://gblobscdn.gitbook.com/assets%2F-MGbkqs1tROquIT6oqUs%2F-Mc-5yGQPZTBaGoehQdL%2F-Mc-7xpq4Puu3KEjmT0R%2FSD_YT_TG_logo_mini.png?alt=media&token=929fe67b-ec12-4f63-b33e-e9c5e3d8ad09)\n",
    "\n",
    "# MAXSUS METODLAR\n",
    "\n",
    "Pythonda obyektlar bilan ishlashni yanada qulay qilish uchun bir nechta maxsus metodlar bor. Bu metodlarning nomi ikki pastki chiziq `__` bilan yozilgani uchun, **d**ouble **under**score yoki qisqa qilib **dunder** metodlar deb ataladi. Dunder metolar yordamida obyektlarga qo'shimcha qulayliklar va vazifalar qo'shishimiz mumkin. Klass yoki obyektga oid dunder metodlar ro'yxatini ko'rish uchun `dir()` funksiyasidan foydalanamiz:"
   ]
  },
  {
   "cell_type": "code",
   "execution_count": 5,
   "metadata": {},
   "outputs": [],
   "source": [
    "class Avto:\n",
    "    __num_avto = 0\n",
    "    \"\"\"Avtomobil klassi\"\"\"\n",
    "    def __init__(self,make,model,rang,yil,narh):\n",
    "        \"\"\"Avtomobilning xususiyatlari\"\"\"\n",
    "        self.make = make\n",
    "        self.model = model\n",
    "        self.rang = rang\n",
    "        self.yil = yil\n",
    "        self.narh = narh\n",
    "        Avto.__num_avto += 1"
   ]
  },
  {
   "cell_type": "code",
   "execution_count": 7,
   "metadata": {},
   "outputs": [
    {
     "data": {
      "text/plain": [
       "['_Avto__num_avto',\n",
       " '__class__',\n",
       " '__delattr__',\n",
       " '__dict__',\n",
       " '__dir__',\n",
       " '__doc__',\n",
       " '__eq__',\n",
       " '__format__',\n",
       " '__ge__',\n",
       " '__getattribute__',\n",
       " '__gt__',\n",
       " '__hash__',\n",
       " '__init__',\n",
       " '__init_subclass__',\n",
       " '__le__',\n",
       " '__lt__',\n",
       " '__module__',\n",
       " '__ne__',\n",
       " '__new__',\n",
       " '__reduce__',\n",
       " '__reduce_ex__',\n",
       " '__repr__',\n",
       " '__setattr__',\n",
       " '__sizeof__',\n",
       " '__str__',\n",
       " '__subclasshook__',\n",
       " '__weakref__']"
      ]
     },
     "execution_count": 7,
     "metadata": {},
     "output_type": "execute_result"
    }
   ],
   "source": [
    "dir(Avto)"
   ]
  },
  {
   "cell_type": "markdown",
   "metadata": {},
   "source": [
    "Dunder metodlardan biz `__init__` metodi bilan tanishdik. Bu metod klassdan obyekt yaratishda chaqiriladi va obyektning xususiyatlarini belgilaydi. Ushbu darsimizda esa maxsus metodlarning ba'zilari bilan tanishamiz.\n",
    "\n",
    "# OBYEKT HAQIDA MA'LUMOT\n",
    "\n",
    "Obyektga `print()` yoki `str()` orqali murojat qilinganda obyekt haqida tushunarli ma'lumot qaytarish uchun `__repr__` va `__str__` metodlaridan foydalanamiz. Tushunarli bo'lishi uchun avvalgi darsimizdagi `Avto` klassiga qaytamiz:"
   ]
  },
  {
   "cell_type": "code",
   "execution_count": 8,
   "metadata": {},
   "outputs": [],
   "source": [
    "class Avto:\n",
    "    __num_avto = 0\n",
    "    \"\"\"Avtomobil klassi\"\"\"\n",
    "    def __init__(self,make,model,rang,yil,narh):\n",
    "        \"\"\"Avtomobilning xususiyatlari\"\"\"\n",
    "        self.make = make\n",
    "        self.model = model\n",
    "        self.rang = rang\n",
    "        self.yil = yil\n",
    "        self.narh = narh\n",
    "        Avto.__num_avto += 1"
   ]
  },
  {
   "cell_type": "markdown",
   "metadata": {},
   "source": [
    "Yuqoridagi klassdan yangi obyekt yaratamiz va obyekt haqida ma'lumot olish uchun `print()` funksiyasini chaqiramiz:"
   ]
  },
  {
   "cell_type": "code",
   "execution_count": 9,
   "metadata": {},
   "outputs": [
    {
     "name": "stdout",
     "output_type": "stream",
     "text": [
      "<__main__.Avto object at 0x7f9144fbce20>\n"
     ]
    }
   ],
   "source": [
    "avto1 = Avto(\"GM\",\"Malibu\",\"Qora\",2020,40000)\n",
    "print(avto1) # obyekt haqida ma'lumot"
   ]
  },
  {
   "cell_type": "markdown",
   "metadata": {},
   "source": [
    "Qandaydur tushunarsiz ma'lumot. Ekrandagi natijadan biz faqat avto1 obyektimiz Avto klassiga tegishli ekanini ko'ramiz. Qanday qilib shuning o'rniga obyekt haqida tushunarliroq ma'lumot olishimiz mumkin?\n",
    "\n",
    "Gap shundaki biz har gal obyketga `print()` (yoki `str()` yoki `repr()`) orqali murojat qilganimizda, Python obyket ichida `__str__` yoki `__repr__` metodlariga murojat qiladi. Agar biz bu metodlarni yozmagan bo'lsak, yuqoridagi kabi umumiy ma'lumot qayataradi. \n",
    "\n",
    "Biz ushbu metodlarni yangidan yozib, biz istagan ma'lumotni qayataradian qilishimiz mumkin. Odatda, yuqoridagi ikki metoddan birini yozish kifoya. Odatda, `__repr__` umumiyorq, `__str__` esa batafsilroq ma'lumot olish uchun ishlatiladi. \n",
    "\n",
    "Ikkalasidan birini tanlaganda, `__repr__` metodiga yon bosiladi, sababi bu metod `print()`, `str()` va `repr()` funksiyalarining hammasi bilan ishlaydi. Keling biz ham yuoqirdagi klassimizga `__repr__` metodini qo'shamiz:"
   ]
  },
  {
   "cell_type": "code",
   "execution_count": 10,
   "metadata": {},
   "outputs": [],
   "source": [
    "class Avto:\n",
    "    __num_avto = 0\n",
    "    \"\"\"Avtomobil klassi\"\"\"\n",
    "    def __init__(self,make,model,rang,yil,narh):\n",
    "        \"\"\"Avtomobilning xususiyatlari\"\"\"\n",
    "        self.make = make\n",
    "        self.model = model\n",
    "        self.rang = rang\n",
    "        self.yil = yil\n",
    "        self.narh = narh\n",
    "        Avto.__num_avto += 1\n",
    "    \n",
    "    def __repr__(self):\n",
    "        \"\"\"Obyekt haqida ma'lumot\"\"\"\n",
    "        return f\"Avto: {self.rang} {self.make} {self.model}\""
   ]
  },
  {
   "cell_type": "markdown",
   "metadata": {},
   "source": [
    "Qaytadan `print()` funksiyasini chaqiramiz:"
   ]
  },
  {
   "cell_type": "code",
   "execution_count": 11,
   "metadata": {},
   "outputs": [
    {
     "name": "stdout",
     "output_type": "stream",
     "text": [
      "Avto: Qora GM Malibu\n"
     ]
    }
   ],
   "source": [
    "avto1 = Avto(\"GM\",\"Malibu\",\"Qora\",2020,40000)\n",
    "print(avto1)"
   ]
  },
  {
   "cell_type": "markdown",
   "metadata": {},
   "source": [
    "Mana endi natijamiz ancha tushunarli ko'rinishda chiqdi.\n"
   ]
  },
  {
   "cell_type": "markdown",
   "metadata": {},
   "source": [
    "# OBYEKTLARNI TAQQOSLASH\n",
    "\n",
    "Taqqoslash operatorlari yordamida biz turli obyektlarni solishtirishimiz mumkin. Taqqoslash natijasi mantiqiy qiymat (`True` yoki `False`) ko'rinishida bo'ladi. "
   ]
  },
  {
   "cell_type": "code",
   "execution_count": 12,
   "metadata": {},
   "outputs": [
    {
     "name": "stdout",
     "output_type": "stream",
     "text": [
      "False\n"
     ]
    }
   ],
   "source": [
    "x,y = 5,10\n",
    "print(x>y)"
   ]
  },
  {
   "cell_type": "markdown",
   "metadata": {},
   "source": [
    "Keling endi `Avto` klassidan 2 ta obyekt yaratamiz, va ularni taqqoslab ko'ramiz:\n"
   ]
  },
  {
   "cell_type": "code",
   "execution_count": 13,
   "metadata": {},
   "outputs": [
    {
     "ename": "TypeError",
     "evalue": "'>' not supported between instances of 'Avto' and 'Avto'",
     "output_type": "error",
     "traceback": [
      "\u001b[0;31m---------------------------------------------------------------------------\u001b[0m",
      "\u001b[0;31mTypeError\u001b[0m                                 Traceback (most recent call last)",
      "\u001b[0;32m<ipython-input-13-103d0ab4beaa>\u001b[0m in \u001b[0;36m<module>\u001b[0;34m\u001b[0m\n\u001b[1;32m      1\u001b[0m \u001b[0mavto1\u001b[0m \u001b[0;34m=\u001b[0m \u001b[0mAvto\u001b[0m\u001b[0;34m(\u001b[0m\u001b[0;34m\"GM\"\u001b[0m\u001b[0;34m,\u001b[0m\u001b[0;34m\"Malibu\"\u001b[0m\u001b[0;34m,\u001b[0m\u001b[0;34m\"Qora\"\u001b[0m\u001b[0;34m,\u001b[0m\u001b[0;36m2020\u001b[0m\u001b[0;34m,\u001b[0m\u001b[0;36m40000\u001b[0m\u001b[0;34m)\u001b[0m\u001b[0;34m\u001b[0m\u001b[0;34m\u001b[0m\u001b[0m\n\u001b[1;32m      2\u001b[0m \u001b[0mavto2\u001b[0m \u001b[0;34m=\u001b[0m \u001b[0mAvto\u001b[0m\u001b[0;34m(\u001b[0m\u001b[0;34m\"GM\"\u001b[0m\u001b[0;34m,\u001b[0m\u001b[0;34m\"Lacetti\"\u001b[0m\u001b[0;34m,\u001b[0m\u001b[0;34m\"Oq\"\u001b[0m\u001b[0;34m,\u001b[0m\u001b[0;36m2020\u001b[0m\u001b[0;34m,\u001b[0m\u001b[0;36m20000\u001b[0m\u001b[0;34m)\u001b[0m\u001b[0;34m\u001b[0m\u001b[0;34m\u001b[0m\u001b[0m\n\u001b[0;32m----> 3\u001b[0;31m \u001b[0mavto1\u001b[0m\u001b[0;34m>\u001b[0m\u001b[0mavto2\u001b[0m\u001b[0;34m\u001b[0m\u001b[0;34m\u001b[0m\u001b[0m\n\u001b[0m",
      "\u001b[0;31mTypeError\u001b[0m: '>' not supported between instances of 'Avto' and 'Avto'"
     ]
    }
   ],
   "source": [
    "avto1 = Avto(\"GM\",\"Malibu\",\"Qora\",2020,40000)\n",
    "avto2 = Avto(\"GM\",\"Lacetti\",\"Oq\",2020,20000)\n",
    "avto1>avto2"
   ]
  },
  {
   "cell_type": "markdown",
   "metadata": {},
   "source": [
    "Xatolik. Demak bu ikki obyektni solshtirib bo'lmas ekan. \n",
    "\n",
    "Biz taqqolash operatorlariga murojat qilganimizda, Python obyektlar ichida taqqoslash uchun maxsus metodlarni qidiradi, agar metodlar topilmasa yuqoridagi kabi `TypeError` qaytaradi. \n",
    "\n",
    "Taqqoslash metodlari quyidagilardan iborat:\n",
    "\n",
    "![Imgur](https://i.imgur.com/VbFZgTN.png)\n",
    "\n",
    "Yuqoridagi obyektlardan yarmi uchun metodlar yozishimiz kifoya, misol uchun `__lt__` (`x<y`) metodini yozsak, `__gt__` (`x>y`) metodini yozishimiz shart emas, yoki `__le__` metodi, `__ge__` metodini ham o'z ichiga oladi, va hokazo.\n",
    "\n",
    "Keling tushunarli bo'lishi uchun `Avto` klassiga obyektlarni solishtirish uchun metod yozamiz. Deylik, biz obyektlarni narhi bo'yicha solishtirmoqchimiz, unda klassimizga quyidagi metodlarni qo'shamiz:"
   ]
  },
  {
   "cell_type": "code",
   "execution_count": 14,
   "metadata": {},
   "outputs": [],
   "source": [
    "class Avto:\n",
    "    __num_avto = 0\n",
    "    \"\"\"Avtomobil klassi\"\"\"\n",
    "    def __init__(self,make,model,rang,yil,narh):\n",
    "        \"\"\"Avtomobilning xususiyatlari\"\"\"\n",
    "        self.make = make\n",
    "        self.model = model\n",
    "        self.rang = rang\n",
    "        self.yil = yil\n",
    "        self.narh = narh\n",
    "        Avto.__num_avto += 1\n",
    "    \n",
    "    def __repr__(self):\n",
    "        \"\"\"Obyekt haqida ma'lumot\"\"\"\n",
    "        return f\"Avto: {self.rang} {self.make} {self.model}\"\n",
    "    \n",
    "    def __eq__(self,boshqa_avto):\n",
    "        \"\"\"Tenglik\"\"\"\n",
    "        return self.narh == boshqa_avto.narh\n",
    "    \n",
    "    def __lt__(self,boshqa_avto):\n",
    "        \"\"\"Kichik\"\"\"\n",
    "        return self.narh<boshqa_avto.narh\n",
    "    \n",
    "    def __le__(self,boshqa_avto):\n",
    "        \"\"\"Kichik yoki teng\"\"\"\n",
    "        return self.narh<=boshqa_avto.narh"
   ]
  },
  {
   "cell_type": "markdown",
   "metadata": {},
   "source": [
    "Kodimizga e'tibor qilsangiz biz tenglik (`__eq__`) yoki kichiklikni (`__lt__`) tekshirmoqchi bo'lganimizda ikki avtoning aynan narhi bo'yicha solishtiramiz (`self.narh == boshqa_avto.narh`).\n",
    "\n",
    "Mana endi avtolarni solishtirsak bo'ladi:"
   ]
  },
  {
   "cell_type": "code",
   "execution_count": 17,
   "metadata": {},
   "outputs": [
    {
     "name": "stdout",
     "output_type": "stream",
     "text": [
      "False\n"
     ]
    }
   ],
   "source": [
    "avto1 = Avto(\"GM\",\"Malibu\",\"Qora\",2020,40000)\n",
    "avto2 = Avto(\"GM\",\"Lacetti\",\"Oq\",2020,20000)\n",
    "print(avto1<avto2)"
   ]
  },
  {
   "cell_type": "code",
   "execution_count": 16,
   "metadata": {},
   "outputs": [
    {
     "name": "stdout",
     "output_type": "stream",
     "text": [
      "True\n"
     ]
    }
   ],
   "source": [
    "avto3 = Avto(\"Honda\",\"Accord\",\"Oq\",2017,40000)\n",
    "print(avto1==avto3)"
   ]
  },
  {
   "cell_type": "markdown",
   "metadata": {},
   "source": [
    "# OBYEKT UZUNLIGI\n",
    "\n",
    "Pythonda `len()` funksiyasi yordamida turli obyektlarning uzunligini bilishimiz mumkin, misol uchun matn, ro'yxat, lug'at, set va hokazo."
   ]
  },
  {
   "cell_type": "code",
   "execution_count": 18,
   "metadata": {},
   "outputs": [
    {
     "name": "stdout",
     "output_type": "stream",
     "text": [
      "11\n"
     ]
    }
   ],
   "source": [
    "matn = 'hello world'\n",
    "print(len(matn))"
   ]
  },
  {
   "cell_type": "code",
   "execution_count": 19,
   "metadata": {},
   "outputs": [
    {
     "name": "stdout",
     "output_type": "stream",
     "text": [
      "4\n"
     ]
    }
   ],
   "source": [
    "sonlar = [12, 34, 56, 66]\n",
    "print(len(sonlar))"
   ]
  },
  {
   "cell_type": "markdown",
   "metadata": {},
   "source": [
    "Biz `len()` funksiyasiga murojat qilganimizda, Python funksiyaga uzatilgan obyektning ichidagi maxsus `__len__` metodiga murojat qiladi. Agar bu metod mavjud bo'lmasa dasturimiz xato qaytaradi."
   ]
  },
  {
   "cell_type": "code",
   "execution_count": 20,
   "metadata": {},
   "outputs": [
    {
     "ename": "TypeError",
     "evalue": "object of type 'Avto' has no len()",
     "output_type": "error",
     "traceback": [
      "\u001b[0;31m---------------------------------------------------------------------------\u001b[0m",
      "\u001b[0;31mTypeError\u001b[0m                                 Traceback (most recent call last)",
      "\u001b[0;32m<ipython-input-20-953b890b58ac>\u001b[0m in \u001b[0;36m<module>\u001b[0;34m\u001b[0m\n\u001b[0;32m----> 1\u001b[0;31m \u001b[0mlen\u001b[0m\u001b[0;34m(\u001b[0m\u001b[0mavto1\u001b[0m\u001b[0;34m)\u001b[0m\u001b[0;34m\u001b[0m\u001b[0;34m\u001b[0m\u001b[0m\n\u001b[0m",
      "\u001b[0;31mTypeError\u001b[0m: object of type 'Avto' has no len()"
     ]
    }
   ],
   "source": [
    "len(avto1)"
   ]
  },
  {
   "cell_type": "markdown",
   "metadata": {},
   "source": [
    "Misol uchun, bizning `Avto` klassimizda bu metod yozilmagan, shuning uchun Python `TypeError` xatosini qaytardi.\n",
    "\n",
    "Keling endi `__len__` metodini qanday ishlatishga ham misol ko'raylik.\n",
    "\n",
    "Boshlanishiga, yangi, `AvtoSalon` degan klass yaratamiz. Bu klassimiz 2 ta xususiyatga ega: salon nomi (`name`) va salondagi mashinalar (`avtolar`)."
   ]
  },
  {
   "cell_type": "code",
   "execution_count": 21,
   "metadata": {},
   "outputs": [],
   "source": [
    "class AvtoSalon:\n",
    "    \"\"\"Avtosalon klassi\"\"\"\n",
    "    def __init__(self,name):\n",
    "        self.name = name\n",
    "        self.avtolar = []\n",
    "\n",
    "    def __repr__(self):\n",
    "        return f\"{self.name} avtosaloni\""
   ]
  },
  {
   "cell_type": "markdown",
   "metadata": {},
   "source": [
    "Yuqoridagi klassdan yangi obyekt yaratamiz:\n"
   ]
  },
  {
   "cell_type": "code",
   "execution_count": 22,
   "metadata": {},
   "outputs": [
    {
     "name": "stdout",
     "output_type": "stream",
     "text": [
      "MaxAvto avtosaloni\n"
     ]
    }
   ],
   "source": [
    "salon1 = AvtoSalon(\"MaxAvto\")\n",
    "print(salon1)"
   ]
  },
  {
   "cell_type": "markdown",
   "metadata": {},
   "source": [
    "AvtoSalon klassimizga `__repr__` metodini qo'shganimiz uchun natijamiz chiroyli ko'rinishda chiqdi.\n",
    "\n",
    "Keling endi salonga avtomobil qo'shish uchun yangi `add_avto()` metodini yozamiz. Bu metodimiz `Avto` klassiga oid obyektlarni qabul qilishi kerak. `add_avto()` ga uaztilgan parametr `Avto` klassiga tegishli yoki yo'qligini tekshirish uchun maxsus `isinstance()` funksiyasidan foydalanamiz.\n",
    "\n",
    "Bu funksiya biror obyekt ma'lum klassga tegishli ekanligini tekshirish uchun ishlatiladi:"
   ]
  },
  {
   "cell_type": "code",
   "execution_count": 24,
   "metadata": {},
   "outputs": [
    {
     "data": {
      "text/plain": [
       "True"
      ]
     },
     "execution_count": 24,
     "metadata": {},
     "output_type": "execute_result"
    }
   ],
   "source": [
    "isinstance(\"salom\",str) # 'salom' str (matnmi)?"
   ]
  },
  {
   "cell_type": "code",
   "execution_count": 25,
   "metadata": {},
   "outputs": [
    {
     "data": {
      "text/plain": [
       "False"
      ]
     },
     "execution_count": 25,
     "metadata": {},
     "output_type": "execute_result"
    }
   ],
   "source": [
    "isinstance(9.5,int) # 9.5 (int) butun sonmi?"
   ]
  },
  {
   "cell_type": "code",
   "execution_count": 26,
   "metadata": {},
   "outputs": [
    {
     "data": {
      "text/plain": [
       "True"
      ]
     },
     "execution_count": 26,
     "metadata": {},
     "output_type": "execute_result"
    }
   ],
   "source": [
    "isinstance(avto1,Avto) # avto1 Avto klassiga oidmi?"
   ]
  },
  {
   "cell_type": "markdown",
   "metadata": {},
   "source": [
    "`add_avto()` metodiga qaytamiz:\n"
   ]
  },
  {
   "cell_type": "code",
   "execution_count": 27,
   "metadata": {},
   "outputs": [],
   "source": [
    "class AvtoSalon:\n",
    "    \"\"\"Avtosalon klassi\"\"\"\n",
    "    def __init__(self,name):\n",
    "        self.name = name\n",
    "        self.avtolar = []\n",
    "\n",
    "    def __repr__(self):\n",
    "        return f\"{self.name} avtosaloni\"\n",
    "    \n",
    "    def add_avto(self,avto):\n",
    "        if isinstance(avto,Avto): # agar avto Avto klassidan bo'lsa\n",
    "            self.avtolar.append(avto)\n",
    "        else:\n",
    "            print(\"Avto obyketini kiriting\")"
   ]
  },
  {
   "cell_type": "markdown",
   "metadata": {},
   "source": [
    "Metodimizni tekshirib ko'ramiz:\n"
   ]
  },
  {
   "cell_type": "code",
   "execution_count": 29,
   "metadata": {},
   "outputs": [],
   "source": [
    "salon1 = AvtoSalon(\"MaxAvto\")\n",
    "# Avto obyektlarini yaratamiz\n",
    "avto1 = Avto(\"GM\",\"Malibu\",\"Qora\",2020,40000)\n",
    "avto2 = Avto(\"GM\",\"Lacetti\",\"Oq\",2020,20000)\n",
    "avto3 = Avto(\"Toyota\",'Carolla',\"Silver\",2018, 45000)\n",
    "\n",
    "# Yuqoridagi obyektlarni salon1 ga qo'shamiz\n",
    "for avto in [avto1, avto2, avto3]: \n",
    "    salon1.add_avto(avto)"
   ]
  },
  {
   "cell_type": "markdown",
   "metadata": {},
   "source": [
    "Mana navbat `__len__` metodiga. Biz bu metod yordamida `len()` funksiyasi salonimizdagi avtomobillar sonini qaytaradigan qilamiz. Buning uchun yuqoridagi `AvtoSalon` klassiga `__len__` funksiyani ham qo'shamiz va uni obyekt ichidagi avtolar ro'yxatyining uzunligini qaytaradigan qilamiz:"
   ]
  },
  {
   "cell_type": "code",
   "execution_count": 30,
   "metadata": {},
   "outputs": [],
   "source": [
    "class AvtoSalon:\n",
    "    \"\"\"Avtosalon klassi\"\"\"\n",
    "    def __init__(self,name):\n",
    "        self.name = name\n",
    "        self.avtolar = []\n",
    "\n",
    "    def __repr__(self):\n",
    "        return f\"{self.name} avtosaloni\"\n",
    "    \n",
    "    def add_avto(self,avto):\n",
    "        if isinstance(avto,Avto): # agar avto Avto klassidan bo'lsa\n",
    "            self.avtolar.append(avto)\n",
    "        else:\n",
    "            print(\"Avto obyketini kiriting\")\n",
    "    \n",
    "    def __len__(self):\n",
    "        return len(self.avtolar)"
   ]
  },
  {
   "cell_type": "code",
   "execution_count": 32,
   "metadata": {},
   "outputs": [],
   "source": [
    "salon1 = AvtoSalon(\"MaxAvto\")\n",
    "# Avto obyektlarini yaratamiz\n",
    "avto1 = Avto(\"GM\",\"Malibu\",\"Qora\",2020,40000)\n",
    "avto2 = Avto(\"GM\",\"Lacetti\",\"Oq\",2020,20000)\n",
    "avto3 = Avto(\"Toyota\",'Carolla',\"Silver\",2018, 45000)\n",
    "\n",
    "# Yuqoridagi obyektlarni salon1 ga qo'shamiz\n",
    "for avto in [avto1, avto2, avto3]: \n",
    "    salon1.add_avto(avto)"
   ]
  },
  {
   "cell_type": "markdown",
   "metadata": {},
   "source": [
    "Mana endi bizning `AvtoSalon` klassimizga oid obyektlar uchun ham `len()` funksiyasini qo'llasak bo'ladi:"
   ]
  },
  {
   "cell_type": "code",
   "execution_count": 33,
   "metadata": {},
   "outputs": [
    {
     "name": "stdout",
     "output_type": "stream",
     "text": [
      "3\n"
     ]
    }
   ],
   "source": [
    "print(len(salon1))"
   ]
  },
  {
   "cell_type": "markdown",
   "metadata": {},
   "source": [
    "# OBYEKT ELEMENTLARIGA MUROJAT QILISH\n",
    "\n",
    "Ba'zi obyektlarning (matn, ro'yxat, lug'at va hokazo) elementlariga alohida murojat qilish mumkin. "
   ]
  },
  {
   "cell_type": "code",
   "execution_count": 35,
   "metadata": {},
   "outputs": [
    {
     "data": {
      "text/plain": [
       "'olma'"
      ]
     },
     "execution_count": 35,
     "metadata": {},
     "output_type": "execute_result"
    }
   ],
   "source": [
    "mevalar = ['olma','anor','uzum']\n",
    "mevalar[0]"
   ]
  },
  {
   "cell_type": "markdown",
   "metadata": {},
   "source": [
    "Bizning salonimizda ham 3 ta avto bor, ularni ko'rish uchun yuqoridagi kabi element raqami orqali murojat qila olamizmi?"
   ]
  },
  {
   "cell_type": "code",
   "execution_count": 36,
   "metadata": {},
   "outputs": [
    {
     "ename": "TypeError",
     "evalue": "'AvtoSalon' object is not subscriptable",
     "output_type": "error",
     "traceback": [
      "\u001b[0;31m---------------------------------------------------------------------------\u001b[0m",
      "\u001b[0;31mTypeError\u001b[0m                                 Traceback (most recent call last)",
      "\u001b[0;32m<ipython-input-36-2827528b9c25>\u001b[0m in \u001b[0;36m<module>\u001b[0;34m\u001b[0m\n\u001b[0;32m----> 1\u001b[0;31m \u001b[0msalon1\u001b[0m\u001b[0;34m[\u001b[0m\u001b[0;36m0\u001b[0m\u001b[0;34m]\u001b[0m\u001b[0;34m\u001b[0m\u001b[0;34m\u001b[0m\u001b[0m\n\u001b[0m",
      "\u001b[0;31mTypeError\u001b[0m: 'AvtoSalon' object is not subscriptable"
     ]
    }
   ],
   "source": [
    "salon1[0]"
   ]
  },
  {
   "cell_type": "markdown",
   "metadata": {},
   "source": [
    "Afsuski yo'q. Ko'rib turganingizdek bizning obyektimizga bunday murojat qilib bo'lmas ekan. Obyektimizga bu xususiyatni qo'shish uchun `__getitem__` metodini yozishimiz kerak."
   ]
  },
  {
   "cell_type": "code",
   "execution_count": 39,
   "metadata": {},
   "outputs": [],
   "source": [
    "class AvtoSalon:\n",
    "    \"\"\"Avtosalon klassi\"\"\"\n",
    "    def __init__(self,name):\n",
    "        self.name = name\n",
    "        self.avtolar = []\n",
    "        \n",
    "    def add_avto(self,avto):\n",
    "        if isinstance(avto,Avto): # agar avto Avto klassidan bo'lsa\n",
    "            self.avtolar.append(avto)\n",
    "        else:\n",
    "            print(\"Avto obyketini kiriting\")\n",
    "\n",
    "    def __repr__(self):\n",
    "        return f\"{self.name} avtosaloni\"\n",
    "    \n",
    "    def __len__(self):\n",
    "        return len(self.avtolar)\n",
    "    \n",
    "    def __getitem__(self,index):\n",
    "        return self.avtolar[index]"
   ]
  },
  {
   "cell_type": "markdown",
   "metadata": {},
   "source": [
    "Endi `salon1` obyektimizning elementlariga murojat qilinganda `__getitem__` metodi obyekt ichidagi avtolar ro'yxatidan ko'rsatilgan element (avtomobilni) qaytaradi."
   ]
  },
  {
   "cell_type": "code",
   "execution_count": 42,
   "metadata": {},
   "outputs": [],
   "source": [
    "%%capture\n",
    "\n",
    "salon1 = AvtoSalon(\"MaxAvto\")\n",
    "# Avto obyektlarini yaratamiz\n",
    "avto1 = Avto(\"GM\",\"Malibu\",\"Qora\",2020,40000)\n",
    "avto2 = Avto(\"GM\",\"Lacetti\",\"Oq\",2020,20000)\n",
    "avto3 = Avto(\"Toyota\",'Carolla',\"Silver\",2018, 45000)\n",
    "\n",
    "# Yuqoridagi obyektlarni salon1 ga qo'shamiz\n",
    "[salon1.add_avto(avto) for avto in [avto1, avto2, avto3]]"
   ]
  },
  {
   "cell_type": "code",
   "execution_count": 41,
   "metadata": {},
   "outputs": [
    {
     "data": {
      "text/plain": [
       "3"
      ]
     },
     "execution_count": 41,
     "metadata": {},
     "output_type": "execute_result"
    }
   ],
   "source": [
    "len(salon1)"
   ]
  },
  {
   "cell_type": "code",
   "execution_count": 43,
   "metadata": {},
   "outputs": [
    {
     "data": {
      "text/plain": [
       "Avto: Qora GM Malibu"
      ]
     },
     "execution_count": 43,
     "metadata": {},
     "output_type": "execute_result"
    }
   ],
   "source": [
    "salon1[0]"
   ]
  },
  {
   "cell_type": "code",
   "execution_count": 45,
   "metadata": {},
   "outputs": [
    {
     "data": {
      "text/plain": [
       "Avto: Oq GM Lacetti"
      ]
     },
     "execution_count": 45,
     "metadata": {},
     "output_type": "execute_result"
    }
   ],
   "source": [
    "salon1[1]"
   ]
  },
  {
   "cell_type": "code",
   "execution_count": 46,
   "metadata": {},
   "outputs": [
    {
     "data": {
      "text/plain": [
       "Avto: Silver Toyota Carolla"
      ]
     },
     "execution_count": 46,
     "metadata": {},
     "output_type": "execute_result"
    }
   ],
   "source": [
    "salon1[2]"
   ]
  },
  {
   "cell_type": "code",
   "execution_count": 47,
   "metadata": {},
   "outputs": [
    {
     "data": {
      "text/plain": [
       "[Avto: Qora GM Malibu, Avto: Oq GM Lacetti, Avto: Silver Toyota Carolla]"
      ]
     },
     "execution_count": 47,
     "metadata": {},
     "output_type": "execute_result"
    }
   ],
   "source": [
    "salon1[:]"
   ]
  },
  {
   "cell_type": "markdown",
   "metadata": {},
   "source": [
    "Keling obyekt elementlaridan birini o'zgartirib ko'ramiz:\n"
   ]
  },
  {
   "cell_type": "code",
   "execution_count": 48,
   "metadata": {},
   "outputs": [
    {
     "ename": "TypeError",
     "evalue": "'AvtoSalon' object does not support item assignment",
     "output_type": "error",
     "traceback": [
      "\u001b[0;31m---------------------------------------------------------------------------\u001b[0m",
      "\u001b[0;31mTypeError\u001b[0m                                 Traceback (most recent call last)",
      "\u001b[0;32m<ipython-input-48-e87082899c1f>\u001b[0m in \u001b[0;36m<module>\u001b[0;34m\u001b[0m\n\u001b[1;32m      1\u001b[0m \u001b[0mavto4\u001b[0m \u001b[0;34m=\u001b[0m \u001b[0mAvto\u001b[0m\u001b[0;34m(\u001b[0m\u001b[0;34m\"Mazda\"\u001b[0m\u001b[0;34m,\u001b[0m \u001b[0;34m\"6\"\u001b[0m\u001b[0;34m,\u001b[0m \u001b[0;34m'Qizil'\u001b[0m\u001b[0;34m,\u001b[0m\u001b[0;36m2015\u001b[0m\u001b[0;34m,\u001b[0m\u001b[0;36m35000\u001b[0m\u001b[0;34m)\u001b[0m\u001b[0;34m\u001b[0m\u001b[0;34m\u001b[0m\u001b[0m\n\u001b[0;32m----> 2\u001b[0;31m \u001b[0msalon1\u001b[0m\u001b[0;34m[\u001b[0m\u001b[0;36m0\u001b[0m\u001b[0;34m]\u001b[0m\u001b[0;34m=\u001b[0m\u001b[0mavto4\u001b[0m\u001b[0;34m\u001b[0m\u001b[0;34m\u001b[0m\u001b[0m\n\u001b[0m",
      "\u001b[0;31mTypeError\u001b[0m: 'AvtoSalon' object does not support item assignment"
     ]
    }
   ],
   "source": [
    "avto4 = Avto(\"Mazda\", \"6\", 'Qizil',2015,35000)\n",
    "salon1[0]=avto4"
   ]
  },
  {
   "cell_type": "markdown",
   "metadata": {},
   "source": [
    "Yana xatolik. Gap shundaki `__getitem__` metodi o'z nomi bilan (`get`) element qaytaruvchi metod. Biror elementni o'zgartirish uchun esa `__setitem__` metodini ham qo'shishimiz kerak. Bu metodimizga murojat qilinganda ham, yangi qiymat `Avto` klassiga oid ekanligini tekshirib olish maqsadga muvofiq bo'ladi:"
   ]
  },
  {
   "cell_type": "code",
   "execution_count": 49,
   "metadata": {},
   "outputs": [],
   "source": [
    "class AvtoSalon:\n",
    "    \"\"\"Avtosalon klassi\"\"\"\n",
    "    def __init__(self,name):\n",
    "        self.name = name\n",
    "        self.avtolar = []\n",
    "        \n",
    "    def add_avto(self,avto):\n",
    "        if isinstance(avto,Avto): # agar avto Avto klassidan bo'lsa\n",
    "            self.avtolar.append(avto)\n",
    "        else:\n",
    "            print(\"Avto obyketini kiriting\")\n",
    "\n",
    "    def __repr__(self):\n",
    "        return f\"{self.name} avtosaloni\"\n",
    "    \n",
    "    def __len__(self):\n",
    "        return len(self.avtolar)\n",
    "    \n",
    "    def __getitem__(self,index):\n",
    "        return self.avtolar[index]\n",
    "    \n",
    "    def __setitem__(self,index,value):\n",
    "        if isinstance(value,Avto):\n",
    "            self.avtolar[index]=value"
   ]
  },
  {
   "cell_type": "code",
   "execution_count": 51,
   "metadata": {},
   "outputs": [],
   "source": [
    "%%capture\n",
    "\n",
    "salon1 = AvtoSalon(\"MaxAvto\")\n",
    "# Avto obyektlarini yaratamiz\n",
    "avto1 = Avto(\"GM\",\"Malibu\",\"Qora\",2020,40000)\n",
    "avto2 = Avto(\"GM\",\"Lacetti\",\"Oq\",2020,20000)\n",
    "avto3 = Avto(\"Toyota\",'Carolla',\"Silver\",2018, 45000)\n",
    "\n",
    "# Yuqoridagi obyektlarni salon1 ga qo'shamiz\n",
    "[salon1.add_avto(avto) for avto in [avto1, avto2, avto3]]"
   ]
  },
  {
   "cell_type": "markdown",
   "metadata": {},
   "source": [
    "Qaytadan elementni o'zgartirishga harakat qilib ko'ramiz:\n"
   ]
  },
  {
   "cell_type": "code",
   "execution_count": 52,
   "metadata": {},
   "outputs": [
    {
     "name": "stdout",
     "output_type": "stream",
     "text": [
      "Avto: Qizil Mazda 6\n"
     ]
    }
   ],
   "source": [
    "avto4 = Avto(\"Mazda\", \"6\", 'Qizil',2015,35000)\n",
    "salon1[0]=avto4\n",
    "print(salon1[0])"
   ]
  },
  {
   "cell_type": "markdown",
   "metadata": {},
   "source": [
    "Kutilgan natija chiqdi.\n"
   ]
  },
  {
   "cell_type": "markdown",
   "metadata": {},
   "source": [
    "# OPERATORLARNI QAYTA TALQIN QILISH (OVERLOADING)\n",
    "\n",
    "Pythonda obyektlar o'rtasida turli arifmetik amallarni bajarish mumkin va bu amallar obyektning turiga qarab, Pytnon tomonidan turlicha talqin qilinadi. Masalan:\n",
    "\n",
    "**Sonlar:**"
   ]
  },
  {
   "cell_type": "code",
   "execution_count": 54,
   "metadata": {},
   "outputs": [
    {
     "data": {
      "text/plain": [
       "30"
      ]
     },
     "execution_count": 54,
     "metadata": {},
     "output_type": "execute_result"
    }
   ],
   "source": [
    "x,y=10,20\n",
    "x+y"
   ]
  },
  {
   "cell_type": "code",
   "execution_count": 56,
   "metadata": {},
   "outputs": [
    {
     "data": {
      "text/plain": [
       "50"
      ]
     },
     "execution_count": 56,
     "metadata": {},
     "output_type": "execute_result"
    }
   ],
   "source": [
    "x*5"
   ]
  },
  {
   "cell_type": "markdown",
   "metadata": {},
   "source": [
    "**Matnlar:**"
   ]
  },
  {
   "cell_type": "code",
   "execution_count": 57,
   "metadata": {},
   "outputs": [
    {
     "data": {
      "text/plain": [
       "'helloworld'"
      ]
     },
     "execution_count": 57,
     "metadata": {},
     "output_type": "execute_result"
    }
   ],
   "source": [
    "t1 = \"hello\"\n",
    "t2 = \"world\"\n",
    "t1+t2"
   ]
  },
  {
   "cell_type": "code",
   "execution_count": 59,
   "metadata": {},
   "outputs": [
    {
     "data": {
      "text/plain": [
       "'hellohellohellohellohello'"
      ]
     },
     "execution_count": 59,
     "metadata": {},
     "output_type": "execute_result"
    }
   ],
   "source": [
    "t1*5"
   ]
  },
  {
   "cell_type": "markdown",
   "metadata": {},
   "source": [
    "**Ro'yxatlar:**"
   ]
  },
  {
   "cell_type": "code",
   "execution_count": 60,
   "metadata": {},
   "outputs": [
    {
     "data": {
      "text/plain": [
       "[1, 2, 3, 4, 5, 6]"
      ]
     },
     "execution_count": 60,
     "metadata": {},
     "output_type": "execute_result"
    }
   ],
   "source": [
    "l1 = [1, 2, 3]\n",
    "l2 = [4, 5, 6]\n",
    "l1+l2"
   ]
  },
  {
   "cell_type": "code",
   "execution_count": 61,
   "metadata": {},
   "outputs": [
    {
     "data": {
      "text/plain": [
       "[1, 2, 3, 1, 2, 3]"
      ]
     },
     "execution_count": 61,
     "metadata": {},
     "output_type": "execute_result"
    }
   ],
   "source": [
    "l1*2"
   ]
  },
  {
   "cell_type": "markdown",
   "metadata": {},
   "source": [
    "va hokazo.\n",
    "\n",
    "Keling, bu amallarni bizning obyektimizga ham qo'llab ko'ramiz. Boshlanishiga 2 ta avtosalon yarataylik, va har biriga alohida avtolar qo'shaylik. Ishimizni osonlashtirish uchun `add_avto()` metodimizni ham istalgancha parametr qabul qilishga moslab o'zgartiramiz:"
   ]
  },
  {
   "cell_type": "code",
   "execution_count": 62,
   "metadata": {},
   "outputs": [],
   "source": [
    "class AvtoSalon:\n",
    "    \"\"\"Avtosalon klassi\"\"\"\n",
    "    def __init__(self,name):\n",
    "        self.name = name\n",
    "        self.avtolar = []\n",
    "\n",
    "    def __repr__(self):\n",
    "        return f\"{self.name} avtosaloni\"\n",
    "    \n",
    "    def __len__(self):\n",
    "        return len(self.avtolar)\n",
    "\n",
    "    def __getitem__(self,index):\n",
    "        return self.avtolar[index]\n",
    "    \n",
    "    def __setitem__(self,index,value):\n",
    "        if isinstance(value,Avto):\n",
    "            self.avtolar[index]=value\n",
    "    \n",
    "    def add_avto(self,*qiymat):\n",
    "        for avto in qiymat: \n",
    "            if isinstance(avto,Avto):\n",
    "                self.avtolar.append(avto)\n",
    "            else:\n",
    "                print(\"Avto obyketini kiriting\")"
   ]
  },
  {
   "cell_type": "markdown",
   "metadata": {},
   "source": [
    "Obyektlarni yaratamiz:\n"
   ]
  },
  {
   "cell_type": "code",
   "execution_count": 66,
   "metadata": {},
   "outputs": [],
   "source": [
    "# 2 ta avtosalon yaratamiz\n",
    "salon1 = AvtoSalon(\"MaxAvto\")\n",
    "salon2 = AvtoSalon(\"Avto Lider\")"
   ]
  },
  {
   "cell_type": "code",
   "execution_count": 67,
   "metadata": {},
   "outputs": [],
   "source": [
    "# 6 ta avto obyektini yaratamiz\n",
    "avto1 = Avto(\"GM\",\"Malibu\",\"Qora\",2020,40000)\n",
    "avto2 = Avto(\"GM\",\"Lacetti\",\"Oq\",2020,20000)\n",
    "avto3 = Avto(\"Toyota\",'Carolla',\"Silver\",2018, 45000)\n",
    "avto4 = Avto(\"Mazda\", \"6\", 'Qizil',2015,35000)\n",
    "avto5 = Avto(\"Volkswagen\",\"Polo\",'Qora',2015,30000)\n",
    "avto6 = Avto(\"Honda\",\"Accord\",\"Oq\",2017,42000)"
   ]
  },
  {
   "cell_type": "code",
   "execution_count": 68,
   "metadata": {},
   "outputs": [],
   "source": [
    "# Birinchi uchta avtoni birinchi salonga, keyingi uchtasini 2-salonga qo'shamiz.\n",
    "salon1.add_avto(avto1, avto2, avto3)\n",
    "salon2.add_avto(avto4, avto5, avto6)"
   ]
  },
  {
   "cell_type": "markdown",
   "metadata": {},
   "source": [
    "Mavzuga qaytamiz. Operatorlarni qayta talqin qilish. Keling boshlanishiga ikki obyektni qo'shib ko'ramiz:"
   ]
  },
  {
   "cell_type": "code",
   "execution_count": 69,
   "metadata": {},
   "outputs": [
    {
     "ename": "TypeError",
     "evalue": "unsupported operand type(s) for +: 'AvtoSalon' and 'AvtoSalon'",
     "output_type": "error",
     "traceback": [
      "\u001b[0;31m---------------------------------------------------------------------------\u001b[0m",
      "\u001b[0;31mTypeError\u001b[0m                                 Traceback (most recent call last)",
      "\u001b[0;32m<ipython-input-69-ced8f1caf6b9>\u001b[0m in \u001b[0;36m<module>\u001b[0;34m\u001b[0m\n\u001b[0;32m----> 1\u001b[0;31m \u001b[0msalon1\u001b[0m\u001b[0;34m+\u001b[0m\u001b[0msalon2\u001b[0m\u001b[0;34m\u001b[0m\u001b[0;34m\u001b[0m\u001b[0m\n\u001b[0m",
      "\u001b[0;31mTypeError\u001b[0m: unsupported operand type(s) for +: 'AvtoSalon' and 'AvtoSalon'"
     ]
    }
   ],
   "source": [
    "salon1+salon2"
   ]
  },
  {
   "cell_type": "markdown",
   "metadata": {},
   "source": [
    "Demak, bu ikki obyektni qo'shib bo'lmas ekan. Biz obyekt egasi sifatida qo'shish operatorini o'zimiz istagancha talqin qilishimiz mumkin. Misol uchun `AvtoSalon` obyektiga boshqa `AvtoSalon` obyektini qo'shganda, yangi `AvtoSalon` obyektini qaytaraylik va bu yangi obyekt avvalgi ikki obyektning avtolariga ega bo'lsin. \n",
    "\n",
    "Qo'shish operatorini qayta talqin qilish uchun `AvtoSalon` klassimizga `__add__` metodini qo'shamiz."
   ]
  },
  {
   "cell_type": "code",
   "execution_count": 70,
   "metadata": {},
   "outputs": [],
   "source": [
    "class AvtoSalon:\n",
    "    \"\"\"Avtosalon klassi\"\"\"\n",
    "    def __init__(self,name):\n",
    "        self.name = name\n",
    "        self.avtolar = []\n",
    "\n",
    "    def __repr__(self):\n",
    "        return f\"{self.name} avtosaloni\"\n",
    "    \n",
    "    def __len__(self):\n",
    "        return len(self.avtolar)\n",
    "\n",
    "    def __getitem__(self,index):\n",
    "        return self.avtolar[index]\n",
    "    \n",
    "    def __setitem__(self,index,value):\n",
    "        if isinstance(value,Avto):\n",
    "            self.avtolar[index]=value\n",
    "    \n",
    "    def add_avto(self,*qiymat):\n",
    "        for avto in qiymat: \n",
    "            if isinstance(avto,Avto):\n",
    "                self.avtolar.append(avto)\n",
    "            else:\n",
    "                print(\"Avto obyketini kiriting\")\n",
    "\n",
    "    def __add__(self,qiymat):\n",
    "        if isinstance(qiymat,AvtoSalon):\n",
    "            yangi_salon =  AvtoSalon(f\"{self.name} {qiymat.name}\")\n",
    "            yangi_salon.avtolar = self.avtolar + qiymat.avtolar\n",
    "            return yangi_salon"
   ]
  },
  {
   "cell_type": "code",
   "execution_count": 71,
   "metadata": {},
   "outputs": [],
   "source": [
    "salon1 = AvtoSalon(\"MaxAvto\")\n",
    "salon1.add_avto(avto1, avto2, avto3)\n",
    "salon2 = AvtoSalon(\"Avto Lider\")\n",
    "salon2.add_avto(avto4, avto5, avto6)"
   ]
  },
  {
   "cell_type": "markdown",
   "metadata": {},
   "source": [
    "Qo'shish operatorini tekshirib ko'ramiz:\n"
   ]
  },
  {
   "cell_type": "code",
   "execution_count": 72,
   "metadata": {},
   "outputs": [],
   "source": [
    "salon3 = salon1+salon2"
   ]
  },
  {
   "cell_type": "code",
   "execution_count": 73,
   "metadata": {},
   "outputs": [
    {
     "name": "stdout",
     "output_type": "stream",
     "text": [
      "MaxAvto Avto Lider avtosaloni\n"
     ]
    }
   ],
   "source": [
    "print(salon3)"
   ]
  },
  {
   "cell_type": "code",
   "execution_count": 74,
   "metadata": {},
   "outputs": [
    {
     "data": {
      "text/plain": [
       "[Avto: Qora GM Malibu,\n",
       " Avto: Oq GM Lacetti,\n",
       " Avto: Silver Toyota Carolla,\n",
       " Avto: Qizil Mazda 6,\n",
       " Avto: Qora Volkswagen Polo,\n",
       " Avto: Oq Honda Accord]"
      ]
     },
     "execution_count": 74,
     "metadata": {},
     "output_type": "execute_result"
    }
   ],
   "source": [
    "salon3[:]"
   ]
  },
  {
   "cell_type": "markdown",
   "metadata": {},
   "source": [
    "Istasak, qo'shish operatori yordamida salonga yangi Avto qo'shish imkoniyatini ham yaratishimiz mumkin:"
   ]
  },
  {
   "cell_type": "code",
   "execution_count": 75,
   "metadata": {},
   "outputs": [],
   "source": [
    "class AvtoSalon:\n",
    "    \"\"\"Avtosalon klassi\"\"\"\n",
    "    def __init__(self,name):\n",
    "        self.name = name\n",
    "        self.avtolar = []\n",
    "\n",
    "    def __repr__(self):\n",
    "        return f\"{self.name} avtosaloni\"\n",
    "    \n",
    "    def __len__(self):\n",
    "        return len(self.avtolar)\n",
    "\n",
    "    def __getitem__(self,index):\n",
    "        return self.avtolar[index]\n",
    "    \n",
    "    def __setitem__(self,index,value):\n",
    "        if isinstance(value,Avto):\n",
    "            self.avtolar[index]=value\n",
    "    \n",
    "    def add_avto(self,*qiymat):\n",
    "        for avto in qiymat: \n",
    "            if isinstance(avto,Avto):\n",
    "                self.avtolar.append(avto)\n",
    "            else:\n",
    "                print(\"Avto obyketini kiriting\")\n",
    "\n",
    "    def __add__(self,qiymat):\n",
    "        if isinstance(qiymat,AvtoSalon):\n",
    "            yangi_salon =  AvtoSalon(f\"{self.name} {qiymat.name}\")\n",
    "            yangi_salon.avtolar = self.avtolar + qiymat.avtolar\n",
    "            return yangi_salon\n",
    "        elif isinstance(qiymat,Avto):\n",
    "            self.add_avto(qiymat)\n",
    "        else:\n",
    "            print(f\"AvtoSalon ga {type(qiymat)} qo`shib bo`lmaydi\")"
   ]
  },
  {
   "cell_type": "markdown",
   "metadata": {},
   "source": [
    "Tekshirib ko'ramiz:\n"
   ]
  },
  {
   "cell_type": "code",
   "execution_count": 76,
   "metadata": {},
   "outputs": [
    {
     "name": "stdout",
     "output_type": "stream",
     "text": [
      "[Avto: Qora GM Malibu, Avto: Oq GM Lacetti, Avto: Silver Toyota Carolla, Avto: Qora BMW X7]\n"
     ]
    }
   ],
   "source": [
    "salon1 = AvtoSalon(\"MaxAvto\")\n",
    "salon1.add_avto(avto1, avto2, avto3)\n",
    "newAvto = Avto(\"BMW\", 'X7','Qora',2015,75000)\n",
    "salon1 + newAvto\n",
    "print(salon1[:])"
   ]
  },
  {
   "cell_type": "markdown",
   "metadata": {},
   "source": [
    "Huddi shu kabi boshqa operatorlarni ham o'zingiz istalgancha talqin qilishingiz mumkin:\n",
    "\n",
    "![Imgur](https://i.imgur.com/q35dijV.png)"
   ]
  },
  {
   "cell_type": "markdown",
   "metadata": {},
   "source": [
    "# OBYEKTNI CHAQIRISH\n",
    "\n",
    "Obyektlarni huddi funksiyalarni chaqirgandek chaqirish ham mumkin. Odatda biror funksiyaga murojat qilganda funksiya nomidan so'ng qavslar ochiladi va yopiladi. Agar funksiya argument qabul qilsa, ular qavs ichida beriladi. "
   ]
  },
  {
   "cell_type": "code",
   "execution_count": 77,
   "metadata": {},
   "outputs": [
    {
     "name": "stdout",
     "output_type": "stream",
     "text": [
      "10\n"
     ]
    }
   ],
   "source": [
    "print(10)"
   ]
  },
  {
   "cell_type": "code",
   "execution_count": 78,
   "metadata": {},
   "outputs": [
    {
     "data": {
      "text/plain": [
       "5"
      ]
     },
     "execution_count": 78,
     "metadata": {},
     "output_type": "execute_result"
    }
   ],
   "source": [
    "len(\"salom\")"
   ]
  },
  {
   "cell_type": "markdown",
   "metadata": {},
   "source": [
    "Biz obyektimizga ham shunday imkoniyat qo'shishimiz mumkin. Buning uchun maxsus `__call__` metodidan foydalaniladi.\n",
    "\n",
    "## PARAMETRSIZ CHAQIRISH\n",
    "\n",
    "Misol uchun, kelign yuqoridagi `AvtoSalon` klassiga oid obyektlar chaqirilganda salondagi avtomobillar ro'yxatini ko'rsatadigan qilaylik. Buning uchu `AvtoSalon` klassiga quyidagi metodni qo'shamiz:"
   ]
  },
  {
   "cell_type": "code",
   "execution_count": 79,
   "metadata": {},
   "outputs": [],
   "source": [
    "class AvtoSalon:\n",
    "    \"\"\"Avtosalon klassi\"\"\"\n",
    "    def __init__(self,name):\n",
    "        self.name = name\n",
    "        self.avtolar = []\n",
    "\n",
    "    def __repr__(self):\n",
    "        return f\"{self.name} avtosaloni\"\n",
    "    \n",
    "    def __len__(self):\n",
    "        return len(self.avtolar)\n",
    "\n",
    "    def __getitem__(self,index):\n",
    "        return self.avtolar[index]\n",
    "    \n",
    "    def __setitem__(self,index,value):\n",
    "        if isinstance(value,Avto):\n",
    "            self.avtolar[index]=value\n",
    "    \n",
    "    def add_avto(self,*qiymat):\n",
    "        for avto in qiymat: \n",
    "            if isinstance(avto,Avto):\n",
    "                self.avtolar.append(avto)\n",
    "            else:\n",
    "                print(\"Avto obyketini kiriting\")\n",
    "\n",
    "    def __add__(self,qiymat):\n",
    "        if isinstance(qiymat,AvtoSalon):\n",
    "            yangi_salon =  AvtoSalon(f\"{self.name} {qiymat.name}\")\n",
    "            yangi_salon.avtolar = self.avtolar + qiymat.avtolar\n",
    "            return yangi_salon\n",
    "        elif isinstance(qiymat,Avto):\n",
    "            self.add_avto(qiymat)\n",
    "        else:\n",
    "            print(f\"AvtoSalon ga {type(qiymat)} qo`shib bo`lmaydi\")\n",
    "\n",
    "    def __call__(self):\n",
    "        return [avto for avto in self.avtolar]"
   ]
  },
  {
   "cell_type": "code",
   "execution_count": 80,
   "metadata": {},
   "outputs": [],
   "source": [
    "salon1 = AvtoSalon(\"MaxAvto\")\n",
    "salon1.add_avto(avto1, avto2, avto3)"
   ]
  },
  {
   "cell_type": "markdown",
   "metadata": {},
   "source": [
    "Mana endi obyekt chaqirib ko'ramiz:\n"
   ]
  },
  {
   "cell_type": "code",
   "execution_count": 81,
   "metadata": {},
   "outputs": [
    {
     "data": {
      "text/plain": [
       "[Avto: Qora GM Malibu, Avto: Oq GM Lacetti, Avto: Silver Toyota Carolla]"
      ]
     },
     "execution_count": 81,
     "metadata": {},
     "output_type": "execute_result"
    }
   ],
   "source": [
    "salon1()"
   ]
  },
  {
   "cell_type": "markdown",
   "metadata": {},
   "source": [
    "## PARAMETR BILAN CHAQIRISH\n",
    "\n",
    "Yuqorida salon1 ni parametrsiz chaqrishini ko'rdik. Keling endi parametr bilan chaqirishni ham yo'lga qo'yaylik. Bunda, yuborilgan parametr yangi avto obyekti bo'lsin, va bu parametr salondagi avtolar ro'yxatiga qo'shilsin. Metodimizni quyidagicha o'zgartiramiz:"
   ]
  },
  {
   "cell_type": "code",
   "execution_count": 82,
   "metadata": {},
   "outputs": [],
   "source": [
    "class AvtoSalon:\n",
    "    \"\"\"Avtosalon klassi\"\"\"\n",
    "    def __init__(self,name):\n",
    "        self.name = name\n",
    "        self.avtolar = []\n",
    "\n",
    "    def __repr__(self):\n",
    "        return f\"{self.name} avtosaloni\"\n",
    "    \n",
    "    def __len__(self):\n",
    "        return len(self.avtolar)\n",
    "\n",
    "    def __getitem__(self,index):\n",
    "        return self.avtolar[index]\n",
    "    \n",
    "    def __setitem__(self,index,value):\n",
    "        if isinstance(value,Avto):\n",
    "            self.avtolar[index]=value\n",
    "    \n",
    "    def add_avto(self,*qiymat):\n",
    "        for avto in qiymat: \n",
    "            if isinstance(avto,Avto):\n",
    "                self.avtolar.append(avto)\n",
    "            else:\n",
    "                print(\"Avto obyketini kiriting\")\n",
    "\n",
    "    def __add__(self,qiymat):\n",
    "        if isinstance(qiymat,AvtoSalon):\n",
    "            yangi_salon =  AvtoSalon(f\"{self.name} {qiymat.name}\")\n",
    "            yangi_salon.avtolar = self.avtolar + qiymat.avtolar\n",
    "            return yangi_salon\n",
    "        elif isinstance(qiymat,Avto):\n",
    "            self.add_avto(qiymat)\n",
    "        else:\n",
    "            print(f\"AvtoSalon ga {type(qiymat)} qo`shib bo`lmaydi\")\n",
    "\n",
    "    def __call__(self,*param):\n",
    "        if param: # agar parametr bo'lsa\n",
    "            for avto in param:\n",
    "                self.add_avto(avto)\n",
    "        else: # agar parametr bo'lmasa\n",
    "            return [avto for avto in self.avtolar]"
   ]
  },
  {
   "cell_type": "markdown",
   "metadata": {},
   "source": [
    "Endi bizning klassimizga ham parametr bilan, ham parametrsiz chaqirish imkoniyati qo'shildi.\n"
   ]
  },
  {
   "cell_type": "code",
   "execution_count": 84,
   "metadata": {},
   "outputs": [
    {
     "data": {
      "text/plain": [
       "[Avto: Silver Mercedes-Benz E200]"
      ]
     },
     "execution_count": 84,
     "metadata": {},
     "output_type": "execute_result"
    }
   ],
   "source": [
    "salon1 = AvtoSalon(\"MaxAvto\")\n",
    "avto_new = Avto(\"Mercedes-Benz\", 'E200','Silver',2015,80000)\n",
    "\n",
    "# Obyektni chaqiramiz:\n",
    "salon1(avto_new) # Yangi avto qo'shamiz\n",
    "salon1() # salondagi mashinalarni ko'ramiz"
   ]
  },
  {
   "cell_type": "markdown",
   "metadata": {},
   "source": [
    "**`__call__` metodini qanday talqin qilish ham sizning ihtiyoringizda.**"
   ]
  },
  {
   "cell_type": "markdown",
   "metadata": {},
   "source": [
    "# SO'NGSO'Z\n",
    "\n",
    "Ushbu bo'limda biz maxsus metodlarning ba'zilari bilan tanishdik. Bu metodlarning qulayligi shundaki, siz ularni istalgacha talqin qilishingiz va har bir obyekt uchun mos keladigan qilib yaratishingiz mumkin. Ko'rib turganingizdek dunder metodlar obyektingizning imkoniyatlarini kengaytiradi va ularga qo'shimcha vazifalar yuklaydi."
   ]
  },
  {
   "cell_type": "markdown",
   "metadata": {},
   "source": [
    "# AMALIYOT\n",
    "\n",
    "- Avvalga darslarda yaratilgan obyektlarga (Shaxs, Talaba) turli dunder metodlarni qo'shishni mashq qiling. \n",
    "    + Obyekt haqida ma'lumot (`__rerp__`)\n",
    "    + Talabalarni bosqichi bo'yicha solishtirish (`__lt__`, `__eg__` va hokazo)\n",
    "- `Fan` degan yangi klass yarating. Fan obyetklari tarkibida shu fanga yozilgan talabalarning ro'yxati saqlansin. Buning uchun Fanga `add_student()`, `__getitem__`,` __setitem__`, `__len__` kabi metodlarni qo'shing.\n",
    "- Fanga qo'shish `+` operatori yordamida talaba qo'shish metodini yozing\n",
    "- Minus (`-`) operatori yordamida fandan talaba olib tashlash metodini yozing (bunda talabaning passport raqami yoki ID raqami bo'yicha topib, olib tashlash mumkin)\n",
    "- `Fan` obyektlarini chaqiriladigan qiling (masalan, `fizika()`, yoki `fizika(talaba1)`). Bu metodlarni o'zingiz istagandek talqin qiling."
   ]
  }
 ],
 "metadata": {
  "language_info": {
   "codemirror_mode": {
    "name": "ipython",
    "version": 3
   },
   "file_extension": ".py",
   "mimetype": "text/x-python",
   "name": "python",
   "nbconvert_exporter": "python",
   "pygments_lexer": "ipython3",
   "version": "3.8.6"
  }
 },
 "nbformat": 4,
 "nbformat_minor": 2
}