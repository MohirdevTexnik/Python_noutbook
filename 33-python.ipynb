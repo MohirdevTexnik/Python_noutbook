{
 "cells": [
  {
   "cell_type": "markdown",
   "metadata": {},
   "source": [
    "# 33-DARS. FAYLLAR BILAN ISHLASH\n",
    "\n",
    "Fayl bilan ishlashni o'rganamiz\n",
    "\n",
    "![](https://gblobscdn.gitbook.com/assets%2F-MGbkqs1tROquIT6oqUs%2F-Mc-5yGQPZTBaGoehQdL%2F-Mc-7xpq4Puu3KEjmT0R%2FSD_YT_TG_logo_mini.png?alt=media&token=929fe67b-ec12-4f63-b33e-e9c5e3d8ad09)"
   ]
  },
  {
   "cell_type": "markdown",
   "metadata": {},
   "source": [
    "# KIRISH\n",
    "\n",
    "Ushbu bo'limda katta hajmdagi ma'lumotlarni fayldan yuklab olish va dastur yakunida kerakli ma'lumotlarni va dastur natijasini faylga saqlashni o'rganamiz. Fayllar bilan ishlash dastur foydalanuvchilariga ham dasturga o'zlari istagan ma'lumotlarni yuklash imkoniyatini beradi.\n",
    "\n",
    "# FAYLDAN O'QISH\n",
    "\n",
    "Kompyuterimizda aksar ma'lumotlar fayl ko'rinishida saqlanadi. Bu xoh matn bo'lsin, xoh jadval, xoh rasm, xoh video. Fayllarda turli ma'lumotlar saqlanishi mumkin, ob-havo ma'lumotlari, yillik hisobotlar, mijozlarning telefon raqamlari, talabalarning baholari va hokazo. \n",
    "\n",
    "Ko'pgina holatlarda dastur davomida katta ma'lumotlarni aynan fayllardan o'qib olish talab qilinadi. Ayniqsa, tahliliy dasturlarda fayl ko'rinishida saqlangan, katta hajmdagi jadvallar bilan ishlash tabiiy. Lekin fayllar bilan ishlash boshqa holatlarda ham ko'p asqotadi, misol uchun oddiy matnni html ko'rinishga o'tkazishni avtomatlashtiruvchi dastur yozishda.\n",
    "\n",
    "Fayllar bilan ishlashning birinchi qadami bu fayldagi ma'lumotlarni kompyuter xotirasiga ko'chirish. Buning bir necha usuli bor, quyida ular bilan tanishamiz.\n",
    "\n",
    "# FAYLNI TO'LIQLIGACHA O'QISH\n",
    "\n",
    "Boshlanishiga bizga fayl kerak. Keling, yangi `pi.txt` faylini yaratamiz, va ichiga quyidagi matnni joylaymiz:"
   ]
  },
  {
   "cell_type": "code",
   "execution_count": null,
   "metadata": {},
   "outputs": [],
   "source": [
    "3.1415926535\n",
    "8979323846\n",
    "2643383279"
   ]
  },
  {
   "cell_type": "markdown",
   "metadata": {},
   "source": [
    "[pi.txt faylini yuklab oling.](https://firebasestorage.googleapis.com/v0/b/gitbook-28427.appspot.com/o/assets%2F-MGbkqs1tROquIT6oqUs%2F-MT8QSNv2gjPhBQN2i_X%2F-MTA-r8U0MJXr_8MBBbL%2Fpi.txt?alt=media&token=3e7dce7e-d023-4b7c-b03e-5d814e286a45)"
   ]
  },
  {
   "cell_type": "markdown",
   "metadata": {},
   "source": [
    "Uch qatordan iborat faylimiz  sonining qiymatini saqlaydi (30 xona aniqlik bilan).\n",
    "\n",
    "Faylni to'liq o'qish uchun quyidagi kodni yozamiz:"
   ]
  },
  {
   "cell_type": "code",
   "execution_count": null,
   "metadata": {},
   "outputs": [],
   "source": [
    "with open('pi.txt') as fayl:\n",
    "    pi = fayl.read()"
   ]
  },
  {
   "cell_type": "markdown",
   "metadata": {},
   "source": [
    "Kodni tahlil qilamiz:\n",
    "- Birinchi qatorda `open()` funksiyasi yordamida faylni ochayapmiz. Bunda funksiyaga argument sifatida fayl nomini berayapmiz. Bu yerda biz ochayotgan fayl va dasturimiz bir papkada bo'lishi muhim.\n",
    "- `open()` funksiyasi faylni obyekt sifatida qaytaradi, as operatori yordamida esa biz obyektimizga fayl deb nom berayapmiz. \n",
    "- Ikkinchi qatorda `.read()` metodi yordamida fayl obyektining tarkibidan bizga kerakli matnni olib, yangi, `PI` o'zgaruvchisiga yuklayabmiz.\n",
    "- `with` operatorining vazifasi biz fayl bilan ishlab bo'lganimizdan so'ng faylni yopish. Yuqoridagi misolda, 2-qatordan so'ng Python zudlik bilan faylni yopadi.\n",
    "\n",
    "Yuqorida ko'rgan usulimiz fayl bilan ishlashning eng xavfsiz usuli. Aslida biz fayllarni to'g'ridan-to'g'ri `fayl=open('pi.txt')` yordamida ochishimiz, fayl bilan ishlab bo'lgandan so'ng esa `fayl.close()` komandasi yordamida faylni yopishimiz ham mumkin edi:"
   ]
  },
  {
   "cell_type": "code",
   "execution_count": null,
   "metadata": {},
   "outputs": [],
   "source": [
    "fayl = open('pi.txt')\n",
    "PI = fayl.read()\n",
    "print(PI)\n",
    "fayl.close()"
   ]
  },
  {
   "cell_type": "markdown",
   "metadata": {},
   "source": [
    "Lekin, bu usul xavfli hisoblanadi va tavsiya qilinmaydi. Gap shundaki, `open()` funksiyasi yordamida faylni ochganimizdan keyin, toki `close()` metodini chaqirgunga qadar faylimiz ochiq holatda turadi. Agar, faylni vaqtida yopmasak, yoki fayl yopilmasidan avval dasturimiz to'xtab qolsa, fayl tarkibiga ziyon yetishi, ma'lumotlar yo'qotilishi mumkin. Misol uchun, boshqa dasturlarda ham (masalan Microsoft Word) faylni yopmasdan oldin kompyuteringiz o'chib qolsa, yoki dastur behosdan yopilib ketsa faylingizga ziyon yetgani kabi.\n",
    "\n",
    "Shuning uchun `open()` funksiyasiga `with` orqali murojat qilganimizda, faylimiz with blokining oxirigacha ochiq turadi, va `with` tugashi bilan, fayl ham yopiladi. Demak fayl ustidagi amallarni biz with bloki ichida bajarib olishimiz kerak.\n",
    "\n",
    "Keling endi `pi` ning qiymatini konsilga chiqaramiz:"
   ]
  },
  {
   "cell_type": "code",
   "execution_count": null,
   "metadata": {},
   "outputs": [],
   "source": [
    ">>> print(pi)\n",
    "3.1415926535\n",
    "8979323846\n",
    "2643383279"
   ]
  },
  {
   "cell_type": "markdown",
   "metadata": {},
   "source": [
    "Matn faylda qanday saqlangan bo'lsa, huddi shu ko'rinishda konsolga chiqdi. Saqlangan ma'lumot son bo'lsada, fayldan o'qiganimizda qaytgan qiymat matn ko'rinishida bo'ladi. Matnni songa o'tkazish uchun, unga biroz ishlov beramiz:"
   ]
  },
  {
   "cell_type": "code",
   "execution_count": null,
   "metadata": {},
   "outputs": [],
   "source": [
    ">>> pi = pi.rstrip() # qator ohiridagi bo'shliqlarni olib tashlaymiz\n",
    ">>> pi = pi.replace('\\n','') # qator tashlash belgisini almashtiramiz\n",
    ">>> pi = float(pi) # matnni float (o'nlik) songa o'tkazamiz\n",
    ">>> print(pi)\n",
    "3.141592653589793"
   ]
  },
  {
   "cell_type": "markdown",
   "metadata": {},
   "source": [
    "> **`.replace()`** metodi matn tarkibidagi biror harf yoki belgini boshqa harf yoki belgi bilan almashtirish uchun ishlatiladi."
   ]
  },
  {
   "cell_type": "markdown",
   "metadata": {},
   "source": [
    "## PAPKA ICHIDAGI FAYLLARNI OCHISH\n",
    "\n",
    "Agar siz ochayotgan fayl dasturimiz bilan bir papkada emas, shu papka ichidagi papkada joylashgan boʻlsa, fayl nomidan avval papka nomi yoziladi:"
   ]
  },
  {
   "cell_type": "code",
   "execution_count": null,
   "metadata": {},
   "outputs": [],
   "source": [
    "with open('data/pi.txt') as fayl:\n",
    "    pi = fayl.read()"
   ]
  },
  {
   "cell_type": "markdown",
   "metadata": {},
   "source": [
    "Agar papkalar bir necha qavat boʻlsa, fayl nomini va ungacha boʻlgan papkalarni alohida yozib olgan afzal:\n"
   ]
  },
  {
   "cell_type": "code",
   "execution_count": null,
   "metadata": {},
   "outputs": [],
   "source": [
    "faylnomi = 'data/math/numbers/pi.txt'\n",
    "with open(faylnomi) as fayl:\n",
    "    pi = fayl.read()"
   ]
  },
  {
   "cell_type": "markdown",
   "metadata": {},
   "source": [
    "> Windowsda papkalar orasida \"`\\`\" belgisi ishlatilsada, Pythonda \"`/`\" belgisini ishlataveramiz. Agar `\\` belgisini ishlatishni istasangiz, bu belgini 2 marta yozing: `C:\\\\python\\\\darslar\\\\data`"
   ]
  },
  {
   "cell_type": "markdown",
   "metadata": {},
   "source": [
    "# FAYLNI QATORMA-QATOR OʻQISH\n",
    "\n",
    "Baʻzida faylni toʻliqligicha emas, qatorma-qator oʻqish talab qilinishi mumkin. Masalan, faylda talabalrning ismi yoki kundalik ob-havo maʻlumotlari saqlangdanda va hokazo. Bunday hollarda `for` tsiklidan foydalanamiz:"
   ]
  },
  {
   "cell_type": "code",
   "execution_count": null,
   "metadata": {},
   "outputs": [],
   "source": [
    "filename = 'data/talabalar.txt'\n",
    "with open(filename) as file:\n",
    "    for line in file:\n",
    "        print(line)"
   ]
  },
  {
   "cell_type": "markdown",
   "metadata": {},
   "source": [
    "`alijon valiyev`\n",
    "\n",
    "`hasan olimov`\n",
    "\n",
    "`rahima muminova`"
   ]
  },
  {
   "cell_type": "markdown",
   "metadata": {},
   "source": [
    "Qatorlarni ro'yxat ko'rinishida saqlab olish uchun, `.readlines()` metodidan foydalanamiz.\n"
   ]
  },
  {
   "cell_type": "code",
   "execution_count": null,
   "metadata": {},
   "outputs": [],
   "source": [
    "with open(filename) as file:\n",
    "    talabalar = file.readlines()\n",
    "\n",
    "print(talabalar)"
   ]
  },
  {
   "cell_type": "markdown",
   "metadata": {},
   "source": [
    "`['alijon valiyev\\n', 'hasan olimov\\n', 'rahima muminova\\n', 'hamida oqilova']`"
   ]
  },
  {
   "cell_type": "markdown",
   "metadata": {},
   "source": [
    "E'tibor bering, har bir talaba ismidan so'ng qator tashlah belgisi (`\\n`) tushib qolgan. Biz bu belgilarni `.rstrip()` metodi yordamida olib tashlashimiz mumkin:\n"
   ]
  },
  {
   "cell_type": "code",
   "execution_count": null,
   "metadata": {},
   "outputs": [],
   "source": [
    "talabalar = [talaba.rstrip() for talaba in talabalar]\n",
    "print(talabalar)"
   ]
  },
  {
   "cell_type": "markdown",
   "metadata": {},
   "source": [
    "`['alijon valiyev', 'hasan olimov', 'rahima muminova', 'hamida oqilova']`"
   ]
  },
  {
   "cell_type": "markdown",
   "metadata": {},
   "source": [
    "# FAYLGA YOZISH\n",
    "\n",
    "Ma'lumotlarni saqlashning eng qulay usuli bu faylga yozish. Dasturimiz bajarilishdan to'xtaganidan so'ng, xotiradagi ma'lumotlar o'chib ketishi mumkin, lekin faylga yozilgan ma'lumotlar saqlanib turaveradi. Fayllarni kelajakda qaytdan xotiraga yuklab, dasturimizni to'htagan joyidan davom etishimiz mumkin. \n",
    "\n",
    "Yuqorida biz faylni ochishda `open()` funksiyasidan foydalandik, va yagona argument sifatida fayl nomini berdik. Bunda fayl faqatgina o'qish uchun ochiladi, unga yozib bo'lmaydi. Faylga ma'lumot yozish uchun `open()` funksiyasiga murojat qilishda fayl nomidan tashqari yana bir argument beramiz. Ikkinchi argument faylni aynan nima maqsadda ochishimizni bildiradi. Argumentlar quyidagilardan iborat bo'lishi mumkin:\n",
    "\n",
    "![Imgur](https://i.imgur.com/pNNEGp5.png)"
   ]
  },
  {
   "cell_type": "markdown",
   "metadata": {},
   "source": [
    "## YANGI FAYLGA YOZISH\n",
    "\n",
    "Yangi faylga ma'lumot yozish uchun `open()` funksiyasini chaqirishda `'w'` (write) argumentidan foydalanamiz. Ochilgan faylga ma'lumot qo'shish uchun esa `.write()` metodini chaqiramiz."
   ]
  },
  {
   "cell_type": "code",
   "execution_count": null,
   "metadata": {},
   "outputs": [],
   "source": [
    "faylnomi = 'ustozlar.txt'# ochilayotgan (yaratilayotgan) fayl nomi\n",
    "with open(faylnomi,'w') as fayl:\n",
    "    fayl.write('anvar narzullaev') # faylga yozilayotgan ma'lumot"
   ]
  },
  {
   "cell_type": "markdown",
   "metadata": {},
   "source": [
    "> **Diqqat!!!** `open()` funksiyasini `'w'` argumenti bilan chaqirganimizda ehtiyot bo'lishimiz kerak, sababi agar bunday fayl mavjud bo'lsa, uning ichidagi **barcha ma'lumotlar o'chib ketadi**. "
   ]
  },
  {
   "cell_type": "markdown",
   "metadata": {},
   "source": [
    "Faylga yozayotgan ma'lumotlarimiz matn ko'rinishida bo'lishi kerak. Aks holda dasturimiz xato beradi.\n"
   ]
  },
  {
   "cell_type": "code",
   "execution_count": null,
   "metadata": {},
   "outputs": [],
   "source": [
    "faylnomi = 'new_file.txt'\n",
    "ism = 'Olimjon Hasanov'\n",
    "tyil = 2004\n",
    "with open(faylnomi,'w') as fayl:\n",
    "    fayl.write(ism)\n",
    "    fayl.write(tyil)"
   ]
  },
  {
   "cell_type": "markdown",
   "metadata": {},
   "source": [
    "`TypeError: write() argument must be str, not int`\n"
   ]
  },
  {
   "cell_type": "markdown",
   "metadata": {},
   "source": [
    "Xatoning oldini olish uchun sonlarni avval `str()` funksiyasi yordamida matnga keltirib olamiz.\n"
   ]
  },
  {
   "cell_type": "code",
   "execution_count": null,
   "metadata": {},
   "outputs": [],
   "source": [
    "faylnomi = 'new_file.txt'\n",
    "ism = 'Olimjon Hasanov'\n",
    "tyil = 2004\n",
    "with open(faylnomi,'w') as fayl:\n",
    "    fayl.write(ism)\n",
    "    fayl.write(str(tyil))"
   ]
  },
  {
   "cell_type": "markdown",
   "metadata": {},
   "source": [
    "Fayllar matn formatida yoziladi, va biz ularni istalgan matn muharriri yordamida ochib ko'rishimiz mumkin.\n",
    "\n",
    "![](https://gblobscdn.gitbook.com/assets%2F-MGbkqs1tROquIT6oqUs%2F-MTFShfF-96YP2YMtAFf%2F-MTFWKernfHGeFumH8Sx%2Fimage.png?alt=media&token=9d39ccbc-8ac0-42d4-8a98-f080094bb680)\n",
    "\n",
    "Afsuski, faylga bir nechta ma'lumot yozganimizda, ma'lumotlar alohida qatordan emas, bir qatorda bir-biriga qo'shib qo'shib yoziladi. \n",
    "\n",
    "Buning oldini olishimiz uchun matn so'ngida `\\n` belgisini qo'shib ketishimiz kerak bo'ladi:"
   ]
  },
  {
   "cell_type": "code",
   "execution_count": null,
   "metadata": {},
   "outputs": [],
   "source": [
    "faylnomi = 'new_file.txt'\n",
    "ism = 'Olimjon Hasanov'\n",
    "tyil = 2004\n",
    "with open(faylnomi,'w') as fayl:\n",
    "    fayl.write(ism+'\\n')\n",
    "    fayl.write(str(tyil)+'\\n')"
   ]
  },
  {
   "cell_type": "markdown",
   "metadata": {},
   "source": [
    "![](https://gblobscdn.gitbook.com/assets%2F-MGbkqs1tROquIT6oqUs%2F-MTFShfF-96YP2YMtAFf%2F-MTFXAxEdeUINPk1sAdl%2Fimage.png?alt=media&token=548ed1f2-fcf7-4943-9c6a-606133569a00)"
   ]
  },
  {
   "cell_type": "markdown",
   "metadata": {},
   "source": [
    "## FAYLGA MA'LUMOT QO'SHISH\n",
    "\n",
    "Agar mavjud faylga ma'lumot qo'shish talab qilinsa, `open()` funksiyasiga murojat qilishda  `'a'` (append) argumentidan foydalanamiz. Bunda yangi qo'shilgan ma'lumotlar faylning oxiriga qo'shiladi. "
   ]
  },
  {
   "cell_type": "code",
   "execution_count": null,
   "metadata": {},
   "outputs": [],
   "source": [
    "with open(faylnomi,'a') as fayl:\n",
    "    fayl.write('Alijon Valiyev\\n')\n",
    "    fayl.write('2000')"
   ]
  },
  {
   "cell_type": "markdown",
   "metadata": {},
   "source": [
    "![](https://gblobscdn.gitbook.com/assets%2F-MGbkqs1tROquIT6oqUs%2F-MTFShfF-96YP2YMtAFf%2F-MTFZGwybIE_LdXfluSb%2Fimage.png?alt=media&token=55d389b2-385f-4a84-a93a-a11e492ded81)"
   ]
  },
  {
   "cell_type": "markdown",
   "metadata": {},
   "source": [
    "Agar biz ochayotgan fayl mavjud bo'lmasa, Python yangi fayl yaratadi."
   ]
  },
  {
   "cell_type": "markdown",
   "metadata": {},
   "source": [
    "# O'ZGARUVCHILARNI FAYLDA SAQLASH\n",
    "\n",
    "Yuqorida biz ma'lumotlarni matn ko'rinishida saqlashni ko'rdik. Agar dastur davomida turli o'zgaruvchilarni faylda saqlash talab qilinsa `pickle` modulidan foydalanamiz. Pickle ma'lumotlarni biz qanday ko'rinishda bersak, shunday ko'rinishda faylga yozadi. Yuqoridagi usuldan farqli ravishda, pickle yordamida yozilgan fayllarning tarkibini Pythondan tashqarida ko'rib bo'lmaydi. \n",
    "\n",
    "## PICKLE FAYLGA YOZISH\n",
    "\n",
    "Pickle dan foydalanish uchun biz avval bu modilni `import` qilamiz. Faylno ochishda esa, `open()` funksiyasiga ikkinchi argument sifatida `'wb'` (write binary) beramiz, ya'ni ikkilik sanoq tizimida yozishni ko'rsatamiz. Faylga yozish uchun esa `pickle.dump()` metodidan foydalanamiz:"
   ]
  },
  {
   "cell_type": "code",
   "execution_count": 5,
   "metadata": {},
   "outputs": [],
   "source": [
    "import pickle\n",
    "\n",
    "talaba1 = {'ism':'hasan', 'familiya':'husanov', 'tyil':2003, 'kurs': 2}\n",
    "talaba2 = {'ism':'alijon', 'familiya':'valiyev', 'tyil':2004, 'kurs': 1}\n",
    "\n",
    "with open('info','wb') as file:\n",
    "    pickle.dump(talaba1,file)\n",
    "    pickle.dump(talaba2,file)"
   ]
  },
  {
   "cell_type": "markdown",
   "metadata": {},
   "source": [
    "E'tibor bering, yuqorida fayl nomini yozishda uning turini ko'rsatmadik, sababi, avval aytganimizdek bu fayllar Pythondan tashqarida ochilmaydi va biz buning oldini olishimiz kerak. Aslida fayl nomiga `.txt` qo'shimchasini ham qo'shishimiz mumkin, bu bilan dastur xato ishlamaydi, lekin bu bizni kelajakda chalg'itishi mumkin. Istasangiz faylga `.dat` (data so'zidan olingan) qo'shimchasini qo'shib qo'yishingiz mumkin (`info.dat`).\n",
    "\n",
    "## PICKLE FAYLDAN O'QISH\n",
    "\n",
    "Pickle fayldan o'qish uchun `open()` funksiyasini `'rb'` (read binary) argumenti bilan chaqiramiz. O'zgaruvchilarni bitta faylga yozganimizda, har bir o'zgaruvchi alohida qatordan yoziladi. Fayldan o'qishda ham har bir qatorni alohida o'qishimiz kerak bo'ladi:"
   ]
  },
  {
   "cell_type": "code",
   "execution_count": 6,
   "metadata": {},
   "outputs": [],
   "source": [
    "with open('info','rb') as file:\n",
    "    talaba1 = pickle.load(file)\n",
    "    talaba2 = pickle.load(file)"
   ]
  },
  {
   "cell_type": "markdown",
   "metadata": {},
   "source": [
    "O'zgaruvchilar tarkibini ko'ramiz:"
   ]
  },
  {
   "cell_type": "code",
   "execution_count": 7,
   "metadata": {},
   "outputs": [
    {
     "name": "stdout",
     "output_type": "stream",
     "text": [
      "{'ism': 'hasan', 'familiya': 'husanov', 'tyil': 2003, 'kurs': 2}\n"
     ]
    }
   ],
   "source": [
    "print(talaba1)"
   ]
  },
  {
   "cell_type": "code",
   "execution_count": 8,
   "metadata": {},
   "outputs": [
    {
     "name": "stdout",
     "output_type": "stream",
     "text": [
      "{'ism': 'alijon', 'familiya': 'valiyev', 'tyil': 2004, 'kurs': 1}\n"
     ]
    }
   ],
   "source": [
    "print(talaba2)"
   ]
  },
  {
   "cell_type": "markdown",
   "metadata": {},
   "source": [
    "> Adashib ketmaslik uchun, alohida o'zgaruvchilarni alohida fayllarga saqlash tavsiya qilinadi."
   ]
  },
  {
   "cell_type": "markdown",
   "metadata": {},
   "source": [
    "# AMALIYOT\n",
    "- Bugun o'rgangan narsalaringizni matnga yozing va matnni Python yordamida oching\n",
    "- Quyidagi [pi_million_digits.txt](https://firebasestorage.googleapis.com/v0/b/gitbook-28427.appspot.com/o/assets%2F-MGbkqs1tROquIT6oqUs%2F-MTFShfF-96YP2YMtAFf%2F-MTFmSDSeDIeZAOhX9Yk%2Fpi_million_digits.txt?alt=media&token=224f0425-0448-469d-bc93-dff2f6e5c178) faylini yuklab oling (faylda $\\pi$ soni nuqtadan so'ng million xona aniqlik bilan yozilgan). \n",
    "- Sizning tug'ilgan kuningiz $\\pi$ soni tarkibida uchraydimi yoki yo'q ekanligini aniqlovchi funksiya yozing. Misol uchun, tug'ilgan sanangiz 25 Fevral, 2000-yil bo'lsa, `25022000` ketma-ketligi yuqoridagi matnda uchraydimi yo'q toping.\n",
    "- Fayl ichidagi matnni float ma'lumot turiga o'tkazing va pickle yordamida yangi faylga saqlang.\n",
    "- Foydalanuvchidan turli hil ma'lumotlarni so'rab, har bir kiritilgan ma'lumotni yangi qatordan faylga yozib boruvchi dastur tuzing. Dastur qayta chaqirilganida yangi ma'lumotlar fayl oxiridan qo'shilib borsin (yangi faylga emas)."
   ]
  },
  {
   "cell_type": "markdown",
   "metadata": {},
   "source": [
    "# JAVOBLAR"
   ]
  },
  {
   "cell_type": "code",
   "execution_count": null,
   "metadata": {},
   "outputs": [],
   "source": [
    "with open('amaliyot/pi_million_digits.txt') as file:\n",
    "    pi = file.read()\n",
    "pi = pi.rstrip() # qator ohiridagi bo'shliqlarni olib tashlaymiz\n",
    "pi = pi.replace('\\n','') # qator tashlash belgisini almashtiramiz\n",
    "pi = pi.replace(' ','')\n",
    "\n",
    "# Tug'ilgan kunim pi da bormi?\n",
    "bdate = '31122000'\n",
    "print(bdate in pi)\n",
    "\n",
    "pi = float(pi) # matnni float (o'nlik) songa o'tkazamiz\n",
    "\n",
    "with open('amaliyot/pi_float.dat','wb') as file:\n",
    "    pickle.dump(pi,file)"
   ]
  },
  {
   "cell_type": "code",
   "execution_count": null,
   "metadata": {},
   "outputs": [],
   "source": [
    "while True:\n",
    "    book = input(\"Yaxshi koʻrgan kitobingizni kiriting (to'xtash uchun Enter bosing): \")\n",
    "    if not book: break\n",
    "    with open('books.txt','a') as file:\n",
    "        file.write(book+'\\n')"
   ]
  }
 ],
 "metadata": {
  "language_info": {
   "codemirror_mode": {
    "name": "ipython",
    "version": 3
   },
   "file_extension": ".py",
   "mimetype": "text/x-python",
   "name": "python",
   "nbconvert_exporter": "python",
   "pygments_lexer": "ipython3",
   "version": "3.8.6"
  }
 },
 "nbformat": 4,
 "nbformat_minor": 2
}