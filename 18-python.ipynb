{
 "cells": [
  {
   "cell_type": "markdown",
   "metadata": {},
   "source": [
    "# 18-DARS. `WHILE`, RO'YXATLAR VA LUG'ATLAR\n",
    "\n",
    "While tsikli yordamida ro'yxatlar bilan ishlashni o'rganamiz."
   ]
  },
  {
   "cell_type": "markdown",
   "metadata": {},
   "source": [
    "![](https://gblobscdn.gitbook.com/assets%2F-MGbkqs1tROquIT6oqUs%2F-Mc-5yGQPZTBaGoehQdL%2F-Mc-7xpq4Puu3KEjmT0R%2FSD_YT_TG_logo_mini.png?alt=media&token=929fe67b-ec12-4f63-b33e-e9c5e3d8ad09)\n",
    "\n",
    "Ro'yxatlar (lug'atlar) bilan ishlashda while tisklining foydalari juda ko'p. Misol uchun foydalanuvchidan bir nechta ma'lumotlarni qabul qilib olish, ro'yxatdan takrorlanuvchi qiymatlarni o'chirib tashlash yoki bir ro'yxatni ikkinchi ro'yxatga ko'chirishda while tsiklidan foydalanishimiz mumkin.\n",
    "\n",
    "# WHILE YORDAMIDA RO'YXATNI TO'LDIRISH\n",
    "\n",
    "Quyidagi dasturga e'tibor bering, avval ismlar degan bo'sh ro'yxat yaratib oldik. Keyin esa while tsikli yordamida foydalanuvchidan ro'yxatga ism qo'shishni so'raymiz. So'ngra foydalanuvchidan yana ism qo'shmoqchi yoki yo'q ekanin so'raymiz va foydalanuvchining javobiga ko'ra yoki while ni boshiga qaytamiz, yoki tsiklni to'xtatamiz."
   ]
  },
  {
   "cell_type": "code",
   "execution_count": 4,
   "metadata": {},
   "outputs": [
    {
     "name": "stdout",
     "output_type": "stream",
     "text": [
      "Yaqin do'stlaringiz ro'yxatini tuzamiz.\n",
      "1-do'stingiz ismini kiriting:olim\n",
      "Yana ism qo'shasizmi? (ha/yo'q)ha\n",
      "2-do'stingiz ismini kiriting:jonibek\n",
      "Yana ism qo'shasizmi? (ha/yo'q)ha\n",
      "3-do'stingiz ismini kiriting:adham\n",
      "Yana ism qo'shasizmi? (ha/yo'q)yo'q\n"
     ]
    }
   ],
   "source": [
    "ismlar = []\n",
    "\n",
    "print(\"Yaqin do'stlaringiz ro'yxatini tuzamiz.\")\n",
    "n=1 # ismlarni sanash uchun o'zgaruvchi\n",
    "while True:\n",
    "    savol = f\"{n}-do'stingiz ismini kiriting:\"\n",
    "    ism = input(savol)\n",
    "    ismlar.append(ism)\n",
    "    javob = input(\"Yana ism qo'shasizmi? (ha/yo'q)\")\n",
    "    if javob =='ha':\n",
    "        n+=1\n",
    "        continue\n",
    "    else:\n",
    "        break"
   ]
  },
  {
   "cell_type": "code",
   "execution_count": 5,
   "metadata": {},
   "outputs": [
    {
     "name": "stdout",
     "output_type": "stream",
     "text": [
      "Do'stlaringiz ro'yxati:\n",
      "Olim\n",
      "Jonibek\n",
      "Adham\n"
     ]
    }
   ],
   "source": [
    "print(\"Do'stlaringiz ro'yxati:\")\n",
    "for ism in ismlar:\n",
    "    print(ism.title())"
   ]
  },
  {
   "cell_type": "markdown",
   "metadata": {},
   "source": [
    "# WHILE YORDAMIDA LUG'ATNI TO'LDIRISH\n",
    "\n",
    "Yuqoridagi usul bilan lu'gatlarni ham shakllantirishimiz mumkin. Quyidagi kodda `ism` bu kalit, `yosh` esa kalitga mos keluvchi qiymat. `whil`e tsiklining davomiyligi esa `ishora` ning qiymatiga bog'liq."
   ]
  },
  {
   "cell_type": "code",
   "execution_count": 6,
   "metadata": {},
   "outputs": [
    {
     "name": "stdout",
     "output_type": "stream",
     "text": [
      "Do'stlaringiz yoshini saqlaymiz.\n",
      "Do'stingiz ismini kiriting: olim\n",
      "Olimning yoshini kiriting: 25\n",
      "Yana ma'lumot qo'shasizmi? (ha/yo'q)ha\n",
      "Do'stingiz ismini kiriting: adham\n",
      "Adhamning yoshini kiriting: 36\n",
      "Yana ma'lumot qo'shasizmi? (ha/yo'q)yo'q\n",
      "Olim 25 yoshda\n",
      "Adham 36 yoshda\n"
     ]
    }
   ],
   "source": [
    "print(\"Do'stlaringiz yoshini saqlaymiz.\")\n",
    "dostlar = {}\n",
    "ishora = True\n",
    "while ishora:\n",
    "    ism = input(\"Do'stingiz ismini kiriting: \")\n",
    "    yosh = input(f\"{ism.title()}ning yoshini kiriting: \")\n",
    "    dostlar[ism] = int(yosh) # ism kalit, yosh qiymat\n",
    "    \n",
    "    javob = input(\"Yana ma'lumot qo'shasizmi? (ha/yo'q)\")\n",
    "    if javob == \"yo'q\":\n",
    "        ishora = False\n",
    "\n",
    "for ism, yosh in dostlar.items():\n",
    "    print(f\"{ism.title()} {yosh} yoshda\")"
   ]
  },
  {
   "cell_type": "markdown",
   "metadata": {},
   "source": [
    "# RO'YXAT ELEMENTLARINI O'CHIRISH\n",
    "\n",
    "Avvalgi darslarimizning birida ro'yxat elementini o'chirish uchun `.remove(qiymat)` metodi bilan tanishgan edik. Esingizda bo'lsa, bu metod ro'yxatdan eng birinchi uchragan qiymatni o'chiradi. Agar ro'yxatimizda ma'lum bir qiymat bir necha bor takrorlangan bo'lsa, ularning barchasini o'chirib tashlash uchun `while` tsiklidan foydalanishmiz mumkin."
   ]
  },
  {
   "cell_type": "code",
   "execution_count": 7,
   "metadata": {},
   "outputs": [
    {
     "name": "stdout",
     "output_type": "stream",
     "text": [
      "['lacetti', 'toyota', 'audi', 'malibu']\n"
     ]
    }
   ],
   "source": [
    "cars = ['lacetti','nexia','toyota','nexia','audi','malibu','nexia']\n",
    "while 'nexia' in cars: # toki nexia cars ro'yxati ichida ekan...\n",
    "    cars.remove('nexia') # nexia ni ro'yxatdan olib tashla\n",
    "print(cars)"
   ]
  },
  {
   "cell_type": "markdown",
   "metadata": {},
   "source": [
    "Yuqoridagi tsikl toki `cars` degan ro'yxatda `'nexia'` qiymati tugagunga qadar takrorlanaveradi.\n"
   ]
  },
  {
   "cell_type": "markdown",
   "metadata": {},
   "source": [
    "# RO'YXATDAN RO'YXATGA ELEMENT KO'CHIRISH\n",
    "\n",
    "Tasavvur qiling bizda ma'lum bir ro'yxat bor, biz ro'yxatdagi har bir element ustida biror amalni bajarib, uni birinchi ro'yxatdan ikkinchi ro'yxatga ko'chirib olmoqchimiz. Shunday holatlarda `while` tsikli juda qo'l keladi. \n",
    "\n",
    "Quyidagi misolni ko'raylik. Bizda `talabalar` ro'yxati bor. `while` tsikli toki ro'yxatda talabalar bor ekan aylanaveradi. Tsikl ichida biz `.pop()` metodi yordamida talabaning ismini ro'yxatdan sug'urib oldik va foydalanuvchidan talabani baholashni so'radik. Talabaning ismi va bahosini lug'at elementi ko'rinishida saqlab qo'ydik (`talaba` - kalit, `baho` - qiymat)."
   ]
  },
  {
   "cell_type": "code",
   "execution_count": 8,
   "metadata": {},
   "outputs": [
    {
     "name": "stdout",
     "output_type": "stream",
     "text": [
      "Botirning bahosini kiriting: 5\n",
      "Botir baholandi\n",
      "Olimning bahosini kiriting: 5\n",
      "Olim baholandi\n",
      "Husanning bahosini kiriting: 4\n",
      "Husan baholandi\n",
      "Hasanning bahosini kiriting: 3\n",
      "Hasan baholandi\n"
     ]
    }
   ],
   "source": [
    "talabalar = ['hasan', 'husan', 'olim', 'botir']\n",
    "baholangan_talabalar = {}\n",
    "while talabalar:\n",
    "    talaba = talabalar.pop()\n",
    "    baho = input(f\"{talaba.title()}ning bahosini kiriting: \")\n",
    "    print(f\"{talaba.title()} baholandi\")\n",
    "    baholangan_talabalar[talaba] = baho"
   ]
  },
  {
   "cell_type": "markdown",
   "metadata": {},
   "source": [
    "Yuqorida biz `while` tsikli yordamida ro'yxat va lug'atlar ustida bajarish mumkin bo'lgan ba'zi misollarni ko'rdik. Albatta dasturlash davomida bundan boshqa holatlar ham uchrashi tabiiy. "
   ]
  },
  {
   "cell_type": "markdown",
   "metadata": {},
   "source": [
    "# AMALIYOT\n",
    "\n",
    "1. Foydalanuvchidan buyurtma qabul qiluvchi dastur yozing. Mahsulotlar nomini birma-bir qabul qilib, yangi ro'yxatga joylang.\n",
    "2. e-bozor uchun mahsulotlar va ularning narhlari lug'atini shakllantiruvchi dastur yozing. Foydalanuvchidan lug'atga bir nechta elementlar (mahsulot va uning narhi) kiritishni so'rang.\n",
    "3. Yuqoridagi ikki dasturni jamlaymiz. Foydalanuvchi buyurtmasi ro'yxatidagi har bir mahsulotni e-bozordagi mahsulotlar bilan solishitiring (tayyor ro'yxat ishlatishingiz mumkin). Agar mahsuot e-bozorda mavjud bo'lsa mahuslot narhini chiqaring, aks holda \"Bizda bu mahsulot yo'q\" degan xabarni kor'sating.\n",
    "\n",
    "# JAVOBLAR"
   ]
  },
  {
   "cell_type": "code",
   "execution_count": null,
   "metadata": {},
   "outputs": [],
   "source": [
    "savat =[]\n",
    "while True:\n",
    "    mahsulot = input(\"Savatga mahsulot qo'shing:\")\n",
    "    savat.append(mahsulot)\n",
    "    javob = input(\"Yana mahsulot qo\\'shasizmi?(ha/yo\\'q)\")\n",
    "    if javob != 'ha':\n",
    "        break"
   ]
  },
  {
   "cell_type": "markdown",
   "metadata": {},
   "source": [
    "mahsulotlar = {}\n",
    "while True:\n",
    "    mahsulot = input(\"Mahsulot nomini kiriting: \")\n",
    "    narh = input(f\"{mahsulot.title()}ning narhini kiriting: \")\n",
    "    mahsulotlar[mahsulot] = narh\n",
    "    javob = input(\"Yana mahsulot qo'shasizmi?(ha/yo'q)\")\n",
    "    if javob != 'ha':\n",
    "        break"
   ]
  },
  {
   "cell_type": "code",
   "execution_count": null,
   "metadata": {},
   "outputs": [],
   "source": [
    "buyurtmalar = ['olma','anjir','uzum','qovun']\n",
    "mahsulotlar = {'olma':20000,\n",
    "               'shaftoli':25000,\n",
    "               'tarvuz':18000,\n",
    "               'uzum':22000}\n",
    "\n",
    "while buyurtmalar:\n",
    "    buyurtma = buyurtmalar.pop()\n",
    "    if buyurtma in mahsulotlar.keys():\n",
    "        narh = mahsulotlar[buyurtma]\n",
    "        print(f\"{buyurtma.title()} - {narh} so'm\")\n",
    "    else:\n",
    "        print(f\"Bizda {buyurtma} yo'q\")"
   ]
  }
 ],
 "metadata": {
  "language_info": {
   "codemirror_mode": {
    "name": "ipython",
    "version": 3
   },
   "file_extension": ".py",
   "mimetype": "text/x-python",
   "name": "python",
   "nbconvert_exporter": "python",
   "pygments_lexer": "ipython3",
   "version": "3.8.6"
  }
 },
 "nbformat": 4,
 "nbformat_minor": 2
}